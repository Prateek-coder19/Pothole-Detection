{
 "cells": [
  {
   "cell_type": "code",
   "execution_count": 1,
   "metadata": {},
   "outputs": [],
   "source": [
    "import torch\n",
    "from ultralytics import YOLO"
   ]
  },
  {
   "cell_type": "code",
   "execution_count": 4,
   "metadata": {},
   "outputs": [],
   "source": [
    "# model = YOLO(\"yolov8n.pt\")\n",
    "# # results = model.train(data=\"dataset3.yaml\", epochs=100, imgsz=320)"
   ]
  },
  {
   "cell_type": "code",
   "execution_count": 5,
   "metadata": {},
   "outputs": [],
   "source": [
    "# model = YOLO(\"runs/detect/train/weights/best.pt\")"
   ]
  },
  {
   "cell_type": "code",
   "execution_count": 24,
   "metadata": {},
   "outputs": [
    {
     "name": "stdout",
     "output_type": "stream",
     "text": [
      "\n",
      "image 1/1 c:\\Users\\admin\\Desktop\\python ds\\cvprojects\\pothole detection\\potholes21.png: 224x320 3 potholes, 209.2ms\n",
      "Speed: 17.1ms preprocess, 209.2ms inference, 0.0ms postprocess per image at shape (1, 3, 224, 320)\n",
      "Results saved to \u001b[1mruns\\detect\\predict2\u001b[0m\n"
     ]
    }
   ],
   "source": [
    "# import os\n",
    "# from PIL import Image\n",
    "\n",
    "# img = os.path.join(\"\")\n",
    "# results = model.predict(\"potholes21.png\", save=True)\n",
    "# results[0].show()"
   ]
  },
  {
   "cell_type": "code",
   "execution_count": 8,
   "metadata": {},
   "outputs": [],
   "source": [
    "# import cv2\n",
    "# import numpy as np\n",
    "\n",
    "# cap = cv2.VideoCapture(0)\n",
    "# while cap.isOpened():\n",
    "#       ret, frame = cap.read()\n",
    "#       cv2.imshow(\"YOLO\", frame)\n",
    "\n",
    "#       if cv2.waitKey(10) & 0xff == ord('q'):\n",
    "#          break\n",
    "      \n",
    "# cap.release()\n",
    "# cv2.destroyAllWindows()"
   ]
  },
  {
   "cell_type": "code",
   "execution_count": 11,
   "metadata": {},
   "outputs": [
    {
     "name": "stdout",
     "output_type": "stream",
     "text": [
      "Downloading https://github.com/ultralytics/assets/releases/download/v8.2.0/sam_b.pt to 'sam_b.pt'...\n"
     ]
    },
    {
     "name": "stderr",
     "output_type": "stream",
     "text": [
      "100%|██████████| 358M/358M [17:35<00:00, 355kB/s]    \n"
     ]
    }
   ],
   "source": [
    "# from ultralytics import SAM\n",
    "# model = SAM(\"sam_b.pt\")"
   ]
  },
  {
   "cell_type": "code",
   "execution_count": 12,
   "metadata": {},
   "outputs": [
    {
     "name": "stdout",
     "output_type": "stream",
     "text": [
      "\n",
      "image 1/1243 c:\\Users\\admin\\Desktop\\python ds\\cvprojects\\pothole detection\\potholesdata\\images\\img-1.jpg: 320x320 2 potholes, 166.8ms\n",
      "image 2/1243 c:\\Users\\admin\\Desktop\\python ds\\cvprojects\\pothole detection\\potholesdata\\images\\img-10.jpg: 320x320 1 pothole, 78.5ms\n",
      "image 3/1243 c:\\Users\\admin\\Desktop\\python ds\\cvprojects\\pothole detection\\potholesdata\\images\\img-100.jpg: 320x320 1 pothole, 78.1ms\n",
      "image 4/1243 c:\\Users\\admin\\Desktop\\python ds\\cvprojects\\pothole detection\\potholesdata\\images\\img-1000.jpg: 192x320 4 potholes, 66.8ms\n",
      "image 5/1243 c:\\Users\\admin\\Desktop\\python ds\\cvprojects\\pothole detection\\potholesdata\\images\\img-1001.jpg: 224x320 4 potholes, 111.1ms\n",
      "image 6/1243 c:\\Users\\admin\\Desktop\\python ds\\cvprojects\\pothole detection\\potholesdata\\images\\img-1002.jpg: 288x320 20 potholes, 100.6ms\n",
      "image 7/1243 c:\\Users\\admin\\Desktop\\python ds\\cvprojects\\pothole detection\\potholesdata\\images\\img-1003.jpg: 192x320 1 pothole, 62.5ms\n",
      "image 8/1243 c:\\Users\\admin\\Desktop\\python ds\\cvprojects\\pothole detection\\potholesdata\\images\\img-1004.jpg: 224x320 1 pothole, 62.5ms\n",
      "image 9/1243 c:\\Users\\admin\\Desktop\\python ds\\cvprojects\\pothole detection\\potholesdata\\images\\img-1005.jpg: 224x320 10 potholes, 70.6ms\n",
      "image 10/1243 c:\\Users\\admin\\Desktop\\python ds\\cvprojects\\pothole detection\\potholesdata\\images\\img-1006.jpg: 224x320 10 potholes, 70.2ms\n",
      "image 11/1243 c:\\Users\\admin\\Desktop\\python ds\\cvprojects\\pothole detection\\potholesdata\\images\\img-1007.jpg: 192x320 8 potholes, 109.4ms\n",
      "image 12/1243 c:\\Users\\admin\\Desktop\\python ds\\cvprojects\\pothole detection\\potholesdata\\images\\img-1008.jpg: 192x320 2 potholes, 59.4ms\n",
      "image 13/1243 c:\\Users\\admin\\Desktop\\python ds\\cvprojects\\pothole detection\\potholesdata\\images\\img-1009.jpg: 224x320 4 potholes, 67.6ms\n",
      "image 14/1243 c:\\Users\\admin\\Desktop\\python ds\\cvprojects\\pothole detection\\potholesdata\\images\\img-101.jpg: 320x320 2 potholes, 83.2ms\n",
      "image 15/1243 c:\\Users\\admin\\Desktop\\python ds\\cvprojects\\pothole detection\\potholesdata\\images\\img-1010.jpg: 224x320 4 potholes, 92.0ms\n",
      "image 16/1243 c:\\Users\\admin\\Desktop\\python ds\\cvprojects\\pothole detection\\potholesdata\\images\\img-1011.jpg: 192x320 2 potholes, 62.5ms\n",
      "image 17/1243 c:\\Users\\admin\\Desktop\\python ds\\cvprojects\\pothole detection\\potholesdata\\images\\img-1012.jpg: 192x320 8 potholes, 46.9ms\n",
      "image 18/1243 c:\\Users\\admin\\Desktop\\python ds\\cvprojects\\pothole detection\\potholesdata\\images\\img-1013.jpg: 160x320 1 pothole, 78.1ms\n",
      "image 19/1243 c:\\Users\\admin\\Desktop\\python ds\\cvprojects\\pothole detection\\potholesdata\\images\\img-1014.jpg: 224x320 6 potholes, 62.5ms\n",
      "image 20/1243 c:\\Users\\admin\\Desktop\\python ds\\cvprojects\\pothole detection\\potholesdata\\images\\img-1015.jpg: 256x320 1 pothole, 93.7ms\n",
      "image 21/1243 c:\\Users\\admin\\Desktop\\python ds\\cvprojects\\pothole detection\\potholesdata\\images\\img-1016.jpg: 224x320 1 pothole, 67.4ms\n",
      "image 22/1243 c:\\Users\\admin\\Desktop\\python ds\\cvprojects\\pothole detection\\potholesdata\\images\\img-1017.jpg: 224x320 6 potholes, 83.2ms\n",
      "image 23/1243 c:\\Users\\admin\\Desktop\\python ds\\cvprojects\\pothole detection\\potholesdata\\images\\img-1018.jpg: 224x320 2 potholes, 62.5ms\n",
      "image 24/1243 c:\\Users\\admin\\Desktop\\python ds\\cvprojects\\pothole detection\\potholesdata\\images\\img-1019.jpg: 224x320 2 potholes, 93.4ms\n",
      "image 25/1243 c:\\Users\\admin\\Desktop\\python ds\\cvprojects\\pothole detection\\potholesdata\\images\\img-102.jpg: 320x320 1 pothole, 104.9ms\n",
      "image 26/1243 c:\\Users\\admin\\Desktop\\python ds\\cvprojects\\pothole detection\\potholesdata\\images\\img-1020.jpg: 224x320 2 potholes, 47.9ms\n",
      "image 27/1243 c:\\Users\\admin\\Desktop\\python ds\\cvprojects\\pothole detection\\potholesdata\\images\\img-1021.jpg: 160x320 1 pothole, 50.4ms\n",
      "image 28/1243 c:\\Users\\admin\\Desktop\\python ds\\cvprojects\\pothole detection\\potholesdata\\images\\img-1022.jpg: 256x320 2 potholes, 90.5ms\n",
      "image 29/1243 c:\\Users\\admin\\Desktop\\python ds\\cvprojects\\pothole detection\\potholesdata\\images\\img-1023.jpg: 224x320 2 potholes, 71.1ms\n",
      "image 30/1243 c:\\Users\\admin\\Desktop\\python ds\\cvprojects\\pothole detection\\potholesdata\\images\\img-1024.jpg: 224x320 1 pothole, 66.8ms\n",
      "image 31/1243 c:\\Users\\admin\\Desktop\\python ds\\cvprojects\\pothole detection\\potholesdata\\images\\img-1025.jpg: 256x320 1 pothole, 80.0ms\n",
      "image 32/1243 c:\\Users\\admin\\Desktop\\python ds\\cvprojects\\pothole detection\\potholesdata\\images\\img-1026.jpg: 192x320 1 pothole, 68.9ms\n",
      "image 33/1243 c:\\Users\\admin\\Desktop\\python ds\\cvprojects\\pothole detection\\potholesdata\\images\\img-1027.jpg: 224x320 1 pothole, 79.9ms\n",
      "image 34/1243 c:\\Users\\admin\\Desktop\\python ds\\cvprojects\\pothole detection\\potholesdata\\images\\img-1028.jpg: 224x320 1 pothole, 192.0ms\n",
      "image 35/1243 c:\\Users\\admin\\Desktop\\python ds\\cvprojects\\pothole detection\\potholesdata\\images\\img-1029.jpg: 192x320 3 potholes, 68.8ms\n",
      "image 36/1243 c:\\Users\\admin\\Desktop\\python ds\\cvprojects\\pothole detection\\potholesdata\\images\\img-103.jpg: 320x320 1 pothole, 122.9ms\n",
      "image 37/1243 c:\\Users\\admin\\Desktop\\python ds\\cvprojects\\pothole detection\\potholesdata\\images\\img-1030.jpg: 256x320 2 potholes, 74.0ms\n",
      "image 38/1243 c:\\Users\\admin\\Desktop\\python ds\\cvprojects\\pothole detection\\potholesdata\\images\\img-1031.jpg: 192x320 9 potholes, 46.9ms\n",
      "image 39/1243 c:\\Users\\admin\\Desktop\\python ds\\cvprojects\\pothole detection\\potholesdata\\images\\img-1032.jpg: 256x320 2 potholes, 62.5ms\n",
      "image 40/1243 c:\\Users\\admin\\Desktop\\python ds\\cvprojects\\pothole detection\\potholesdata\\images\\img-1033.jpg: 224x320 7 potholes, 62.5ms\n",
      "image 41/1243 c:\\Users\\admin\\Desktop\\python ds\\cvprojects\\pothole detection\\potholesdata\\images\\img-1034.jpg: 192x320 3 potholes, 72.5ms\n",
      "image 42/1243 c:\\Users\\admin\\Desktop\\python ds\\cvprojects\\pothole detection\\potholesdata\\images\\img-1035.jpg: 192x320 1 pothole, 78.1ms\n",
      "image 43/1243 c:\\Users\\admin\\Desktop\\python ds\\cvprojects\\pothole detection\\potholesdata\\images\\img-1036.jpg: 256x320 1 pothole, 85.1ms\n",
      "image 44/1243 c:\\Users\\admin\\Desktop\\python ds\\cvprojects\\pothole detection\\potholesdata\\images\\img-1037.jpg: 256x320 2 potholes, 80.0ms\n",
      "image 45/1243 c:\\Users\\admin\\Desktop\\python ds\\cvprojects\\pothole detection\\potholesdata\\images\\img-1038.jpg: 224x320 1 pothole, 90.0ms\n",
      "image 46/1243 c:\\Users\\admin\\Desktop\\python ds\\cvprojects\\pothole detection\\potholesdata\\images\\img-1039.jpg: 224x320 4 potholes, 84.0ms\n",
      "image 47/1243 c:\\Users\\admin\\Desktop\\python ds\\cvprojects\\pothole detection\\potholesdata\\images\\img-104.jpg: 320x320 2 potholes, 159.4ms\n",
      "image 48/1243 c:\\Users\\admin\\Desktop\\python ds\\cvprojects\\pothole detection\\potholesdata\\images\\img-1040.jpg: 192x320 2 potholes, 104.9ms\n",
      "image 49/1243 c:\\Users\\admin\\Desktop\\python ds\\cvprojects\\pothole detection\\potholesdata\\images\\img-1041.jpg: 192x320 3 potholes, 78.0ms\n",
      "image 50/1243 c:\\Users\\admin\\Desktop\\python ds\\cvprojects\\pothole detection\\potholesdata\\images\\img-1042.jpg: 224x320 5 potholes, 66.6ms\n",
      "image 51/1243 c:\\Users\\admin\\Desktop\\python ds\\cvprojects\\pothole detection\\potholesdata\\images\\img-1043.jpg: 224x320 2 potholes, 133.8ms\n",
      "image 52/1243 c:\\Users\\admin\\Desktop\\python ds\\cvprojects\\pothole detection\\potholesdata\\images\\img-1044.jpg: 256x320 8 potholes, 83.5ms\n",
      "image 53/1243 c:\\Users\\admin\\Desktop\\python ds\\cvprojects\\pothole detection\\potholesdata\\images\\img-1045.jpg: 224x320 3 potholes, 74.7ms\n",
      "image 54/1243 c:\\Users\\admin\\Desktop\\python ds\\cvprojects\\pothole detection\\potholesdata\\images\\img-1046.jpg: 256x320 3 potholes, 83.4ms\n",
      "image 55/1243 c:\\Users\\admin\\Desktop\\python ds\\cvprojects\\pothole detection\\potholesdata\\images\\img-1047.jpg: 192x320 13 potholes, 66.8ms\n",
      "image 56/1243 c:\\Users\\admin\\Desktop\\python ds\\cvprojects\\pothole detection\\potholesdata\\images\\img-1048.jpg: 320x256 8 potholes, 166.5ms\n",
      "image 57/1243 c:\\Users\\admin\\Desktop\\python ds\\cvprojects\\pothole detection\\potholesdata\\images\\img-1049.jpg: 256x320 1 pothole, 83.7ms\n",
      "image 58/1243 c:\\Users\\admin\\Desktop\\python ds\\cvprojects\\pothole detection\\potholesdata\\images\\img-105.jpg: 320x320 3 potholes, 91.5ms\n",
      "image 59/1243 c:\\Users\\admin\\Desktop\\python ds\\cvprojects\\pothole detection\\potholesdata\\images\\img-1050.jpg: 192x320 10 potholes, 75.1ms\n",
      "image 60/1243 c:\\Users\\admin\\Desktop\\python ds\\cvprojects\\pothole detection\\potholesdata\\images\\img-1051.jpg: 192x320 1 pothole, 66.7ms\n",
      "image 61/1243 c:\\Users\\admin\\Desktop\\python ds\\cvprojects\\pothole detection\\potholesdata\\images\\img-1052.jpg: 256x320 4 potholes, 91.0ms\n",
      "image 62/1243 c:\\Users\\admin\\Desktop\\python ds\\cvprojects\\pothole detection\\potholesdata\\images\\img-1053.jpg: 192x320 5 potholes, 96.9ms\n",
      "image 63/1243 c:\\Users\\admin\\Desktop\\python ds\\cvprojects\\pothole detection\\potholesdata\\images\\img-1054.jpg: 256x320 1 pothole, 150.9ms\n",
      "image 64/1243 c:\\Users\\admin\\Desktop\\python ds\\cvprojects\\pothole detection\\potholesdata\\images\\img-1055.jpg: 224x320 1 pothole, 82.5ms\n",
      "image 65/1243 c:\\Users\\admin\\Desktop\\python ds\\cvprojects\\pothole detection\\potholesdata\\images\\img-1056.jpg: 256x320 4 potholes, 83.5ms\n",
      "image 66/1243 c:\\Users\\admin\\Desktop\\python ds\\cvprojects\\pothole detection\\potholesdata\\images\\img-1057.jpg: 224x320 3 potholes, 75.9ms\n",
      "image 67/1243 c:\\Users\\admin\\Desktop\\python ds\\cvprojects\\pothole detection\\potholesdata\\images\\img-1058.jpg: 192x320 1 pothole, 66.5ms\n",
      "image 68/1243 c:\\Users\\admin\\Desktop\\python ds\\cvprojects\\pothole detection\\potholesdata\\images\\img-1059.jpg: 224x320 3 potholes, 75.3ms\n",
      "image 69/1243 c:\\Users\\admin\\Desktop\\python ds\\cvprojects\\pothole detection\\potholesdata\\images\\img-106.jpg: 320x320 3 potholes, 92.5ms\n",
      "image 70/1243 c:\\Users\\admin\\Desktop\\python ds\\cvprojects\\pothole detection\\potholesdata\\images\\img-1060.jpg: 256x320 7 potholes, 83.4ms\n",
      "image 71/1243 c:\\Users\\admin\\Desktop\\python ds\\cvprojects\\pothole detection\\potholesdata\\images\\img-1061.jpg: 224x320 4 potholes, 134.1ms\n",
      "image 72/1243 c:\\Users\\admin\\Desktop\\python ds\\cvprojects\\pothole detection\\potholesdata\\images\\img-1062.jpg: 256x320 1 pothole, 108.8ms\n",
      "image 73/1243 c:\\Users\\admin\\Desktop\\python ds\\cvprojects\\pothole detection\\potholesdata\\images\\img-1063.jpg: 224x320 3 potholes, 75.1ms\n",
      "image 74/1243 c:\\Users\\admin\\Desktop\\python ds\\cvprojects\\pothole detection\\potholesdata\\images\\img-1064.jpg: 192x320 1 pothole, 66.8ms\n",
      "image 75/1243 c:\\Users\\admin\\Desktop\\python ds\\cvprojects\\pothole detection\\potholesdata\\images\\img-1065.jpg: 192x320 4 potholes, 66.7ms\n",
      "image 76/1243 c:\\Users\\admin\\Desktop\\python ds\\cvprojects\\pothole detection\\potholesdata\\images\\img-1066.jpg: 192x320 1 pothole, 67.4ms\n",
      "image 77/1243 c:\\Users\\admin\\Desktop\\python ds\\cvprojects\\pothole detection\\potholesdata\\images\\img-1067.jpg: 224x320 1 pothole, 65.7ms\n",
      "image 78/1243 c:\\Users\\admin\\Desktop\\python ds\\cvprojects\\pothole detection\\potholesdata\\images\\img-1068.jpg: 128x320 3 potholes, 46.9ms\n",
      "image 79/1243 c:\\Users\\admin\\Desktop\\python ds\\cvprojects\\pothole detection\\potholesdata\\images\\img-1069.jpg: 128x320 1 pothole, 96.6ms\n",
      "image 80/1243 c:\\Users\\admin\\Desktop\\python ds\\cvprojects\\pothole detection\\potholesdata\\images\\img-107.jpg: 320x320 2 potholes, 93.7ms\n",
      "image 81/1243 c:\\Users\\admin\\Desktop\\python ds\\cvprojects\\pothole detection\\potholesdata\\images\\img-1070.jpg: 224x320 1 pothole, 150.5ms\n",
      "image 82/1243 c:\\Users\\admin\\Desktop\\python ds\\cvprojects\\pothole detection\\potholesdata\\images\\img-1071.jpg: 224x320 2 potholes, 75.5ms\n",
      "image 83/1243 c:\\Users\\admin\\Desktop\\python ds\\cvprojects\\pothole detection\\potholesdata\\images\\img-1072.jpg: 192x320 4 potholes, 116.5ms\n",
      "image 84/1243 c:\\Users\\admin\\Desktop\\python ds\\cvprojects\\pothole detection\\potholesdata\\images\\img-1073.jpg: 192x320 1 pothole, 62.5ms\n",
      "image 85/1243 c:\\Users\\admin\\Desktop\\python ds\\cvprojects\\pothole detection\\potholesdata\\images\\img-1074.jpg: 192x320 2 potholes, 81.8ms\n",
      "image 86/1243 c:\\Users\\admin\\Desktop\\python ds\\cvprojects\\pothole detection\\potholesdata\\images\\img-1075.jpg: 224x320 2 potholes, 62.5ms\n",
      "image 87/1243 c:\\Users\\admin\\Desktop\\python ds\\cvprojects\\pothole detection\\potholesdata\\images\\img-1076.jpg: 224x320 1 pothole, 80.6ms\n",
      "image 88/1243 c:\\Users\\admin\\Desktop\\python ds\\cvprojects\\pothole detection\\potholesdata\\images\\img-1077.jpg: 288x320 1 pothole, 89.8ms\n",
      "image 89/1243 c:\\Users\\admin\\Desktop\\python ds\\cvprojects\\pothole detection\\potholesdata\\images\\img-1078.jpg: 192x320 2 potholes, 62.5ms\n",
      "image 90/1243 c:\\Users\\admin\\Desktop\\python ds\\cvprojects\\pothole detection\\potholesdata\\images\\img-1079.jpg: 192x320 1 pothole, 46.9ms\n",
      "image 91/1243 c:\\Users\\admin\\Desktop\\python ds\\cvprojects\\pothole detection\\potholesdata\\images\\img-108.jpg: 320x320 6 potholes, 78.1ms\n",
      "image 92/1243 c:\\Users\\admin\\Desktop\\python ds\\cvprojects\\pothole detection\\potholesdata\\images\\img-1080.jpg: 192x320 1 pothole, 93.7ms\n",
      "image 93/1243 c:\\Users\\admin\\Desktop\\python ds\\cvprojects\\pothole detection\\potholesdata\\images\\img-1081.jpg: 256x320 2 potholes, 57.7ms\n",
      "image 94/1243 c:\\Users\\admin\\Desktop\\python ds\\cvprojects\\pothole detection\\potholesdata\\images\\img-1082.jpg: 192x320 1 pothole, 46.9ms\n",
      "image 95/1243 c:\\Users\\admin\\Desktop\\python ds\\cvprojects\\pothole detection\\potholesdata\\images\\img-1083.jpg: 224x320 1 pothole, 62.5ms\n",
      "image 96/1243 c:\\Users\\admin\\Desktop\\python ds\\cvprojects\\pothole detection\\potholesdata\\images\\img-1084.jpg: 192x320 1 pothole, 67.5ms\n",
      "image 97/1243 c:\\Users\\admin\\Desktop\\python ds\\cvprojects\\pothole detection\\potholesdata\\images\\img-1085.jpg: 192x320 19 potholes, 63.6ms\n",
      "image 98/1243 c:\\Users\\admin\\Desktop\\python ds\\cvprojects\\pothole detection\\potholesdata\\images\\img-1086.jpg: 256x320 2 potholes, 64.1ms\n",
      "image 99/1243 c:\\Users\\admin\\Desktop\\python ds\\cvprojects\\pothole detection\\potholesdata\\images\\img-1087.jpg: 192x320 1 pothole, 46.9ms\n",
      "image 100/1243 c:\\Users\\admin\\Desktop\\python ds\\cvprojects\\pothole detection\\potholesdata\\images\\img-1088.jpg: 256x320 6 potholes, 66.9ms\n",
      "image 101/1243 c:\\Users\\admin\\Desktop\\python ds\\cvprojects\\pothole detection\\potholesdata\\images\\img-1089.jpg: 224x320 9 potholes, 66.1ms\n",
      "image 102/1243 c:\\Users\\admin\\Desktop\\python ds\\cvprojects\\pothole detection\\potholesdata\\images\\img-109.jpg: 320x320 3 potholes, 335.0ms\n",
      "image 103/1243 c:\\Users\\admin\\Desktop\\python ds\\cvprojects\\pothole detection\\potholesdata\\images\\img-1090.jpg: 224x320 1 pothole, 62.5ms\n",
      "image 104/1243 c:\\Users\\admin\\Desktop\\python ds\\cvprojects\\pothole detection\\potholesdata\\images\\img-1091.jpg: 224x320 5 potholes, 62.6ms\n",
      "image 105/1243 c:\\Users\\admin\\Desktop\\python ds\\cvprojects\\pothole detection\\potholesdata\\images\\img-1092.jpg: 224x320 10 potholes, 52.1ms\n",
      "image 106/1243 c:\\Users\\admin\\Desktop\\python ds\\cvprojects\\pothole detection\\potholesdata\\images\\img-1093.jpg: 192x320 2 potholes, 59.6ms\n",
      "image 107/1243 c:\\Users\\admin\\Desktop\\python ds\\cvprojects\\pothole detection\\potholesdata\\images\\img-1094.jpg: 192x320 4 potholes, 61.0ms\n",
      "image 108/1243 c:\\Users\\admin\\Desktop\\python ds\\cvprojects\\pothole detection\\potholesdata\\images\\img-1095.jpg: 256x320 2 potholes, 84.1ms\n",
      "image 109/1243 c:\\Users\\admin\\Desktop\\python ds\\cvprojects\\pothole detection\\potholesdata\\images\\img-1096.jpg: 192x320 2 potholes, 60.9ms\n",
      "image 110/1243 c:\\Users\\admin\\Desktop\\python ds\\cvprojects\\pothole detection\\potholesdata\\images\\img-1097.jpg: 224x320 1 pothole, 78.0ms\n",
      "image 111/1243 c:\\Users\\admin\\Desktop\\python ds\\cvprojects\\pothole detection\\potholesdata\\images\\img-1098.jpg: 224x320 1 pothole, 67.3ms\n",
      "image 112/1243 c:\\Users\\admin\\Desktop\\python ds\\cvprojects\\pothole detection\\potholesdata\\images\\img-1099.jpg: 192x320 5 potholes, 66.4ms\n",
      "image 113/1243 c:\\Users\\admin\\Desktop\\python ds\\cvprojects\\pothole detection\\potholesdata\\images\\img-11.jpg: 320x320 1 pothole, 162.8ms\n",
      "image 114/1243 c:\\Users\\admin\\Desktop\\python ds\\cvprojects\\pothole detection\\potholesdata\\images\\img-110.jpg: 320x320 1 pothole, 100.0ms\n",
      "image 115/1243 c:\\Users\\admin\\Desktop\\python ds\\cvprojects\\pothole detection\\potholesdata\\images\\img-1100.jpg: 192x320 5 potholes, 60.5ms\n",
      "image 116/1243 c:\\Users\\admin\\Desktop\\python ds\\cvprojects\\pothole detection\\potholesdata\\images\\img-1101.jpg: 192x320 14 potholes, 66.3ms\n",
      "image 117/1243 c:\\Users\\admin\\Desktop\\python ds\\cvprojects\\pothole detection\\potholesdata\\images\\img-1102.jpg: 256x320 12 potholes, 78.8ms\n",
      "image 118/1243 c:\\Users\\admin\\Desktop\\python ds\\cvprojects\\pothole detection\\potholesdata\\images\\img-1103.jpg: 224x320 1 pothole, 67.4ms\n",
      "image 119/1243 c:\\Users\\admin\\Desktop\\python ds\\cvprojects\\pothole detection\\potholesdata\\images\\img-1104.jpg: 256x320 2 potholes, 83.1ms\n",
      "image 120/1243 c:\\Users\\admin\\Desktop\\python ds\\cvprojects\\pothole detection\\potholesdata\\images\\img-1105.jpg: 256x320 2 potholes, 85.6ms\n",
      "image 121/1243 c:\\Users\\admin\\Desktop\\python ds\\cvprojects\\pothole detection\\potholesdata\\images\\img-1106.jpg: 320x256 3 potholes, 86.6ms\n",
      "image 122/1243 c:\\Users\\admin\\Desktop\\python ds\\cvprojects\\pothole detection\\potholesdata\\images\\img-1107.jpg: 224x320 2 potholes, 66.9ms\n",
      "image 123/1243 c:\\Users\\admin\\Desktop\\python ds\\cvprojects\\pothole detection\\potholesdata\\images\\img-1108.jpg: 192x320 21 potholes, 67.7ms\n",
      "image 124/1243 c:\\Users\\admin\\Desktop\\python ds\\cvprojects\\pothole detection\\potholesdata\\images\\img-1109.jpg: 256x320 14 potholes, 83.5ms\n",
      "image 125/1243 c:\\Users\\admin\\Desktop\\python ds\\cvprojects\\pothole detection\\potholesdata\\images\\img-111.jpg: 320x320 2 potholes, 94.8ms\n",
      "image 126/1243 c:\\Users\\admin\\Desktop\\python ds\\cvprojects\\pothole detection\\potholesdata\\images\\img-1110.jpg: 224x320 1 pothole, 62.5ms\n",
      "image 127/1243 c:\\Users\\admin\\Desktop\\python ds\\cvprojects\\pothole detection\\potholesdata\\images\\img-1111.jpg: 224x320 1 pothole, 66.6ms\n",
      "image 128/1243 c:\\Users\\admin\\Desktop\\python ds\\cvprojects\\pothole detection\\potholesdata\\images\\img-1112.jpg: 224x320 14 potholes, 84.4ms\n",
      "image 129/1243 c:\\Users\\admin\\Desktop\\python ds\\cvprojects\\pothole detection\\potholesdata\\images\\img-1113.jpg: 160x320 1 pothole, 138.3ms\n",
      "image 130/1243 c:\\Users\\admin\\Desktop\\python ds\\cvprojects\\pothole detection\\potholesdata\\images\\img-1114.jpg: 192x320 10 potholes, 63.5ms\n",
      "image 131/1243 c:\\Users\\admin\\Desktop\\python ds\\cvprojects\\pothole detection\\potholesdata\\images\\img-1115.jpg: 224x320 2 potholes, 73.8ms\n",
      "image 132/1243 c:\\Users\\admin\\Desktop\\python ds\\cvprojects\\pothole detection\\potholesdata\\images\\img-1116.jpg: 192x320 11 potholes, 67.2ms\n",
      "image 133/1243 c:\\Users\\admin\\Desktop\\python ds\\cvprojects\\pothole detection\\potholesdata\\images\\img-1117.jpg: 192x320 5 potholes, 70.0ms\n",
      "image 134/1243 c:\\Users\\admin\\Desktop\\python ds\\cvprojects\\pothole detection\\potholesdata\\images\\img-1118.jpg: 224x320 1 pothole, 137.1ms\n",
      "image 135/1243 c:\\Users\\admin\\Desktop\\python ds\\cvprojects\\pothole detection\\potholesdata\\images\\img-1119.jpg: 192x320 4 potholes, 74.6ms\n",
      "image 136/1243 c:\\Users\\admin\\Desktop\\python ds\\cvprojects\\pothole detection\\potholesdata\\images\\img-112.jpg: 320x320 1 pothole, 114.1ms\n",
      "image 137/1243 c:\\Users\\admin\\Desktop\\python ds\\cvprojects\\pothole detection\\potholesdata\\images\\img-1120.jpg: 192x320 3 potholes, 98.0ms\n",
      "image 138/1243 c:\\Users\\admin\\Desktop\\python ds\\cvprojects\\pothole detection\\potholesdata\\images\\img-1121.jpg: 224x320 32 potholes, 66.0ms\n",
      "image 139/1243 c:\\Users\\admin\\Desktop\\python ds\\cvprojects\\pothole detection\\potholesdata\\images\\img-1122.jpg: 224x320 1 pothole, 251.9ms\n",
      "image 140/1243 c:\\Users\\admin\\Desktop\\python ds\\cvprojects\\pothole detection\\potholesdata\\images\\img-1123.jpg: 192x320 9 potholes, 68.0ms\n",
      "image 141/1243 c:\\Users\\admin\\Desktop\\python ds\\cvprojects\\pothole detection\\potholesdata\\images\\img-1124.jpg: 160x320 3 potholes, 79.0ms\n",
      "image 142/1243 c:\\Users\\admin\\Desktop\\python ds\\cvprojects\\pothole detection\\potholesdata\\images\\img-1125.jpg: 192x320 1 pothole, 127.4ms\n",
      "image 143/1243 c:\\Users\\admin\\Desktop\\python ds\\cvprojects\\pothole detection\\potholesdata\\images\\img-1126.jpg: 224x320 4 potholes, 67.0ms\n",
      "image 144/1243 c:\\Users\\admin\\Desktop\\python ds\\cvprojects\\pothole detection\\potholesdata\\images\\img-1127.jpg: 128x320 1 pothole, 53.4ms\n",
      "image 145/1243 c:\\Users\\admin\\Desktop\\python ds\\cvprojects\\pothole detection\\potholesdata\\images\\img-1128.jpg: 256x320 14 potholes, 72.3ms\n",
      "image 146/1243 c:\\Users\\admin\\Desktop\\python ds\\cvprojects\\pothole detection\\potholesdata\\images\\img-1129.jpg: 192x320 1 pothole, 96.7ms\n",
      "image 147/1243 c:\\Users\\admin\\Desktop\\python ds\\cvprojects\\pothole detection\\potholesdata\\images\\img-113.jpg: 320x320 1 pothole, 152.9ms\n",
      "image 148/1243 c:\\Users\\admin\\Desktop\\python ds\\cvprojects\\pothole detection\\potholesdata\\images\\img-1130.jpg: 224x320 5 potholes, 90.9ms\n",
      "image 149/1243 c:\\Users\\admin\\Desktop\\python ds\\cvprojects\\pothole detection\\potholesdata\\images\\img-1131.jpg: 160x320 2 potholes, 64.0ms\n",
      "image 150/1243 c:\\Users\\admin\\Desktop\\python ds\\cvprojects\\pothole detection\\potholesdata\\images\\img-1132.jpg: 256x320 15 potholes, 80.0ms\n",
      "image 151/1243 c:\\Users\\admin\\Desktop\\python ds\\cvprojects\\pothole detection\\potholesdata\\images\\img-1133.jpg: 224x320 1 pothole, 189.0ms\n",
      "image 152/1243 c:\\Users\\admin\\Desktop\\python ds\\cvprojects\\pothole detection\\potholesdata\\images\\img-1134.jpg: 192x320 1 pothole, 68.0ms\n",
      "image 153/1243 c:\\Users\\admin\\Desktop\\python ds\\cvprojects\\pothole detection\\potholesdata\\images\\img-1135.jpg: 192x320 6 potholes, 64.0ms\n",
      "image 154/1243 c:\\Users\\admin\\Desktop\\python ds\\cvprojects\\pothole detection\\potholesdata\\images\\img-1136.jpg: 192x320 6 potholes, 69.0ms\n",
      "image 155/1243 c:\\Users\\admin\\Desktop\\python ds\\cvprojects\\pothole detection\\potholesdata\\images\\img-1137.jpg: 256x320 1 pothole, 80.0ms\n",
      "image 156/1243 c:\\Users\\admin\\Desktop\\python ds\\cvprojects\\pothole detection\\potholesdata\\images\\img-1138.jpg: 192x320 1 pothole, 68.0ms\n",
      "image 157/1243 c:\\Users\\admin\\Desktop\\python ds\\cvprojects\\pothole detection\\potholesdata\\images\\img-1139.jpg: 192x320 7 potholes, 65.0ms\n",
      "image 158/1243 c:\\Users\\admin\\Desktop\\python ds\\cvprojects\\pothole detection\\potholesdata\\images\\img-114.jpg: 320x320 2 potholes, 183.0ms\n",
      "image 159/1243 c:\\Users\\admin\\Desktop\\python ds\\cvprojects\\pothole detection\\potholesdata\\images\\img-1140.jpg: 192x320 8 potholes, 65.0ms\n",
      "image 160/1243 c:\\Users\\admin\\Desktop\\python ds\\cvprojects\\pothole detection\\potholesdata\\images\\img-1141.jpg: 192x320 1 pothole, 65.0ms\n",
      "image 161/1243 c:\\Users\\admin\\Desktop\\python ds\\cvprojects\\pothole detection\\potholesdata\\images\\img-1142.jpg: 192x320 1 pothole, 65.0ms\n",
      "image 162/1243 c:\\Users\\admin\\Desktop\\python ds\\cvprojects\\pothole detection\\potholesdata\\images\\img-1143.jpg: 224x320 3 potholes, 72.0ms\n",
      "image 163/1243 c:\\Users\\admin\\Desktop\\python ds\\cvprojects\\pothole detection\\potholesdata\\images\\img-1144.jpg: 224x320 1 pothole, 71.0ms\n",
      "image 164/1243 c:\\Users\\admin\\Desktop\\python ds\\cvprojects\\pothole detection\\potholesdata\\images\\img-1145.jpg: 160x320 6 potholes, 61.0ms\n",
      "image 165/1243 c:\\Users\\admin\\Desktop\\python ds\\cvprojects\\pothole detection\\potholesdata\\images\\img-1146.jpg: 192x320 4 potholes, 65.0ms\n",
      "image 166/1243 c:\\Users\\admin\\Desktop\\python ds\\cvprojects\\pothole detection\\potholesdata\\images\\img-1147.jpg: 160x320 5 potholes, 61.0ms\n",
      "image 167/1243 c:\\Users\\admin\\Desktop\\python ds\\cvprojects\\pothole detection\\potholesdata\\images\\img-1148.jpg: 192x320 2 potholes, 67.0ms\n",
      "image 168/1243 c:\\Users\\admin\\Desktop\\python ds\\cvprojects\\pothole detection\\potholesdata\\images\\img-1149.jpg: 192x320 5 potholes, 64.0ms\n",
      "image 169/1243 c:\\Users\\admin\\Desktop\\python ds\\cvprojects\\pothole detection\\potholesdata\\images\\img-115.jpg: 320x320 1 pothole, 78.0ms\n",
      "image 170/1243 c:\\Users\\admin\\Desktop\\python ds\\cvprojects\\pothole detection\\potholesdata\\images\\img-1150.jpg: 224x320 2 potholes, 69.7ms\n",
      "image 171/1243 c:\\Users\\admin\\Desktop\\python ds\\cvprojects\\pothole detection\\potholesdata\\images\\img-1151.jpg: 192x320 8 potholes, 81.0ms\n",
      "image 172/1243 c:\\Users\\admin\\Desktop\\python ds\\cvprojects\\pothole detection\\potholesdata\\images\\img-1152.jpg: 192x320 1 pothole, 530.7ms\n",
      "image 173/1243 c:\\Users\\admin\\Desktop\\python ds\\cvprojects\\pothole detection\\potholesdata\\images\\img-1153.jpg: 192x320 1 pothole, 73.0ms\n",
      "image 174/1243 c:\\Users\\admin\\Desktop\\python ds\\cvprojects\\pothole detection\\potholesdata\\images\\img-1154.jpg: 192x320 2 potholes, 72.0ms\n",
      "image 175/1243 c:\\Users\\admin\\Desktop\\python ds\\cvprojects\\pothole detection\\potholesdata\\images\\img-1155.jpg: 224x320 1 pothole, 70.0ms\n",
      "image 176/1243 c:\\Users\\admin\\Desktop\\python ds\\cvprojects\\pothole detection\\potholesdata\\images\\img-1156.jpg: 224x320 5 potholes, 86.0ms\n",
      "image 177/1243 c:\\Users\\admin\\Desktop\\python ds\\cvprojects\\pothole detection\\potholesdata\\images\\img-1157.jpg: 160x320 2 potholes, 66.0ms\n",
      "image 178/1243 c:\\Users\\admin\\Desktop\\python ds\\cvprojects\\pothole detection\\potholesdata\\images\\img-1158.jpg: 192x320 1 pothole, 74.0ms\n",
      "image 179/1243 c:\\Users\\admin\\Desktop\\python ds\\cvprojects\\pothole detection\\potholesdata\\images\\img-1159.jpg: 192x320 4 potholes, 73.0ms\n",
      "image 180/1243 c:\\Users\\admin\\Desktop\\python ds\\cvprojects\\pothole detection\\potholesdata\\images\\img-116.jpg: 320x320 2 potholes, 169.9ms\n",
      "image 181/1243 c:\\Users\\admin\\Desktop\\python ds\\cvprojects\\pothole detection\\potholesdata\\images\\img-1160.jpg: 192x320 18 potholes, 61.0ms\n",
      "image 182/1243 c:\\Users\\admin\\Desktop\\python ds\\cvprojects\\pothole detection\\potholesdata\\images\\img-1161.jpg: 192x320 8 potholes, 66.0ms\n",
      "image 183/1243 c:\\Users\\admin\\Desktop\\python ds\\cvprojects\\pothole detection\\potholesdata\\images\\img-1162.jpg: 192x320 4 potholes, 120.9ms\n",
      "image 184/1243 c:\\Users\\admin\\Desktop\\python ds\\cvprojects\\pothole detection\\potholesdata\\images\\img-1163.jpg: 224x320 2 potholes, 68.0ms\n",
      "image 185/1243 c:\\Users\\admin\\Desktop\\python ds\\cvprojects\\pothole detection\\potholesdata\\images\\img-1164.jpg: 192x320 1 pothole, 63.0ms\n",
      "image 186/1243 c:\\Users\\admin\\Desktop\\python ds\\cvprojects\\pothole detection\\potholesdata\\images\\img-1165.jpg: 224x320 1 pothole, 67.0ms\n",
      "image 187/1243 c:\\Users\\admin\\Desktop\\python ds\\cvprojects\\pothole detection\\potholesdata\\images\\img-1166.jpg: 192x320 1 pothole, 63.0ms\n",
      "image 188/1243 c:\\Users\\admin\\Desktop\\python ds\\cvprojects\\pothole detection\\potholesdata\\images\\img-1167.jpg: 256x320 4 potholes, 74.0ms\n",
      "image 189/1243 c:\\Users\\admin\\Desktop\\python ds\\cvprojects\\pothole detection\\potholesdata\\images\\img-1168.jpg: 160x320 3 potholes, 68.0ms\n",
      "image 190/1243 c:\\Users\\admin\\Desktop\\python ds\\cvprojects\\pothole detection\\potholesdata\\images\\img-1169.jpg: 224x320 2 potholes, 67.0ms\n",
      "image 191/1243 c:\\Users\\admin\\Desktop\\python ds\\cvprojects\\pothole detection\\potholesdata\\images\\img-117.jpg: 320x320 2 potholes, 85.0ms\n",
      "image 192/1243 c:\\Users\\admin\\Desktop\\python ds\\cvprojects\\pothole detection\\potholesdata\\images\\img-1170.jpg: 160x320 1 pothole, 58.0ms\n",
      "image 193/1243 c:\\Users\\admin\\Desktop\\python ds\\cvprojects\\pothole detection\\potholesdata\\images\\img-1171.jpg: 192x320 10 potholes, 87.9ms\n",
      "image 194/1243 c:\\Users\\admin\\Desktop\\python ds\\cvprojects\\pothole detection\\potholesdata\\images\\img-1172.jpg: 192x320 23 potholes, 75.0ms\n",
      "image 195/1243 c:\\Users\\admin\\Desktop\\python ds\\cvprojects\\pothole detection\\potholesdata\\images\\img-1173.jpg: 224x320 1 pothole, 81.0ms\n",
      "image 196/1243 c:\\Users\\admin\\Desktop\\python ds\\cvprojects\\pothole detection\\potholesdata\\images\\img-1174.jpg: 192x320 10 potholes, 75.0ms\n",
      "image 197/1243 c:\\Users\\admin\\Desktop\\python ds\\cvprojects\\pothole detection\\potholesdata\\images\\img-1175.jpg: 224x320 10 potholes, 80.0ms\n",
      "image 198/1243 c:\\Users\\admin\\Desktop\\python ds\\cvprojects\\pothole detection\\potholesdata\\images\\img-1176.jpg: 192x320 2 potholes, 144.9ms\n",
      "image 199/1243 c:\\Users\\admin\\Desktop\\python ds\\cvprojects\\pothole detection\\potholesdata\\images\\img-1177.jpg: 192x320 1 pothole, 74.0ms\n",
      "image 200/1243 c:\\Users\\admin\\Desktop\\python ds\\cvprojects\\pothole detection\\potholesdata\\images\\img-1178.jpg: 224x320 8 potholes, 75.0ms\n",
      "image 201/1243 c:\\Users\\admin\\Desktop\\python ds\\cvprojects\\pothole detection\\potholesdata\\images\\img-1179.jpg: 224x320 5 potholes, 80.0ms\n",
      "image 202/1243 c:\\Users\\admin\\Desktop\\python ds\\cvprojects\\pothole detection\\potholesdata\\images\\img-118.jpg: 320x320 1 pothole, 127.9ms\n",
      "image 203/1243 c:\\Users\\admin\\Desktop\\python ds\\cvprojects\\pothole detection\\potholesdata\\images\\img-1180.jpg: 128x320 12 potholes, 56.0ms\n",
      "image 204/1243 c:\\Users\\admin\\Desktop\\python ds\\cvprojects\\pothole detection\\potholesdata\\images\\img-1181.jpg: 192x320 4 potholes, 76.0ms\n",
      "image 205/1243 c:\\Users\\admin\\Desktop\\python ds\\cvprojects\\pothole detection\\potholesdata\\images\\img-1182.jpg: 160x320 2 potholes, 64.0ms\n",
      "image 206/1243 c:\\Users\\admin\\Desktop\\python ds\\cvprojects\\pothole detection\\potholesdata\\images\\img-1183.jpg: 192x320 5 potholes, 81.0ms\n",
      "image 207/1243 c:\\Users\\admin\\Desktop\\python ds\\cvprojects\\pothole detection\\potholesdata\\images\\img-1184.jpg: 224x320 1 pothole, 79.5ms\n",
      "image 208/1243 c:\\Users\\admin\\Desktop\\python ds\\cvprojects\\pothole detection\\potholesdata\\images\\img-1185.jpg: 192x320 23 potholes, 90.9ms\n",
      "image 209/1243 c:\\Users\\admin\\Desktop\\python ds\\cvprojects\\pothole detection\\potholesdata\\images\\img-1186.jpg: 160x320 1 pothole, 65.0ms\n",
      "image 210/1243 c:\\Users\\admin\\Desktop\\python ds\\cvprojects\\pothole detection\\potholesdata\\images\\img-1187.jpg: 320x320 1 pothole, 93.9ms\n",
      "image 211/1243 c:\\Users\\admin\\Desktop\\python ds\\cvprojects\\pothole detection\\potholesdata\\images\\img-1188.jpg: 256x320 4 potholes, 89.9ms\n",
      "image 212/1243 c:\\Users\\admin\\Desktop\\python ds\\cvprojects\\pothole detection\\potholesdata\\images\\img-1189.jpg: 192x320 1 pothole, 62.0ms\n",
      "image 213/1243 c:\\Users\\admin\\Desktop\\python ds\\cvprojects\\pothole detection\\potholesdata\\images\\img-119.jpg: 320x320 3 potholes, 80.0ms\n",
      "image 214/1243 c:\\Users\\admin\\Desktop\\python ds\\cvprojects\\pothole detection\\potholesdata\\images\\img-1190.jpg: 192x320 2 potholes, 78.0ms\n",
      "image 215/1243 c:\\Users\\admin\\Desktop\\python ds\\cvprojects\\pothole detection\\potholesdata\\images\\img-1191.jpg: 160x320 1 pothole, 59.0ms\n",
      "image 216/1243 c:\\Users\\admin\\Desktop\\python ds\\cvprojects\\pothole detection\\potholesdata\\images\\img-1192.jpg: 320x320 6 potholes, 85.0ms\n",
      "image 217/1243 c:\\Users\\admin\\Desktop\\python ds\\cvprojects\\pothole detection\\potholesdata\\images\\img-1193.jpg: 256x320 2 potholes, 67.0ms\n",
      "image 218/1243 c:\\Users\\admin\\Desktop\\python ds\\cvprojects\\pothole detection\\potholesdata\\images\\img-1194.jpg: 192x320 3 potholes, 60.0ms\n",
      "image 219/1243 c:\\Users\\admin\\Desktop\\python ds\\cvprojects\\pothole detection\\potholesdata\\images\\img-1195.jpg: 256x320 4 potholes, 69.0ms\n",
      "image 220/1243 c:\\Users\\admin\\Desktop\\python ds\\cvprojects\\pothole detection\\potholesdata\\images\\img-1196.jpg: 256x320 5 potholes, 67.0ms\n",
      "image 221/1243 c:\\Users\\admin\\Desktop\\python ds\\cvprojects\\pothole detection\\potholesdata\\images\\img-1197.jpg: 320x256 3 potholes, 74.0ms\n",
      "image 222/1243 c:\\Users\\admin\\Desktop\\python ds\\cvprojects\\pothole detection\\potholesdata\\images\\img-1198.jpg: 256x320 2 potholes, 66.0ms\n",
      "image 223/1243 c:\\Users\\admin\\Desktop\\python ds\\cvprojects\\pothole detection\\potholesdata\\images\\img-1199.jpg: 288x320 3 potholes, 89.0ms\n",
      "image 224/1243 c:\\Users\\admin\\Desktop\\python ds\\cvprojects\\pothole detection\\potholesdata\\images\\img-12.jpg: 320x320 1 pothole, 79.0ms\n",
      "image 225/1243 c:\\Users\\admin\\Desktop\\python ds\\cvprojects\\pothole detection\\potholesdata\\images\\img-120.jpg: 320x320 1 pothole, 85.0ms\n",
      "image 226/1243 c:\\Users\\admin\\Desktop\\python ds\\cvprojects\\pothole detection\\potholesdata\\images\\img-1200.jpg: 256x320 (no detections), 73.1ms\n",
      "image 227/1243 c:\\Users\\admin\\Desktop\\python ds\\cvprojects\\pothole detection\\potholesdata\\images\\img-1201.jpg: 256x320 (no detections), 66.0ms\n",
      "image 228/1243 c:\\Users\\admin\\Desktop\\python ds\\cvprojects\\pothole detection\\potholesdata\\images\\img-1202.jpg: 256x320 3 potholes, 73.0ms\n",
      "image 229/1243 c:\\Users\\admin\\Desktop\\python ds\\cvprojects\\pothole detection\\potholesdata\\images\\img-1203.jpg: 256x320 2 potholes, 71.0ms\n",
      "image 230/1243 c:\\Users\\admin\\Desktop\\python ds\\cvprojects\\pothole detection\\potholesdata\\images\\img-1204.jpg: 256x320 (no detections), 106.1ms\n",
      "image 231/1243 c:\\Users\\admin\\Desktop\\python ds\\cvprojects\\pothole detection\\potholesdata\\images\\img-1205.jpg: 256x320 (no detections), 72.4ms\n",
      "image 232/1243 c:\\Users\\admin\\Desktop\\python ds\\cvprojects\\pothole detection\\potholesdata\\images\\img-1206.jpg: 256x320 (no detections), 71.0ms\n",
      "image 233/1243 c:\\Users\\admin\\Desktop\\python ds\\cvprojects\\pothole detection\\potholesdata\\images\\img-1207.jpg: 256x320 (no detections), 68.0ms\n",
      "image 234/1243 c:\\Users\\admin\\Desktop\\python ds\\cvprojects\\pothole detection\\potholesdata\\images\\img-1208.jpg: 256x320 (no detections), 69.9ms\n",
      "image 235/1243 c:\\Users\\admin\\Desktop\\python ds\\cvprojects\\pothole detection\\potholesdata\\images\\img-1209.jpg: 256x320 (no detections), 69.0ms\n",
      "image 236/1243 c:\\Users\\admin\\Desktop\\python ds\\cvprojects\\pothole detection\\potholesdata\\images\\img-121.jpg: 320x320 3 potholes, 82.0ms\n",
      "image 237/1243 c:\\Users\\admin\\Desktop\\python ds\\cvprojects\\pothole detection\\potholesdata\\images\\img-1210.jpg: 256x320 (no detections), 97.0ms\n",
      "image 238/1243 c:\\Users\\admin\\Desktop\\python ds\\cvprojects\\pothole detection\\potholesdata\\images\\img-1211.jpg: 256x320 (no detections), 77.0ms\n",
      "image 239/1243 c:\\Users\\admin\\Desktop\\python ds\\cvprojects\\pothole detection\\potholesdata\\images\\img-1212.jpg: 256x320 (no detections), 69.0ms\n",
      "image 240/1243 c:\\Users\\admin\\Desktop\\python ds\\cvprojects\\pothole detection\\potholesdata\\images\\img-1213.jpg: 256x320 2 potholes, 179.0ms\n",
      "image 241/1243 c:\\Users\\admin\\Desktop\\python ds\\cvprojects\\pothole detection\\potholesdata\\images\\img-1214.jpg: 256x320 1 pothole, 89.9ms\n",
      "image 242/1243 c:\\Users\\admin\\Desktop\\python ds\\cvprojects\\pothole detection\\potholesdata\\images\\img-1215.jpg: 256x320 (no detections), 90.9ms\n",
      "image 243/1243 c:\\Users\\admin\\Desktop\\python ds\\cvprojects\\pothole detection\\potholesdata\\images\\img-1216.jpg: 256x320 2 potholes, 72.9ms\n",
      "image 244/1243 c:\\Users\\admin\\Desktop\\python ds\\cvprojects\\pothole detection\\potholesdata\\images\\img-1217.jpg: 256x320 1 pothole, 69.9ms\n",
      "image 245/1243 c:\\Users\\admin\\Desktop\\python ds\\cvprojects\\pothole detection\\potholesdata\\images\\img-1218.jpg: 256x320 (no detections), 107.9ms\n",
      "image 246/1243 c:\\Users\\admin\\Desktop\\python ds\\cvprojects\\pothole detection\\potholesdata\\images\\img-1219.jpg: 256x320 (no detections), 77.0ms\n",
      "image 247/1243 c:\\Users\\admin\\Desktop\\python ds\\cvprojects\\pothole detection\\potholesdata\\images\\img-122.jpg: 320x320 1 pothole, 96.9ms\n",
      "image 248/1243 c:\\Users\\admin\\Desktop\\python ds\\cvprojects\\pothole detection\\potholesdata\\images\\img-1220.jpg: 256x320 1 pothole, 102.9ms\n",
      "image 249/1243 c:\\Users\\admin\\Desktop\\python ds\\cvprojects\\pothole detection\\potholesdata\\images\\img-1221.jpg: 256x320 1 pothole, 104.9ms\n",
      "image 250/1243 c:\\Users\\admin\\Desktop\\python ds\\cvprojects\\pothole detection\\potholesdata\\images\\img-1222.jpg: 256x320 (no detections), 74.2ms\n",
      "image 251/1243 c:\\Users\\admin\\Desktop\\python ds\\cvprojects\\pothole detection\\potholesdata\\images\\img-1223.jpg: 256x320 1 pothole, 62.5ms\n",
      "image 252/1243 c:\\Users\\admin\\Desktop\\python ds\\cvprojects\\pothole detection\\potholesdata\\images\\img-1224.jpg: 256x320 1 pothole, 62.5ms\n",
      "image 253/1243 c:\\Users\\admin\\Desktop\\python ds\\cvprojects\\pothole detection\\potholesdata\\images\\img-1225.jpg: 256x320 2 potholes, 62.5ms\n",
      "image 254/1243 c:\\Users\\admin\\Desktop\\python ds\\cvprojects\\pothole detection\\potholesdata\\images\\img-1226.jpg: 256x320 1 pothole, 102.5ms\n",
      "image 255/1243 c:\\Users\\admin\\Desktop\\python ds\\cvprojects\\pothole detection\\potholesdata\\images\\img-1227.jpg: 256x320 1 pothole, 78.1ms\n",
      "image 256/1243 c:\\Users\\admin\\Desktop\\python ds\\cvprojects\\pothole detection\\potholesdata\\images\\img-1228.jpg: 256x320 1 pothole, 92.7ms\n",
      "image 257/1243 c:\\Users\\admin\\Desktop\\python ds\\cvprojects\\pothole detection\\potholesdata\\images\\img-1229.jpg: 256x320 (no detections), 105.7ms\n",
      "image 258/1243 c:\\Users\\admin\\Desktop\\python ds\\cvprojects\\pothole detection\\potholesdata\\images\\img-123.jpg: 320x320 1 pothole, 93.7ms\n",
      "image 259/1243 c:\\Users\\admin\\Desktop\\python ds\\cvprojects\\pothole detection\\potholesdata\\images\\img-1230.jpg: 256x320 2 potholes, 82.2ms\n",
      "image 260/1243 c:\\Users\\admin\\Desktop\\python ds\\cvprojects\\pothole detection\\potholesdata\\images\\img-1231.jpg: 256x320 1 pothole, 74.5ms\n",
      "image 261/1243 c:\\Users\\admin\\Desktop\\python ds\\cvprojects\\pothole detection\\potholesdata\\images\\img-1232.jpg: 256x320 (no detections), 78.1ms\n",
      "image 262/1243 c:\\Users\\admin\\Desktop\\python ds\\cvprojects\\pothole detection\\potholesdata\\images\\img-1233.jpg: 256x320 1 pothole, 78.1ms\n",
      "image 263/1243 c:\\Users\\admin\\Desktop\\python ds\\cvprojects\\pothole detection\\potholesdata\\images\\img-1234.jpg: 256x320 1 pothole, 78.1ms\n",
      "image 264/1243 c:\\Users\\admin\\Desktop\\python ds\\cvprojects\\pothole detection\\potholesdata\\images\\img-1235.jpg: 256x320 1 pothole, 73.7ms\n",
      "image 265/1243 c:\\Users\\admin\\Desktop\\python ds\\cvprojects\\pothole detection\\potholesdata\\images\\img-1236.jpg: 256x320 (no detections), 78.1ms\n",
      "image 266/1243 c:\\Users\\admin\\Desktop\\python ds\\cvprojects\\pothole detection\\potholesdata\\images\\img-1237.jpg: 256x320 2 potholes, 78.1ms\n",
      "image 267/1243 c:\\Users\\admin\\Desktop\\python ds\\cvprojects\\pothole detection\\potholesdata\\images\\img-1238.jpg: 256x320 (no detections), 104.4ms\n",
      "image 268/1243 c:\\Users\\admin\\Desktop\\python ds\\cvprojects\\pothole detection\\potholesdata\\images\\img-1239.jpg: 256x320 1 pothole, 74.0ms\n",
      "image 269/1243 c:\\Users\\admin\\Desktop\\python ds\\cvprojects\\pothole detection\\potholesdata\\images\\img-124.jpg: 320x320 6 potholes, 78.1ms\n",
      "image 270/1243 c:\\Users\\admin\\Desktop\\python ds\\cvprojects\\pothole detection\\potholesdata\\images\\img-1240.jpg: 256x320 2 potholes, 109.4ms\n",
      "image 271/1243 c:\\Users\\admin\\Desktop\\python ds\\cvprojects\\pothole detection\\potholesdata\\images\\img-1241.jpg: 256x320 (no detections), 134.3ms\n",
      "image 272/1243 c:\\Users\\admin\\Desktop\\python ds\\cvprojects\\pothole detection\\potholesdata\\images\\img-1242.jpg: 256x320 3 potholes, 65.7ms\n",
      "image 273/1243 c:\\Users\\admin\\Desktop\\python ds\\cvprojects\\pothole detection\\potholesdata\\images\\img-1243.jpg: 256x320 5 potholes, 78.1ms\n",
      "image 274/1243 c:\\Users\\admin\\Desktop\\python ds\\cvprojects\\pothole detection\\potholesdata\\images\\img-125.jpg: 320x320 1 pothole, 82.4ms\n",
      "image 275/1243 c:\\Users\\admin\\Desktop\\python ds\\cvprojects\\pothole detection\\potholesdata\\images\\img-126.jpg: 320x320 4 potholes, 78.1ms\n",
      "image 276/1243 c:\\Users\\admin\\Desktop\\python ds\\cvprojects\\pothole detection\\potholesdata\\images\\img-127.jpg: 320x320 3 potholes, 80.1ms\n",
      "image 277/1243 c:\\Users\\admin\\Desktop\\python ds\\cvprojects\\pothole detection\\potholesdata\\images\\img-128.jpg: 320x320 2 potholes, 78.1ms\n",
      "image 278/1243 c:\\Users\\admin\\Desktop\\python ds\\cvprojects\\pothole detection\\potholesdata\\images\\img-129.jpg: 320x320 2 potholes, 67.5ms\n",
      "image 279/1243 c:\\Users\\admin\\Desktop\\python ds\\cvprojects\\pothole detection\\potholesdata\\images\\img-13.jpg: 320x320 5 potholes, 68.1ms\n",
      "image 280/1243 c:\\Users\\admin\\Desktop\\python ds\\cvprojects\\pothole detection\\potholesdata\\images\\img-130.jpg: 320x320 2 potholes, 78.1ms\n",
      "image 281/1243 c:\\Users\\admin\\Desktop\\python ds\\cvprojects\\pothole detection\\potholesdata\\images\\img-131.jpg: 320x320 1 pothole, 86.5ms\n",
      "image 282/1243 c:\\Users\\admin\\Desktop\\python ds\\cvprojects\\pothole detection\\potholesdata\\images\\img-132.jpg: 320x320 2 potholes, 81.6ms\n",
      "image 283/1243 c:\\Users\\admin\\Desktop\\python ds\\cvprojects\\pothole detection\\potholesdata\\images\\img-133.jpg: 320x320 1 pothole, 90.3ms\n",
      "image 284/1243 c:\\Users\\admin\\Desktop\\python ds\\cvprojects\\pothole detection\\potholesdata\\images\\img-134.jpg: 320x320 2 potholes, 70.9ms\n",
      "image 285/1243 c:\\Users\\admin\\Desktop\\python ds\\cvprojects\\pothole detection\\potholesdata\\images\\img-135.jpg: 320x320 4 potholes, 83.2ms\n",
      "image 286/1243 c:\\Users\\admin\\Desktop\\python ds\\cvprojects\\pothole detection\\potholesdata\\images\\img-136.jpg: 320x320 1 pothole, 100.0ms\n",
      "image 287/1243 c:\\Users\\admin\\Desktop\\python ds\\cvprojects\\pothole detection\\potholesdata\\images\\img-137.jpg: 320x320 2 potholes, 139.8ms\n",
      "image 288/1243 c:\\Users\\admin\\Desktop\\python ds\\cvprojects\\pothole detection\\potholesdata\\images\\img-138.jpg: 320x320 1 pothole, 211.3ms\n",
      "image 289/1243 c:\\Users\\admin\\Desktop\\python ds\\cvprojects\\pothole detection\\potholesdata\\images\\img-139.jpg: 320x320 1 pothole, 103.9ms\n",
      "image 290/1243 c:\\Users\\admin\\Desktop\\python ds\\cvprojects\\pothole detection\\potholesdata\\images\\img-14.jpg: 320x320 4 potholes, 79.0ms\n",
      "image 291/1243 c:\\Users\\admin\\Desktop\\python ds\\cvprojects\\pothole detection\\potholesdata\\images\\img-140.jpg: 320x320 3 potholes, 116.7ms\n",
      "image 292/1243 c:\\Users\\admin\\Desktop\\python ds\\cvprojects\\pothole detection\\potholesdata\\images\\img-141.jpg: 320x320 6 potholes, 100.9ms\n",
      "image 293/1243 c:\\Users\\admin\\Desktop\\python ds\\cvprojects\\pothole detection\\potholesdata\\images\\img-142.jpg: 320x320 1 pothole, 153.3ms\n",
      "image 294/1243 c:\\Users\\admin\\Desktop\\python ds\\cvprojects\\pothole detection\\potholesdata\\images\\img-143.jpg: 320x320 1 pothole, 98.0ms\n",
      "image 295/1243 c:\\Users\\admin\\Desktop\\python ds\\cvprojects\\pothole detection\\potholesdata\\images\\img-144.jpg: 320x320 2 potholes, 99.8ms\n",
      "image 296/1243 c:\\Users\\admin\\Desktop\\python ds\\cvprojects\\pothole detection\\potholesdata\\images\\img-145.jpg: 320x320 3 potholes, 80.8ms\n",
      "image 297/1243 c:\\Users\\admin\\Desktop\\python ds\\cvprojects\\pothole detection\\potholesdata\\images\\img-146.jpg: 320x320 1 pothole, 83.0ms\n",
      "image 298/1243 c:\\Users\\admin\\Desktop\\python ds\\cvprojects\\pothole detection\\potholesdata\\images\\img-147.jpg: 320x320 1 pothole, 100.0ms\n",
      "image 299/1243 c:\\Users\\admin\\Desktop\\python ds\\cvprojects\\pothole detection\\potholesdata\\images\\img-148.jpg: 320x320 2 potholes, 83.3ms\n",
      "image 300/1243 c:\\Users\\admin\\Desktop\\python ds\\cvprojects\\pothole detection\\potholesdata\\images\\img-149.jpg: 320x320 1 pothole, 82.7ms\n",
      "image 301/1243 c:\\Users\\admin\\Desktop\\python ds\\cvprojects\\pothole detection\\potholesdata\\images\\img-15.jpg: 320x320 1 pothole, 107.0ms\n",
      "image 302/1243 c:\\Users\\admin\\Desktop\\python ds\\cvprojects\\pothole detection\\potholesdata\\images\\img-150.jpg: 320x320 1 pothole, 100.1ms\n",
      "image 303/1243 c:\\Users\\admin\\Desktop\\python ds\\cvprojects\\pothole detection\\potholesdata\\images\\img-151.jpg: 320x320 6 potholes, 83.2ms\n",
      "image 304/1243 c:\\Users\\admin\\Desktop\\python ds\\cvprojects\\pothole detection\\potholesdata\\images\\img-152.jpg: 320x320 4 potholes, 132.6ms\n",
      "image 305/1243 c:\\Users\\admin\\Desktop\\python ds\\cvprojects\\pothole detection\\potholesdata\\images\\img-153.jpg: 320x320 2 potholes, 87.4ms\n",
      "image 306/1243 c:\\Users\\admin\\Desktop\\python ds\\cvprojects\\pothole detection\\potholesdata\\images\\img-154.jpg: 320x320 2 potholes, 100.5ms\n",
      "image 307/1243 c:\\Users\\admin\\Desktop\\python ds\\cvprojects\\pothole detection\\potholesdata\\images\\img-155.jpg: 320x320 3 potholes, 85.0ms\n",
      "image 308/1243 c:\\Users\\admin\\Desktop\\python ds\\cvprojects\\pothole detection\\potholesdata\\images\\img-156.jpg: 320x320 3 potholes, 106.3ms\n",
      "image 309/1243 c:\\Users\\admin\\Desktop\\python ds\\cvprojects\\pothole detection\\potholesdata\\images\\img-157.jpg: 320x320 2 potholes, 81.8ms\n",
      "image 310/1243 c:\\Users\\admin\\Desktop\\python ds\\cvprojects\\pothole detection\\potholesdata\\images\\img-158.jpg: 320x320 2 potholes, 86.0ms\n",
      "image 311/1243 c:\\Users\\admin\\Desktop\\python ds\\cvprojects\\pothole detection\\potholesdata\\images\\img-159.jpg: 320x320 4 potholes, 96.6ms\n",
      "image 312/1243 c:\\Users\\admin\\Desktop\\python ds\\cvprojects\\pothole detection\\potholesdata\\images\\img-16.jpg: 320x320 1 pothole, 83.4ms\n",
      "image 313/1243 c:\\Users\\admin\\Desktop\\python ds\\cvprojects\\pothole detection\\potholesdata\\images\\img-160.jpg: 320x320 5 potholes, 83.2ms\n",
      "image 314/1243 c:\\Users\\admin\\Desktop\\python ds\\cvprojects\\pothole detection\\potholesdata\\images\\img-161.jpg: 320x320 2 potholes, 99.6ms\n",
      "image 315/1243 c:\\Users\\admin\\Desktop\\python ds\\cvprojects\\pothole detection\\potholesdata\\images\\img-162.jpg: 320x320 1 pothole, 82.4ms\n",
      "image 316/1243 c:\\Users\\admin\\Desktop\\python ds\\cvprojects\\pothole detection\\potholesdata\\images\\img-163.jpg: 320x320 2 potholes, 82.9ms\n",
      "image 317/1243 c:\\Users\\admin\\Desktop\\python ds\\cvprojects\\pothole detection\\potholesdata\\images\\img-164.jpg: 320x320 1 pothole, 83.6ms\n",
      "image 318/1243 c:\\Users\\admin\\Desktop\\python ds\\cvprojects\\pothole detection\\potholesdata\\images\\img-165.jpg: 320x320 1 pothole, 80.6ms\n",
      "image 319/1243 c:\\Users\\admin\\Desktop\\python ds\\cvprojects\\pothole detection\\potholesdata\\images\\img-166.jpg: 320x320 2 potholes, 88.0ms\n",
      "image 320/1243 c:\\Users\\admin\\Desktop\\python ds\\cvprojects\\pothole detection\\potholesdata\\images\\img-167.jpg: 320x320 2 potholes, 100.1ms\n",
      "image 321/1243 c:\\Users\\admin\\Desktop\\python ds\\cvprojects\\pothole detection\\potholesdata\\images\\img-168.jpg: 320x320 2 potholes, 100.4ms\n",
      "image 322/1243 c:\\Users\\admin\\Desktop\\python ds\\cvprojects\\pothole detection\\potholesdata\\images\\img-169.jpg: 320x320 1 pothole, 100.2ms\n",
      "image 323/1243 c:\\Users\\admin\\Desktop\\python ds\\cvprojects\\pothole detection\\potholesdata\\images\\img-17.jpg: 320x320 2 potholes, 89.7ms\n",
      "image 324/1243 c:\\Users\\admin\\Desktop\\python ds\\cvprojects\\pothole detection\\potholesdata\\images\\img-170.jpg: 320x320 3 potholes, 84.3ms\n",
      "image 325/1243 c:\\Users\\admin\\Desktop\\python ds\\cvprojects\\pothole detection\\potholesdata\\images\\img-171.jpg: 320x320 1 pothole, 83.3ms\n",
      "image 326/1243 c:\\Users\\admin\\Desktop\\python ds\\cvprojects\\pothole detection\\potholesdata\\images\\img-172.jpg: 320x320 4 potholes, 100.7ms\n",
      "image 327/1243 c:\\Users\\admin\\Desktop\\python ds\\cvprojects\\pothole detection\\potholesdata\\images\\img-173.jpg: 320x320 3 potholes, 77.1ms\n",
      "image 328/1243 c:\\Users\\admin\\Desktop\\python ds\\cvprojects\\pothole detection\\potholesdata\\images\\img-174.jpg: 320x320 1 pothole, 101.0ms\n",
      "image 329/1243 c:\\Users\\admin\\Desktop\\python ds\\cvprojects\\pothole detection\\potholesdata\\images\\img-175.jpg: 320x320 3 potholes, 94.0ms\n",
      "image 330/1243 c:\\Users\\admin\\Desktop\\python ds\\cvprojects\\pothole detection\\potholesdata\\images\\img-176.jpg: 320x320 2 potholes, 98.8ms\n",
      "image 331/1243 c:\\Users\\admin\\Desktop\\python ds\\cvprojects\\pothole detection\\potholesdata\\images\\img-177.jpg: 320x320 1 pothole, 106.3ms\n",
      "image 332/1243 c:\\Users\\admin\\Desktop\\python ds\\cvprojects\\pothole detection\\potholesdata\\images\\img-178.jpg: 320x320 4 potholes, 131.7ms\n",
      "image 333/1243 c:\\Users\\admin\\Desktop\\python ds\\cvprojects\\pothole detection\\potholesdata\\images\\img-179.jpg: 320x320 4 potholes, 100.1ms\n",
      "image 334/1243 c:\\Users\\admin\\Desktop\\python ds\\cvprojects\\pothole detection\\potholesdata\\images\\img-18.jpg: 320x320 7 potholes, 94.0ms\n",
      "image 335/1243 c:\\Users\\admin\\Desktop\\python ds\\cvprojects\\pothole detection\\potholesdata\\images\\img-180.jpg: 320x320 1 pothole, 149.4ms\n",
      "image 336/1243 c:\\Users\\admin\\Desktop\\python ds\\cvprojects\\pothole detection\\potholesdata\\images\\img-181.jpg: 320x320 1 pothole, 77.2ms\n",
      "image 337/1243 c:\\Users\\admin\\Desktop\\python ds\\cvprojects\\pothole detection\\potholesdata\\images\\img-182.jpg: 320x320 2 potholes, 82.8ms\n",
      "image 338/1243 c:\\Users\\admin\\Desktop\\python ds\\cvprojects\\pothole detection\\potholesdata\\images\\img-183.jpg: 320x320 1 pothole, 92.4ms\n",
      "image 339/1243 c:\\Users\\admin\\Desktop\\python ds\\cvprojects\\pothole detection\\potholesdata\\images\\img-184.jpg: 320x320 2 potholes, 93.9ms\n",
      "image 340/1243 c:\\Users\\admin\\Desktop\\python ds\\cvprojects\\pothole detection\\potholesdata\\images\\img-185.jpg: 320x320 1 pothole, 218.5ms\n",
      "image 341/1243 c:\\Users\\admin\\Desktop\\python ds\\cvprojects\\pothole detection\\potholesdata\\images\\img-186.jpg: 320x320 2 potholes, 82.8ms\n",
      "image 342/1243 c:\\Users\\admin\\Desktop\\python ds\\cvprojects\\pothole detection\\potholesdata\\images\\img-187.jpg: 320x320 1 pothole, 106.6ms\n",
      "image 343/1243 c:\\Users\\admin\\Desktop\\python ds\\cvprojects\\pothole detection\\potholesdata\\images\\img-188.jpg: 320x320 4 potholes, 97.9ms\n",
      "image 344/1243 c:\\Users\\admin\\Desktop\\python ds\\cvprojects\\pothole detection\\potholesdata\\images\\img-189.jpg: 320x320 1 pothole, 86.6ms\n",
      "image 345/1243 c:\\Users\\admin\\Desktop\\python ds\\cvprojects\\pothole detection\\potholesdata\\images\\img-19.jpg: 320x320 2 potholes, 76.7ms\n",
      "image 346/1243 c:\\Users\\admin\\Desktop\\python ds\\cvprojects\\pothole detection\\potholesdata\\images\\img-190.jpg: 320x320 3 potholes, 95.8ms\n",
      "image 347/1243 c:\\Users\\admin\\Desktop\\python ds\\cvprojects\\pothole detection\\potholesdata\\images\\img-191.jpg: 320x320 3 potholes, 88.7ms\n",
      "image 348/1243 c:\\Users\\admin\\Desktop\\python ds\\cvprojects\\pothole detection\\potholesdata\\images\\img-192.jpg: 320x320 1 pothole, 86.3ms\n",
      "image 349/1243 c:\\Users\\admin\\Desktop\\python ds\\cvprojects\\pothole detection\\potholesdata\\images\\img-193.jpg: 320x320 3 potholes, 97.2ms\n",
      "image 350/1243 c:\\Users\\admin\\Desktop\\python ds\\cvprojects\\pothole detection\\potholesdata\\images\\img-194.jpg: 320x320 1 pothole, 85.9ms\n",
      "image 351/1243 c:\\Users\\admin\\Desktop\\python ds\\cvprojects\\pothole detection\\potholesdata\\images\\img-195.jpg: 320x320 3 potholes, 78.1ms\n",
      "image 352/1243 c:\\Users\\admin\\Desktop\\python ds\\cvprojects\\pothole detection\\potholesdata\\images\\img-196.jpg: 320x320 3 potholes, 93.7ms\n",
      "image 353/1243 c:\\Users\\admin\\Desktop\\python ds\\cvprojects\\pothole detection\\potholesdata\\images\\img-197.jpg: 320x320 5 potholes, 90.1ms\n",
      "image 354/1243 c:\\Users\\admin\\Desktop\\python ds\\cvprojects\\pothole detection\\potholesdata\\images\\img-198.jpg: 320x320 6 potholes, 290.7ms\n",
      "image 355/1243 c:\\Users\\admin\\Desktop\\python ds\\cvprojects\\pothole detection\\potholesdata\\images\\img-199.jpg: 320x320 1 pothole, 143.6ms\n",
      "image 356/1243 c:\\Users\\admin\\Desktop\\python ds\\cvprojects\\pothole detection\\potholesdata\\images\\img-2.jpg: 320x320 3 potholes, 85.6ms\n",
      "image 357/1243 c:\\Users\\admin\\Desktop\\python ds\\cvprojects\\pothole detection\\potholesdata\\images\\img-20.jpg: 320x320 2 potholes, 82.4ms\n",
      "image 358/1243 c:\\Users\\admin\\Desktop\\python ds\\cvprojects\\pothole detection\\potholesdata\\images\\img-200.jpg: 320x320 5 potholes, 80.6ms\n",
      "image 359/1243 c:\\Users\\admin\\Desktop\\python ds\\cvprojects\\pothole detection\\potholesdata\\images\\img-201.jpg: 320x320 1 pothole, 85.4ms\n",
      "image 360/1243 c:\\Users\\admin\\Desktop\\python ds\\cvprojects\\pothole detection\\potholesdata\\images\\img-202.jpg: 320x320 7 potholes, 83.8ms\n",
      "image 361/1243 c:\\Users\\admin\\Desktop\\python ds\\cvprojects\\pothole detection\\potholesdata\\images\\img-203.jpg: 320x320 4 potholes, 83.3ms\n",
      "image 362/1243 c:\\Users\\admin\\Desktop\\python ds\\cvprojects\\pothole detection\\potholesdata\\images\\img-204.jpg: 320x320 2 potholes, 66.8ms\n",
      "image 363/1243 c:\\Users\\admin\\Desktop\\python ds\\cvprojects\\pothole detection\\potholesdata\\images\\img-205.jpg: 320x320 2 potholes, 84.4ms\n",
      "image 364/1243 c:\\Users\\admin\\Desktop\\python ds\\cvprojects\\pothole detection\\potholesdata\\images\\img-206.jpg: 320x320 1 pothole, 83.2ms\n",
      "image 365/1243 c:\\Users\\admin\\Desktop\\python ds\\cvprojects\\pothole detection\\potholesdata\\images\\img-207.jpg: 320x320 2 potholes, 83.3ms\n",
      "image 366/1243 c:\\Users\\admin\\Desktop\\python ds\\cvprojects\\pothole detection\\potholesdata\\images\\img-208.jpg: 320x320 3 potholes, 84.2ms\n",
      "image 367/1243 c:\\Users\\admin\\Desktop\\python ds\\cvprojects\\pothole detection\\potholesdata\\images\\img-209.jpg: 320x320 1 pothole, 83.8ms\n",
      "image 368/1243 c:\\Users\\admin\\Desktop\\python ds\\cvprojects\\pothole detection\\potholesdata\\images\\img-21.jpg: 320x320 2 potholes, 81.2ms\n",
      "image 369/1243 c:\\Users\\admin\\Desktop\\python ds\\cvprojects\\pothole detection\\potholesdata\\images\\img-210.jpg: 320x320 1 pothole, 115.7ms\n",
      "image 370/1243 c:\\Users\\admin\\Desktop\\python ds\\cvprojects\\pothole detection\\potholesdata\\images\\img-211.jpg: 320x320 1 pothole, 83.4ms\n",
      "image 371/1243 c:\\Users\\admin\\Desktop\\python ds\\cvprojects\\pothole detection\\potholesdata\\images\\img-212.jpg: 320x320 1 pothole, 94.3ms\n",
      "image 372/1243 c:\\Users\\admin\\Desktop\\python ds\\cvprojects\\pothole detection\\potholesdata\\images\\img-213.jpg: 320x320 1 pothole, 96.0ms\n",
      "image 373/1243 c:\\Users\\admin\\Desktop\\python ds\\cvprojects\\pothole detection\\potholesdata\\images\\img-214.jpg: 320x320 1 pothole, 85.0ms\n",
      "image 374/1243 c:\\Users\\admin\\Desktop\\python ds\\cvprojects\\pothole detection\\potholesdata\\images\\img-215.jpg: 320x320 1 pothole, 88.2ms\n",
      "image 375/1243 c:\\Users\\admin\\Desktop\\python ds\\cvprojects\\pothole detection\\potholesdata\\images\\img-216.jpg: 320x320 4 potholes, 100.0ms\n",
      "image 376/1243 c:\\Users\\admin\\Desktop\\python ds\\cvprojects\\pothole detection\\potholesdata\\images\\img-217.jpg: 320x320 4 potholes, 83.0ms\n",
      "image 377/1243 c:\\Users\\admin\\Desktop\\python ds\\cvprojects\\pothole detection\\potholesdata\\images\\img-218.jpg: 320x320 2 potholes, 99.1ms\n",
      "image 378/1243 c:\\Users\\admin\\Desktop\\python ds\\cvprojects\\pothole detection\\potholesdata\\images\\img-219.jpg: 320x320 1 pothole, 83.7ms\n",
      "image 379/1243 c:\\Users\\admin\\Desktop\\python ds\\cvprojects\\pothole detection\\potholesdata\\images\\img-22.jpg: 320x320 1 pothole, 83.4ms\n",
      "image 380/1243 c:\\Users\\admin\\Desktop\\python ds\\cvprojects\\pothole detection\\potholesdata\\images\\img-220.jpg: 320x320 2 potholes, 99.1ms\n",
      "image 381/1243 c:\\Users\\admin\\Desktop\\python ds\\cvprojects\\pothole detection\\potholesdata\\images\\img-221.jpg: 320x320 3 potholes, 100.8ms\n",
      "image 382/1243 c:\\Users\\admin\\Desktop\\python ds\\cvprojects\\pothole detection\\potholesdata\\images\\img-222.jpg: 320x320 1 pothole, 83.7ms\n",
      "image 383/1243 c:\\Users\\admin\\Desktop\\python ds\\cvprojects\\pothole detection\\potholesdata\\images\\img-223.jpg: 320x320 4 potholes, 95.3ms\n",
      "image 384/1243 c:\\Users\\admin\\Desktop\\python ds\\cvprojects\\pothole detection\\potholesdata\\images\\img-224.jpg: 320x320 1 pothole, 100.3ms\n",
      "image 385/1243 c:\\Users\\admin\\Desktop\\python ds\\cvprojects\\pothole detection\\potholesdata\\images\\img-225.jpg: 320x320 3 potholes, 86.5ms\n",
      "image 386/1243 c:\\Users\\admin\\Desktop\\python ds\\cvprojects\\pothole detection\\potholesdata\\images\\img-226.jpg: 320x320 1 pothole, 83.3ms\n",
      "image 387/1243 c:\\Users\\admin\\Desktop\\python ds\\cvprojects\\pothole detection\\potholesdata\\images\\img-227.jpg: 320x320 2 potholes, 99.8ms\n",
      "image 388/1243 c:\\Users\\admin\\Desktop\\python ds\\cvprojects\\pothole detection\\potholesdata\\images\\img-228.jpg: 320x320 1 pothole, 83.6ms\n",
      "image 389/1243 c:\\Users\\admin\\Desktop\\python ds\\cvprojects\\pothole detection\\potholesdata\\images\\img-229.jpg: 320x320 2 potholes, 83.6ms\n",
      "image 390/1243 c:\\Users\\admin\\Desktop\\python ds\\cvprojects\\pothole detection\\potholesdata\\images\\img-23.jpg: 320x320 5 potholes, 89.5ms\n",
      "image 391/1243 c:\\Users\\admin\\Desktop\\python ds\\cvprojects\\pothole detection\\potholesdata\\images\\img-230.jpg: 320x320 3 potholes, 83.9ms\n",
      "image 392/1243 c:\\Users\\admin\\Desktop\\python ds\\cvprojects\\pothole detection\\potholesdata\\images\\img-231.jpg: 320x320 2 potholes, 83.0ms\n",
      "image 393/1243 c:\\Users\\admin\\Desktop\\python ds\\cvprojects\\pothole detection\\potholesdata\\images\\img-232.jpg: 320x320 2 potholes, 83.4ms\n",
      "image 394/1243 c:\\Users\\admin\\Desktop\\python ds\\cvprojects\\pothole detection\\potholesdata\\images\\img-233.jpg: 320x320 4 potholes, 83.5ms\n",
      "image 395/1243 c:\\Users\\admin\\Desktop\\python ds\\cvprojects\\pothole detection\\potholesdata\\images\\img-234.jpg: 320x320 1 pothole, 100.2ms\n",
      "image 396/1243 c:\\Users\\admin\\Desktop\\python ds\\cvprojects\\pothole detection\\potholesdata\\images\\img-235.jpg: 320x320 3 potholes, 86.8ms\n",
      "image 397/1243 c:\\Users\\admin\\Desktop\\python ds\\cvprojects\\pothole detection\\potholesdata\\images\\img-236.jpg: 320x320 3 potholes, 99.3ms\n",
      "image 398/1243 c:\\Users\\admin\\Desktop\\python ds\\cvprojects\\pothole detection\\potholesdata\\images\\img-237.jpg: 320x320 6 potholes, 85.5ms\n",
      "image 399/1243 c:\\Users\\admin\\Desktop\\python ds\\cvprojects\\pothole detection\\potholesdata\\images\\img-238.jpg: 320x320 1 pothole, 133.3ms\n",
      "image 400/1243 c:\\Users\\admin\\Desktop\\python ds\\cvprojects\\pothole detection\\potholesdata\\images\\img-239.jpg: 320x320 1 pothole, 83.3ms\n",
      "image 401/1243 c:\\Users\\admin\\Desktop\\python ds\\cvprojects\\pothole detection\\potholesdata\\images\\img-24.jpg: 320x320 2 potholes, 86.4ms\n",
      "image 402/1243 c:\\Users\\admin\\Desktop\\python ds\\cvprojects\\pothole detection\\potholesdata\\images\\img-240.jpg: 320x320 1 pothole, 84.8ms\n",
      "image 403/1243 c:\\Users\\admin\\Desktop\\python ds\\cvprojects\\pothole detection\\potholesdata\\images\\img-241.jpg: 320x320 6 potholes, 100.1ms\n",
      "image 404/1243 c:\\Users\\admin\\Desktop\\python ds\\cvprojects\\pothole detection\\potholesdata\\images\\img-242.jpg: 320x320 1 pothole, 148.8ms\n",
      "image 405/1243 c:\\Users\\admin\\Desktop\\python ds\\cvprojects\\pothole detection\\potholesdata\\images\\img-243.jpg: 320x320 2 potholes, 79.9ms\n",
      "image 406/1243 c:\\Users\\admin\\Desktop\\python ds\\cvprojects\\pothole detection\\potholesdata\\images\\img-244.jpg: 320x320 1 pothole, 83.2ms\n",
      "image 407/1243 c:\\Users\\admin\\Desktop\\python ds\\cvprojects\\pothole detection\\potholesdata\\images\\img-245.jpg: 320x320 2 potholes, 83.3ms\n",
      "image 408/1243 c:\\Users\\admin\\Desktop\\python ds\\cvprojects\\pothole detection\\potholesdata\\images\\img-246.jpg: 320x320 2 potholes, 88.5ms\n",
      "image 409/1243 c:\\Users\\admin\\Desktop\\python ds\\cvprojects\\pothole detection\\potholesdata\\images\\img-247.jpg: 320x320 1 pothole, 99.9ms\n",
      "image 410/1243 c:\\Users\\admin\\Desktop\\python ds\\cvprojects\\pothole detection\\potholesdata\\images\\img-248.jpg: 320x320 3 potholes, 79.3ms\n",
      "image 411/1243 c:\\Users\\admin\\Desktop\\python ds\\cvprojects\\pothole detection\\potholesdata\\images\\img-249.jpg: 320x320 1 pothole, 83.4ms\n",
      "image 412/1243 c:\\Users\\admin\\Desktop\\python ds\\cvprojects\\pothole detection\\potholesdata\\images\\img-25.jpg: 320x320 2 potholes, 89.8ms\n",
      "image 413/1243 c:\\Users\\admin\\Desktop\\python ds\\cvprojects\\pothole detection\\potholesdata\\images\\img-250.jpg: 320x320 1 pothole, 87.3ms\n",
      "image 414/1243 c:\\Users\\admin\\Desktop\\python ds\\cvprojects\\pothole detection\\potholesdata\\images\\img-251.jpg: 320x320 1 pothole, 84.1ms\n",
      "image 415/1243 c:\\Users\\admin\\Desktop\\python ds\\cvprojects\\pothole detection\\potholesdata\\images\\img-252.jpg: 320x320 3 potholes, 83.4ms\n",
      "image 416/1243 c:\\Users\\admin\\Desktop\\python ds\\cvprojects\\pothole detection\\potholesdata\\images\\img-253.jpg: 320x320 3 potholes, 79.4ms\n",
      "image 417/1243 c:\\Users\\admin\\Desktop\\python ds\\cvprojects\\pothole detection\\potholesdata\\images\\img-254.jpg: 320x320 1 pothole, 83.3ms\n",
      "image 418/1243 c:\\Users\\admin\\Desktop\\python ds\\cvprojects\\pothole detection\\potholesdata\\images\\img-255.jpg: 320x320 1 pothole, 83.5ms\n",
      "image 419/1243 c:\\Users\\admin\\Desktop\\python ds\\cvprojects\\pothole detection\\potholesdata\\images\\img-256.jpg: 320x320 2 potholes, 83.1ms\n",
      "image 420/1243 c:\\Users\\admin\\Desktop\\python ds\\cvprojects\\pothole detection\\potholesdata\\images\\img-257.jpg: 320x320 3 potholes, 83.2ms\n",
      "image 421/1243 c:\\Users\\admin\\Desktop\\python ds\\cvprojects\\pothole detection\\potholesdata\\images\\img-258.jpg: 320x320 2 potholes, 83.2ms\n",
      "image 422/1243 c:\\Users\\admin\\Desktop\\python ds\\cvprojects\\pothole detection\\potholesdata\\images\\img-259.jpg: 320x320 3 potholes, 83.3ms\n",
      "image 423/1243 c:\\Users\\admin\\Desktop\\python ds\\cvprojects\\pothole detection\\potholesdata\\images\\img-26.jpg: 320x320 2 potholes, 102.4ms\n",
      "image 424/1243 c:\\Users\\admin\\Desktop\\python ds\\cvprojects\\pothole detection\\potholesdata\\images\\img-260.jpg: 320x320 1 pothole, 91.7ms\n",
      "image 425/1243 c:\\Users\\admin\\Desktop\\python ds\\cvprojects\\pothole detection\\potholesdata\\images\\img-261.jpg: 320x320 1 pothole, 82.6ms\n",
      "image 426/1243 c:\\Users\\admin\\Desktop\\python ds\\cvprojects\\pothole detection\\potholesdata\\images\\img-262.jpg: 320x320 1 pothole, 79.5ms\n",
      "image 427/1243 c:\\Users\\admin\\Desktop\\python ds\\cvprojects\\pothole detection\\potholesdata\\images\\img-263.jpg: 320x320 1 pothole, 99.9ms\n",
      "image 428/1243 c:\\Users\\admin\\Desktop\\python ds\\cvprojects\\pothole detection\\potholesdata\\images\\img-264.jpg: 320x320 1 pothole, 82.8ms\n",
      "image 429/1243 c:\\Users\\admin\\Desktop\\python ds\\cvprojects\\pothole detection\\potholesdata\\images\\img-265.jpg: 320x320 3 potholes, 105.3ms\n",
      "image 430/1243 c:\\Users\\admin\\Desktop\\python ds\\cvprojects\\pothole detection\\potholesdata\\images\\img-266.jpg: 320x320 2 potholes, 80.4ms\n",
      "image 431/1243 c:\\Users\\admin\\Desktop\\python ds\\cvprojects\\pothole detection\\potholesdata\\images\\img-267.jpg: 320x320 4 potholes, 93.7ms\n",
      "image 432/1243 c:\\Users\\admin\\Desktop\\python ds\\cvprojects\\pothole detection\\potholesdata\\images\\img-268.jpg: 320x320 1 pothole, 96.9ms\n",
      "image 433/1243 c:\\Users\\admin\\Desktop\\python ds\\cvprojects\\pothole detection\\potholesdata\\images\\img-269.jpg: 320x320 2 potholes, 100.0ms\n",
      "image 434/1243 c:\\Users\\admin\\Desktop\\python ds\\cvprojects\\pothole detection\\potholesdata\\images\\img-27.jpg: 320x320 1 pothole, 62.5ms\n",
      "image 435/1243 c:\\Users\\admin\\Desktop\\python ds\\cvprojects\\pothole detection\\potholesdata\\images\\img-270.jpg: 320x320 3 potholes, 78.1ms\n",
      "image 436/1243 c:\\Users\\admin\\Desktop\\python ds\\cvprojects\\pothole detection\\potholesdata\\images\\img-271.jpg: 320x320 1 pothole, 78.1ms\n",
      "image 437/1243 c:\\Users\\admin\\Desktop\\python ds\\cvprojects\\pothole detection\\potholesdata\\images\\img-272.jpg: 320x320 3 potholes, 62.5ms\n",
      "image 438/1243 c:\\Users\\admin\\Desktop\\python ds\\cvprojects\\pothole detection\\potholesdata\\images\\img-273.jpg: 320x320 2 potholes, 109.4ms\n",
      "image 439/1243 c:\\Users\\admin\\Desktop\\python ds\\cvprojects\\pothole detection\\potholesdata\\images\\img-274.jpg: 320x320 3 potholes, 62.5ms\n",
      "image 440/1243 c:\\Users\\admin\\Desktop\\python ds\\cvprojects\\pothole detection\\potholesdata\\images\\img-275.jpg: 320x320 1 pothole, 78.1ms\n",
      "image 441/1243 c:\\Users\\admin\\Desktop\\python ds\\cvprojects\\pothole detection\\potholesdata\\images\\img-276.jpg: 320x320 1 pothole, 78.1ms\n",
      "image 442/1243 c:\\Users\\admin\\Desktop\\python ds\\cvprojects\\pothole detection\\potholesdata\\images\\img-277.jpg: 320x320 2 potholes, 216.8ms\n",
      "image 443/1243 c:\\Users\\admin\\Desktop\\python ds\\cvprojects\\pothole detection\\potholesdata\\images\\img-278.jpg: 320x320 2 potholes, 83.4ms\n",
      "image 444/1243 c:\\Users\\admin\\Desktop\\python ds\\cvprojects\\pothole detection\\potholesdata\\images\\img-279.jpg: 320x320 1 pothole, 83.5ms\n",
      "image 445/1243 c:\\Users\\admin\\Desktop\\python ds\\cvprojects\\pothole detection\\potholesdata\\images\\img-28.jpg: 320x320 6 potholes, 83.4ms\n",
      "image 446/1243 c:\\Users\\admin\\Desktop\\python ds\\cvprojects\\pothole detection\\potholesdata\\images\\img-280.jpg: 320x320 1 pothole, 97.0ms\n",
      "image 447/1243 c:\\Users\\admin\\Desktop\\python ds\\cvprojects\\pothole detection\\potholesdata\\images\\img-281.jpg: 320x320 1 pothole, 87.3ms\n",
      "image 448/1243 c:\\Users\\admin\\Desktop\\python ds\\cvprojects\\pothole detection\\potholesdata\\images\\img-282.jpg: 320x320 2 potholes, 77.6ms\n",
      "image 449/1243 c:\\Users\\admin\\Desktop\\python ds\\cvprojects\\pothole detection\\potholesdata\\images\\img-283.jpg: 320x320 2 potholes, 83.6ms\n",
      "image 450/1243 c:\\Users\\admin\\Desktop\\python ds\\cvprojects\\pothole detection\\potholesdata\\images\\img-284.jpg: 320x320 1 pothole, 83.2ms\n",
      "image 451/1243 c:\\Users\\admin\\Desktop\\python ds\\cvprojects\\pothole detection\\potholesdata\\images\\img-285.jpg: 320x320 3 potholes, 83.3ms\n",
      "image 452/1243 c:\\Users\\admin\\Desktop\\python ds\\cvprojects\\pothole detection\\potholesdata\\images\\img-286.jpg: 256x320 3 potholes, 67.5ms\n",
      "image 453/1243 c:\\Users\\admin\\Desktop\\python ds\\cvprojects\\pothole detection\\potholesdata\\images\\img-287.jpg: 256x320 1 pothole, 71.2ms\n",
      "image 454/1243 c:\\Users\\admin\\Desktop\\python ds\\cvprojects\\pothole detection\\potholesdata\\images\\img-288.jpg: 192x320 3 potholes, 54.1ms\n",
      "image 455/1243 c:\\Users\\admin\\Desktop\\python ds\\cvprojects\\pothole detection\\potholesdata\\images\\img-289.jpg: 320x224 1 pothole, 80.6ms\n",
      "image 456/1243 c:\\Users\\admin\\Desktop\\python ds\\cvprojects\\pothole detection\\potholesdata\\images\\img-29.jpg: 320x320 2 potholes, 82.8ms\n",
      "image 457/1243 c:\\Users\\admin\\Desktop\\python ds\\cvprojects\\pothole detection\\potholesdata\\images\\img-290.jpg: 192x320 1 pothole, 66.8ms\n",
      "image 458/1243 c:\\Users\\admin\\Desktop\\python ds\\cvprojects\\pothole detection\\potholesdata\\images\\img-291.jpg: 192x320 1 pothole, 68.1ms\n",
      "image 459/1243 c:\\Users\\admin\\Desktop\\python ds\\cvprojects\\pothole detection\\potholesdata\\images\\img-292.jpg: 320x224 3 potholes, 79.4ms\n",
      "image 460/1243 c:\\Users\\admin\\Desktop\\python ds\\cvprojects\\pothole detection\\potholesdata\\images\\img-293.jpg: 256x320 4 potholes, 70.4ms\n",
      "image 461/1243 c:\\Users\\admin\\Desktop\\python ds\\cvprojects\\pothole detection\\potholesdata\\images\\img-294.jpg: 192x320 1 pothole, 48.1ms\n",
      "image 462/1243 c:\\Users\\admin\\Desktop\\python ds\\cvprojects\\pothole detection\\potholesdata\\images\\img-295.jpg: 192x320 1 pothole, 53.7ms\n",
      "image 463/1243 c:\\Users\\admin\\Desktop\\python ds\\cvprojects\\pothole detection\\potholesdata\\images\\img-296.jpg: 192x320 1 pothole, 78.6ms\n",
      "image 464/1243 c:\\Users\\admin\\Desktop\\python ds\\cvprojects\\pothole detection\\potholesdata\\images\\img-297.jpg: 192x320 4 potholes, 66.0ms\n",
      "image 465/1243 c:\\Users\\admin\\Desktop\\python ds\\cvprojects\\pothole detection\\potholesdata\\images\\img-298.jpg: 224x320 3 potholes, 66.7ms\n",
      "image 466/1243 c:\\Users\\admin\\Desktop\\python ds\\cvprojects\\pothole detection\\potholesdata\\images\\img-299.jpg: 224x320 3 potholes, 66.6ms\n",
      "image 467/1243 c:\\Users\\admin\\Desktop\\python ds\\cvprojects\\pothole detection\\potholesdata\\images\\img-3.jpg: 320x320 2 potholes, 87.4ms\n",
      "image 468/1243 c:\\Users\\admin\\Desktop\\python ds\\cvprojects\\pothole detection\\potholesdata\\images\\img-30.jpg: 320x320 3 potholes, 100.6ms\n",
      "image 469/1243 c:\\Users\\admin\\Desktop\\python ds\\cvprojects\\pothole detection\\potholesdata\\images\\img-300.jpg: 320x320 6 potholes, 79.7ms\n",
      "image 470/1243 c:\\Users\\admin\\Desktop\\python ds\\cvprojects\\pothole detection\\potholesdata\\images\\img-301.jpg: 192x320 2 potholes, 100.2ms\n",
      "image 471/1243 c:\\Users\\admin\\Desktop\\python ds\\cvprojects\\pothole detection\\potholesdata\\images\\img-302.jpg: 256x320 2 potholes, 83.5ms\n",
      "image 472/1243 c:\\Users\\admin\\Desktop\\python ds\\cvprojects\\pothole detection\\potholesdata\\images\\img-303.jpg: 224x320 2 potholes, 66.7ms\n",
      "image 473/1243 c:\\Users\\admin\\Desktop\\python ds\\cvprojects\\pothole detection\\potholesdata\\images\\img-304.jpg: 192x320 2 potholes, 62.6ms\n",
      "image 474/1243 c:\\Users\\admin\\Desktop\\python ds\\cvprojects\\pothole detection\\potholesdata\\images\\img-305.jpg: 192x320 4 potholes, 66.7ms\n",
      "image 475/1243 c:\\Users\\admin\\Desktop\\python ds\\cvprojects\\pothole detection\\potholesdata\\images\\img-306.jpg: 192x320 2 potholes, 64.1ms\n",
      "image 476/1243 c:\\Users\\admin\\Desktop\\python ds\\cvprojects\\pothole detection\\potholesdata\\images\\img-307.jpg: 192x320 1 pothole, 64.8ms\n",
      "image 477/1243 c:\\Users\\admin\\Desktop\\python ds\\cvprojects\\pothole detection\\potholesdata\\images\\img-308.jpg: 256x320 1 pothole, 82.6ms\n",
      "image 478/1243 c:\\Users\\admin\\Desktop\\python ds\\cvprojects\\pothole detection\\potholesdata\\images\\img-309.jpg: 192x320 1 pothole, 61.8ms\n",
      "image 479/1243 c:\\Users\\admin\\Desktop\\python ds\\cvprojects\\pothole detection\\potholesdata\\images\\img-31.jpg: 320x320 1 pothole, 76.0ms\n",
      "image 480/1243 c:\\Users\\admin\\Desktop\\python ds\\cvprojects\\pothole detection\\potholesdata\\images\\img-310.jpg: 224x320 3 potholes, 62.7ms\n",
      "image 481/1243 c:\\Users\\admin\\Desktop\\python ds\\cvprojects\\pothole detection\\potholesdata\\images\\img-311.jpg: 224x320 1 pothole, 69.1ms\n",
      "image 482/1243 c:\\Users\\admin\\Desktop\\python ds\\cvprojects\\pothole detection\\potholesdata\\images\\img-312.jpg: 192x320 1 pothole, 49.9ms\n",
      "image 483/1243 c:\\Users\\admin\\Desktop\\python ds\\cvprojects\\pothole detection\\potholesdata\\images\\img-313.jpg: 256x320 1 pothole, 70.4ms\n",
      "image 484/1243 c:\\Users\\admin\\Desktop\\python ds\\cvprojects\\pothole detection\\potholesdata\\images\\img-314.jpg: 224x320 1 pothole, 66.8ms\n",
      "image 485/1243 c:\\Users\\admin\\Desktop\\python ds\\cvprojects\\pothole detection\\potholesdata\\images\\img-315.jpg: 224x320 4 potholes, 62.3ms\n",
      "image 486/1243 c:\\Users\\admin\\Desktop\\python ds\\cvprojects\\pothole detection\\potholesdata\\images\\img-316.jpg: 224x320 1 pothole, 79.7ms\n",
      "image 487/1243 c:\\Users\\admin\\Desktop\\python ds\\cvprojects\\pothole detection\\potholesdata\\images\\img-317.jpg: 224x320 1 pothole, 67.0ms\n",
      "image 488/1243 c:\\Users\\admin\\Desktop\\python ds\\cvprojects\\pothole detection\\potholesdata\\images\\img-318.jpg: 224x320 2 potholes, 75.5ms\n",
      "image 489/1243 c:\\Users\\admin\\Desktop\\python ds\\cvprojects\\pothole detection\\potholesdata\\images\\img-319.jpg: 320x288 1 pothole, 100.1ms\n",
      "image 490/1243 c:\\Users\\admin\\Desktop\\python ds\\cvprojects\\pothole detection\\potholesdata\\images\\img-32.jpg: 320x320 2 potholes, 81.6ms\n",
      "image 491/1243 c:\\Users\\admin\\Desktop\\python ds\\cvprojects\\pothole detection\\potholesdata\\images\\img-320.jpg: 160x320 3 potholes, 63.1ms\n",
      "image 492/1243 c:\\Users\\admin\\Desktop\\python ds\\cvprojects\\pothole detection\\potholesdata\\images\\img-321.jpg: 320x320 1 pothole, 83.3ms\n",
      "image 493/1243 c:\\Users\\admin\\Desktop\\python ds\\cvprojects\\pothole detection\\potholesdata\\images\\img-322.jpg: 224x320 1 pothole, 60.7ms\n",
      "image 494/1243 c:\\Users\\admin\\Desktop\\python ds\\cvprojects\\pothole detection\\potholesdata\\images\\img-323.jpg: 256x320 2 potholes, 83.3ms\n",
      "image 495/1243 c:\\Users\\admin\\Desktop\\python ds\\cvprojects\\pothole detection\\potholesdata\\images\\img-324.jpg: 224x320 1 pothole, 62.8ms\n",
      "image 496/1243 c:\\Users\\admin\\Desktop\\python ds\\cvprojects\\pothole detection\\potholesdata\\images\\img-325.jpg: 192x320 5 potholes, 50.1ms\n",
      "image 497/1243 c:\\Users\\admin\\Desktop\\python ds\\cvprojects\\pothole detection\\potholesdata\\images\\img-326.jpg: 224x320 1 pothole, 64.4ms\n",
      "image 498/1243 c:\\Users\\admin\\Desktop\\python ds\\cvprojects\\pothole detection\\potholesdata\\images\\img-327.jpg: 160x320 2 potholes, 66.0ms\n",
      "image 499/1243 c:\\Users\\admin\\Desktop\\python ds\\cvprojects\\pothole detection\\potholesdata\\images\\img-328.jpg: 256x320 4 potholes, 83.0ms\n",
      "image 500/1243 c:\\Users\\admin\\Desktop\\python ds\\cvprojects\\pothole detection\\potholesdata\\images\\img-329.jpg: 160x320 6 potholes, 66.4ms\n",
      "image 501/1243 c:\\Users\\admin\\Desktop\\python ds\\cvprojects\\pothole detection\\potholesdata\\images\\img-33.jpg: 320x320 4 potholes, 95.9ms\n",
      "image 502/1243 c:\\Users\\admin\\Desktop\\python ds\\cvprojects\\pothole detection\\potholesdata\\images\\img-330.jpg: 320x256 3 potholes, 70.7ms\n",
      "image 503/1243 c:\\Users\\admin\\Desktop\\python ds\\cvprojects\\pothole detection\\potholesdata\\images\\img-331.jpg: 288x320 16 potholes, 65.9ms\n",
      "image 504/1243 c:\\Users\\admin\\Desktop\\python ds\\cvprojects\\pothole detection\\potholesdata\\images\\img-332.jpg: 224x320 3 potholes, 85.2ms\n",
      "image 505/1243 c:\\Users\\admin\\Desktop\\python ds\\cvprojects\\pothole detection\\potholesdata\\images\\img-333.jpg: 224x320 6 potholes, 74.1ms\n",
      "image 506/1243 c:\\Users\\admin\\Desktop\\python ds\\cvprojects\\pothole detection\\potholesdata\\images\\img-334.jpg: 192x320 4 potholes, 100.1ms\n",
      "image 507/1243 c:\\Users\\admin\\Desktop\\python ds\\cvprojects\\pothole detection\\potholesdata\\images\\img-335.jpg: 256x320 3 potholes, 66.9ms\n",
      "image 508/1243 c:\\Users\\admin\\Desktop\\python ds\\cvprojects\\pothole detection\\potholesdata\\images\\img-336.jpg: 320x256 5 potholes, 66.8ms\n",
      "image 509/1243 c:\\Users\\admin\\Desktop\\python ds\\cvprojects\\pothole detection\\potholesdata\\images\\img-337.jpg: 224x320 1 pothole, 66.6ms\n",
      "image 510/1243 c:\\Users\\admin\\Desktop\\python ds\\cvprojects\\pothole detection\\potholesdata\\images\\img-338.jpg: 256x320 1 pothole, 83.3ms\n",
      "image 511/1243 c:\\Users\\admin\\Desktop\\python ds\\cvprojects\\pothole detection\\potholesdata\\images\\img-339.jpg: 192x320 2 potholes, 66.7ms\n",
      "image 512/1243 c:\\Users\\admin\\Desktop\\python ds\\cvprojects\\pothole detection\\potholesdata\\images\\img-34.jpg: 320x320 1 pothole, 70.9ms\n",
      "image 513/1243 c:\\Users\\admin\\Desktop\\python ds\\cvprojects\\pothole detection\\potholesdata\\images\\img-340.jpg: 224x320 4 potholes, 66.6ms\n",
      "image 514/1243 c:\\Users\\admin\\Desktop\\python ds\\cvprojects\\pothole detection\\potholesdata\\images\\img-341.jpg: 224x320 3 potholes, 62.9ms\n",
      "image 515/1243 c:\\Users\\admin\\Desktop\\python ds\\cvprojects\\pothole detection\\potholesdata\\images\\img-342.jpg: 224x320 1 pothole, 104.3ms\n",
      "image 516/1243 c:\\Users\\admin\\Desktop\\python ds\\cvprojects\\pothole detection\\potholesdata\\images\\img-343.jpg: 192x320 1 pothole, 50.1ms\n",
      "image 517/1243 c:\\Users\\admin\\Desktop\\python ds\\cvprojects\\pothole detection\\potholesdata\\images\\img-344.jpg: 224x320 5 potholes, 69.7ms\n",
      "image 518/1243 c:\\Users\\admin\\Desktop\\python ds\\cvprojects\\pothole detection\\potholesdata\\images\\img-345.jpg: 192x320 3 potholes, 66.8ms\n",
      "image 519/1243 c:\\Users\\admin\\Desktop\\python ds\\cvprojects\\pothole detection\\potholesdata\\images\\img-346.jpg: 288x320 2 potholes, 62.5ms\n",
      "image 520/1243 c:\\Users\\admin\\Desktop\\python ds\\cvprojects\\pothole detection\\potholesdata\\images\\img-347.jpg: 256x320 1 pothole, 66.8ms\n",
      "image 521/1243 c:\\Users\\admin\\Desktop\\python ds\\cvprojects\\pothole detection\\potholesdata\\images\\img-348.jpg: 288x320 1 pothole, 199.7ms\n",
      "image 522/1243 c:\\Users\\admin\\Desktop\\python ds\\cvprojects\\pothole detection\\potholesdata\\images\\img-349.jpg: 224x320 3 potholes, 83.4ms\n",
      "image 523/1243 c:\\Users\\admin\\Desktop\\python ds\\cvprojects\\pothole detection\\potholesdata\\images\\img-35.jpg: 320x320 1 pothole, 84.5ms\n",
      "image 524/1243 c:\\Users\\admin\\Desktop\\python ds\\cvprojects\\pothole detection\\potholesdata\\images\\img-350.jpg: 224x320 6 potholes, 66.6ms\n",
      "image 525/1243 c:\\Users\\admin\\Desktop\\python ds\\cvprojects\\pothole detection\\potholesdata\\images\\img-351.jpg: 192x320 1 pothole, 67.3ms\n",
      "image 526/1243 c:\\Users\\admin\\Desktop\\python ds\\cvprojects\\pothole detection\\potholesdata\\images\\img-352.jpg: 256x320 2 potholes, 83.3ms\n",
      "image 527/1243 c:\\Users\\admin\\Desktop\\python ds\\cvprojects\\pothole detection\\potholesdata\\images\\img-353.jpg: 256x320 4 potholes, 70.6ms\n",
      "image 528/1243 c:\\Users\\admin\\Desktop\\python ds\\cvprojects\\pothole detection\\potholesdata\\images\\img-354.jpg: 256x320 7 potholes, 79.5ms\n",
      "image 529/1243 c:\\Users\\admin\\Desktop\\python ds\\cvprojects\\pothole detection\\potholesdata\\images\\img-355.jpg: 320x256 3 potholes, 64.6ms\n",
      "image 530/1243 c:\\Users\\admin\\Desktop\\python ds\\cvprojects\\pothole detection\\potholesdata\\images\\img-356.jpg: 192x320 1 pothole, 66.7ms\n",
      "image 531/1243 c:\\Users\\admin\\Desktop\\python ds\\cvprojects\\pothole detection\\potholesdata\\images\\img-357.jpg: 224x320 1 pothole, 82.5ms\n",
      "image 532/1243 c:\\Users\\admin\\Desktop\\python ds\\cvprojects\\pothole detection\\potholesdata\\images\\img-358.jpg: 256x320 2 potholes, 67.2ms\n",
      "image 533/1243 c:\\Users\\admin\\Desktop\\python ds\\cvprojects\\pothole detection\\potholesdata\\images\\img-359.jpg: 224x320 3 potholes, 70.2ms\n",
      "image 534/1243 c:\\Users\\admin\\Desktop\\python ds\\cvprojects\\pothole detection\\potholesdata\\images\\img-36.jpg: 320x320 2 potholes, 83.8ms\n",
      "image 535/1243 c:\\Users\\admin\\Desktop\\python ds\\cvprojects\\pothole detection\\potholesdata\\images\\img-360.jpg: 320x224 5 potholes, 72.6ms\n",
      "image 536/1243 c:\\Users\\admin\\Desktop\\python ds\\cvprojects\\pothole detection\\potholesdata\\images\\img-361.jpg: 192x320 1 pothole, 66.7ms\n",
      "image 537/1243 c:\\Users\\admin\\Desktop\\python ds\\cvprojects\\pothole detection\\potholesdata\\images\\img-362.jpg: 224x320 2 potholes, 83.4ms\n",
      "image 538/1243 c:\\Users\\admin\\Desktop\\python ds\\cvprojects\\pothole detection\\potholesdata\\images\\img-363.jpg: 320x256 1 pothole, 83.3ms\n",
      "image 539/1243 c:\\Users\\admin\\Desktop\\python ds\\cvprojects\\pothole detection\\potholesdata\\images\\img-364.jpg: 224x320 1 pothole, 62.8ms\n",
      "image 540/1243 c:\\Users\\admin\\Desktop\\python ds\\cvprojects\\pothole detection\\potholesdata\\images\\img-365.jpg: 192x320 5 potholes, 66.6ms\n",
      "image 541/1243 c:\\Users\\admin\\Desktop\\python ds\\cvprojects\\pothole detection\\potholesdata\\images\\img-366.jpg: 224x320 1 pothole, 67.8ms\n",
      "image 542/1243 c:\\Users\\admin\\Desktop\\python ds\\cvprojects\\pothole detection\\potholesdata\\images\\img-367.jpg: 224x320 1 pothole, 66.9ms\n",
      "image 543/1243 c:\\Users\\admin\\Desktop\\python ds\\cvprojects\\pothole detection\\potholesdata\\images\\img-368.jpg: 192x320 3 potholes, 50.1ms\n",
      "image 544/1243 c:\\Users\\admin\\Desktop\\python ds\\cvprojects\\pothole detection\\potholesdata\\images\\img-369.jpg: 192x320 1 pothole, 66.5ms\n",
      "image 545/1243 c:\\Users\\admin\\Desktop\\python ds\\cvprojects\\pothole detection\\potholesdata\\images\\img-37.jpg: 320x320 2 potholes, 88.4ms\n",
      "image 546/1243 c:\\Users\\admin\\Desktop\\python ds\\cvprojects\\pothole detection\\potholesdata\\images\\img-370.jpg: 160x320 1 pothole, 56.0ms\n",
      "image 547/1243 c:\\Users\\admin\\Desktop\\python ds\\cvprojects\\pothole detection\\potholesdata\\images\\img-371.jpg: 160x320 1 pothole, 50.1ms\n",
      "image 548/1243 c:\\Users\\admin\\Desktop\\python ds\\cvprojects\\pothole detection\\potholesdata\\images\\img-372.jpg: 224x320 1 pothole, 66.5ms\n",
      "image 549/1243 c:\\Users\\admin\\Desktop\\python ds\\cvprojects\\pothole detection\\potholesdata\\images\\img-373.jpg: 224x320 1 pothole, 67.1ms\n",
      "image 550/1243 c:\\Users\\admin\\Desktop\\python ds\\cvprojects\\pothole detection\\potholesdata\\images\\img-374.jpg: 256x320 2 potholes, 70.8ms\n",
      "image 551/1243 c:\\Users\\admin\\Desktop\\python ds\\cvprojects\\pothole detection\\potholesdata\\images\\img-375.jpg: 224x320 1 pothole, 78.6ms\n",
      "image 552/1243 c:\\Users\\admin\\Desktop\\python ds\\cvprojects\\pothole detection\\potholesdata\\images\\img-376.jpg: 192x320 5 potholes, 67.5ms\n",
      "image 553/1243 c:\\Users\\admin\\Desktop\\python ds\\cvprojects\\pothole detection\\potholesdata\\images\\img-377.jpg: 192x320 1 pothole, 66.7ms\n",
      "image 554/1243 c:\\Users\\admin\\Desktop\\python ds\\cvprojects\\pothole detection\\potholesdata\\images\\img-378.jpg: 256x320 1 pothole, 87.5ms\n",
      "image 555/1243 c:\\Users\\admin\\Desktop\\python ds\\cvprojects\\pothole detection\\potholesdata\\images\\img-379.jpg: 256x320 1 pothole, 70.8ms\n",
      "image 556/1243 c:\\Users\\admin\\Desktop\\python ds\\cvprojects\\pothole detection\\potholesdata\\images\\img-38.jpg: 320x320 1 pothole, 78.1ms\n",
      "image 557/1243 c:\\Users\\admin\\Desktop\\python ds\\cvprojects\\pothole detection\\potholesdata\\images\\img-380.jpg: 224x320 1 pothole, 80.1ms\n",
      "image 558/1243 c:\\Users\\admin\\Desktop\\python ds\\cvprojects\\pothole detection\\potholesdata\\images\\img-381.jpg: 320x256 1 pothole, 82.2ms\n",
      "image 559/1243 c:\\Users\\admin\\Desktop\\python ds\\cvprojects\\pothole detection\\potholesdata\\images\\img-382.jpg: 224x320 3 potholes, 62.0ms\n",
      "image 560/1243 c:\\Users\\admin\\Desktop\\python ds\\cvprojects\\pothole detection\\potholesdata\\images\\img-383.jpg: 256x320 11 potholes, 78.1ms\n",
      "image 561/1243 c:\\Users\\admin\\Desktop\\python ds\\cvprojects\\pothole detection\\potholesdata\\images\\img-384.jpg: 256x320 2 potholes, 69.6ms\n",
      "image 562/1243 c:\\Users\\admin\\Desktop\\python ds\\cvprojects\\pothole detection\\potholesdata\\images\\img-385.jpg: 224x320 1 pothole, 84.8ms\n",
      "image 563/1243 c:\\Users\\admin\\Desktop\\python ds\\cvprojects\\pothole detection\\potholesdata\\images\\img-386.jpg: 224x320 1 pothole, 69.2ms\n",
      "image 564/1243 c:\\Users\\admin\\Desktop\\python ds\\cvprojects\\pothole detection\\potholesdata\\images\\img-387.jpg: 256x320 2 potholes, 66.6ms\n",
      "image 565/1243 c:\\Users\\admin\\Desktop\\python ds\\cvprojects\\pothole detection\\potholesdata\\images\\img-388.jpg: 256x320 3 potholes, 73.4ms\n",
      "image 566/1243 c:\\Users\\admin\\Desktop\\python ds\\cvprojects\\pothole detection\\potholesdata\\images\\img-389.jpg: 224x320 4 potholes, 72.3ms\n",
      "image 567/1243 c:\\Users\\admin\\Desktop\\python ds\\cvprojects\\pothole detection\\potholesdata\\images\\img-39.jpg: 320x320 1 pothole, 2749.4ms\n",
      "image 568/1243 c:\\Users\\admin\\Desktop\\python ds\\cvprojects\\pothole detection\\potholesdata\\images\\img-390.jpg: 320x256 1 pothole, 80.7ms\n",
      "image 569/1243 c:\\Users\\admin\\Desktop\\python ds\\cvprojects\\pothole detection\\potholesdata\\images\\img-391.jpg: 256x320 4 potholes, 80.4ms\n",
      "image 570/1243 c:\\Users\\admin\\Desktop\\python ds\\cvprojects\\pothole detection\\potholesdata\\images\\img-392.jpg: 224x320 1 pothole, 89.6ms\n",
      "image 571/1243 c:\\Users\\admin\\Desktop\\python ds\\cvprojects\\pothole detection\\potholesdata\\images\\img-393.jpg: 224x320 2 potholes, 115.9ms\n",
      "image 572/1243 c:\\Users\\admin\\Desktop\\python ds\\cvprojects\\pothole detection\\potholesdata\\images\\img-394.jpg: 224x320 2 potholes, 96.9ms\n",
      "image 573/1243 c:\\Users\\admin\\Desktop\\python ds\\cvprojects\\pothole detection\\potholesdata\\images\\img-395.jpg: 224x320 4 potholes, 76.7ms\n",
      "image 574/1243 c:\\Users\\admin\\Desktop\\python ds\\cvprojects\\pothole detection\\potholesdata\\images\\img-396.jpg: 192x320 1 pothole, 68.5ms\n",
      "image 575/1243 c:\\Users\\admin\\Desktop\\python ds\\cvprojects\\pothole detection\\potholesdata\\images\\img-397.jpg: 192x320 3 potholes, 83.1ms\n",
      "image 576/1243 c:\\Users\\admin\\Desktop\\python ds\\cvprojects\\pothole detection\\potholesdata\\images\\img-398.jpg: 160x320 1 pothole, 62.5ms\n",
      "image 577/1243 c:\\Users\\admin\\Desktop\\python ds\\cvprojects\\pothole detection\\potholesdata\\images\\img-399.jpg: 224x320 13 potholes, 83.1ms\n",
      "image 578/1243 c:\\Users\\admin\\Desktop\\python ds\\cvprojects\\pothole detection\\potholesdata\\images\\img-4.jpg: 320x320 1 pothole, 155.8ms\n",
      "image 579/1243 c:\\Users\\admin\\Desktop\\python ds\\cvprojects\\pothole detection\\potholesdata\\images\\img-40.jpg: 320x320 1 pothole, 93.6ms\n",
      "image 580/1243 c:\\Users\\admin\\Desktop\\python ds\\cvprojects\\pothole detection\\potholesdata\\images\\img-400.jpg: 192x320 1 pothole, 56.5ms\n",
      "image 581/1243 c:\\Users\\admin\\Desktop\\python ds\\cvprojects\\pothole detection\\potholesdata\\images\\img-401.jpg: 192x320 1 pothole, 67.1ms\n",
      "image 582/1243 c:\\Users\\admin\\Desktop\\python ds\\cvprojects\\pothole detection\\potholesdata\\images\\img-402.jpg: 224x320 1 pothole, 69.4ms\n",
      "image 583/1243 c:\\Users\\admin\\Desktop\\python ds\\cvprojects\\pothole detection\\potholesdata\\images\\img-403.jpg: 192x320 1 pothole, 97.9ms\n",
      "image 584/1243 c:\\Users\\admin\\Desktop\\python ds\\cvprojects\\pothole detection\\potholesdata\\images\\img-404.jpg: 224x320 2 potholes, 132.9ms\n",
      "image 585/1243 c:\\Users\\admin\\Desktop\\python ds\\cvprojects\\pothole detection\\potholesdata\\images\\img-405.jpg: 256x320 8 potholes, 258.3ms\n",
      "image 586/1243 c:\\Users\\admin\\Desktop\\python ds\\cvprojects\\pothole detection\\potholesdata\\images\\img-406.jpg: 224x320 1 pothole, 149.5ms\n",
      "image 587/1243 c:\\Users\\admin\\Desktop\\python ds\\cvprojects\\pothole detection\\potholesdata\\images\\img-407.jpg: 256x320 11 potholes, 166.5ms\n",
      "image 588/1243 c:\\Users\\admin\\Desktop\\python ds\\cvprojects\\pothole detection\\potholesdata\\images\\img-408.jpg: 224x320 2 potholes, 119.4ms\n",
      "image 589/1243 c:\\Users\\admin\\Desktop\\python ds\\cvprojects\\pothole detection\\potholesdata\\images\\img-409.jpg: 224x320 3 potholes, 100.4ms\n",
      "image 590/1243 c:\\Users\\admin\\Desktop\\python ds\\cvprojects\\pothole detection\\potholesdata\\images\\img-41.jpg: 320x320 2 potholes, 125.5ms\n",
      "image 591/1243 c:\\Users\\admin\\Desktop\\python ds\\cvprojects\\pothole detection\\potholesdata\\images\\img-410.jpg: 256x320 1 pothole, 113.4ms\n",
      "image 592/1243 c:\\Users\\admin\\Desktop\\python ds\\cvprojects\\pothole detection\\potholesdata\\images\\img-411.jpg: 224x320 14 potholes, 121.7ms\n",
      "image 593/1243 c:\\Users\\admin\\Desktop\\python ds\\cvprojects\\pothole detection\\potholesdata\\images\\img-412.jpg: 224x320 1 pothole, 177.9ms\n",
      "image 594/1243 c:\\Users\\admin\\Desktop\\python ds\\cvprojects\\pothole detection\\potholesdata\\images\\img-413.jpg: 192x320 6 potholes, 206.5ms\n",
      "image 595/1243 c:\\Users\\admin\\Desktop\\python ds\\cvprojects\\pothole detection\\potholesdata\\images\\img-414.jpg: 224x320 1 pothole, 788.9ms\n",
      "image 596/1243 c:\\Users\\admin\\Desktop\\python ds\\cvprojects\\pothole detection\\potholesdata\\images\\img-415.jpg: 256x320 3 potholes, 117.7ms\n",
      "image 597/1243 c:\\Users\\admin\\Desktop\\python ds\\cvprojects\\pothole detection\\potholesdata\\images\\img-416.jpg: 224x320 2 potholes, 116.5ms\n",
      "image 598/1243 c:\\Users\\admin\\Desktop\\python ds\\cvprojects\\pothole detection\\potholesdata\\images\\img-417.jpg: 224x320 1 pothole, 505.7ms\n",
      "image 599/1243 c:\\Users\\admin\\Desktop\\python ds\\cvprojects\\pothole detection\\potholesdata\\images\\img-418.jpg: 224x320 7 potholes, 78.0ms\n",
      "image 600/1243 c:\\Users\\admin\\Desktop\\python ds\\cvprojects\\pothole detection\\potholesdata\\images\\img-419.jpg: 224x320 2 potholes, 115.9ms\n",
      "image 601/1243 c:\\Users\\admin\\Desktop\\python ds\\cvprojects\\pothole detection\\potholesdata\\images\\img-42.jpg: 320x320 2 potholes, 128.3ms\n",
      "image 602/1243 c:\\Users\\admin\\Desktop\\python ds\\cvprojects\\pothole detection\\potholesdata\\images\\img-420.jpg: 224x320 1 pothole, 108.1ms\n",
      "image 603/1243 c:\\Users\\admin\\Desktop\\python ds\\cvprojects\\pothole detection\\potholesdata\\images\\img-421.jpg: 192x320 4 potholes, 66.8ms\n",
      "image 604/1243 c:\\Users\\admin\\Desktop\\python ds\\cvprojects\\pothole detection\\potholesdata\\images\\img-422.jpg: 224x320 1 pothole, 101.1ms\n",
      "image 605/1243 c:\\Users\\admin\\Desktop\\python ds\\cvprojects\\pothole detection\\potholesdata\\images\\img-423.jpg: 224x320 1 pothole, 62.5ms\n",
      "image 606/1243 c:\\Users\\admin\\Desktop\\python ds\\cvprojects\\pothole detection\\potholesdata\\images\\img-424.jpg: 192x320 1 pothole, 70.0ms\n",
      "image 607/1243 c:\\Users\\admin\\Desktop\\python ds\\cvprojects\\pothole detection\\potholesdata\\images\\img-425.jpg: 256x320 3 potholes, 93.9ms\n",
      "image 608/1243 c:\\Users\\admin\\Desktop\\python ds\\cvprojects\\pothole detection\\potholesdata\\images\\img-426.jpg: 160x320 1 pothole, 66.7ms\n",
      "image 609/1243 c:\\Users\\admin\\Desktop\\python ds\\cvprojects\\pothole detection\\potholesdata\\images\\img-427.jpg: 320x320 1 pothole, 99.8ms\n",
      "image 610/1243 c:\\Users\\admin\\Desktop\\python ds\\cvprojects\\pothole detection\\potholesdata\\images\\img-428.jpg: 320x288 10 potholes, 100.2ms\n",
      "image 611/1243 c:\\Users\\admin\\Desktop\\python ds\\cvprojects\\pothole detection\\potholesdata\\images\\img-429.jpg: 192x320 2 potholes, 73.5ms\n",
      "image 612/1243 c:\\Users\\admin\\Desktop\\python ds\\cvprojects\\pothole detection\\potholesdata\\images\\img-43.jpg: 320x320 3 potholes, 100.5ms\n",
      "image 613/1243 c:\\Users\\admin\\Desktop\\python ds\\cvprojects\\pothole detection\\potholesdata\\images\\img-430.jpg: 224x320 3 potholes, 83.1ms\n",
      "image 614/1243 c:\\Users\\admin\\Desktop\\python ds\\cvprojects\\pothole detection\\potholesdata\\images\\img-431.jpg: 192x320 6 potholes, 60.0ms\n",
      "image 615/1243 c:\\Users\\admin\\Desktop\\python ds\\cvprojects\\pothole detection\\potholesdata\\images\\img-432.jpg: 224x320 1 pothole, 67.1ms\n",
      "image 616/1243 c:\\Users\\admin\\Desktop\\python ds\\cvprojects\\pothole detection\\potholesdata\\images\\img-433.jpg: 256x320 2 potholes, 83.3ms\n",
      "image 617/1243 c:\\Users\\admin\\Desktop\\python ds\\cvprojects\\pothole detection\\potholesdata\\images\\img-434.jpg: 224x320 1 pothole, 66.7ms\n",
      "image 618/1243 c:\\Users\\admin\\Desktop\\python ds\\cvprojects\\pothole detection\\potholesdata\\images\\img-435.jpg: 160x320 1 pothole, 67.0ms\n",
      "image 619/1243 c:\\Users\\admin\\Desktop\\python ds\\cvprojects\\pothole detection\\potholesdata\\images\\img-436.jpg: 192x320 6 potholes, 73.2ms\n",
      "image 620/1243 c:\\Users\\admin\\Desktop\\python ds\\cvprojects\\pothole detection\\potholesdata\\images\\img-437.jpg: 192x320 1 pothole, 50.3ms\n",
      "image 621/1243 c:\\Users\\admin\\Desktop\\python ds\\cvprojects\\pothole detection\\potholesdata\\images\\img-438.jpg: 256x320 1 pothole, 83.3ms\n",
      "image 622/1243 c:\\Users\\admin\\Desktop\\python ds\\cvprojects\\pothole detection\\potholesdata\\images\\img-439.jpg: 160x320 4 potholes, 48.1ms\n",
      "image 623/1243 c:\\Users\\admin\\Desktop\\python ds\\cvprojects\\pothole detection\\potholesdata\\images\\img-44.jpg: 320x320 2 potholes, 83.4ms\n",
      "image 624/1243 c:\\Users\\admin\\Desktop\\python ds\\cvprojects\\pothole detection\\potholesdata\\images\\img-440.jpg: 192x320 1 pothole, 52.3ms\n",
      "image 625/1243 c:\\Users\\admin\\Desktop\\python ds\\cvprojects\\pothole detection\\potholesdata\\images\\img-441.jpg: 192x320 2 potholes, 55.8ms\n",
      "image 626/1243 c:\\Users\\admin\\Desktop\\python ds\\cvprojects\\pothole detection\\potholesdata\\images\\img-442.jpg: 224x320 1 pothole, 73.8ms\n",
      "image 627/1243 c:\\Users\\admin\\Desktop\\python ds\\cvprojects\\pothole detection\\potholesdata\\images\\img-443.jpg: 192x320 8 potholes, 64.2ms\n",
      "image 628/1243 c:\\Users\\admin\\Desktop\\python ds\\cvprojects\\pothole detection\\potholesdata\\images\\img-444.jpg: 224x320 5 potholes, 133.5ms\n",
      "image 629/1243 c:\\Users\\admin\\Desktop\\python ds\\cvprojects\\pothole detection\\potholesdata\\images\\img-445.jpg: 256x320 2 potholes, 76.6ms\n",
      "image 630/1243 c:\\Users\\admin\\Desktop\\python ds\\cvprojects\\pothole detection\\potholesdata\\images\\img-446.jpg: 256x320 7 potholes, 80.2ms\n",
      "image 631/1243 c:\\Users\\admin\\Desktop\\python ds\\cvprojects\\pothole detection\\potholesdata\\images\\img-447.jpg: 192x320 1 pothole, 85.7ms\n",
      "image 632/1243 c:\\Users\\admin\\Desktop\\python ds\\cvprojects\\pothole detection\\potholesdata\\images\\img-448.jpg: 224x320 2 potholes, 83.2ms\n",
      "image 633/1243 c:\\Users\\admin\\Desktop\\python ds\\cvprojects\\pothole detection\\potholesdata\\images\\img-449.jpg: 192x320 3 potholes, 71.0ms\n",
      "image 634/1243 c:\\Users\\admin\\Desktop\\python ds\\cvprojects\\pothole detection\\potholesdata\\images\\img-45.jpg: 320x320 1 pothole, 100.1ms\n",
      "image 635/1243 c:\\Users\\admin\\Desktop\\python ds\\cvprojects\\pothole detection\\potholesdata\\images\\img-450.jpg: 256x320 1 pothole, 70.5ms\n",
      "image 636/1243 c:\\Users\\admin\\Desktop\\python ds\\cvprojects\\pothole detection\\potholesdata\\images\\img-451.jpg: 224x320 3 potholes, 70.2ms\n",
      "image 637/1243 c:\\Users\\admin\\Desktop\\python ds\\cvprojects\\pothole detection\\potholesdata\\images\\img-452.jpg: 160x320 1 pothole, 65.9ms\n",
      "image 638/1243 c:\\Users\\admin\\Desktop\\python ds\\cvprojects\\pothole detection\\potholesdata\\images\\img-453.jpg: 224x320 1 pothole, 66.9ms\n",
      "image 639/1243 c:\\Users\\admin\\Desktop\\python ds\\cvprojects\\pothole detection\\potholesdata\\images\\img-454.jpg: 256x320 4 potholes, 63.2ms\n",
      "image 640/1243 c:\\Users\\admin\\Desktop\\python ds\\cvprojects\\pothole detection\\potholesdata\\images\\img-455.jpg: 224x320 3 potholes, 83.7ms\n",
      "image 641/1243 c:\\Users\\admin\\Desktop\\python ds\\cvprojects\\pothole detection\\potholesdata\\images\\img-456.jpg: 192x320 1 pothole, 55.3ms\n",
      "image 642/1243 c:\\Users\\admin\\Desktop\\python ds\\cvprojects\\pothole detection\\potholesdata\\images\\img-457.jpg: 256x320 3 potholes, 75.9ms\n",
      "image 643/1243 c:\\Users\\admin\\Desktop\\python ds\\cvprojects\\pothole detection\\potholesdata\\images\\img-458.jpg: 224x320 1 pothole, 67.7ms\n",
      "image 644/1243 c:\\Users\\admin\\Desktop\\python ds\\cvprojects\\pothole detection\\potholesdata\\images\\img-459.jpg: 192x320 2 potholes, 69.5ms\n",
      "image 645/1243 c:\\Users\\admin\\Desktop\\python ds\\cvprojects\\pothole detection\\potholesdata\\images\\img-46.jpg: 320x320 1 pothole, 100.9ms\n",
      "image 646/1243 c:\\Users\\admin\\Desktop\\python ds\\cvprojects\\pothole detection\\potholesdata\\images\\img-460.jpg: 224x320 2 potholes, 70.6ms\n",
      "image 647/1243 c:\\Users\\admin\\Desktop\\python ds\\cvprojects\\pothole detection\\potholesdata\\images\\img-461.jpg: 224x320 1 pothole, 64.9ms\n",
      "image 648/1243 c:\\Users\\admin\\Desktop\\python ds\\cvprojects\\pothole detection\\potholesdata\\images\\img-462.jpg: 256x320 1 pothole, 83.5ms\n",
      "image 649/1243 c:\\Users\\admin\\Desktop\\python ds\\cvprojects\\pothole detection\\potholesdata\\images\\img-463.jpg: 288x320 1 pothole, 76.7ms\n",
      "image 650/1243 c:\\Users\\admin\\Desktop\\python ds\\cvprojects\\pothole detection\\potholesdata\\images\\img-464.jpg: 160x320 1 pothole, 47.6ms\n",
      "image 651/1243 c:\\Users\\admin\\Desktop\\python ds\\cvprojects\\pothole detection\\potholesdata\\images\\img-465.jpg: 192x320 4 potholes, 68.0ms\n",
      "image 652/1243 c:\\Users\\admin\\Desktop\\python ds\\cvprojects\\pothole detection\\potholesdata\\images\\img-466.jpg: 256x320 1 pothole, 67.1ms\n",
      "image 653/1243 c:\\Users\\admin\\Desktop\\python ds\\cvprojects\\pothole detection\\potholesdata\\images\\img-467.jpg: 160x320 1 pothole, 61.3ms\n",
      "image 654/1243 c:\\Users\\admin\\Desktop\\python ds\\cvprojects\\pothole detection\\potholesdata\\images\\img-468.jpg: 256x320 1 pothole, 86.2ms\n",
      "image 655/1243 c:\\Users\\admin\\Desktop\\python ds\\cvprojects\\pothole detection\\potholesdata\\images\\img-469.jpg: 224x320 3 potholes, 68.7ms\n",
      "image 656/1243 c:\\Users\\admin\\Desktop\\python ds\\cvprojects\\pothole detection\\potholesdata\\images\\img-47.jpg: 320x320 3 potholes, 100.1ms\n",
      "image 657/1243 c:\\Users\\admin\\Desktop\\python ds\\cvprojects\\pothole detection\\potholesdata\\images\\img-470.jpg: 224x320 1 pothole, 60.7ms\n",
      "image 658/1243 c:\\Users\\admin\\Desktop\\python ds\\cvprojects\\pothole detection\\potholesdata\\images\\img-471.jpg: 256x320 18 potholes, 73.1ms\n",
      "image 659/1243 c:\\Users\\admin\\Desktop\\python ds\\cvprojects\\pothole detection\\potholesdata\\images\\img-472.jpg: 192x320 1 pothole, 66.8ms\n",
      "image 660/1243 c:\\Users\\admin\\Desktop\\python ds\\cvprojects\\pothole detection\\potholesdata\\images\\img-473.jpg: 256x320 1 pothole, 84.3ms\n",
      "image 661/1243 c:\\Users\\admin\\Desktop\\python ds\\cvprojects\\pothole detection\\potholesdata\\images\\img-474.jpg: 256x320 3 potholes, 68.2ms\n",
      "image 662/1243 c:\\Users\\admin\\Desktop\\python ds\\cvprojects\\pothole detection\\potholesdata\\images\\img-475.jpg: 224x320 1 pothole, 79.3ms\n",
      "image 663/1243 c:\\Users\\admin\\Desktop\\python ds\\cvprojects\\pothole detection\\potholesdata\\images\\img-476.jpg: 224x320 4 potholes, 104.9ms\n",
      "image 664/1243 c:\\Users\\admin\\Desktop\\python ds\\cvprojects\\pothole detection\\potholesdata\\images\\img-477.jpg: 256x320 3 potholes, 98.9ms\n",
      "image 665/1243 c:\\Users\\admin\\Desktop\\python ds\\cvprojects\\pothole detection\\potholesdata\\images\\img-478.jpg: 256x320 3 potholes, 69.0ms\n",
      "image 666/1243 c:\\Users\\admin\\Desktop\\python ds\\cvprojects\\pothole detection\\potholesdata\\images\\img-479.jpg: 128x320 1 pothole, 53.0ms\n",
      "image 667/1243 c:\\Users\\admin\\Desktop\\python ds\\cvprojects\\pothole detection\\potholesdata\\images\\img-48.jpg: 320x320 2 potholes, 124.9ms\n",
      "image 668/1243 c:\\Users\\admin\\Desktop\\python ds\\cvprojects\\pothole detection\\potholesdata\\images\\img-480.jpg: 224x320 2 potholes, 72.0ms\n",
      "image 669/1243 c:\\Users\\admin\\Desktop\\python ds\\cvprojects\\pothole detection\\potholesdata\\images\\img-481.jpg: 192x320 2 potholes, 69.0ms\n",
      "image 670/1243 c:\\Users\\admin\\Desktop\\python ds\\cvprojects\\pothole detection\\potholesdata\\images\\img-482.jpg: 192x320 4 potholes, 72.0ms\n",
      "image 671/1243 c:\\Users\\admin\\Desktop\\python ds\\cvprojects\\pothole detection\\potholesdata\\images\\img-483.jpg: 256x320 1 pothole, 88.9ms\n",
      "image 672/1243 c:\\Users\\admin\\Desktop\\python ds\\cvprojects\\pothole detection\\potholesdata\\images\\img-484.jpg: 224x320 3 potholes, 73.0ms\n",
      "image 673/1243 c:\\Users\\admin\\Desktop\\python ds\\cvprojects\\pothole detection\\potholesdata\\images\\img-485.jpg: 192x320 1 pothole, 91.0ms\n",
      "image 674/1243 c:\\Users\\admin\\Desktop\\python ds\\cvprojects\\pothole detection\\potholesdata\\images\\img-486.jpg: 256x320 5 potholes, 83.0ms\n",
      "image 675/1243 c:\\Users\\admin\\Desktop\\python ds\\cvprojects\\pothole detection\\potholesdata\\images\\img-487.jpg: 192x320 2 potholes, 68.0ms\n",
      "image 676/1243 c:\\Users\\admin\\Desktop\\python ds\\cvprojects\\pothole detection\\potholesdata\\images\\img-488.jpg: 256x320 4 potholes, 77.5ms\n",
      "image 677/1243 c:\\Users\\admin\\Desktop\\python ds\\cvprojects\\pothole detection\\potholesdata\\images\\img-489.jpg: 320x320 2 potholes, 84.0ms\n",
      "image 678/1243 c:\\Users\\admin\\Desktop\\python ds\\cvprojects\\pothole detection\\potholesdata\\images\\img-49.jpg: 320x320 2 potholes, 91.9ms\n",
      "image 679/1243 c:\\Users\\admin\\Desktop\\python ds\\cvprojects\\pothole detection\\potholesdata\\images\\img-490.jpg: 192x320 4 potholes, 76.0ms\n",
      "image 680/1243 c:\\Users\\admin\\Desktop\\python ds\\cvprojects\\pothole detection\\potholesdata\\images\\img-491.jpg: 224x320 2 potholes, 73.5ms\n",
      "image 681/1243 c:\\Users\\admin\\Desktop\\python ds\\cvprojects\\pothole detection\\potholesdata\\images\\img-492.jpg: 320x256 5 potholes, 70.0ms\n",
      "image 682/1243 c:\\Users\\admin\\Desktop\\python ds\\cvprojects\\pothole detection\\potholesdata\\images\\img-493.jpg: 320x256 10 potholes, 72.0ms\n",
      "image 683/1243 c:\\Users\\admin\\Desktop\\python ds\\cvprojects\\pothole detection\\potholesdata\\images\\img-494.jpg: 256x320 5 potholes, 76.0ms\n",
      "image 684/1243 c:\\Users\\admin\\Desktop\\python ds\\cvprojects\\pothole detection\\potholesdata\\images\\img-495.jpg: 192x320 1 pothole, 60.0ms\n",
      "image 685/1243 c:\\Users\\admin\\Desktop\\python ds\\cvprojects\\pothole detection\\potholesdata\\images\\img-496.jpg: 224x320 1 pothole, 67.0ms\n",
      "image 686/1243 c:\\Users\\admin\\Desktop\\python ds\\cvprojects\\pothole detection\\potholesdata\\images\\img-497.jpg: 224x320 1 pothole, 66.0ms\n",
      "image 687/1243 c:\\Users\\admin\\Desktop\\python ds\\cvprojects\\pothole detection\\potholesdata\\images\\img-498.jpg: 224x320 5 potholes, 77.0ms\n",
      "image 688/1243 c:\\Users\\admin\\Desktop\\python ds\\cvprojects\\pothole detection\\potholesdata\\images\\img-499.jpg: 256x320 1 pothole, 77.5ms\n",
      "image 689/1243 c:\\Users\\admin\\Desktop\\python ds\\cvprojects\\pothole detection\\potholesdata\\images\\img-5.jpg: 320x320 2 potholes, 84.0ms\n",
      "image 690/1243 c:\\Users\\admin\\Desktop\\python ds\\cvprojects\\pothole detection\\potholesdata\\images\\img-50.jpg: 320x320 1 pothole, 97.9ms\n",
      "image 691/1243 c:\\Users\\admin\\Desktop\\python ds\\cvprojects\\pothole detection\\potholesdata\\images\\img-500.jpg: 320x224 2 potholes, 69.0ms\n",
      "image 692/1243 c:\\Users\\admin\\Desktop\\python ds\\cvprojects\\pothole detection\\potholesdata\\images\\img-501.jpg: 224x320 4 potholes, 67.0ms\n",
      "image 693/1243 c:\\Users\\admin\\Desktop\\python ds\\cvprojects\\pothole detection\\potholesdata\\images\\img-502.jpg: 224x320 7 potholes, 63.0ms\n",
      "image 694/1243 c:\\Users\\admin\\Desktop\\python ds\\cvprojects\\pothole detection\\potholesdata\\images\\img-503.jpg: 160x320 2 potholes, 54.0ms\n",
      "image 695/1243 c:\\Users\\admin\\Desktop\\python ds\\cvprojects\\pothole detection\\potholesdata\\images\\img-504.jpg: 224x320 4 potholes, 151.1ms\n",
      "image 696/1243 c:\\Users\\admin\\Desktop\\python ds\\cvprojects\\pothole detection\\potholesdata\\images\\img-505.jpg: 192x320 1 pothole, 73.0ms\n",
      "image 697/1243 c:\\Users\\admin\\Desktop\\python ds\\cvprojects\\pothole detection\\potholesdata\\images\\img-506.jpg: 192x320 1 pothole, 67.0ms\n",
      "image 698/1243 c:\\Users\\admin\\Desktop\\python ds\\cvprojects\\pothole detection\\potholesdata\\images\\img-507.jpg: 288x320 7 potholes, 91.9ms\n",
      "image 699/1243 c:\\Users\\admin\\Desktop\\python ds\\cvprojects\\pothole detection\\potholesdata\\images\\img-508.jpg: 192x320 10 potholes, 74.0ms\n",
      "image 700/1243 c:\\Users\\admin\\Desktop\\python ds\\cvprojects\\pothole detection\\potholesdata\\images\\img-509.jpg: 192x320 12 potholes, 73.0ms\n",
      "image 701/1243 c:\\Users\\admin\\Desktop\\python ds\\cvprojects\\pothole detection\\potholesdata\\images\\img-51.jpg: 320x320 2 potholes, 91.9ms\n",
      "image 702/1243 c:\\Users\\admin\\Desktop\\python ds\\cvprojects\\pothole detection\\potholesdata\\images\\img-510.jpg: 192x320 19 potholes, 60.0ms\n",
      "image 703/1243 c:\\Users\\admin\\Desktop\\python ds\\cvprojects\\pothole detection\\potholesdata\\images\\img-511.jpg: 224x320 1 pothole, 68.0ms\n",
      "image 704/1243 c:\\Users\\admin\\Desktop\\python ds\\cvprojects\\pothole detection\\potholesdata\\images\\img-512.jpg: 256x320 5 potholes, 69.0ms\n",
      "image 705/1243 c:\\Users\\admin\\Desktop\\python ds\\cvprojects\\pothole detection\\potholesdata\\images\\img-513.jpg: 256x320 2 potholes, 71.0ms\n",
      "image 706/1243 c:\\Users\\admin\\Desktop\\python ds\\cvprojects\\pothole detection\\potholesdata\\images\\img-514.jpg: 320x256 4 potholes, 75.0ms\n",
      "image 707/1243 c:\\Users\\admin\\Desktop\\python ds\\cvprojects\\pothole detection\\potholesdata\\images\\img-515.jpg: 224x320 1 pothole, 65.0ms\n",
      "image 708/1243 c:\\Users\\admin\\Desktop\\python ds\\cvprojects\\pothole detection\\potholesdata\\images\\img-516.jpg: 224x320 3 potholes, 67.0ms\n",
      "image 709/1243 c:\\Users\\admin\\Desktop\\python ds\\cvprojects\\pothole detection\\potholesdata\\images\\img-517.jpg: 192x320 2 potholes, 61.0ms\n",
      "image 710/1243 c:\\Users\\admin\\Desktop\\python ds\\cvprojects\\pothole detection\\potholesdata\\images\\img-518.jpg: 192x320 1 pothole, 63.0ms\n",
      "image 711/1243 c:\\Users\\admin\\Desktop\\python ds\\cvprojects\\pothole detection\\potholesdata\\images\\img-519.jpg: 320x224 9 potholes, 66.0ms\n",
      "image 712/1243 c:\\Users\\admin\\Desktop\\python ds\\cvprojects\\pothole detection\\potholesdata\\images\\img-52.jpg: 320x320 2 potholes, 137.9ms\n",
      "image 713/1243 c:\\Users\\admin\\Desktop\\python ds\\cvprojects\\pothole detection\\potholesdata\\images\\img-520.jpg: 128x320 1 pothole, 46.0ms\n",
      "image 714/1243 c:\\Users\\admin\\Desktop\\python ds\\cvprojects\\pothole detection\\potholesdata\\images\\img-521.jpg: 224x320 2 potholes, 67.0ms\n",
      "image 715/1243 c:\\Users\\admin\\Desktop\\python ds\\cvprojects\\pothole detection\\potholesdata\\images\\img-522.jpg: 224x320 3 potholes, 65.0ms\n",
      "image 716/1243 c:\\Users\\admin\\Desktop\\python ds\\cvprojects\\pothole detection\\potholesdata\\images\\img-523.jpg: 256x320 1 pothole, 69.0ms\n",
      "image 717/1243 c:\\Users\\admin\\Desktop\\python ds\\cvprojects\\pothole detection\\potholesdata\\images\\img-524.jpg: 192x320 6 potholes, 60.0ms\n",
      "image 718/1243 c:\\Users\\admin\\Desktop\\python ds\\cvprojects\\pothole detection\\potholesdata\\images\\img-525.jpg: 256x320 7 potholes, 70.0ms\n",
      "image 719/1243 c:\\Users\\admin\\Desktop\\python ds\\cvprojects\\pothole detection\\potholesdata\\images\\img-526.jpg: 256x320 10 potholes, 68.0ms\n",
      "image 720/1243 c:\\Users\\admin\\Desktop\\python ds\\cvprojects\\pothole detection\\potholesdata\\images\\img-527.jpg: 224x320 2 potholes, 65.0ms\n",
      "image 721/1243 c:\\Users\\admin\\Desktop\\python ds\\cvprojects\\pothole detection\\potholesdata\\images\\img-528.jpg: 224x320 1 pothole, 64.0ms\n",
      "image 722/1243 c:\\Users\\admin\\Desktop\\python ds\\cvprojects\\pothole detection\\potholesdata\\images\\img-529.jpg: 224x320 5 potholes, 62.0ms\n",
      "image 723/1243 c:\\Users\\admin\\Desktop\\python ds\\cvprojects\\pothole detection\\potholesdata\\images\\img-53.jpg: 320x320 2 potholes, 83.1ms\n",
      "image 724/1243 c:\\Users\\admin\\Desktop\\python ds\\cvprojects\\pothole detection\\potholesdata\\images\\img-530.jpg: 192x320 8 potholes, 62.0ms\n",
      "image 725/1243 c:\\Users\\admin\\Desktop\\python ds\\cvprojects\\pothole detection\\potholesdata\\images\\img-531.jpg: 256x320 10 potholes, 75.0ms\n",
      "image 726/1243 c:\\Users\\admin\\Desktop\\python ds\\cvprojects\\pothole detection\\potholesdata\\images\\img-532.jpg: 192x320 2 potholes, 66.0ms\n",
      "image 727/1243 c:\\Users\\admin\\Desktop\\python ds\\cvprojects\\pothole detection\\potholesdata\\images\\img-533.jpg: 224x320 4 potholes, 67.0ms\n",
      "image 728/1243 c:\\Users\\admin\\Desktop\\python ds\\cvprojects\\pothole detection\\potholesdata\\images\\img-534.jpg: 256x320 3 potholes, 71.0ms\n",
      "image 729/1243 c:\\Users\\admin\\Desktop\\python ds\\cvprojects\\pothole detection\\potholesdata\\images\\img-535.jpg: 224x320 5 potholes, 78.0ms\n",
      "image 730/1243 c:\\Users\\admin\\Desktop\\python ds\\cvprojects\\pothole detection\\potholesdata\\images\\img-536.jpg: 192x320 1 pothole, 59.0ms\n",
      "image 731/1243 c:\\Users\\admin\\Desktop\\python ds\\cvprojects\\pothole detection\\potholesdata\\images\\img-537.jpg: 256x320 1 pothole, 68.0ms\n",
      "image 732/1243 c:\\Users\\admin\\Desktop\\python ds\\cvprojects\\pothole detection\\potholesdata\\images\\img-538.jpg: 224x320 1 pothole, 64.0ms\n",
      "image 733/1243 c:\\Users\\admin\\Desktop\\python ds\\cvprojects\\pothole detection\\potholesdata\\images\\img-539.jpg: 224x320 5 potholes, 67.0ms\n",
      "image 734/1243 c:\\Users\\admin\\Desktop\\python ds\\cvprojects\\pothole detection\\potholesdata\\images\\img-54.jpg: 320x320 1 pothole, 111.9ms\n",
      "image 735/1243 c:\\Users\\admin\\Desktop\\python ds\\cvprojects\\pothole detection\\potholesdata\\images\\img-540.jpg: 224x320 2 potholes, 66.0ms\n",
      "image 736/1243 c:\\Users\\admin\\Desktop\\python ds\\cvprojects\\pothole detection\\potholesdata\\images\\img-541.jpg: 224x320 1 pothole, 64.0ms\n",
      "image 737/1243 c:\\Users\\admin\\Desktop\\python ds\\cvprojects\\pothole detection\\potholesdata\\images\\img-542.jpg: 256x320 2 potholes, 68.0ms\n",
      "image 738/1243 c:\\Users\\admin\\Desktop\\python ds\\cvprojects\\pothole detection\\potholesdata\\images\\img-543.jpg: 288x320 2 potholes, 74.0ms\n",
      "image 739/1243 c:\\Users\\admin\\Desktop\\python ds\\cvprojects\\pothole detection\\potholesdata\\images\\img-544.jpg: 256x320 3 potholes, 71.0ms\n",
      "image 740/1243 c:\\Users\\admin\\Desktop\\python ds\\cvprojects\\pothole detection\\potholesdata\\images\\img-545.jpg: 160x320 2 potholes, 54.0ms\n",
      "image 741/1243 c:\\Users\\admin\\Desktop\\python ds\\cvprojects\\pothole detection\\potholesdata\\images\\img-546.jpg: 224x320 1 pothole, 63.0ms\n",
      "image 742/1243 c:\\Users\\admin\\Desktop\\python ds\\cvprojects\\pothole detection\\potholesdata\\images\\img-547.jpg: 320x256 3 potholes, 68.0ms\n",
      "image 743/1243 c:\\Users\\admin\\Desktop\\python ds\\cvprojects\\pothole detection\\potholesdata\\images\\img-548.jpg: 224x320 1 pothole, 71.0ms\n",
      "image 744/1243 c:\\Users\\admin\\Desktop\\python ds\\cvprojects\\pothole detection\\potholesdata\\images\\img-549.jpg: 256x320 2 potholes, 69.0ms\n",
      "image 745/1243 c:\\Users\\admin\\Desktop\\python ds\\cvprojects\\pothole detection\\potholesdata\\images\\img-55.jpg: 320x320 8 potholes, 80.0ms\n",
      "image 746/1243 c:\\Users\\admin\\Desktop\\python ds\\cvprojects\\pothole detection\\potholesdata\\images\\img-550.jpg: 256x320 7 potholes, 123.0ms\n",
      "image 747/1243 c:\\Users\\admin\\Desktop\\python ds\\cvprojects\\pothole detection\\potholesdata\\images\\img-551.jpg: 192x320 9 potholes, 59.0ms\n",
      "image 748/1243 c:\\Users\\admin\\Desktop\\python ds\\cvprojects\\pothole detection\\potholesdata\\images\\img-552.jpg: 256x320 19 potholes, 75.0ms\n",
      "image 749/1243 c:\\Users\\admin\\Desktop\\python ds\\cvprojects\\pothole detection\\potholesdata\\images\\img-553.jpg: 224x320 2 potholes, 65.0ms\n",
      "image 750/1243 c:\\Users\\admin\\Desktop\\python ds\\cvprojects\\pothole detection\\potholesdata\\images\\img-554.jpg: 192x320 7 potholes, 59.0ms\n",
      "image 751/1243 c:\\Users\\admin\\Desktop\\python ds\\cvprojects\\pothole detection\\potholesdata\\images\\img-555.jpg: 256x320 1 pothole, 70.0ms\n",
      "image 752/1243 c:\\Users\\admin\\Desktop\\python ds\\cvprojects\\pothole detection\\potholesdata\\images\\img-556.jpg: 256x320 4 potholes, 70.0ms\n",
      "image 753/1243 c:\\Users\\admin\\Desktop\\python ds\\cvprojects\\pothole detection\\potholesdata\\images\\img-557.jpg: 256x320 1 pothole, 70.0ms\n",
      "image 754/1243 c:\\Users\\admin\\Desktop\\python ds\\cvprojects\\pothole detection\\potholesdata\\images\\img-558.jpg: 256x320 4 potholes, 68.0ms\n",
      "image 755/1243 c:\\Users\\admin\\Desktop\\python ds\\cvprojects\\pothole detection\\potholesdata\\images\\img-559.jpg: 192x320 1 pothole, 60.0ms\n",
      "image 756/1243 c:\\Users\\admin\\Desktop\\python ds\\cvprojects\\pothole detection\\potholesdata\\images\\img-56.jpg: 320x320 1 pothole, 81.0ms\n",
      "image 757/1243 c:\\Users\\admin\\Desktop\\python ds\\cvprojects\\pothole detection\\potholesdata\\images\\img-560.jpg: 224x320 3 potholes, 67.0ms\n",
      "image 758/1243 c:\\Users\\admin\\Desktop\\python ds\\cvprojects\\pothole detection\\potholesdata\\images\\img-561.jpg: 256x320 7 potholes, 70.0ms\n",
      "image 759/1243 c:\\Users\\admin\\Desktop\\python ds\\cvprojects\\pothole detection\\potholesdata\\images\\img-562.jpg: 256x320 3 potholes, 68.0ms\n",
      "image 760/1243 c:\\Users\\admin\\Desktop\\python ds\\cvprojects\\pothole detection\\potholesdata\\images\\img-563.jpg: 192x320 2 potholes, 59.0ms\n",
      "image 761/1243 c:\\Users\\admin\\Desktop\\python ds\\cvprojects\\pothole detection\\potholesdata\\images\\img-564.jpg: 256x320 9 potholes, 71.0ms\n",
      "image 762/1243 c:\\Users\\admin\\Desktop\\python ds\\cvprojects\\pothole detection\\potholesdata\\images\\img-565.jpg: 256x320 2 potholes, 121.0ms\n",
      "image 763/1243 c:\\Users\\admin\\Desktop\\python ds\\cvprojects\\pothole detection\\potholesdata\\images\\img-566.jpg: 224x320 7 potholes, 64.0ms\n",
      "image 764/1243 c:\\Users\\admin\\Desktop\\python ds\\cvprojects\\pothole detection\\potholesdata\\images\\img-567.jpg: 224x320 1 pothole, 121.9ms\n",
      "image 765/1243 c:\\Users\\admin\\Desktop\\python ds\\cvprojects\\pothole detection\\potholesdata\\images\\img-568.jpg: 256x320 2 potholes, 77.0ms\n",
      "image 766/1243 c:\\Users\\admin\\Desktop\\python ds\\cvprojects\\pothole detection\\potholesdata\\images\\img-569.jpg: 256x320 3 potholes, 87.9ms\n",
      "image 767/1243 c:\\Users\\admin\\Desktop\\python ds\\cvprojects\\pothole detection\\potholesdata\\images\\img-57.jpg: 320x320 1 pothole, 83.0ms\n",
      "image 768/1243 c:\\Users\\admin\\Desktop\\python ds\\cvprojects\\pothole detection\\potholesdata\\images\\img-570.jpg: 192x320 4 potholes, 71.0ms\n",
      "image 769/1243 c:\\Users\\admin\\Desktop\\python ds\\cvprojects\\pothole detection\\potholesdata\\images\\img-571.jpg: 192x320 14 potholes, 68.0ms\n",
      "image 770/1243 c:\\Users\\admin\\Desktop\\python ds\\cvprojects\\pothole detection\\potholesdata\\images\\img-572.jpg: 192x320 1 pothole, 69.0ms\n",
      "image 771/1243 c:\\Users\\admin\\Desktop\\python ds\\cvprojects\\pothole detection\\potholesdata\\images\\img-573.jpg: 192x320 1 pothole, 58.0ms\n",
      "image 772/1243 c:\\Users\\admin\\Desktop\\python ds\\cvprojects\\pothole detection\\potholesdata\\images\\img-574.jpg: 224x320 9 potholes, 64.1ms\n",
      "image 773/1243 c:\\Users\\admin\\Desktop\\python ds\\cvprojects\\pothole detection\\potholesdata\\images\\img-575.jpg: 256x320 3 potholes, 78.1ms\n",
      "image 774/1243 c:\\Users\\admin\\Desktop\\python ds\\cvprojects\\pothole detection\\potholesdata\\images\\img-576.jpg: 256x320 1 pothole, 76.0ms\n",
      "image 775/1243 c:\\Users\\admin\\Desktop\\python ds\\cvprojects\\pothole detection\\potholesdata\\images\\img-577.jpg: 224x320 16 potholes, 101.0ms\n",
      "image 776/1243 c:\\Users\\admin\\Desktop\\python ds\\cvprojects\\pothole detection\\potholesdata\\images\\img-578.jpg: 224x320 1 pothole, 78.0ms\n",
      "image 777/1243 c:\\Users\\admin\\Desktop\\python ds\\cvprojects\\pothole detection\\potholesdata\\images\\img-579.jpg: 256x320 2 potholes, 74.0ms\n",
      "image 778/1243 c:\\Users\\admin\\Desktop\\python ds\\cvprojects\\pothole detection\\potholesdata\\images\\img-58.jpg: 320x320 4 potholes, 94.9ms\n",
      "image 779/1243 c:\\Users\\admin\\Desktop\\python ds\\cvprojects\\pothole detection\\potholesdata\\images\\img-580.jpg: 192x320 3 potholes, 74.0ms\n",
      "image 780/1243 c:\\Users\\admin\\Desktop\\python ds\\cvprojects\\pothole detection\\potholesdata\\images\\img-581.jpg: 224x320 7 potholes, 78.0ms\n",
      "image 781/1243 c:\\Users\\admin\\Desktop\\python ds\\cvprojects\\pothole detection\\potholesdata\\images\\img-582.jpg: 224x320 1 pothole, 80.0ms\n",
      "image 782/1243 c:\\Users\\admin\\Desktop\\python ds\\cvprojects\\pothole detection\\potholesdata\\images\\img-583.jpg: 192x320 2 potholes, 60.0ms\n",
      "image 783/1243 c:\\Users\\admin\\Desktop\\python ds\\cvprojects\\pothole detection\\potholesdata\\images\\img-584.jpg: 224x320 2 potholes, 165.9ms\n",
      "image 784/1243 c:\\Users\\admin\\Desktop\\python ds\\cvprojects\\pothole detection\\potholesdata\\images\\img-585.jpg: 224x320 6 potholes, 70.0ms\n",
      "image 785/1243 c:\\Users\\admin\\Desktop\\python ds\\cvprojects\\pothole detection\\potholesdata\\images\\img-586.jpg: 256x320 1 pothole, 87.0ms\n",
      "image 786/1243 c:\\Users\\admin\\Desktop\\python ds\\cvprojects\\pothole detection\\potholesdata\\images\\img-587.jpg: 192x320 3 potholes, 68.0ms\n",
      "image 787/1243 c:\\Users\\admin\\Desktop\\python ds\\cvprojects\\pothole detection\\potholesdata\\images\\img-588.jpg: 224x320 1 pothole, 77.0ms\n",
      "image 788/1243 c:\\Users\\admin\\Desktop\\python ds\\cvprojects\\pothole detection\\potholesdata\\images\\img-589.jpg: 224x320 7 potholes, 81.0ms\n",
      "image 789/1243 c:\\Users\\admin\\Desktop\\python ds\\cvprojects\\pothole detection\\potholesdata\\images\\img-59.jpg: 320x320 2 potholes, 94.9ms\n",
      "image 790/1243 c:\\Users\\admin\\Desktop\\python ds\\cvprojects\\pothole detection\\potholesdata\\images\\img-590.jpg: 192x320 1 pothole, 289.8ms\n",
      "image 791/1243 c:\\Users\\admin\\Desktop\\python ds\\cvprojects\\pothole detection\\potholesdata\\images\\img-591.jpg: 192x320 2 potholes, 76.0ms\n",
      "image 792/1243 c:\\Users\\admin\\Desktop\\python ds\\cvprojects\\pothole detection\\potholesdata\\images\\img-592.jpg: 288x320 1 pothole, 84.0ms\n",
      "image 793/1243 c:\\Users\\admin\\Desktop\\python ds\\cvprojects\\pothole detection\\potholesdata\\images\\img-593.jpg: 192x320 3 potholes, 73.0ms\n",
      "image 794/1243 c:\\Users\\admin\\Desktop\\python ds\\cvprojects\\pothole detection\\potholesdata\\images\\img-594.jpg: 224x320 6 potholes, 78.0ms\n",
      "image 795/1243 c:\\Users\\admin\\Desktop\\python ds\\cvprojects\\pothole detection\\potholesdata\\images\\img-595.jpg: 320x320 27 potholes, 154.3ms\n",
      "image 796/1243 c:\\Users\\admin\\Desktop\\python ds\\cvprojects\\pothole detection\\potholesdata\\images\\img-596.jpg: 224x320 1 pothole, 197.0ms\n",
      "image 797/1243 c:\\Users\\admin\\Desktop\\python ds\\cvprojects\\pothole detection\\potholesdata\\images\\img-597.jpg: 224x320 3 potholes, 76.0ms\n",
      "image 798/1243 c:\\Users\\admin\\Desktop\\python ds\\cvprojects\\pothole detection\\potholesdata\\images\\img-598.jpg: 192x320 5 potholes, 63.0ms\n",
      "image 799/1243 c:\\Users\\admin\\Desktop\\python ds\\cvprojects\\pothole detection\\potholesdata\\images\\img-599.jpg: 192x320 17 potholes, 73.0ms\n",
      "image 800/1243 c:\\Users\\admin\\Desktop\\python ds\\cvprojects\\pothole detection\\potholesdata\\images\\img-6.jpg: 320x320 2 potholes, 93.9ms\n",
      "image 801/1243 c:\\Users\\admin\\Desktop\\python ds\\cvprojects\\pothole detection\\potholesdata\\images\\img-60.jpg: 320x320 2 potholes, 88.0ms\n",
      "image 802/1243 c:\\Users\\admin\\Desktop\\python ds\\cvprojects\\pothole detection\\potholesdata\\images\\img-600.jpg: 224x320 3 potholes, 73.0ms\n",
      "image 803/1243 c:\\Users\\admin\\Desktop\\python ds\\cvprojects\\pothole detection\\potholesdata\\images\\img-601.jpg: 224x320 3 potholes, 74.0ms\n",
      "image 804/1243 c:\\Users\\admin\\Desktop\\python ds\\cvprojects\\pothole detection\\potholesdata\\images\\img-602.jpg: 192x320 1 pothole, 71.0ms\n",
      "image 805/1243 c:\\Users\\admin\\Desktop\\python ds\\cvprojects\\pothole detection\\potholesdata\\images\\img-603.jpg: 320x192 1 pothole, 87.0ms\n",
      "image 806/1243 c:\\Users\\admin\\Desktop\\python ds\\cvprojects\\pothole detection\\potholesdata\\images\\img-604.jpg: 224x320 9 potholes, 69.0ms\n",
      "image 807/1243 c:\\Users\\admin\\Desktop\\python ds\\cvprojects\\pothole detection\\potholesdata\\images\\img-605.jpg: 256x320 1 pothole, 118.9ms\n",
      "image 808/1243 c:\\Users\\admin\\Desktop\\python ds\\cvprojects\\pothole detection\\potholesdata\\images\\img-606.jpg: 160x320 1 pothole, 54.0ms\n",
      "image 809/1243 c:\\Users\\admin\\Desktop\\python ds\\cvprojects\\pothole detection\\potholesdata\\images\\img-607.jpg: 224x320 1 pothole, 80.0ms\n",
      "image 810/1243 c:\\Users\\admin\\Desktop\\python ds\\cvprojects\\pothole detection\\potholesdata\\images\\img-608.jpg: 320x288 1 pothole, 95.9ms\n",
      "image 811/1243 c:\\Users\\admin\\Desktop\\python ds\\cvprojects\\pothole detection\\potholesdata\\images\\img-609.jpg: 256x320 4 potholes, 80.0ms\n",
      "image 812/1243 c:\\Users\\admin\\Desktop\\python ds\\cvprojects\\pothole detection\\potholesdata\\images\\img-61.jpg: 320x320 2 potholes, 97.9ms\n",
      "image 813/1243 c:\\Users\\admin\\Desktop\\python ds\\cvprojects\\pothole detection\\potholesdata\\images\\img-610.jpg: 320x256 3 potholes, 76.0ms\n",
      "image 814/1243 c:\\Users\\admin\\Desktop\\python ds\\cvprojects\\pothole detection\\potholesdata\\images\\img-611.jpg: 224x320 1 pothole, 77.0ms\n",
      "image 815/1243 c:\\Users\\admin\\Desktop\\python ds\\cvprojects\\pothole detection\\potholesdata\\images\\img-612.jpg: 256x320 7 potholes, 80.0ms\n",
      "image 816/1243 c:\\Users\\admin\\Desktop\\python ds\\cvprojects\\pothole detection\\potholesdata\\images\\img-613.jpg: 192x320 3 potholes, 77.0ms\n",
      "image 817/1243 c:\\Users\\admin\\Desktop\\python ds\\cvprojects\\pothole detection\\potholesdata\\images\\img-614.jpg: 224x320 2 potholes, 71.0ms\n",
      "image 818/1243 c:\\Users\\admin\\Desktop\\python ds\\cvprojects\\pothole detection\\potholesdata\\images\\img-615.jpg: 224x320 1 pothole, 98.9ms\n",
      "image 819/1243 c:\\Users\\admin\\Desktop\\python ds\\cvprojects\\pothole detection\\potholesdata\\images\\img-616.jpg: 224x320 4 potholes, 72.0ms\n",
      "image 820/1243 c:\\Users\\admin\\Desktop\\python ds\\cvprojects\\pothole detection\\potholesdata\\images\\img-617.jpg: 224x320 5 potholes, 69.0ms\n",
      "image 821/1243 c:\\Users\\admin\\Desktop\\python ds\\cvprojects\\pothole detection\\potholesdata\\images\\img-618.jpg: 192x320 5 potholes, 68.0ms\n",
      "image 822/1243 c:\\Users\\admin\\Desktop\\python ds\\cvprojects\\pothole detection\\potholesdata\\images\\img-619.jpg: 224x320 1 pothole, 66.0ms\n",
      "image 823/1243 c:\\Users\\admin\\Desktop\\python ds\\cvprojects\\pothole detection\\potholesdata\\images\\img-62.jpg: 320x320 2 potholes, 103.9ms\n",
      "image 824/1243 c:\\Users\\admin\\Desktop\\python ds\\cvprojects\\pothole detection\\potholesdata\\images\\img-620.jpg: 192x320 1 pothole, 57.0ms\n",
      "image 825/1243 c:\\Users\\admin\\Desktop\\python ds\\cvprojects\\pothole detection\\potholesdata\\images\\img-621.jpg: 320x320 7 potholes, 90.9ms\n",
      "image 826/1243 c:\\Users\\admin\\Desktop\\python ds\\cvprojects\\pothole detection\\potholesdata\\images\\img-622.jpg: 160x320 5 potholes, 62.0ms\n",
      "image 827/1243 c:\\Users\\admin\\Desktop\\python ds\\cvprojects\\pothole detection\\potholesdata\\images\\img-623.jpg: 192x320 1 pothole, 99.9ms\n",
      "image 828/1243 c:\\Users\\admin\\Desktop\\python ds\\cvprojects\\pothole detection\\potholesdata\\images\\img-624.jpg: 256x320 8 potholes, 79.0ms\n",
      "image 829/1243 c:\\Users\\admin\\Desktop\\python ds\\cvprojects\\pothole detection\\potholesdata\\images\\img-625.jpg: 192x320 3 potholes, 115.9ms\n",
      "image 830/1243 c:\\Users\\admin\\Desktop\\python ds\\cvprojects\\pothole detection\\potholesdata\\images\\img-626.jpg: 224x320 2 potholes, 71.0ms\n",
      "image 831/1243 c:\\Users\\admin\\Desktop\\python ds\\cvprojects\\pothole detection\\potholesdata\\images\\img-627.jpg: 160x320 3 potholes, 58.0ms\n",
      "image 832/1243 c:\\Users\\admin\\Desktop\\python ds\\cvprojects\\pothole detection\\potholesdata\\images\\img-628.jpg: 224x320 1 pothole, 71.0ms\n",
      "image 833/1243 c:\\Users\\admin\\Desktop\\python ds\\cvprojects\\pothole detection\\potholesdata\\images\\img-629.jpg: 256x320 2 potholes, 81.0ms\n",
      "image 834/1243 c:\\Users\\admin\\Desktop\\python ds\\cvprojects\\pothole detection\\potholesdata\\images\\img-63.jpg: 320x320 2 potholes, 94.9ms\n",
      "image 835/1243 c:\\Users\\admin\\Desktop\\python ds\\cvprojects\\pothole detection\\potholesdata\\images\\img-630.jpg: 224x320 4 potholes, 74.0ms\n",
      "image 836/1243 c:\\Users\\admin\\Desktop\\python ds\\cvprojects\\pothole detection\\potholesdata\\images\\img-631.jpg: 224x320 5 potholes, 70.0ms\n",
      "image 837/1243 c:\\Users\\admin\\Desktop\\python ds\\cvprojects\\pothole detection\\potholesdata\\images\\img-632.jpg: 224x320 2 potholes, 77.0ms\n",
      "image 838/1243 c:\\Users\\admin\\Desktop\\python ds\\cvprojects\\pothole detection\\potholesdata\\images\\img-633.jpg: 256x320 1 pothole, 81.0ms\n",
      "image 839/1243 c:\\Users\\admin\\Desktop\\python ds\\cvprojects\\pothole detection\\potholesdata\\images\\img-634.jpg: 224x320 11 potholes, 72.0ms\n",
      "image 840/1243 c:\\Users\\admin\\Desktop\\python ds\\cvprojects\\pothole detection\\potholesdata\\images\\img-635.jpg: 320x320 2 potholes, 107.0ms\n",
      "image 841/1243 c:\\Users\\admin\\Desktop\\python ds\\cvprojects\\pothole detection\\potholesdata\\images\\img-636.jpg: 224x320 6 potholes, 75.0ms\n",
      "image 842/1243 c:\\Users\\admin\\Desktop\\python ds\\cvprojects\\pothole detection\\potholesdata\\images\\img-637.jpg: 224x320 3 potholes, 64.0ms\n",
      "image 843/1243 c:\\Users\\admin\\Desktop\\python ds\\cvprojects\\pothole detection\\potholesdata\\images\\img-638.jpg: 192x320 1 pothole, 61.0ms\n",
      "image 844/1243 c:\\Users\\admin\\Desktop\\python ds\\cvprojects\\pothole detection\\potholesdata\\images\\img-639.jpg: 192x320 2 potholes, 59.0ms\n",
      "image 845/1243 c:\\Users\\admin\\Desktop\\python ds\\cvprojects\\pothole detection\\potholesdata\\images\\img-64.jpg: 320x320 2 potholes, 83.0ms\n",
      "image 846/1243 c:\\Users\\admin\\Desktop\\python ds\\cvprojects\\pothole detection\\potholesdata\\images\\img-640.jpg: 256x320 1 pothole, 80.0ms\n",
      "image 847/1243 c:\\Users\\admin\\Desktop\\python ds\\cvprojects\\pothole detection\\potholesdata\\images\\img-641.jpg: 224x320 2 potholes, 65.0ms\n",
      "image 848/1243 c:\\Users\\admin\\Desktop\\python ds\\cvprojects\\pothole detection\\potholesdata\\images\\img-642.jpg: 320x256 5 potholes, 72.0ms\n",
      "image 849/1243 c:\\Users\\admin\\Desktop\\python ds\\cvprojects\\pothole detection\\potholesdata\\images\\img-643.jpg: 256x320 1 pothole, 71.0ms\n",
      "image 850/1243 c:\\Users\\admin\\Desktop\\python ds\\cvprojects\\pothole detection\\potholesdata\\images\\img-644.jpg: 320x256 4 potholes, 77.0ms\n",
      "image 851/1243 c:\\Users\\admin\\Desktop\\python ds\\cvprojects\\pothole detection\\potholesdata\\images\\img-645.jpg: 224x320 1 pothole, 81.1ms\n",
      "image 852/1243 c:\\Users\\admin\\Desktop\\python ds\\cvprojects\\pothole detection\\potholesdata\\images\\img-646.jpg: 192x320 1 pothole, 62.0ms\n",
      "image 853/1243 c:\\Users\\admin\\Desktop\\python ds\\cvprojects\\pothole detection\\potholesdata\\images\\img-647.jpg: 192x320 1 pothole, 72.0ms\n",
      "image 854/1243 c:\\Users\\admin\\Desktop\\python ds\\cvprojects\\pothole detection\\potholesdata\\images\\img-648.jpg: 128x320 9 potholes, 57.0ms\n",
      "image 855/1243 c:\\Users\\admin\\Desktop\\python ds\\cvprojects\\pothole detection\\potholesdata\\images\\img-649.jpg: 192x320 2 potholes, 81.0ms\n",
      "image 856/1243 c:\\Users\\admin\\Desktop\\python ds\\cvprojects\\pothole detection\\potholesdata\\images\\img-65.jpg: 320x320 2 potholes, 99.9ms\n",
      "image 857/1243 c:\\Users\\admin\\Desktop\\python ds\\cvprojects\\pothole detection\\potholesdata\\images\\img-650.jpg: 224x320 3 potholes, 88.9ms\n",
      "image 858/1243 c:\\Users\\admin\\Desktop\\python ds\\cvprojects\\pothole detection\\potholesdata\\images\\img-651.jpg: 256x320 1 pothole, 358.9ms\n",
      "image 859/1243 c:\\Users\\admin\\Desktop\\python ds\\cvprojects\\pothole detection\\potholesdata\\images\\img-652.jpg: 224x320 3 potholes, 77.0ms\n",
      "image 860/1243 c:\\Users\\admin\\Desktop\\python ds\\cvprojects\\pothole detection\\potholesdata\\images\\img-653.jpg: 224x320 4 potholes, 75.0ms\n",
      "image 861/1243 c:\\Users\\admin\\Desktop\\python ds\\cvprojects\\pothole detection\\potholesdata\\images\\img-654.jpg: 224x320 3 potholes, 69.0ms\n",
      "image 862/1243 c:\\Users\\admin\\Desktop\\python ds\\cvprojects\\pothole detection\\potholesdata\\images\\img-655.jpg: 192x320 8 potholes, 72.0ms\n",
      "image 863/1243 c:\\Users\\admin\\Desktop\\python ds\\cvprojects\\pothole detection\\potholesdata\\images\\img-656.jpg: 320x224 1 pothole, 125.1ms\n",
      "image 864/1243 c:\\Users\\admin\\Desktop\\python ds\\cvprojects\\pothole detection\\potholesdata\\images\\img-657.jpg: 256x320 1 pothole, 82.5ms\n",
      "image 865/1243 c:\\Users\\admin\\Desktop\\python ds\\cvprojects\\pothole detection\\potholesdata\\images\\img-658.jpg: 320x256 3 potholes, 83.0ms\n",
      "image 866/1243 c:\\Users\\admin\\Desktop\\python ds\\cvprojects\\pothole detection\\potholesdata\\images\\img-659.jpg: 192x320 1 pothole, 82.0ms\n",
      "image 867/1243 c:\\Users\\admin\\Desktop\\python ds\\cvprojects\\pothole detection\\potholesdata\\images\\img-66.jpg: 320x320 6 potholes, 93.9ms\n",
      "image 868/1243 c:\\Users\\admin\\Desktop\\python ds\\cvprojects\\pothole detection\\potholesdata\\images\\img-660.jpg: 224x320 3 potholes, 106.2ms\n",
      "image 869/1243 c:\\Users\\admin\\Desktop\\python ds\\cvprojects\\pothole detection\\potholesdata\\images\\img-661.jpg: 192x320 1 pothole, 73.0ms\n",
      "image 870/1243 c:\\Users\\admin\\Desktop\\python ds\\cvprojects\\pothole detection\\potholesdata\\images\\img-662.jpg: 224x320 8 potholes, 73.0ms\n",
      "image 871/1243 c:\\Users\\admin\\Desktop\\python ds\\cvprojects\\pothole detection\\potholesdata\\images\\img-663.jpg: 288x320 12 potholes, 141.1ms\n",
      "image 872/1243 c:\\Users\\admin\\Desktop\\python ds\\cvprojects\\pothole detection\\potholesdata\\images\\img-664.jpg: 256x320 1 pothole, 74.0ms\n",
      "image 873/1243 c:\\Users\\admin\\Desktop\\python ds\\cvprojects\\pothole detection\\potholesdata\\images\\img-665.jpg: 224x320 1 pothole, 74.0ms\n",
      "image 874/1243 c:\\Users\\admin\\Desktop\\python ds\\cvprojects\\pothole detection\\potholesdata\\images\\img-666.jpg: 192x320 6 potholes, 72.0ms\n",
      "image 875/1243 c:\\Users\\admin\\Desktop\\python ds\\cvprojects\\pothole detection\\potholesdata\\images\\img-667.jpg: 224x320 4 potholes, 122.9ms\n",
      "image 876/1243 c:\\Users\\admin\\Desktop\\python ds\\cvprojects\\pothole detection\\potholesdata\\images\\img-668.jpg: 288x320 17 potholes, 137.0ms\n",
      "image 877/1243 c:\\Users\\admin\\Desktop\\python ds\\cvprojects\\pothole detection\\potholesdata\\images\\img-669.jpg: 320x288 2 potholes, 105.9ms\n",
      "image 878/1243 c:\\Users\\admin\\Desktop\\python ds\\cvprojects\\pothole detection\\potholesdata\\images\\img-67.jpg: 320x320 3 potholes, 100.5ms\n",
      "image 879/1243 c:\\Users\\admin\\Desktop\\python ds\\cvprojects\\pothole detection\\potholesdata\\images\\img-670.jpg: 256x320 3 potholes, 80.0ms\n",
      "image 880/1243 c:\\Users\\admin\\Desktop\\python ds\\cvprojects\\pothole detection\\potholesdata\\images\\img-671.jpg: 256x320 18 potholes, 78.0ms\n",
      "image 881/1243 c:\\Users\\admin\\Desktop\\python ds\\cvprojects\\pothole detection\\potholesdata\\images\\img-672.jpg: 224x320 2 potholes, 85.9ms\n",
      "image 882/1243 c:\\Users\\admin\\Desktop\\python ds\\cvprojects\\pothole detection\\potholesdata\\images\\img-673.jpg: 320x224 8 potholes, 76.0ms\n",
      "image 883/1243 c:\\Users\\admin\\Desktop\\python ds\\cvprojects\\pothole detection\\potholesdata\\images\\img-674.jpg: 320x224 4 potholes, 402.3ms\n",
      "image 884/1243 c:\\Users\\admin\\Desktop\\python ds\\cvprojects\\pothole detection\\potholesdata\\images\\img-675.jpg: 320x224 4 potholes, 78.0ms\n",
      "image 885/1243 c:\\Users\\admin\\Desktop\\python ds\\cvprojects\\pothole detection\\potholesdata\\images\\img-676.jpg: 320x256 1 pothole, 82.0ms\n",
      "image 886/1243 c:\\Users\\admin\\Desktop\\python ds\\cvprojects\\pothole detection\\potholesdata\\images\\img-677.jpg: 256x320 7 potholes, 78.0ms\n",
      "image 887/1243 c:\\Users\\admin\\Desktop\\python ds\\cvprojects\\pothole detection\\potholesdata\\images\\img-678.jpg: 224x320 1 pothole, 80.0ms\n",
      "image 888/1243 c:\\Users\\admin\\Desktop\\python ds\\cvprojects\\pothole detection\\potholesdata\\images\\img-679.jpg: 320x224 4 potholes, 73.0ms\n",
      "image 889/1243 c:\\Users\\admin\\Desktop\\python ds\\cvprojects\\pothole detection\\potholesdata\\images\\img-68.jpg: 320x320 3 potholes, 132.9ms\n",
      "image 890/1243 c:\\Users\\admin\\Desktop\\python ds\\cvprojects\\pothole detection\\potholesdata\\images\\img-680.jpg: 256x320 4 potholes, 209.4ms\n",
      "image 891/1243 c:\\Users\\admin\\Desktop\\python ds\\cvprojects\\pothole detection\\potholesdata\\images\\img-681.jpg: 320x224 4 potholes, 71.0ms\n",
      "image 892/1243 c:\\Users\\admin\\Desktop\\python ds\\cvprojects\\pothole detection\\potholesdata\\images\\img-682.jpg: 224x320 1 pothole, 80.0ms\n",
      "image 893/1243 c:\\Users\\admin\\Desktop\\python ds\\cvprojects\\pothole detection\\potholesdata\\images\\img-683.jpg: 224x320 3 potholes, 74.0ms\n",
      "image 894/1243 c:\\Users\\admin\\Desktop\\python ds\\cvprojects\\pothole detection\\potholesdata\\images\\img-684.jpg: 320x256 2 potholes, 77.0ms\n",
      "image 895/1243 c:\\Users\\admin\\Desktop\\python ds\\cvprojects\\pothole detection\\potholesdata\\images\\img-685.jpg: 224x320 5 potholes, 73.0ms\n",
      "image 896/1243 c:\\Users\\admin\\Desktop\\python ds\\cvprojects\\pothole detection\\potholesdata\\images\\img-686.jpg: 224x320 1 pothole, 72.0ms\n",
      "image 897/1243 c:\\Users\\admin\\Desktop\\python ds\\cvprojects\\pothole detection\\potholesdata\\images\\img-687.jpg: 320x224 2 potholes, 72.5ms\n",
      "image 898/1243 c:\\Users\\admin\\Desktop\\python ds\\cvprojects\\pothole detection\\potholesdata\\images\\img-688.jpg: 320x224 9 potholes, 72.0ms\n",
      "image 899/1243 c:\\Users\\admin\\Desktop\\python ds\\cvprojects\\pothole detection\\potholesdata\\images\\img-689.jpg: 224x320 3 potholes, 78.0ms\n",
      "image 900/1243 c:\\Users\\admin\\Desktop\\python ds\\cvprojects\\pothole detection\\potholesdata\\images\\img-69.jpg: 320x320 1 pothole, 94.9ms\n",
      "image 901/1243 c:\\Users\\admin\\Desktop\\python ds\\cvprojects\\pothole detection\\potholesdata\\images\\img-690.jpg: 320x224 6 potholes, 75.0ms\n",
      "image 902/1243 c:\\Users\\admin\\Desktop\\python ds\\cvprojects\\pothole detection\\potholesdata\\images\\img-691.jpg: 224x320 2 potholes, 121.9ms\n",
      "image 903/1243 c:\\Users\\admin\\Desktop\\python ds\\cvprojects\\pothole detection\\potholesdata\\images\\img-692.jpg: 320x256 5 potholes, 78.0ms\n",
      "image 904/1243 c:\\Users\\admin\\Desktop\\python ds\\cvprojects\\pothole detection\\potholesdata\\images\\img-693.jpg: 256x320 19 potholes, 80.0ms\n",
      "image 905/1243 c:\\Users\\admin\\Desktop\\python ds\\cvprojects\\pothole detection\\potholesdata\\images\\img-694.jpg: 320x224 1 pothole, 83.0ms\n",
      "image 906/1243 c:\\Users\\admin\\Desktop\\python ds\\cvprojects\\pothole detection\\potholesdata\\images\\img-695.jpg: 256x320 1 pothole, 77.0ms\n",
      "image 907/1243 c:\\Users\\admin\\Desktop\\python ds\\cvprojects\\pothole detection\\potholesdata\\images\\img-696.jpg: 320x256 3 potholes, 75.0ms\n",
      "image 908/1243 c:\\Users\\admin\\Desktop\\python ds\\cvprojects\\pothole detection\\potholesdata\\images\\img-697.jpg: 224x320 1 pothole, 70.0ms\n",
      "image 909/1243 c:\\Users\\admin\\Desktop\\python ds\\cvprojects\\pothole detection\\potholesdata\\images\\img-698.jpg: 224x320 2 potholes, 69.0ms\n",
      "image 910/1243 c:\\Users\\admin\\Desktop\\python ds\\cvprojects\\pothole detection\\potholesdata\\images\\img-699.jpg: 320x288 1 pothole, 88.0ms\n",
      "image 911/1243 c:\\Users\\admin\\Desktop\\python ds\\cvprojects\\pothole detection\\potholesdata\\images\\img-7.jpg: 320x320 1 pothole, 81.0ms\n",
      "image 912/1243 c:\\Users\\admin\\Desktop\\python ds\\cvprojects\\pothole detection\\potholesdata\\images\\img-70.jpg: 320x320 2 potholes, 79.0ms\n",
      "image 913/1243 c:\\Users\\admin\\Desktop\\python ds\\cvprojects\\pothole detection\\potholesdata\\images\\img-700.jpg: 256x320 2 potholes, 74.0ms\n",
      "image 914/1243 c:\\Users\\admin\\Desktop\\python ds\\cvprojects\\pothole detection\\potholesdata\\images\\img-701.jpg: 224x320 7 potholes, 80.0ms\n",
      "image 915/1243 c:\\Users\\admin\\Desktop\\python ds\\cvprojects\\pothole detection\\potholesdata\\images\\img-702.jpg: 224x320 3 potholes, 467.7ms\n",
      "image 916/1243 c:\\Users\\admin\\Desktop\\python ds\\cvprojects\\pothole detection\\potholesdata\\images\\img-703.jpg: 224x320 12 potholes, 62.5ms\n",
      "image 917/1243 c:\\Users\\admin\\Desktop\\python ds\\cvprojects\\pothole detection\\potholesdata\\images\\img-704.jpg: 320x192 1 pothole, 79.3ms\n",
      "image 918/1243 c:\\Users\\admin\\Desktop\\python ds\\cvprojects\\pothole detection\\potholesdata\\images\\img-705.jpg: 192x320 5 potholes, 60.0ms\n",
      "image 919/1243 c:\\Users\\admin\\Desktop\\python ds\\cvprojects\\pothole detection\\potholesdata\\images\\img-706.jpg: 224x320 11 potholes, 73.2ms\n",
      "image 920/1243 c:\\Users\\admin\\Desktop\\python ds\\cvprojects\\pothole detection\\potholesdata\\images\\img-707.jpg: 224x320 1 pothole, 67.9ms\n",
      "image 921/1243 c:\\Users\\admin\\Desktop\\python ds\\cvprojects\\pothole detection\\potholesdata\\images\\img-708.jpg: 224x320 (no detections), 65.2ms\n",
      "image 922/1243 c:\\Users\\admin\\Desktop\\python ds\\cvprojects\\pothole detection\\potholesdata\\images\\img-709.jpg: 224x320 7 potholes, 65.7ms\n",
      "image 923/1243 c:\\Users\\admin\\Desktop\\python ds\\cvprojects\\pothole detection\\potholesdata\\images\\img-71.jpg: 320x320 2 potholes, 109.4ms\n",
      "image 924/1243 c:\\Users\\admin\\Desktop\\python ds\\cvprojects\\pothole detection\\potholesdata\\images\\img-710.jpg: 224x320 5 potholes, 65.3ms\n",
      "image 925/1243 c:\\Users\\admin\\Desktop\\python ds\\cvprojects\\pothole detection\\potholesdata\\images\\img-711.jpg: 224x320 2 potholes, 60.5ms\n",
      "image 926/1243 c:\\Users\\admin\\Desktop\\python ds\\cvprojects\\pothole detection\\potholesdata\\images\\img-712.jpg: 224x320 3 potholes, 87.9ms\n",
      "image 927/1243 c:\\Users\\admin\\Desktop\\python ds\\cvprojects\\pothole detection\\potholesdata\\images\\img-713.jpg: 224x320 7 potholes, 69.0ms\n",
      "image 928/1243 c:\\Users\\admin\\Desktop\\python ds\\cvprojects\\pothole detection\\potholesdata\\images\\img-714.jpg: 224x320 1 pothole, 62.5ms\n",
      "image 929/1243 c:\\Users\\admin\\Desktop\\python ds\\cvprojects\\pothole detection\\potholesdata\\images\\img-715.jpg: 192x320 1 pothole, 76.8ms\n",
      "image 930/1243 c:\\Users\\admin\\Desktop\\python ds\\cvprojects\\pothole detection\\potholesdata\\images\\img-716.jpg: 224x320 3 potholes, 66.7ms\n",
      "image 931/1243 c:\\Users\\admin\\Desktop\\python ds\\cvprojects\\pothole detection\\potholesdata\\images\\img-717.jpg: 224x320 2 potholes, 71.0ms\n",
      "image 932/1243 c:\\Users\\admin\\Desktop\\python ds\\cvprojects\\pothole detection\\potholesdata\\images\\img-718.jpg: 192x320 1 pothole, 62.0ms\n",
      "image 933/1243 c:\\Users\\admin\\Desktop\\python ds\\cvprojects\\pothole detection\\potholesdata\\images\\img-719.jpg: 224x320 1 pothole, 71.0ms\n",
      "image 934/1243 c:\\Users\\admin\\Desktop\\python ds\\cvprojects\\pothole detection\\potholesdata\\images\\img-72.jpg: 320x320 1 pothole, 88.0ms\n",
      "image 935/1243 c:\\Users\\admin\\Desktop\\python ds\\cvprojects\\pothole detection\\potholesdata\\images\\img-720.jpg: 224x320 4 potholes, 68.0ms\n",
      "image 936/1243 c:\\Users\\admin\\Desktop\\python ds\\cvprojects\\pothole detection\\potholesdata\\images\\img-721.jpg: 320x288 12 potholes, 81.0ms\n",
      "image 937/1243 c:\\Users\\admin\\Desktop\\python ds\\cvprojects\\pothole detection\\potholesdata\\images\\img-722.jpg: 192x320 4 potholes, 131.6ms\n",
      "image 938/1243 c:\\Users\\admin\\Desktop\\python ds\\cvprojects\\pothole detection\\potholesdata\\images\\img-723.jpg: 160x320 6 potholes, 61.0ms\n",
      "image 939/1243 c:\\Users\\admin\\Desktop\\python ds\\cvprojects\\pothole detection\\potholesdata\\images\\img-724.jpg: 224x320 1 pothole, 101.9ms\n",
      "image 940/1243 c:\\Users\\admin\\Desktop\\python ds\\cvprojects\\pothole detection\\potholesdata\\images\\img-725.jpg: 320x320 17 potholes, 86.0ms\n",
      "image 941/1243 c:\\Users\\admin\\Desktop\\python ds\\cvprojects\\pothole detection\\potholesdata\\images\\img-726.jpg: 256x320 1 pothole, 82.0ms\n",
      "image 942/1243 c:\\Users\\admin\\Desktop\\python ds\\cvprojects\\pothole detection\\potholesdata\\images\\img-727.jpg: 320x224 2 potholes, 82.0ms\n",
      "image 943/1243 c:\\Users\\admin\\Desktop\\python ds\\cvprojects\\pothole detection\\potholesdata\\images\\img-728.jpg: 160x320 4 potholes, 57.0ms\n",
      "image 944/1243 c:\\Users\\admin\\Desktop\\python ds\\cvprojects\\pothole detection\\potholesdata\\images\\img-729.jpg: 256x320 1 pothole, 74.0ms\n",
      "image 945/1243 c:\\Users\\admin\\Desktop\\python ds\\cvprojects\\pothole detection\\potholesdata\\images\\img-73.jpg: 320x320 3 potholes, 90.9ms\n",
      "image 946/1243 c:\\Users\\admin\\Desktop\\python ds\\cvprojects\\pothole detection\\potholesdata\\images\\img-730.jpg: 256x320 4 potholes, 72.0ms\n",
      "image 947/1243 c:\\Users\\admin\\Desktop\\python ds\\cvprojects\\pothole detection\\potholesdata\\images\\img-731.jpg: 224x320 6 potholes, 72.0ms\n",
      "image 948/1243 c:\\Users\\admin\\Desktop\\python ds\\cvprojects\\pothole detection\\potholesdata\\images\\img-732.jpg: 224x320 4 potholes, 73.0ms\n",
      "image 949/1243 c:\\Users\\admin\\Desktop\\python ds\\cvprojects\\pothole detection\\potholesdata\\images\\img-733.jpg: 224x320 4 potholes, 72.0ms\n",
      "image 950/1243 c:\\Users\\admin\\Desktop\\python ds\\cvprojects\\pothole detection\\potholesdata\\images\\img-734.jpg: 224x320 4 potholes, 66.0ms\n",
      "image 951/1243 c:\\Users\\admin\\Desktop\\python ds\\cvprojects\\pothole detection\\potholesdata\\images\\img-735.jpg: 320x256 3 potholes, 78.0ms\n",
      "image 952/1243 c:\\Users\\admin\\Desktop\\python ds\\cvprojects\\pothole detection\\potholesdata\\images\\img-736.jpg: 320x256 5 potholes, 72.0ms\n",
      "image 953/1243 c:\\Users\\admin\\Desktop\\python ds\\cvprojects\\pothole detection\\potholesdata\\images\\img-737.jpg: 192x320 4 potholes, 67.0ms\n",
      "image 954/1243 c:\\Users\\admin\\Desktop\\python ds\\cvprojects\\pothole detection\\potholesdata\\images\\img-738.jpg: 192x320 4 potholes, 67.0ms\n",
      "image 955/1243 c:\\Users\\admin\\Desktop\\python ds\\cvprojects\\pothole detection\\potholesdata\\images\\img-739.jpg: 256x320 20 potholes, 78.0ms\n",
      "image 956/1243 c:\\Users\\admin\\Desktop\\python ds\\cvprojects\\pothole detection\\potholesdata\\images\\img-74.jpg: 320x320 1 pothole, 89.0ms\n",
      "image 957/1243 c:\\Users\\admin\\Desktop\\python ds\\cvprojects\\pothole detection\\potholesdata\\images\\img-740.jpg: 256x320 5 potholes, 71.0ms\n",
      "image 958/1243 c:\\Users\\admin\\Desktop\\python ds\\cvprojects\\pothole detection\\potholesdata\\images\\img-741.jpg: 320x224 3 potholes, 72.0ms\n",
      "image 959/1243 c:\\Users\\admin\\Desktop\\python ds\\cvprojects\\pothole detection\\potholesdata\\images\\img-742.jpg: 224x320 1 pothole, 80.0ms\n",
      "image 960/1243 c:\\Users\\admin\\Desktop\\python ds\\cvprojects\\pothole detection\\potholesdata\\images\\img-743.jpg: 160x320 2 potholes, 61.0ms\n",
      "image 961/1243 c:\\Users\\admin\\Desktop\\python ds\\cvprojects\\pothole detection\\potholesdata\\images\\img-744.jpg: 224x320 2 potholes, 66.5ms\n",
      "image 962/1243 c:\\Users\\admin\\Desktop\\python ds\\cvprojects\\pothole detection\\potholesdata\\images\\img-745.jpg: 192x320 1 pothole, 64.0ms\n",
      "image 963/1243 c:\\Users\\admin\\Desktop\\python ds\\cvprojects\\pothole detection\\potholesdata\\images\\img-746.jpg: 192x320 2 potholes, 66.0ms\n",
      "image 964/1243 c:\\Users\\admin\\Desktop\\python ds\\cvprojects\\pothole detection\\potholesdata\\images\\img-747.jpg: 192x320 2 potholes, 62.0ms\n",
      "image 965/1243 c:\\Users\\admin\\Desktop\\python ds\\cvprojects\\pothole detection\\potholesdata\\images\\img-748.jpg: 224x320 1 pothole, 70.0ms\n",
      "image 966/1243 c:\\Users\\admin\\Desktop\\python ds\\cvprojects\\pothole detection\\potholesdata\\images\\img-749.jpg: 288x320 1 pothole, 84.0ms\n",
      "image 967/1243 c:\\Users\\admin\\Desktop\\python ds\\cvprojects\\pothole detection\\potholesdata\\images\\img-75.jpg: 320x320 1 pothole, 87.9ms\n",
      "image 968/1243 c:\\Users\\admin\\Desktop\\python ds\\cvprojects\\pothole detection\\potholesdata\\images\\img-750.jpg: 320x224 23 potholes, 69.0ms\n",
      "image 969/1243 c:\\Users\\admin\\Desktop\\python ds\\cvprojects\\pothole detection\\potholesdata\\images\\img-751.jpg: 320x320 23 potholes, 146.9ms\n",
      "image 970/1243 c:\\Users\\admin\\Desktop\\python ds\\cvprojects\\pothole detection\\potholesdata\\images\\img-752.jpg: 192x320 2 potholes, 64.0ms\n",
      "image 971/1243 c:\\Users\\admin\\Desktop\\python ds\\cvprojects\\pothole detection\\potholesdata\\images\\img-753.jpg: 224x320 9 potholes, 69.5ms\n",
      "image 972/1243 c:\\Users\\admin\\Desktop\\python ds\\cvprojects\\pothole detection\\potholesdata\\images\\img-754.jpg: 256x320 2 potholes, 128.9ms\n",
      "image 973/1243 c:\\Users\\admin\\Desktop\\python ds\\cvprojects\\pothole detection\\potholesdata\\images\\img-755.jpg: 256x320 4 potholes, 81.5ms\n",
      "image 974/1243 c:\\Users\\admin\\Desktop\\python ds\\cvprojects\\pothole detection\\potholesdata\\images\\img-756.jpg: 224x320 1 pothole, 67.0ms\n",
      "image 975/1243 c:\\Users\\admin\\Desktop\\python ds\\cvprojects\\pothole detection\\potholesdata\\images\\img-757.jpg: 224x320 2 potholes, 71.0ms\n",
      "image 976/1243 c:\\Users\\admin\\Desktop\\python ds\\cvprojects\\pothole detection\\potholesdata\\images\\img-758.jpg: 288x320 15 potholes, 80.9ms\n",
      "image 977/1243 c:\\Users\\admin\\Desktop\\python ds\\cvprojects\\pothole detection\\potholesdata\\images\\img-759.jpg: 224x320 4 potholes, 72.0ms\n",
      "image 978/1243 c:\\Users\\admin\\Desktop\\python ds\\cvprojects\\pothole detection\\potholesdata\\images\\img-76.jpg: 320x320 4 potholes, 92.9ms\n",
      "image 979/1243 c:\\Users\\admin\\Desktop\\python ds\\cvprojects\\pothole detection\\potholesdata\\images\\img-760.jpg: 160x320 3 potholes, 58.0ms\n",
      "image 980/1243 c:\\Users\\admin\\Desktop\\python ds\\cvprojects\\pothole detection\\potholesdata\\images\\img-761.jpg: 256x320 10 potholes, 75.0ms\n",
      "image 981/1243 c:\\Users\\admin\\Desktop\\python ds\\cvprojects\\pothole detection\\potholesdata\\images\\img-762.jpg: 256x320 6 potholes, 78.0ms\n",
      "image 982/1243 c:\\Users\\admin\\Desktop\\python ds\\cvprojects\\pothole detection\\potholesdata\\images\\img-763.jpg: 256x320 1 pothole, 119.0ms\n",
      "image 983/1243 c:\\Users\\admin\\Desktop\\python ds\\cvprojects\\pothole detection\\potholesdata\\images\\img-764.jpg: 320x224 1 pothole, 70.0ms\n",
      "image 984/1243 c:\\Users\\admin\\Desktop\\python ds\\cvprojects\\pothole detection\\potholesdata\\images\\img-765.jpg: 256x320 2 potholes, 77.0ms\n",
      "image 985/1243 c:\\Users\\admin\\Desktop\\python ds\\cvprojects\\pothole detection\\potholesdata\\images\\img-766.jpg: 224x320 4 potholes, 70.0ms\n",
      "image 986/1243 c:\\Users\\admin\\Desktop\\python ds\\cvprojects\\pothole detection\\potholesdata\\images\\img-767.jpg: 288x320 9 potholes, 89.0ms\n",
      "image 987/1243 c:\\Users\\admin\\Desktop\\python ds\\cvprojects\\pothole detection\\potholesdata\\images\\img-768.jpg: 224x320 3 potholes, 62.5ms\n",
      "image 988/1243 c:\\Users\\admin\\Desktop\\python ds\\cvprojects\\pothole detection\\potholesdata\\images\\img-769.jpg: 192x320 1 pothole, 51.4ms\n",
      "image 989/1243 c:\\Users\\admin\\Desktop\\python ds\\cvprojects\\pothole detection\\potholesdata\\images\\img-77.jpg: 320x320 5 potholes, 95.7ms\n",
      "image 990/1243 c:\\Users\\admin\\Desktop\\python ds\\cvprojects\\pothole detection\\potholesdata\\images\\img-770.jpg: 224x320 1 pothole, 66.9ms\n",
      "image 991/1243 c:\\Users\\admin\\Desktop\\python ds\\cvprojects\\pothole detection\\potholesdata\\images\\img-771.jpg: 224x320 1 pothole, 62.5ms\n",
      "image 992/1243 c:\\Users\\admin\\Desktop\\python ds\\cvprojects\\pothole detection\\potholesdata\\images\\img-772.jpg: 224x320 4 potholes, 62.5ms\n",
      "image 993/1243 c:\\Users\\admin\\Desktop\\python ds\\cvprojects\\pothole detection\\potholesdata\\images\\img-773.jpg: 224x320 1 pothole, 71.0ms\n",
      "image 994/1243 c:\\Users\\admin\\Desktop\\python ds\\cvprojects\\pothole detection\\potholesdata\\images\\img-774.jpg: 256x320 2 potholes, 75.0ms\n",
      "image 995/1243 c:\\Users\\admin\\Desktop\\python ds\\cvprojects\\pothole detection\\potholesdata\\images\\img-775.jpg: 160x320 15 potholes, 60.0ms\n",
      "image 996/1243 c:\\Users\\admin\\Desktop\\python ds\\cvprojects\\pothole detection\\potholesdata\\images\\img-776.jpg: 256x320 3 potholes, 75.0ms\n",
      "image 997/1243 c:\\Users\\admin\\Desktop\\python ds\\cvprojects\\pothole detection\\potholesdata\\images\\img-777.jpg: 224x320 2 potholes, 400.8ms\n",
      "image 998/1243 c:\\Users\\admin\\Desktop\\python ds\\cvprojects\\pothole detection\\potholesdata\\images\\img-778.jpg: 224x320 4 potholes, 68.0ms\n",
      "image 999/1243 c:\\Users\\admin\\Desktop\\python ds\\cvprojects\\pothole detection\\potholesdata\\images\\img-779.jpg: 192x320 20 potholes, 66.0ms\n",
      "image 1000/1243 c:\\Users\\admin\\Desktop\\python ds\\cvprojects\\pothole detection\\potholesdata\\images\\img-78.jpg: 320x320 2 potholes, 93.9ms\n",
      "image 1001/1243 c:\\Users\\admin\\Desktop\\python ds\\cvprojects\\pothole detection\\potholesdata\\images\\img-780.jpg: 192x320 4 potholes, 69.0ms\n",
      "image 1002/1243 c:\\Users\\admin\\Desktop\\python ds\\cvprojects\\pothole detection\\potholesdata\\images\\img-781.jpg: 192x320 2 potholes, 62.0ms\n",
      "image 1003/1243 c:\\Users\\admin\\Desktop\\python ds\\cvprojects\\pothole detection\\potholesdata\\images\\img-782.jpg: 320x320 31 potholes, 87.0ms\n",
      "image 1004/1243 c:\\Users\\admin\\Desktop\\python ds\\cvprojects\\pothole detection\\potholesdata\\images\\img-783.jpg: 320x320 1 pothole, 203.4ms\n",
      "image 1005/1243 c:\\Users\\admin\\Desktop\\python ds\\cvprojects\\pothole detection\\potholesdata\\images\\img-784.jpg: 224x320 5 potholes, 64.0ms\n",
      "image 1006/1243 c:\\Users\\admin\\Desktop\\python ds\\cvprojects\\pothole detection\\potholesdata\\images\\img-785.jpg: 256x320 2 potholes, 65.6ms\n",
      "image 1007/1243 c:\\Users\\admin\\Desktop\\python ds\\cvprojects\\pothole detection\\potholesdata\\images\\img-786.jpg: 224x320 1 pothole, 66.8ms\n",
      "image 1008/1243 c:\\Users\\admin\\Desktop\\python ds\\cvprojects\\pothole detection\\potholesdata\\images\\img-787.jpg: 224x320 5 potholes, 90.6ms\n",
      "image 1009/1243 c:\\Users\\admin\\Desktop\\python ds\\cvprojects\\pothole detection\\potholesdata\\images\\img-788.jpg: 224x320 4 potholes, 101.0ms\n",
      "image 1010/1243 c:\\Users\\admin\\Desktop\\python ds\\cvprojects\\pothole detection\\potholesdata\\images\\img-789.jpg: 256x320 2 potholes, 83.7ms\n",
      "image 1011/1243 c:\\Users\\admin\\Desktop\\python ds\\cvprojects\\pothole detection\\potholesdata\\images\\img-79.jpg: 320x320 1 pothole, 103.4ms\n",
      "image 1012/1243 c:\\Users\\admin\\Desktop\\python ds\\cvprojects\\pothole detection\\potholesdata\\images\\img-790.jpg: 224x320 7 potholes, 64.1ms\n",
      "image 1013/1243 c:\\Users\\admin\\Desktop\\python ds\\cvprojects\\pothole detection\\potholesdata\\images\\img-791.jpg: 224x320 1 pothole, 120.1ms\n",
      "image 1014/1243 c:\\Users\\admin\\Desktop\\python ds\\cvprojects\\pothole detection\\potholesdata\\images\\img-792.jpg: 224x320 1 pothole, 67.8ms\n",
      "image 1015/1243 c:\\Users\\admin\\Desktop\\python ds\\cvprojects\\pothole detection\\potholesdata\\images\\img-793.jpg: 192x320 2 potholes, 65.9ms\n",
      "image 1016/1243 c:\\Users\\admin\\Desktop\\python ds\\cvprojects\\pothole detection\\potholesdata\\images\\img-794.jpg: 224x320 1 pothole, 84.4ms\n",
      "image 1017/1243 c:\\Users\\admin\\Desktop\\python ds\\cvprojects\\pothole detection\\potholesdata\\images\\img-795.jpg: 320x256 8 potholes, 82.7ms\n",
      "image 1018/1243 c:\\Users\\admin\\Desktop\\python ds\\cvprojects\\pothole detection\\potholesdata\\images\\img-796.jpg: 224x320 1 pothole, 141.5ms\n",
      "image 1019/1243 c:\\Users\\admin\\Desktop\\python ds\\cvprojects\\pothole detection\\potholesdata\\images\\img-797.jpg: 256x320 1 pothole, 77.9ms\n",
      "image 1020/1243 c:\\Users\\admin\\Desktop\\python ds\\cvprojects\\pothole detection\\potholesdata\\images\\img-798.jpg: 224x320 3 potholes, 76.9ms\n",
      "image 1021/1243 c:\\Users\\admin\\Desktop\\python ds\\cvprojects\\pothole detection\\potholesdata\\images\\img-799.jpg: 192x320 14 potholes, 76.4ms\n",
      "image 1022/1243 c:\\Users\\admin\\Desktop\\python ds\\cvprojects\\pothole detection\\potholesdata\\images\\img-8.jpg: 320x320 2 potholes, 112.3ms\n",
      "image 1023/1243 c:\\Users\\admin\\Desktop\\python ds\\cvprojects\\pothole detection\\potholesdata\\images\\img-80.jpg: 320x320 1 pothole, 103.3ms\n",
      "image 1024/1243 c:\\Users\\admin\\Desktop\\python ds\\cvprojects\\pothole detection\\potholesdata\\images\\img-800.jpg: 224x320 2 potholes, 72.9ms\n",
      "image 1025/1243 c:\\Users\\admin\\Desktop\\python ds\\cvprojects\\pothole detection\\potholesdata\\images\\img-801.jpg: 224x320 3 potholes, 83.3ms\n",
      "image 1026/1243 c:\\Users\\admin\\Desktop\\python ds\\cvprojects\\pothole detection\\potholesdata\\images\\img-802.jpg: 256x320 1 pothole, 84.8ms\n",
      "image 1027/1243 c:\\Users\\admin\\Desktop\\python ds\\cvprojects\\pothole detection\\potholesdata\\images\\img-803.jpg: 224x320 2 potholes, 84.6ms\n",
      "image 1028/1243 c:\\Users\\admin\\Desktop\\python ds\\cvprojects\\pothole detection\\potholesdata\\images\\img-804.jpg: 288x320 1 pothole, 93.0ms\n",
      "image 1029/1243 c:\\Users\\admin\\Desktop\\python ds\\cvprojects\\pothole detection\\potholesdata\\images\\img-805.jpg: 256x320 1 pothole, 82.8ms\n",
      "image 1030/1243 c:\\Users\\admin\\Desktop\\python ds\\cvprojects\\pothole detection\\potholesdata\\images\\img-806.jpg: 192x320 5 potholes, 62.5ms\n",
      "image 1031/1243 c:\\Users\\admin\\Desktop\\python ds\\cvprojects\\pothole detection\\potholesdata\\images\\img-807.jpg: 224x320 1 pothole, 75.7ms\n",
      "image 1032/1243 c:\\Users\\admin\\Desktop\\python ds\\cvprojects\\pothole detection\\potholesdata\\images\\img-808.jpg: 256x320 7 potholes, 78.4ms\n",
      "image 1033/1243 c:\\Users\\admin\\Desktop\\python ds\\cvprojects\\pothole detection\\potholesdata\\images\\img-809.jpg: 224x320 4 potholes, 69.3ms\n",
      "image 1034/1243 c:\\Users\\admin\\Desktop\\python ds\\cvprojects\\pothole detection\\potholesdata\\images\\img-81.jpg: 320x320 1 pothole, 97.4ms\n",
      "image 1035/1243 c:\\Users\\admin\\Desktop\\python ds\\cvprojects\\pothole detection\\potholesdata\\images\\img-810.jpg: 224x320 7 potholes, 84.0ms\n",
      "image 1036/1243 c:\\Users\\admin\\Desktop\\python ds\\cvprojects\\pothole detection\\potholesdata\\images\\img-811.jpg: 224x320 4 potholes, 125.2ms\n",
      "image 1037/1243 c:\\Users\\admin\\Desktop\\python ds\\cvprojects\\pothole detection\\potholesdata\\images\\img-812.jpg: 224x320 2 potholes, 68.8ms\n",
      "image 1038/1243 c:\\Users\\admin\\Desktop\\python ds\\cvprojects\\pothole detection\\potholesdata\\images\\img-813.jpg: 224x320 10 potholes, 78.1ms\n",
      "image 1039/1243 c:\\Users\\admin\\Desktop\\python ds\\cvprojects\\pothole detection\\potholesdata\\images\\img-814.jpg: 224x320 2 potholes, 68.0ms\n",
      "image 1040/1243 c:\\Users\\admin\\Desktop\\python ds\\cvprojects\\pothole detection\\potholesdata\\images\\img-815.jpg: 224x320 1 pothole, 77.8ms\n",
      "image 1041/1243 c:\\Users\\admin\\Desktop\\python ds\\cvprojects\\pothole detection\\potholesdata\\images\\img-816.jpg: 224x320 1 pothole, 78.1ms\n",
      "image 1042/1243 c:\\Users\\admin\\Desktop\\python ds\\cvprojects\\pothole detection\\potholesdata\\images\\img-817.jpg: 192x320 4 potholes, 65.5ms\n",
      "image 1043/1243 c:\\Users\\admin\\Desktop\\python ds\\cvprojects\\pothole detection\\potholesdata\\images\\img-818.jpg: 224x320 2 potholes, 78.3ms\n",
      "image 1044/1243 c:\\Users\\admin\\Desktop\\python ds\\cvprojects\\pothole detection\\potholesdata\\images\\img-819.jpg: 224x320 2 potholes, 78.7ms\n",
      "image 1045/1243 c:\\Users\\admin\\Desktop\\python ds\\cvprojects\\pothole detection\\potholesdata\\images\\img-82.jpg: 320x320 2 potholes, 100.3ms\n",
      "image 1046/1243 c:\\Users\\admin\\Desktop\\python ds\\cvprojects\\pothole detection\\potholesdata\\images\\img-820.jpg: 224x320 5 potholes, 100.8ms\n",
      "image 1047/1243 c:\\Users\\admin\\Desktop\\python ds\\cvprojects\\pothole detection\\potholesdata\\images\\img-821.jpg: 224x320 2 potholes, 83.3ms\n",
      "image 1048/1243 c:\\Users\\admin\\Desktop\\python ds\\cvprojects\\pothole detection\\potholesdata\\images\\img-822.jpg: 224x320 2 potholes, 66.8ms\n",
      "image 1049/1243 c:\\Users\\admin\\Desktop\\python ds\\cvprojects\\pothole detection\\potholesdata\\images\\img-823.jpg: 256x320 1 pothole, 58.3ms\n",
      "image 1050/1243 c:\\Users\\admin\\Desktop\\python ds\\cvprojects\\pothole detection\\potholesdata\\images\\img-824.jpg: 256x320 2 potholes, 83.3ms\n",
      "image 1051/1243 c:\\Users\\admin\\Desktop\\python ds\\cvprojects\\pothole detection\\potholesdata\\images\\img-825.jpg: 256x320 1 pothole, 79.3ms\n",
      "image 1052/1243 c:\\Users\\admin\\Desktop\\python ds\\cvprojects\\pothole detection\\potholesdata\\images\\img-826.jpg: 256x320 10 potholes, 75.5ms\n",
      "image 1053/1243 c:\\Users\\admin\\Desktop\\python ds\\cvprojects\\pothole detection\\potholesdata\\images\\img-827.jpg: 256x320 1 pothole, 127.5ms\n",
      "image 1054/1243 c:\\Users\\admin\\Desktop\\python ds\\cvprojects\\pothole detection\\potholesdata\\images\\img-828.jpg: 224x320 1 pothole, 66.7ms\n",
      "image 1055/1243 c:\\Users\\admin\\Desktop\\python ds\\cvprojects\\pothole detection\\potholesdata\\images\\img-829.jpg: 256x320 7 potholes, 66.6ms\n",
      "image 1056/1243 c:\\Users\\admin\\Desktop\\python ds\\cvprojects\\pothole detection\\potholesdata\\images\\img-83.jpg: 320x320 2 potholes, 101.2ms\n",
      "image 1057/1243 c:\\Users\\admin\\Desktop\\python ds\\cvprojects\\pothole detection\\potholesdata\\images\\img-830.jpg: 256x320 2 potholes, 71.8ms\n",
      "image 1058/1243 c:\\Users\\admin\\Desktop\\python ds\\cvprojects\\pothole detection\\potholesdata\\images\\img-831.jpg: 256x320 2 potholes, 66.7ms\n",
      "image 1059/1243 c:\\Users\\admin\\Desktop\\python ds\\cvprojects\\pothole detection\\potholesdata\\images\\img-832.jpg: 224x320 2 potholes, 68.0ms\n",
      "image 1060/1243 c:\\Users\\admin\\Desktop\\python ds\\cvprojects\\pothole detection\\potholesdata\\images\\img-833.jpg: 224x320 4 potholes, 66.7ms\n",
      "image 1061/1243 c:\\Users\\admin\\Desktop\\python ds\\cvprojects\\pothole detection\\potholesdata\\images\\img-834.jpg: 224x320 3 potholes, 100.0ms\n",
      "image 1062/1243 c:\\Users\\admin\\Desktop\\python ds\\cvprojects\\pothole detection\\potholesdata\\images\\img-835.jpg: 192x320 2 potholes, 50.1ms\n",
      "image 1063/1243 c:\\Users\\admin\\Desktop\\python ds\\cvprojects\\pothole detection\\potholesdata\\images\\img-836.jpg: 224x320 2 potholes, 66.7ms\n",
      "image 1064/1243 c:\\Users\\admin\\Desktop\\python ds\\cvprojects\\pothole detection\\potholesdata\\images\\img-837.jpg: 224x320 9 potholes, 61.2ms\n",
      "image 1065/1243 c:\\Users\\admin\\Desktop\\python ds\\cvprojects\\pothole detection\\potholesdata\\images\\img-838.jpg: 224x320 2 potholes, 100.0ms\n",
      "image 1066/1243 c:\\Users\\admin\\Desktop\\python ds\\cvprojects\\pothole detection\\potholesdata\\images\\img-839.jpg: 192x320 6 potholes, 60.6ms\n",
      "image 1067/1243 c:\\Users\\admin\\Desktop\\python ds\\cvprojects\\pothole detection\\potholesdata\\images\\img-84.jpg: 320x320 4 potholes, 74.9ms\n",
      "image 1068/1243 c:\\Users\\admin\\Desktop\\python ds\\cvprojects\\pothole detection\\potholesdata\\images\\img-840.jpg: 256x320 1 pothole, 66.7ms\n",
      "image 1069/1243 c:\\Users\\admin\\Desktop\\python ds\\cvprojects\\pothole detection\\potholesdata\\images\\img-841.jpg: 320x320 6 potholes, 83.4ms\n",
      "image 1070/1243 c:\\Users\\admin\\Desktop\\python ds\\cvprojects\\pothole detection\\potholesdata\\images\\img-842.jpg: 192x320 4 potholes, 66.8ms\n",
      "image 1071/1243 c:\\Users\\admin\\Desktop\\python ds\\cvprojects\\pothole detection\\potholesdata\\images\\img-843.jpg: 224x320 2 potholes, 66.6ms\n",
      "image 1072/1243 c:\\Users\\admin\\Desktop\\python ds\\cvprojects\\pothole detection\\potholesdata\\images\\img-844.jpg: 224x320 1 pothole, 66.3ms\n",
      "image 1073/1243 c:\\Users\\admin\\Desktop\\python ds\\cvprojects\\pothole detection\\potholesdata\\images\\img-845.jpg: 192x320 10 potholes, 66.7ms\n",
      "image 1074/1243 c:\\Users\\admin\\Desktop\\python ds\\cvprojects\\pothole detection\\potholesdata\\images\\img-846.jpg: 224x320 2 potholes, 116.9ms\n",
      "image 1075/1243 c:\\Users\\admin\\Desktop\\python ds\\cvprojects\\pothole detection\\potholesdata\\images\\img-847.jpg: 224x320 6 potholes, 69.0ms\n",
      "image 1076/1243 c:\\Users\\admin\\Desktop\\python ds\\cvprojects\\pothole detection\\potholesdata\\images\\img-848.jpg: 224x320 4 potholes, 94.2ms\n",
      "image 1077/1243 c:\\Users\\admin\\Desktop\\python ds\\cvprojects\\pothole detection\\potholesdata\\images\\img-849.jpg: 256x320 1 pothole, 75.3ms\n",
      "image 1078/1243 c:\\Users\\admin\\Desktop\\python ds\\cvprojects\\pothole detection\\potholesdata\\images\\img-85.jpg: 320x320 2 potholes, 83.5ms\n",
      "image 1079/1243 c:\\Users\\admin\\Desktop\\python ds\\cvprojects\\pothole detection\\potholesdata\\images\\img-850.jpg: 160x320 7 potholes, 65.4ms\n",
      "image 1080/1243 c:\\Users\\admin\\Desktop\\python ds\\cvprojects\\pothole detection\\potholesdata\\images\\img-851.jpg: 256x320 5 potholes, 66.7ms\n",
      "image 1081/1243 c:\\Users\\admin\\Desktop\\python ds\\cvprojects\\pothole detection\\potholesdata\\images\\img-852.jpg: 224x320 1 pothole, 66.7ms\n",
      "image 1082/1243 c:\\Users\\admin\\Desktop\\python ds\\cvprojects\\pothole detection\\potholesdata\\images\\img-853.jpg: 224x320 5 potholes, 66.8ms\n",
      "image 1083/1243 c:\\Users\\admin\\Desktop\\python ds\\cvprojects\\pothole detection\\potholesdata\\images\\img-854.jpg: 192x320 12 potholes, 66.6ms\n",
      "image 1084/1243 c:\\Users\\admin\\Desktop\\python ds\\cvprojects\\pothole detection\\potholesdata\\images\\img-855.jpg: 192x320 2 potholes, 60.8ms\n",
      "image 1085/1243 c:\\Users\\admin\\Desktop\\python ds\\cvprojects\\pothole detection\\potholesdata\\images\\img-856.jpg: 320x256 5 potholes, 83.4ms\n",
      "image 1086/1243 c:\\Users\\admin\\Desktop\\python ds\\cvprojects\\pothole detection\\potholesdata\\images\\img-857.jpg: 256x320 5 potholes, 66.1ms\n",
      "image 1087/1243 c:\\Users\\admin\\Desktop\\python ds\\cvprojects\\pothole detection\\potholesdata\\images\\img-858.jpg: 160x320 29 potholes, 44.5ms\n",
      "image 1088/1243 c:\\Users\\admin\\Desktop\\python ds\\cvprojects\\pothole detection\\potholesdata\\images\\img-859.jpg: 224x320 4 potholes, 62.5ms\n",
      "image 1089/1243 c:\\Users\\admin\\Desktop\\python ds\\cvprojects\\pothole detection\\potholesdata\\images\\img-86.jpg: 320x320 2 potholes, 95.5ms\n",
      "image 1090/1243 c:\\Users\\admin\\Desktop\\python ds\\cvprojects\\pothole detection\\potholesdata\\images\\img-860.jpg: 224x320 2 potholes, 81.7ms\n",
      "image 1091/1243 c:\\Users\\admin\\Desktop\\python ds\\cvprojects\\pothole detection\\potholesdata\\images\\img-861.jpg: 224x320 1 pothole, 78.4ms\n",
      "image 1092/1243 c:\\Users\\admin\\Desktop\\python ds\\cvprojects\\pothole detection\\potholesdata\\images\\img-862.jpg: 224x320 4 potholes, 66.7ms\n",
      "image 1093/1243 c:\\Users\\admin\\Desktop\\python ds\\cvprojects\\pothole detection\\potholesdata\\images\\img-863.jpg: 224x320 1 pothole, 74.4ms\n",
      "image 1094/1243 c:\\Users\\admin\\Desktop\\python ds\\cvprojects\\pothole detection\\potholesdata\\images\\img-864.jpg: 224x320 2 potholes, 85.5ms\n",
      "image 1095/1243 c:\\Users\\admin\\Desktop\\python ds\\cvprojects\\pothole detection\\potholesdata\\images\\img-865.jpg: 192x320 7 potholes, 80.9ms\n",
      "image 1096/1243 c:\\Users\\admin\\Desktop\\python ds\\cvprojects\\pothole detection\\potholesdata\\images\\img-866.jpg: 256x320 1 pothole, 69.8ms\n",
      "image 1097/1243 c:\\Users\\admin\\Desktop\\python ds\\cvprojects\\pothole detection\\potholesdata\\images\\img-867.jpg: 224x320 (no detections), 94.9ms\n",
      "image 1098/1243 c:\\Users\\admin\\Desktop\\python ds\\cvprojects\\pothole detection\\potholesdata\\images\\img-868.jpg: 224x320 20 potholes, 90.2ms\n",
      "image 1099/1243 c:\\Users\\admin\\Desktop\\python ds\\cvprojects\\pothole detection\\potholesdata\\images\\img-869.jpg: 224x320 2 potholes, 59.2ms\n",
      "image 1100/1243 c:\\Users\\admin\\Desktop\\python ds\\cvprojects\\pothole detection\\potholesdata\\images\\img-87.jpg: 320x320 1 pothole, 95.2ms\n",
      "image 1101/1243 c:\\Users\\admin\\Desktop\\python ds\\cvprojects\\pothole detection\\potholesdata\\images\\img-870.jpg: 192x320 2 potholes, 61.7ms\n",
      "image 1102/1243 c:\\Users\\admin\\Desktop\\python ds\\cvprojects\\pothole detection\\potholesdata\\images\\img-871.jpg: 224x320 1 pothole, 65.7ms\n",
      "image 1103/1243 c:\\Users\\admin\\Desktop\\python ds\\cvprojects\\pothole detection\\potholesdata\\images\\img-872.jpg: 192x320 1 pothole, 55.8ms\n",
      "image 1104/1243 c:\\Users\\admin\\Desktop\\python ds\\cvprojects\\pothole detection\\potholesdata\\images\\img-873.jpg: 224x320 6 potholes, 59.9ms\n",
      "image 1105/1243 c:\\Users\\admin\\Desktop\\python ds\\cvprojects\\pothole detection\\potholesdata\\images\\img-874.jpg: 320x256 5 potholes, 118.6ms\n",
      "image 1106/1243 c:\\Users\\admin\\Desktop\\python ds\\cvprojects\\pothole detection\\potholesdata\\images\\img-875.jpg: 192x320 3 potholes, 66.6ms\n",
      "image 1107/1243 c:\\Users\\admin\\Desktop\\python ds\\cvprojects\\pothole detection\\potholesdata\\images\\img-876.jpg: 160x320 8 potholes, 68.1ms\n",
      "image 1108/1243 c:\\Users\\admin\\Desktop\\python ds\\cvprojects\\pothole detection\\potholesdata\\images\\img-877.jpg: 224x320 1 pothole, 66.9ms\n",
      "image 1109/1243 c:\\Users\\admin\\Desktop\\python ds\\cvprojects\\pothole detection\\potholesdata\\images\\img-878.jpg: 224x320 1 pothole, 149.9ms\n",
      "image 1110/1243 c:\\Users\\admin\\Desktop\\python ds\\cvprojects\\pothole detection\\potholesdata\\images\\img-879.jpg: 256x320 2 potholes, 80.6ms\n",
      "image 1111/1243 c:\\Users\\admin\\Desktop\\python ds\\cvprojects\\pothole detection\\potholesdata\\images\\img-88.jpg: 320x320 1 pothole, 109.2ms\n",
      "image 1112/1243 c:\\Users\\admin\\Desktop\\python ds\\cvprojects\\pothole detection\\potholesdata\\images\\img-880.jpg: 320x288 2 potholes, 83.5ms\n",
      "image 1113/1243 c:\\Users\\admin\\Desktop\\python ds\\cvprojects\\pothole detection\\potholesdata\\images\\img-881.jpg: 224x320 4 potholes, 74.8ms\n",
      "image 1114/1243 c:\\Users\\admin\\Desktop\\python ds\\cvprojects\\pothole detection\\potholesdata\\images\\img-882.jpg: 256x320 16 potholes, 67.6ms\n",
      "image 1115/1243 c:\\Users\\admin\\Desktop\\python ds\\cvprojects\\pothole detection\\potholesdata\\images\\img-883.jpg: 224x320 4 potholes, 64.0ms\n",
      "image 1116/1243 c:\\Users\\admin\\Desktop\\python ds\\cvprojects\\pothole detection\\potholesdata\\images\\img-884.jpg: 320x320 10 potholes, 98.6ms\n",
      "image 1117/1243 c:\\Users\\admin\\Desktop\\python ds\\cvprojects\\pothole detection\\potholesdata\\images\\img-885.jpg: 128x320 1 pothole, 79.5ms\n",
      "image 1118/1243 c:\\Users\\admin\\Desktop\\python ds\\cvprojects\\pothole detection\\potholesdata\\images\\img-886.jpg: 192x320 1 pothole, 152.3ms\n",
      "image 1119/1243 c:\\Users\\admin\\Desktop\\python ds\\cvprojects\\pothole detection\\potholesdata\\images\\img-887.jpg: 320x320 2 potholes, 100.0ms\n",
      "image 1120/1243 c:\\Users\\admin\\Desktop\\python ds\\cvprojects\\pothole detection\\potholesdata\\images\\img-888.jpg: 224x320 1 pothole, 70.1ms\n",
      "image 1121/1243 c:\\Users\\admin\\Desktop\\python ds\\cvprojects\\pothole detection\\potholesdata\\images\\img-889.jpg: 256x320 3 potholes, 66.6ms\n",
      "image 1122/1243 c:\\Users\\admin\\Desktop\\python ds\\cvprojects\\pothole detection\\potholesdata\\images\\img-89.jpg: 320x320 2 potholes, 78.1ms\n",
      "image 1123/1243 c:\\Users\\admin\\Desktop\\python ds\\cvprojects\\pothole detection\\potholesdata\\images\\img-890.jpg: 224x320 1 pothole, 79.7ms\n",
      "image 1124/1243 c:\\Users\\admin\\Desktop\\python ds\\cvprojects\\pothole detection\\potholesdata\\images\\img-891.jpg: 288x320 1 pothole, 73.7ms\n",
      "image 1125/1243 c:\\Users\\admin\\Desktop\\python ds\\cvprojects\\pothole detection\\potholesdata\\images\\img-892.jpg: 256x320 3 potholes, 78.1ms\n",
      "image 1126/1243 c:\\Users\\admin\\Desktop\\python ds\\cvprojects\\pothole detection\\potholesdata\\images\\img-893.jpg: 224x320 2 potholes, 62.5ms\n",
      "image 1127/1243 c:\\Users\\admin\\Desktop\\python ds\\cvprojects\\pothole detection\\potholesdata\\images\\img-894.jpg: 160x320 3 potholes, 62.5ms\n",
      "image 1128/1243 c:\\Users\\admin\\Desktop\\python ds\\cvprojects\\pothole detection\\potholesdata\\images\\img-895.jpg: 224x320 5 potholes, 62.5ms\n",
      "image 1129/1243 c:\\Users\\admin\\Desktop\\python ds\\cvprojects\\pothole detection\\potholesdata\\images\\img-896.jpg: 256x320 1 pothole, 78.1ms\n",
      "image 1130/1243 c:\\Users\\admin\\Desktop\\python ds\\cvprojects\\pothole detection\\potholesdata\\images\\img-897.jpg: 256x320 4 potholes, 78.1ms\n",
      "image 1131/1243 c:\\Users\\admin\\Desktop\\python ds\\cvprojects\\pothole detection\\potholesdata\\images\\img-898.jpg: 192x320 5 potholes, 46.9ms\n",
      "image 1132/1243 c:\\Users\\admin\\Desktop\\python ds\\cvprojects\\pothole detection\\potholesdata\\images\\img-899.jpg: 224x320 6 potholes, 62.3ms\n",
      "image 1133/1243 c:\\Users\\admin\\Desktop\\python ds\\cvprojects\\pothole detection\\potholesdata\\images\\img-9.jpg: 320x320 2 potholes, 118.4ms\n",
      "image 1134/1243 c:\\Users\\admin\\Desktop\\python ds\\cvprojects\\pothole detection\\potholesdata\\images\\img-90.jpg: 320x320 1 pothole, 97.6ms\n",
      "image 1135/1243 c:\\Users\\admin\\Desktop\\python ds\\cvprojects\\pothole detection\\potholesdata\\images\\img-900.jpg: 256x320 13 potholes, 66.9ms\n",
      "image 1136/1243 c:\\Users\\admin\\Desktop\\python ds\\cvprojects\\pothole detection\\potholesdata\\images\\img-901.jpg: 256x320 2 potholes, 66.6ms\n",
      "image 1137/1243 c:\\Users\\admin\\Desktop\\python ds\\cvprojects\\pothole detection\\potholesdata\\images\\img-902.jpg: 224x320 1 pothole, 68.8ms\n",
      "image 1138/1243 c:\\Users\\admin\\Desktop\\python ds\\cvprojects\\pothole detection\\potholesdata\\images\\img-903.jpg: 224x320 6 potholes, 78.1ms\n",
      "image 1139/1243 c:\\Users\\admin\\Desktop\\python ds\\cvprojects\\pothole detection\\potholesdata\\images\\img-904.jpg: 192x320 1 pothole, 62.5ms\n",
      "image 1140/1243 c:\\Users\\admin\\Desktop\\python ds\\cvprojects\\pothole detection\\potholesdata\\images\\img-905.jpg: 224x320 11 potholes, 62.5ms\n",
      "image 1141/1243 c:\\Users\\admin\\Desktop\\python ds\\cvprojects\\pothole detection\\potholesdata\\images\\img-906.jpg: 192x320 1 pothole, 46.9ms\n",
      "image 1142/1243 c:\\Users\\admin\\Desktop\\python ds\\cvprojects\\pothole detection\\potholesdata\\images\\img-907.jpg: 224x320 1 pothole, 66.9ms\n",
      "image 1143/1243 c:\\Users\\admin\\Desktop\\python ds\\cvprojects\\pothole detection\\potholesdata\\images\\img-908.jpg: 320x256 2 potholes, 66.6ms\n",
      "image 1144/1243 c:\\Users\\admin\\Desktop\\python ds\\cvprojects\\pothole detection\\potholesdata\\images\\img-909.jpg: 256x320 1 pothole, 61.8ms\n",
      "image 1145/1243 c:\\Users\\admin\\Desktop\\python ds\\cvprojects\\pothole detection\\potholesdata\\images\\img-91.jpg: 320x320 2 potholes, 133.8ms\n",
      "image 1146/1243 c:\\Users\\admin\\Desktop\\python ds\\cvprojects\\pothole detection\\potholesdata\\images\\img-910.jpg: 224x320 2 potholes, 94.3ms\n",
      "image 1147/1243 c:\\Users\\admin\\Desktop\\python ds\\cvprojects\\pothole detection\\potholesdata\\images\\img-911.jpg: 224x320 2 potholes, 83.0ms\n",
      "image 1148/1243 c:\\Users\\admin\\Desktop\\python ds\\cvprojects\\pothole detection\\potholesdata\\images\\img-912.jpg: 224x320 3 potholes, 95.0ms\n",
      "image 1149/1243 c:\\Users\\admin\\Desktop\\python ds\\cvprojects\\pothole detection\\potholesdata\\images\\img-913.jpg: 192x320 4 potholes, 80.4ms\n",
      "image 1150/1243 c:\\Users\\admin\\Desktop\\python ds\\cvprojects\\pothole detection\\potholesdata\\images\\img-914.jpg: 192x320 4 potholes, 59.2ms\n",
      "image 1151/1243 c:\\Users\\admin\\Desktop\\python ds\\cvprojects\\pothole detection\\potholesdata\\images\\img-915.jpg: 224x320 1 pothole, 50.0ms\n",
      "image 1152/1243 c:\\Users\\admin\\Desktop\\python ds\\cvprojects\\pothole detection\\potholesdata\\images\\img-916.jpg: 192x320 3 potholes, 66.7ms\n",
      "image 1153/1243 c:\\Users\\admin\\Desktop\\python ds\\cvprojects\\pothole detection\\potholesdata\\images\\img-917.jpg: 256x320 1 pothole, 80.3ms\n",
      "image 1154/1243 c:\\Users\\admin\\Desktop\\python ds\\cvprojects\\pothole detection\\potholesdata\\images\\img-918.jpg: 256x320 1 pothole, 62.5ms\n",
      "image 1155/1243 c:\\Users\\admin\\Desktop\\python ds\\cvprojects\\pothole detection\\potholesdata\\images\\img-919.jpg: 256x320 1 pothole, 62.5ms\n",
      "image 1156/1243 c:\\Users\\admin\\Desktop\\python ds\\cvprojects\\pothole detection\\potholesdata\\images\\img-92.jpg: 320x320 2 potholes, 78.1ms\n",
      "image 1157/1243 c:\\Users\\admin\\Desktop\\python ds\\cvprojects\\pothole detection\\potholesdata\\images\\img-920.jpg: 224x320 1 pothole, 62.5ms\n",
      "image 1158/1243 c:\\Users\\admin\\Desktop\\python ds\\cvprojects\\pothole detection\\potholesdata\\images\\img-921.jpg: 256x320 6 potholes, 62.5ms\n",
      "image 1159/1243 c:\\Users\\admin\\Desktop\\python ds\\cvprojects\\pothole detection\\potholesdata\\images\\img-922.jpg: 224x320 4 potholes, 62.5ms\n",
      "image 1160/1243 c:\\Users\\admin\\Desktop\\python ds\\cvprojects\\pothole detection\\potholesdata\\images\\img-923.jpg: 224x320 6 potholes, 62.5ms\n",
      "image 1161/1243 c:\\Users\\admin\\Desktop\\python ds\\cvprojects\\pothole detection\\potholesdata\\images\\img-924.jpg: 224x320 7 potholes, 46.9ms\n",
      "image 1162/1243 c:\\Users\\admin\\Desktop\\python ds\\cvprojects\\pothole detection\\potholesdata\\images\\img-925.jpg: 192x320 1 pothole, 46.9ms\n",
      "image 1163/1243 c:\\Users\\admin\\Desktop\\python ds\\cvprojects\\pothole detection\\potholesdata\\images\\img-926.jpg: 192x320 6 potholes, 46.9ms\n",
      "image 1164/1243 c:\\Users\\admin\\Desktop\\python ds\\cvprojects\\pothole detection\\potholesdata\\images\\img-927.jpg: 192x320 2 potholes, 62.5ms\n",
      "image 1165/1243 c:\\Users\\admin\\Desktop\\python ds\\cvprojects\\pothole detection\\potholesdata\\images\\img-928.jpg: 256x320 3 potholes, 62.5ms\n",
      "image 1166/1243 c:\\Users\\admin\\Desktop\\python ds\\cvprojects\\pothole detection\\potholesdata\\images\\img-929.jpg: 256x320 2 potholes, 62.5ms\n",
      "image 1167/1243 c:\\Users\\admin\\Desktop\\python ds\\cvprojects\\pothole detection\\potholesdata\\images\\img-93.jpg: 320x320 3 potholes, 78.1ms\n",
      "image 1168/1243 c:\\Users\\admin\\Desktop\\python ds\\cvprojects\\pothole detection\\potholesdata\\images\\img-930.jpg: 224x320 6 potholes, 62.5ms\n",
      "image 1169/1243 c:\\Users\\admin\\Desktop\\python ds\\cvprojects\\pothole detection\\potholesdata\\images\\img-931.jpg: 256x320 1 pothole, 62.5ms\n",
      "image 1170/1243 c:\\Users\\admin\\Desktop\\python ds\\cvprojects\\pothole detection\\potholesdata\\images\\img-932.jpg: 224x320 2 potholes, 62.5ms\n",
      "image 1171/1243 c:\\Users\\admin\\Desktop\\python ds\\cvprojects\\pothole detection\\potholesdata\\images\\img-933.jpg: 256x320 6 potholes, 62.5ms\n",
      "image 1172/1243 c:\\Users\\admin\\Desktop\\python ds\\cvprojects\\pothole detection\\potholesdata\\images\\img-934.jpg: 160x320 5 potholes, 46.9ms\n",
      "image 1173/1243 c:\\Users\\admin\\Desktop\\python ds\\cvprojects\\pothole detection\\potholesdata\\images\\img-935.jpg: 320x256 5 potholes, 78.1ms\n",
      "image 1174/1243 c:\\Users\\admin\\Desktop\\python ds\\cvprojects\\pothole detection\\potholesdata\\images\\img-936.jpg: 256x320 2 potholes, 62.5ms\n",
      "image 1175/1243 c:\\Users\\admin\\Desktop\\python ds\\cvprojects\\pothole detection\\potholesdata\\images\\img-937.jpg: 224x320 4 potholes, 46.9ms\n",
      "image 1176/1243 c:\\Users\\admin\\Desktop\\python ds\\cvprojects\\pothole detection\\potholesdata\\images\\img-938.jpg: 224x320 1 pothole, 62.5ms\n",
      "image 1177/1243 c:\\Users\\admin\\Desktop\\python ds\\cvprojects\\pothole detection\\potholesdata\\images\\img-939.jpg: 256x320 2 potholes, 62.5ms\n",
      "image 1178/1243 c:\\Users\\admin\\Desktop\\python ds\\cvprojects\\pothole detection\\potholesdata\\images\\img-94.jpg: 320x320 1 pothole, 78.1ms\n",
      "image 1179/1243 c:\\Users\\admin\\Desktop\\python ds\\cvprojects\\pothole detection\\potholesdata\\images\\img-940.jpg: 224x320 1 pothole, 62.5ms\n",
      "image 1180/1243 c:\\Users\\admin\\Desktop\\python ds\\cvprojects\\pothole detection\\potholesdata\\images\\img-941.jpg: 256x320 4 potholes, 78.1ms\n",
      "image 1181/1243 c:\\Users\\admin\\Desktop\\python ds\\cvprojects\\pothole detection\\potholesdata\\images\\img-942.jpg: 192x320 1 pothole, 46.9ms\n",
      "image 1182/1243 c:\\Users\\admin\\Desktop\\python ds\\cvprojects\\pothole detection\\potholesdata\\images\\img-943.jpg: 256x320 2 potholes, 62.5ms\n",
      "image 1183/1243 c:\\Users\\admin\\Desktop\\python ds\\cvprojects\\pothole detection\\potholesdata\\images\\img-944.jpg: 192x320 5 potholes, 62.5ms\n",
      "image 1184/1243 c:\\Users\\admin\\Desktop\\python ds\\cvprojects\\pothole detection\\potholesdata\\images\\img-945.jpg: 224x320 10 potholes, 62.5ms\n",
      "image 1185/1243 c:\\Users\\admin\\Desktop\\python ds\\cvprojects\\pothole detection\\potholesdata\\images\\img-946.jpg: 224x320 4 potholes, 109.4ms\n",
      "image 1186/1243 c:\\Users\\admin\\Desktop\\python ds\\cvprojects\\pothole detection\\potholesdata\\images\\img-947.jpg: 192x320 9 potholes, 62.5ms\n",
      "image 1187/1243 c:\\Users\\admin\\Desktop\\python ds\\cvprojects\\pothole detection\\potholesdata\\images\\img-948.jpg: 256x320 2 potholes, 62.5ms\n",
      "image 1188/1243 c:\\Users\\admin\\Desktop\\python ds\\cvprojects\\pothole detection\\potholesdata\\images\\img-949.jpg: 320x256 1 pothole, 62.5ms\n",
      "image 1189/1243 c:\\Users\\admin\\Desktop\\python ds\\cvprojects\\pothole detection\\potholesdata\\images\\img-95.jpg: 320x320 2 potholes, 78.1ms\n",
      "image 1190/1243 c:\\Users\\admin\\Desktop\\python ds\\cvprojects\\pothole detection\\potholesdata\\images\\img-950.jpg: 224x320 5 potholes, 62.5ms\n",
      "image 1191/1243 c:\\Users\\admin\\Desktop\\python ds\\cvprojects\\pothole detection\\potholesdata\\images\\img-951.jpg: 192x320 5 potholes, 54.0ms\n",
      "image 1192/1243 c:\\Users\\admin\\Desktop\\python ds\\cvprojects\\pothole detection\\potholesdata\\images\\img-952.jpg: 192x320 7 potholes, 62.5ms\n",
      "image 1193/1243 c:\\Users\\admin\\Desktop\\python ds\\cvprojects\\pothole detection\\potholesdata\\images\\img-953.jpg: 320x256 11 potholes, 83.9ms\n",
      "image 1194/1243 c:\\Users\\admin\\Desktop\\python ds\\cvprojects\\pothole detection\\potholesdata\\images\\img-954.jpg: 160x320 18 potholes, 162.2ms\n",
      "image 1195/1243 c:\\Users\\admin\\Desktop\\python ds\\cvprojects\\pothole detection\\potholesdata\\images\\img-955.jpg: 192x320 5 potholes, 62.5ms\n",
      "image 1196/1243 c:\\Users\\admin\\Desktop\\python ds\\cvprojects\\pothole detection\\potholesdata\\images\\img-956.jpg: 256x320 2 potholes, 69.6ms\n",
      "image 1197/1243 c:\\Users\\admin\\Desktop\\python ds\\cvprojects\\pothole detection\\potholesdata\\images\\img-957.jpg: 128x320 5 potholes, 52.4ms\n",
      "image 1198/1243 c:\\Users\\admin\\Desktop\\python ds\\cvprojects\\pothole detection\\potholesdata\\images\\img-958.jpg: 224x320 2 potholes, 59.2ms\n",
      "image 1199/1243 c:\\Users\\admin\\Desktop\\python ds\\cvprojects\\pothole detection\\potholesdata\\images\\img-959.jpg: 192x320 6 potholes, 76.1ms\n",
      "image 1200/1243 c:\\Users\\admin\\Desktop\\python ds\\cvprojects\\pothole detection\\potholesdata\\images\\img-96.jpg: 320x320 1 pothole, 114.6ms\n",
      "image 1201/1243 c:\\Users\\admin\\Desktop\\python ds\\cvprojects\\pothole detection\\potholesdata\\images\\img-960.jpg: 256x320 1 pothole, 66.6ms\n",
      "image 1202/1243 c:\\Users\\admin\\Desktop\\python ds\\cvprojects\\pothole detection\\potholesdata\\images\\img-961.jpg: 256x320 1 pothole, 66.7ms\n",
      "image 1203/1243 c:\\Users\\admin\\Desktop\\python ds\\cvprojects\\pothole detection\\potholesdata\\images\\img-962.jpg: 160x320 1 pothole, 70.5ms\n",
      "image 1204/1243 c:\\Users\\admin\\Desktop\\python ds\\cvprojects\\pothole detection\\potholesdata\\images\\img-963.jpg: 192x320 1 pothole, 78.1ms\n",
      "image 1205/1243 c:\\Users\\admin\\Desktop\\python ds\\cvprojects\\pothole detection\\potholesdata\\images\\img-964.jpg: 224x320 5 potholes, 62.5ms\n",
      "image 1206/1243 c:\\Users\\admin\\Desktop\\python ds\\cvprojects\\pothole detection\\potholesdata\\images\\img-965.jpg: 256x320 8 potholes, 62.5ms\n",
      "image 1207/1243 c:\\Users\\admin\\Desktop\\python ds\\cvprojects\\pothole detection\\potholesdata\\images\\img-966.jpg: 256x320 1 pothole, 62.5ms\n",
      "image 1208/1243 c:\\Users\\admin\\Desktop\\python ds\\cvprojects\\pothole detection\\potholesdata\\images\\img-967.jpg: 160x320 2 potholes, 46.9ms\n",
      "image 1209/1243 c:\\Users\\admin\\Desktop\\python ds\\cvprojects\\pothole detection\\potholesdata\\images\\img-968.jpg: 224x320 1 pothole, 46.9ms\n",
      "image 1210/1243 c:\\Users\\admin\\Desktop\\python ds\\cvprojects\\pothole detection\\potholesdata\\images\\img-969.jpg: 224x320 1 pothole, 62.5ms\n",
      "image 1211/1243 c:\\Users\\admin\\Desktop\\python ds\\cvprojects\\pothole detection\\potholesdata\\images\\img-97.jpg: 320x320 7 potholes, 78.1ms\n",
      "image 1212/1243 c:\\Users\\admin\\Desktop\\python ds\\cvprojects\\pothole detection\\potholesdata\\images\\img-970.jpg: 256x320 1 pothole, 62.5ms\n",
      "image 1213/1243 c:\\Users\\admin\\Desktop\\python ds\\cvprojects\\pothole detection\\potholesdata\\images\\img-971.jpg: 224x320 6 potholes, 62.5ms\n",
      "image 1214/1243 c:\\Users\\admin\\Desktop\\python ds\\cvprojects\\pothole detection\\potholesdata\\images\\img-972.jpg: 224x320 1 pothole, 62.5ms\n",
      "image 1215/1243 c:\\Users\\admin\\Desktop\\python ds\\cvprojects\\pothole detection\\potholesdata\\images\\img-973.jpg: 256x320 4 potholes, 62.5ms\n",
      "image 1216/1243 c:\\Users\\admin\\Desktop\\python ds\\cvprojects\\pothole detection\\potholesdata\\images\\img-974.jpg: 160x320 1 pothole, 46.9ms\n",
      "image 1217/1243 c:\\Users\\admin\\Desktop\\python ds\\cvprojects\\pothole detection\\potholesdata\\images\\img-975.jpg: 224x320 1 pothole, 62.5ms\n",
      "image 1218/1243 c:\\Users\\admin\\Desktop\\python ds\\cvprojects\\pothole detection\\potholesdata\\images\\img-976.jpg: 192x320 4 potholes, 46.9ms\n",
      "image 1219/1243 c:\\Users\\admin\\Desktop\\python ds\\cvprojects\\pothole detection\\potholesdata\\images\\img-977.jpg: 256x320 4 potholes, 62.5ms\n",
      "image 1220/1243 c:\\Users\\admin\\Desktop\\python ds\\cvprojects\\pothole detection\\potholesdata\\images\\img-978.jpg: 256x320 1 pothole, 62.5ms\n",
      "image 1221/1243 c:\\Users\\admin\\Desktop\\python ds\\cvprojects\\pothole detection\\potholesdata\\images\\img-979.jpg: 256x320 1 pothole, 62.5ms\n",
      "image 1222/1243 c:\\Users\\admin\\Desktop\\python ds\\cvprojects\\pothole detection\\potholesdata\\images\\img-98.jpg: 320x320 3 potholes, 78.1ms\n",
      "image 1223/1243 c:\\Users\\admin\\Desktop\\python ds\\cvprojects\\pothole detection\\potholesdata\\images\\img-980.jpg: 192x320 23 potholes, 46.9ms\n",
      "image 1224/1243 c:\\Users\\admin\\Desktop\\python ds\\cvprojects\\pothole detection\\potholesdata\\images\\img-981.jpg: 192x320 23 potholes, 46.9ms\n",
      "image 1225/1243 c:\\Users\\admin\\Desktop\\python ds\\cvprojects\\pothole detection\\potholesdata\\images\\img-982.jpg: 288x320 8 potholes, 78.1ms\n",
      "image 1226/1243 c:\\Users\\admin\\Desktop\\python ds\\cvprojects\\pothole detection\\potholesdata\\images\\img-983.jpg: 224x320 11 potholes, 62.5ms\n",
      "image 1227/1243 c:\\Users\\admin\\Desktop\\python ds\\cvprojects\\pothole detection\\potholesdata\\images\\img-984.jpg: 256x320 4 potholes, 62.5ms\n",
      "image 1228/1243 c:\\Users\\admin\\Desktop\\python ds\\cvprojects\\pothole detection\\potholesdata\\images\\img-985.jpg: 224x320 3 potholes, 62.5ms\n",
      "image 1229/1243 c:\\Users\\admin\\Desktop\\python ds\\cvprojects\\pothole detection\\potholesdata\\images\\img-986.jpg: 224x320 2 potholes, 46.9ms\n",
      "image 1230/1243 c:\\Users\\admin\\Desktop\\python ds\\cvprojects\\pothole detection\\potholesdata\\images\\img-987.jpg: 256x320 1 pothole, 62.5ms\n",
      "image 1231/1243 c:\\Users\\admin\\Desktop\\python ds\\cvprojects\\pothole detection\\potholesdata\\images\\img-988.jpg: 224x320 3 potholes, 62.5ms\n",
      "image 1232/1243 c:\\Users\\admin\\Desktop\\python ds\\cvprojects\\pothole detection\\potholesdata\\images\\img-989.jpg: 192x320 6 potholes, 54.4ms\n",
      "image 1233/1243 c:\\Users\\admin\\Desktop\\python ds\\cvprojects\\pothole detection\\potholesdata\\images\\img-99.jpg: 320x320 1 pothole, 78.1ms\n",
      "image 1234/1243 c:\\Users\\admin\\Desktop\\python ds\\cvprojects\\pothole detection\\potholesdata\\images\\img-990.jpg: 192x320 1 pothole, 62.5ms\n",
      "image 1235/1243 c:\\Users\\admin\\Desktop\\python ds\\cvprojects\\pothole detection\\potholesdata\\images\\img-991.jpg: 192x320 2 potholes, 46.9ms\n",
      "image 1236/1243 c:\\Users\\admin\\Desktop\\python ds\\cvprojects\\pothole detection\\potholesdata\\images\\img-992.jpg: 192x320 7 potholes, 62.5ms\n",
      "image 1237/1243 c:\\Users\\admin\\Desktop\\python ds\\cvprojects\\pothole detection\\potholesdata\\images\\img-993.jpg: 256x320 4 potholes, 78.1ms\n",
      "image 1238/1243 c:\\Users\\admin\\Desktop\\python ds\\cvprojects\\pothole detection\\potholesdata\\images\\img-994.jpg: 224x320 4 potholes, 62.5ms\n",
      "image 1239/1243 c:\\Users\\admin\\Desktop\\python ds\\cvprojects\\pothole detection\\potholesdata\\images\\img-995.jpg: 320x320 1 pothole, 78.1ms\n",
      "image 1240/1243 c:\\Users\\admin\\Desktop\\python ds\\cvprojects\\pothole detection\\potholesdata\\images\\img-996.jpg: 224x320 1 pothole, 46.9ms\n",
      "image 1241/1243 c:\\Users\\admin\\Desktop\\python ds\\cvprojects\\pothole detection\\potholesdata\\images\\img-997.jpg: 192x320 4 potholes, 46.9ms\n",
      "image 1242/1243 c:\\Users\\admin\\Desktop\\python ds\\cvprojects\\pothole detection\\potholesdata\\images\\img-998.jpg: 224x320 1 pothole, 62.5ms\n",
      "image 1243/1243 c:\\Users\\admin\\Desktop\\python ds\\cvprojects\\pothole detection\\potholesdata\\images\\img-999.jpg: 192x320 1 pothole, 62.5ms\n",
      "Speed: 2.1ms preprocess, 85.7ms inference, 1.6ms postprocess per image at shape (1, 3, 192, 320)\n"
     ]
    }
   ],
   "source": [
    "# from ultralytics.data.annotator import auto_annotate\n",
    "# auto_annotate(data=\"potholesdata/images\", det_model=\"runs/detect/train/weights/best.pt\", sam_model=\"sam_b.pt\")"
   ]
  },
  {
   "cell_type": "code",
   "execution_count": 2,
   "metadata": {},
   "outputs": [],
   "source": [
    "model = YOLO(\"yolov8n-seg.pt\")"
   ]
  },
  {
   "cell_type": "code",
   "execution_count": 4,
   "metadata": {},
   "outputs": [
    {
     "name": "stdout",
     "output_type": "stream",
     "text": [
      "Ultralytics YOLOv8.2.75  Python-3.11.9 torch-2.4.0 CPU (Intel Core(TM) i5-5200U 2.20GHz)\n",
      "\u001b[34m\u001b[1mengine\\trainer: \u001b[0mtask=segment, mode=train, model=yolov8n-seg.pt, data=dataset3.yaml, epochs=250, time=None, patience=100, batch=16, imgsz=480, save=True, save_period=-1, cache=False, device=None, workers=8, project=None, name=train3, exist_ok=False, pretrained=True, optimizer=auto, verbose=True, seed=0, deterministic=True, single_cls=False, rect=False, cos_lr=False, close_mosaic=10, resume=False, amp=True, fraction=1.0, profile=False, freeze=None, multi_scale=False, overlap_mask=True, mask_ratio=4, dropout=0.0, val=True, split=val, save_json=False, save_hybrid=False, conf=None, iou=0.7, max_det=300, half=False, dnn=False, plots=True, source=None, vid_stride=1, stream_buffer=False, visualize=False, augment=False, agnostic_nms=False, classes=None, retina_masks=False, embed=None, show=False, save_frames=False, save_txt=False, save_conf=False, save_crop=False, show_labels=True, show_conf=True, show_boxes=True, line_width=None, format=torchscript, keras=False, optimize=False, int8=False, dynamic=False, simplify=False, opset=None, workspace=4, nms=False, lr0=0.01, lrf=0.01, momentum=0.937, weight_decay=0.0005, warmup_epochs=3.0, warmup_momentum=0.8, warmup_bias_lr=0.1, box=7.5, cls=0.5, dfl=1.5, pose=12.0, kobj=1.0, label_smoothing=0.0, nbs=64, hsv_h=0.015, hsv_s=0.7, hsv_v=0.4, degrees=0.0, translate=0.1, scale=0.5, shear=0.0, perspective=0.0, flipud=0.0, fliplr=0.5, bgr=0.0, mosaic=1.0, mixup=0.0, copy_paste=0.0, auto_augment=randaugment, erasing=0.4, crop_fraction=1.0, cfg=None, tracker=botsort.yaml, save_dir=runs\\segment\\train3\n",
      "Overriding model.yaml nc=80 with nc=1\n",
      "\n",
      "                   from  n    params  module                                       arguments                     \n",
      "  0                  -1  1       464  ultralytics.nn.modules.conv.Conv             [3, 16, 3, 2]                 \n",
      "  1                  -1  1      4672  ultralytics.nn.modules.conv.Conv             [16, 32, 3, 2]                \n",
      "  2                  -1  1      7360  ultralytics.nn.modules.block.C2f             [32, 32, 1, True]             \n",
      "  3                  -1  1     18560  ultralytics.nn.modules.conv.Conv             [32, 64, 3, 2]                \n",
      "  4                  -1  2     49664  ultralytics.nn.modules.block.C2f             [64, 64, 2, True]             \n",
      "  5                  -1  1     73984  ultralytics.nn.modules.conv.Conv             [64, 128, 3, 2]               \n",
      "  6                  -1  2    197632  ultralytics.nn.modules.block.C2f             [128, 128, 2, True]           \n",
      "  7                  -1  1    295424  ultralytics.nn.modules.conv.Conv             [128, 256, 3, 2]              \n",
      "  8                  -1  1    460288  ultralytics.nn.modules.block.C2f             [256, 256, 1, True]           \n",
      "  9                  -1  1    164608  ultralytics.nn.modules.block.SPPF            [256, 256, 5]                 \n",
      " 10                  -1  1         0  torch.nn.modules.upsampling.Upsample         [None, 2, 'nearest']          \n",
      " 11             [-1, 6]  1         0  ultralytics.nn.modules.conv.Concat           [1]                           \n",
      " 12                  -1  1    148224  ultralytics.nn.modules.block.C2f             [384, 128, 1]                 \n",
      " 13                  -1  1         0  torch.nn.modules.upsampling.Upsample         [None, 2, 'nearest']          \n",
      " 14             [-1, 4]  1         0  ultralytics.nn.modules.conv.Concat           [1]                           \n",
      " 15                  -1  1     37248  ultralytics.nn.modules.block.C2f             [192, 64, 1]                  \n",
      " 16                  -1  1     36992  ultralytics.nn.modules.conv.Conv             [64, 64, 3, 2]                \n",
      " 17            [-1, 12]  1         0  ultralytics.nn.modules.conv.Concat           [1]                           \n",
      " 18                  -1  1    123648  ultralytics.nn.modules.block.C2f             [192, 128, 1]                 \n",
      " 19                  -1  1    147712  ultralytics.nn.modules.conv.Conv             [128, 128, 3, 2]              \n",
      " 20             [-1, 9]  1         0  ultralytics.nn.modules.conv.Concat           [1]                           \n",
      " 21                  -1  1    493056  ultralytics.nn.modules.block.C2f             [384, 256, 1]                 \n",
      " 22        [15, 18, 21]  1   1004275  ultralytics.nn.modules.head.Segment          [1, 32, 64, [64, 128, 256]]   \n",
      "YOLOv8n-seg summary: 261 layers, 3,263,811 parameters, 3,263,795 gradients, 12.1 GFLOPs\n",
      "\n",
      "Transferred 381/417 items from pretrained weights\n",
      "\u001b[34m\u001b[1mTensorBoard: \u001b[0mStart with 'tensorboard --logdir runs\\segment\\train3', view at http://localhost:6006/\n",
      "Freezing layer 'model.22.dfl.conv.weight'\n"
     ]
    },
    {
     "name": "stderr",
     "output_type": "stream",
     "text": [
      "c:\\Users\\admin\\anaconda3\\envs\\compvision\\Lib\\site-packages\\ultralytics\\engine\\trainer.py:269: FutureWarning: `torch.cuda.amp.GradScaler(args...)` is deprecated. Please use `torch.amp.GradScaler('cuda', args...)` instead.\n",
      "  self.scaler = torch.cuda.amp.GradScaler(enabled=self.amp)\n",
      "\u001b[34m\u001b[1mtrain: \u001b[0mScanning C:\\Users\\admin\\Desktop\\python ds\\cvprojects\\pothole detection\\potholesdata\\segment\\labels... 1221 images, 22 backgrounds, 0 corrupt: 100%|██████████| 1243/1243 [00:07<00:00, 159.43it/s]"
     ]
    },
    {
     "name": "stdout",
     "output_type": "stream",
     "text": [
      "\u001b[34m\u001b[1mtrain: \u001b[0mWARNING  C:\\Users\\admin\\Desktop\\python ds\\cvprojects\\pothole detection\\potholesdata\\segment\\images\\img-1002.jpg: 5 duplicate labels removed\n",
      "\u001b[34m\u001b[1mtrain: \u001b[0mWARNING  C:\\Users\\admin\\Desktop\\python ds\\cvprojects\\pothole detection\\potholesdata\\segment\\images\\img-1048.jpg: 1 duplicate labels removed\n",
      "\u001b[34m\u001b[1mtrain: \u001b[0mWARNING  C:\\Users\\admin\\Desktop\\python ds\\cvprojects\\pothole detection\\potholesdata\\segment\\images\\img-1050.jpg: 2 duplicate labels removed\n",
      "\u001b[34m\u001b[1mtrain: \u001b[0mWARNING  C:\\Users\\admin\\Desktop\\python ds\\cvprojects\\pothole detection\\potholesdata\\segment\\images\\img-1052.jpg: 1 duplicate labels removed\n",
      "\u001b[34m\u001b[1mtrain: \u001b[0mWARNING  C:\\Users\\admin\\Desktop\\python ds\\cvprojects\\pothole detection\\potholesdata\\segment\\images\\img-1056.jpg: 1 duplicate labels removed\n",
      "\u001b[34m\u001b[1mtrain: \u001b[0mWARNING  C:\\Users\\admin\\Desktop\\python ds\\cvprojects\\pothole detection\\potholesdata\\segment\\images\\img-1102.jpg: 1 duplicate labels removed\n",
      "\u001b[34m\u001b[1mtrain: \u001b[0mWARNING  C:\\Users\\admin\\Desktop\\python ds\\cvprojects\\pothole detection\\potholesdata\\segment\\images\\img-1109.jpg: 1 duplicate labels removed\n",
      "\u001b[34m\u001b[1mtrain: \u001b[0mWARNING  C:\\Users\\admin\\Desktop\\python ds\\cvprojects\\pothole detection\\potholesdata\\segment\\images\\img-1121.jpg: 2 duplicate labels removed\n",
      "\u001b[34m\u001b[1mtrain: \u001b[0mWARNING  C:\\Users\\admin\\Desktop\\python ds\\cvprojects\\pothole detection\\potholesdata\\segment\\images\\img-1145.jpg: 1 duplicate labels removed\n",
      "\u001b[34m\u001b[1mtrain: \u001b[0mWARNING  C:\\Users\\admin\\Desktop\\python ds\\cvprojects\\pothole detection\\potholesdata\\segment\\images\\img-1146.jpg: 1 duplicate labels removed\n",
      "\u001b[34m\u001b[1mtrain: \u001b[0mWARNING  C:\\Users\\admin\\Desktop\\python ds\\cvprojects\\pothole detection\\potholesdata\\segment\\images\\img-1149.jpg: 1 duplicate labels removed\n",
      "\u001b[34m\u001b[1mtrain: \u001b[0mWARNING  C:\\Users\\admin\\Desktop\\python ds\\cvprojects\\pothole detection\\potholesdata\\segment\\images\\img-1172.jpg: 1 duplicate labels removed\n",
      "\u001b[34m\u001b[1mtrain: \u001b[0mWARNING  C:\\Users\\admin\\Desktop\\python ds\\cvprojects\\pothole detection\\potholesdata\\segment\\images\\img-1175.jpg: 1 duplicate labels removed\n",
      "\u001b[34m\u001b[1mtrain: \u001b[0mWARNING  C:\\Users\\admin\\Desktop\\python ds\\cvprojects\\pothole detection\\potholesdata\\segment\\images\\img-1180.jpg: 2 duplicate labels removed\n",
      "\u001b[34m\u001b[1mtrain: \u001b[0mWARNING  C:\\Users\\admin\\Desktop\\python ds\\cvprojects\\pothole detection\\potholesdata\\segment\\images\\img-1185.jpg: 1 duplicate labels removed\n",
      "\u001b[34m\u001b[1mtrain: \u001b[0mWARNING  C:\\Users\\admin\\Desktop\\python ds\\cvprojects\\pothole detection\\potholesdata\\segment\\images\\img-1198.jpg: 1 duplicate labels removed\n",
      "\u001b[34m\u001b[1mtrain: \u001b[0mWARNING  C:\\Users\\admin\\Desktop\\python ds\\cvprojects\\pothole detection\\potholesdata\\segment\\images\\img-286.jpg: 1 duplicate labels removed\n",
      "\u001b[34m\u001b[1mtrain: \u001b[0mWARNING  C:\\Users\\admin\\Desktop\\python ds\\cvprojects\\pothole detection\\potholesdata\\segment\\images\\img-376.jpg: 1 duplicate labels removed\n",
      "\u001b[34m\u001b[1mtrain: \u001b[0mWARNING  C:\\Users\\admin\\Desktop\\python ds\\cvprojects\\pothole detection\\potholesdata\\segment\\images\\img-383.jpg: 1 duplicate labels removed\n",
      "\u001b[34m\u001b[1mtrain: \u001b[0mWARNING  C:\\Users\\admin\\Desktop\\python ds\\cvprojects\\pothole detection\\potholesdata\\segment\\images\\img-428.jpg: 1 duplicate labels removed\n",
      "\u001b[34m\u001b[1mtrain: \u001b[0mWARNING  C:\\Users\\admin\\Desktop\\python ds\\cvprojects\\pothole detection\\potholesdata\\segment\\images\\img-471.jpg: 1 duplicate labels removed\n",
      "\u001b[34m\u001b[1mtrain: \u001b[0mWARNING  C:\\Users\\admin\\Desktop\\python ds\\cvprojects\\pothole detection\\potholesdata\\segment\\images\\img-509.jpg: 1 duplicate labels removed\n",
      "\u001b[34m\u001b[1mtrain: \u001b[0mWARNING  C:\\Users\\admin\\Desktop\\python ds\\cvprojects\\pothole detection\\potholesdata\\segment\\images\\img-524.jpg: 1 duplicate labels removed\n",
      "\u001b[34m\u001b[1mtrain: \u001b[0mWARNING  C:\\Users\\admin\\Desktop\\python ds\\cvprojects\\pothole detection\\potholesdata\\segment\\images\\img-526.jpg: 1 duplicate labels removed\n",
      "\u001b[34m\u001b[1mtrain: \u001b[0mWARNING  C:\\Users\\admin\\Desktop\\python ds\\cvprojects\\pothole detection\\potholesdata\\segment\\images\\img-561.jpg: 1 duplicate labels removed\n",
      "\u001b[34m\u001b[1mtrain: \u001b[0mWARNING  C:\\Users\\admin\\Desktop\\python ds\\cvprojects\\pothole detection\\potholesdata\\segment\\images\\img-571.jpg: 1 duplicate labels removed\n",
      "\u001b[34m\u001b[1mtrain: \u001b[0mWARNING  C:\\Users\\admin\\Desktop\\python ds\\cvprojects\\pothole detection\\potholesdata\\segment\\images\\img-599.jpg: 2 duplicate labels removed\n",
      "\u001b[34m\u001b[1mtrain: \u001b[0mWARNING  C:\\Users\\admin\\Desktop\\python ds\\cvprojects\\pothole detection\\potholesdata\\segment\\images\\img-631.jpg: 1 duplicate labels removed\n",
      "\u001b[34m\u001b[1mtrain: \u001b[0mWARNING  C:\\Users\\admin\\Desktop\\python ds\\cvprojects\\pothole detection\\potholesdata\\segment\\images\\img-663.jpg: 1 duplicate labels removed\n",
      "\u001b[34m\u001b[1mtrain: \u001b[0mWARNING  C:\\Users\\admin\\Desktop\\python ds\\cvprojects\\pothole detection\\potholesdata\\segment\\images\\img-668.jpg: 3 duplicate labels removed\n",
      "\u001b[34m\u001b[1mtrain: \u001b[0mWARNING  C:\\Users\\admin\\Desktop\\python ds\\cvprojects\\pothole detection\\potholesdata\\segment\\images\\img-669.jpg: 1 duplicate labels removed\n",
      "\u001b[34m\u001b[1mtrain: \u001b[0mWARNING  C:\\Users\\admin\\Desktop\\python ds\\cvprojects\\pothole detection\\potholesdata\\segment\\images\\img-671.jpg: 3 duplicate labels removed\n",
      "\u001b[34m\u001b[1mtrain: \u001b[0mWARNING  C:\\Users\\admin\\Desktop\\python ds\\cvprojects\\pothole detection\\potholesdata\\segment\\images\\img-685.jpg: 1 duplicate labels removed\n",
      "\u001b[34m\u001b[1mtrain: \u001b[0mWARNING  C:\\Users\\admin\\Desktop\\python ds\\cvprojects\\pothole detection\\potholesdata\\segment\\images\\img-688.jpg: 2 duplicate labels removed\n",
      "\u001b[34m\u001b[1mtrain: \u001b[0mWARNING  C:\\Users\\admin\\Desktop\\python ds\\cvprojects\\pothole detection\\potholesdata\\segment\\images\\img-689.jpg: 1 duplicate labels removed\n",
      "\u001b[34m\u001b[1mtrain: \u001b[0mWARNING  C:\\Users\\admin\\Desktop\\python ds\\cvprojects\\pothole detection\\potholesdata\\segment\\images\\img-692.jpg: 1 duplicate labels removed\n",
      "\u001b[34m\u001b[1mtrain: \u001b[0mWARNING  C:\\Users\\admin\\Desktop\\python ds\\cvprojects\\pothole detection\\potholesdata\\segment\\images\\img-693.jpg: 3 duplicate labels removed\n",
      "\u001b[34m\u001b[1mtrain: \u001b[0mWARNING  C:\\Users\\admin\\Desktop\\python ds\\cvprojects\\pothole detection\\potholesdata\\segment\\images\\img-713.jpg: 1 duplicate labels removed\n",
      "\u001b[34m\u001b[1mtrain: \u001b[0mWARNING  C:\\Users\\admin\\Desktop\\python ds\\cvprojects\\pothole detection\\potholesdata\\segment\\images\\img-720.jpg: 1 duplicate labels removed\n",
      "\u001b[34m\u001b[1mtrain: \u001b[0mWARNING  C:\\Users\\admin\\Desktop\\python ds\\cvprojects\\pothole detection\\potholesdata\\segment\\images\\img-725.jpg: 3 duplicate labels removed\n",
      "\u001b[34m\u001b[1mtrain: \u001b[0mWARNING  C:\\Users\\admin\\Desktop\\python ds\\cvprojects\\pothole detection\\potholesdata\\segment\\images\\img-728.jpg: 1 duplicate labels removed\n",
      "\u001b[34m\u001b[1mtrain: \u001b[0mWARNING  C:\\Users\\admin\\Desktop\\python ds\\cvprojects\\pothole detection\\potholesdata\\segment\\images\\img-732.jpg: 1 duplicate labels removed\n",
      "\u001b[34m\u001b[1mtrain: \u001b[0mWARNING  C:\\Users\\admin\\Desktop\\python ds\\cvprojects\\pothole detection\\potholesdata\\segment\\images\\img-734.jpg: 1 duplicate labels removed\n",
      "\u001b[34m\u001b[1mtrain: \u001b[0mWARNING  C:\\Users\\admin\\Desktop\\python ds\\cvprojects\\pothole detection\\potholesdata\\segment\\images\\img-739.jpg: 2 duplicate labels removed\n",
      "\u001b[34m\u001b[1mtrain: \u001b[0mWARNING  C:\\Users\\admin\\Desktop\\python ds\\cvprojects\\pothole detection\\potholesdata\\segment\\images\\img-750.jpg: 3 duplicate labels removed\n",
      "\u001b[34m\u001b[1mtrain: \u001b[0mWARNING  C:\\Users\\admin\\Desktop\\python ds\\cvprojects\\pothole detection\\potholesdata\\segment\\images\\img-751.jpg: 1 duplicate labels removed\n",
      "\u001b[34m\u001b[1mtrain: \u001b[0mWARNING  C:\\Users\\admin\\Desktop\\python ds\\cvprojects\\pothole detection\\potholesdata\\segment\\images\\img-753.jpg: 1 duplicate labels removed\n",
      "\u001b[34m\u001b[1mtrain: \u001b[0mWARNING  C:\\Users\\admin\\Desktop\\python ds\\cvprojects\\pothole detection\\potholesdata\\segment\\images\\img-758.jpg: 3 duplicate labels removed\n",
      "\u001b[34m\u001b[1mtrain: \u001b[0mWARNING  C:\\Users\\admin\\Desktop\\python ds\\cvprojects\\pothole detection\\potholesdata\\segment\\images\\img-761.jpg: 1 duplicate labels removed\n",
      "\u001b[34m\u001b[1mtrain: \u001b[0mWARNING  C:\\Users\\admin\\Desktop\\python ds\\cvprojects\\pothole detection\\potholesdata\\segment\\images\\img-762.jpg: 2 duplicate labels removed\n",
      "\u001b[34m\u001b[1mtrain: \u001b[0mWARNING  C:\\Users\\admin\\Desktop\\python ds\\cvprojects\\pothole detection\\potholesdata\\segment\\images\\img-775.jpg: 1 duplicate labels removed\n",
      "\u001b[34m\u001b[1mtrain: \u001b[0mWARNING  C:\\Users\\admin\\Desktop\\python ds\\cvprojects\\pothole detection\\potholesdata\\segment\\images\\img-795.jpg: 1 duplicate labels removed\n",
      "\u001b[34m\u001b[1mtrain: \u001b[0mWARNING  C:\\Users\\admin\\Desktop\\python ds\\cvprojects\\pothole detection\\potholesdata\\segment\\images\\img-826.jpg: 1 duplicate labels removed\n",
      "\u001b[34m\u001b[1mtrain: \u001b[0mWARNING  C:\\Users\\admin\\Desktop\\python ds\\cvprojects\\pothole detection\\potholesdata\\segment\\images\\img-829.jpg: 1 duplicate labels removed\n",
      "\u001b[34m\u001b[1mtrain: \u001b[0mWARNING  C:\\Users\\admin\\Desktop\\python ds\\cvprojects\\pothole detection\\potholesdata\\segment\\images\\img-834.jpg: 1 duplicate labels removed\n",
      "\u001b[34m\u001b[1mtrain: \u001b[0mWARNING  C:\\Users\\admin\\Desktop\\python ds\\cvprojects\\pothole detection\\potholesdata\\segment\\images\\img-841.jpg: 1 duplicate labels removed\n",
      "\u001b[34m\u001b[1mtrain: \u001b[0mWARNING  C:\\Users\\admin\\Desktop\\python ds\\cvprojects\\pothole detection\\potholesdata\\segment\\images\\img-850.jpg: 1 duplicate labels removed\n",
      "\u001b[34m\u001b[1mtrain: \u001b[0mWARNING  C:\\Users\\admin\\Desktop\\python ds\\cvprojects\\pothole detection\\potholesdata\\segment\\images\\img-851.jpg: 1 duplicate labels removed\n",
      "\u001b[34m\u001b[1mtrain: \u001b[0mWARNING  C:\\Users\\admin\\Desktop\\python ds\\cvprojects\\pothole detection\\potholesdata\\segment\\images\\img-853.jpg: 2 duplicate labels removed\n",
      "\u001b[34m\u001b[1mtrain: \u001b[0mWARNING  C:\\Users\\admin\\Desktop\\python ds\\cvprojects\\pothole detection\\potholesdata\\segment\\images\\img-858.jpg: 1 duplicate labels removed\n",
      "\u001b[34m\u001b[1mtrain: \u001b[0mWARNING  C:\\Users\\admin\\Desktop\\python ds\\cvprojects\\pothole detection\\potholesdata\\segment\\images\\img-868.jpg: 1 duplicate labels removed\n",
      "\u001b[34m\u001b[1mtrain: \u001b[0mWARNING  C:\\Users\\admin\\Desktop\\python ds\\cvprojects\\pothole detection\\potholesdata\\segment\\images\\img-900.jpg: 3 duplicate labels removed\n",
      "\u001b[34m\u001b[1mtrain: \u001b[0mWARNING  C:\\Users\\admin\\Desktop\\python ds\\cvprojects\\pothole detection\\potholesdata\\segment\\images\\img-905.jpg: 1 duplicate labels removed\n",
      "\u001b[34m\u001b[1mtrain: \u001b[0mWARNING  C:\\Users\\admin\\Desktop\\python ds\\cvprojects\\pothole detection\\potholesdata\\segment\\images\\img-928.jpg: 1 duplicate labels removed\n",
      "\u001b[34m\u001b[1mtrain: \u001b[0mWARNING  C:\\Users\\admin\\Desktop\\python ds\\cvprojects\\pothole detection\\potholesdata\\segment\\images\\img-950.jpg: 1 duplicate labels removed\n",
      "\u001b[34m\u001b[1mtrain: \u001b[0mWARNING  C:\\Users\\admin\\Desktop\\python ds\\cvprojects\\pothole detection\\potholesdata\\segment\\images\\img-951.jpg: 1 duplicate labels removed\n",
      "\u001b[34m\u001b[1mtrain: \u001b[0mWARNING  C:\\Users\\admin\\Desktop\\python ds\\cvprojects\\pothole detection\\potholesdata\\segment\\images\\img-952.jpg: 1 duplicate labels removed\n",
      "\u001b[34m\u001b[1mtrain: \u001b[0mWARNING  C:\\Users\\admin\\Desktop\\python ds\\cvprojects\\pothole detection\\potholesdata\\segment\\images\\img-953.jpg: 1 duplicate labels removed\n",
      "\u001b[34m\u001b[1mtrain: \u001b[0mWARNING  C:\\Users\\admin\\Desktop\\python ds\\cvprojects\\pothole detection\\potholesdata\\segment\\images\\img-954.jpg: 1 duplicate labels removed\n",
      "\u001b[34m\u001b[1mtrain: \u001b[0mWARNING  C:\\Users\\admin\\Desktop\\python ds\\cvprojects\\pothole detection\\potholesdata\\segment\\images\\img-955.jpg: 1 duplicate labels removed\n",
      "\u001b[34m\u001b[1mtrain: \u001b[0mWARNING  C:\\Users\\admin\\Desktop\\python ds\\cvprojects\\pothole detection\\potholesdata\\segment\\images\\img-980.jpg: 1 duplicate labels removed\n",
      "\u001b[34m\u001b[1mtrain: \u001b[0mWARNING  C:\\Users\\admin\\Desktop\\python ds\\cvprojects\\pothole detection\\potholesdata\\segment\\images\\img-983.jpg: 1 duplicate labels removed\n"
     ]
    },
    {
     "name": "stderr",
     "output_type": "stream",
     "text": [
      "\n"
     ]
    },
    {
     "name": "stdout",
     "output_type": "stream",
     "text": [
      "\u001b[34m\u001b[1mtrain: \u001b[0mNew cache created: C:\\Users\\admin\\Desktop\\python ds\\cvprojects\\pothole detection\\potholesdata\\segment\\labels.cache\n"
     ]
    },
    {
     "name": "stderr",
     "output_type": "stream",
     "text": [
      "\u001b[34m\u001b[1mval: \u001b[0mScanning C:\\Users\\admin\\Desktop\\python ds\\cvprojects\\pothole detection\\potholesdata\\segment\\labels.cache... 1221 images, 22 backgrounds, 0 corrupt: 100%|██████████| 1243/1243 [00:00<?, ?it/s]"
     ]
    },
    {
     "name": "stdout",
     "output_type": "stream",
     "text": [
      "\u001b[34m\u001b[1mtrain: \u001b[0mWARNING  C:\\Users\\admin\\Desktop\\python ds\\cvprojects\\pothole detection\\potholesdata\\segment\\images\\img-1002.jpg: 5 duplicate labels removed\n",
      "\u001b[34m\u001b[1mtrain: \u001b[0mWARNING  C:\\Users\\admin\\Desktop\\python ds\\cvprojects\\pothole detection\\potholesdata\\segment\\images\\img-1048.jpg: 1 duplicate labels removed\n",
      "\u001b[34m\u001b[1mtrain: \u001b[0mWARNING  C:\\Users\\admin\\Desktop\\python ds\\cvprojects\\pothole detection\\potholesdata\\segment\\images\\img-1050.jpg: 2 duplicate labels removed\n",
      "\u001b[34m\u001b[1mtrain: \u001b[0mWARNING  C:\\Users\\admin\\Desktop\\python ds\\cvprojects\\pothole detection\\potholesdata\\segment\\images\\img-1052.jpg: 1 duplicate labels removed\n",
      "\u001b[34m\u001b[1mtrain: \u001b[0mWARNING  C:\\Users\\admin\\Desktop\\python ds\\cvprojects\\pothole detection\\potholesdata\\segment\\images\\img-1056.jpg: 1 duplicate labels removed\n",
      "\u001b[34m\u001b[1mtrain: \u001b[0mWARNING  C:\\Users\\admin\\Desktop\\python ds\\cvprojects\\pothole detection\\potholesdata\\segment\\images\\img-1102.jpg: 1 duplicate labels removed\n",
      "\u001b[34m\u001b[1mtrain: \u001b[0mWARNING  C:\\Users\\admin\\Desktop\\python ds\\cvprojects\\pothole detection\\potholesdata\\segment\\images\\img-1109.jpg: 1 duplicate labels removed\n",
      "\u001b[34m\u001b[1mtrain: \u001b[0mWARNING  C:\\Users\\admin\\Desktop\\python ds\\cvprojects\\pothole detection\\potholesdata\\segment\\images\\img-1121.jpg: 2 duplicate labels removed\n",
      "\u001b[34m\u001b[1mtrain: \u001b[0mWARNING  C:\\Users\\admin\\Desktop\\python ds\\cvprojects\\pothole detection\\potholesdata\\segment\\images\\img-1145.jpg: 1 duplicate labels removed\n",
      "\u001b[34m\u001b[1mtrain: \u001b[0mWARNING  C:\\Users\\admin\\Desktop\\python ds\\cvprojects\\pothole detection\\potholesdata\\segment\\images\\img-1146.jpg: 1 duplicate labels removed\n",
      "\u001b[34m\u001b[1mtrain: \u001b[0mWARNING  C:\\Users\\admin\\Desktop\\python ds\\cvprojects\\pothole detection\\potholesdata\\segment\\images\\img-1149.jpg: 1 duplicate labels removed\n",
      "\u001b[34m\u001b[1mtrain: \u001b[0mWARNING  C:\\Users\\admin\\Desktop\\python ds\\cvprojects\\pothole detection\\potholesdata\\segment\\images\\img-1172.jpg: 1 duplicate labels removed\n",
      "\u001b[34m\u001b[1mtrain: \u001b[0mWARNING  C:\\Users\\admin\\Desktop\\python ds\\cvprojects\\pothole detection\\potholesdata\\segment\\images\\img-1175.jpg: 1 duplicate labels removed\n",
      "\u001b[34m\u001b[1mtrain: \u001b[0mWARNING  C:\\Users\\admin\\Desktop\\python ds\\cvprojects\\pothole detection\\potholesdata\\segment\\images\\img-1180.jpg: 2 duplicate labels removed\n",
      "\u001b[34m\u001b[1mtrain: \u001b[0mWARNING  C:\\Users\\admin\\Desktop\\python ds\\cvprojects\\pothole detection\\potholesdata\\segment\\images\\img-1185.jpg: 1 duplicate labels removed\n",
      "\u001b[34m\u001b[1mtrain: \u001b[0mWARNING  C:\\Users\\admin\\Desktop\\python ds\\cvprojects\\pothole detection\\potholesdata\\segment\\images\\img-1198.jpg: 1 duplicate labels removed\n",
      "\u001b[34m\u001b[1mtrain: \u001b[0mWARNING  C:\\Users\\admin\\Desktop\\python ds\\cvprojects\\pothole detection\\potholesdata\\segment\\images\\img-286.jpg: 1 duplicate labels removed\n",
      "\u001b[34m\u001b[1mtrain: \u001b[0mWARNING  C:\\Users\\admin\\Desktop\\python ds\\cvprojects\\pothole detection\\potholesdata\\segment\\images\\img-376.jpg: 1 duplicate labels removed\n",
      "\u001b[34m\u001b[1mtrain: \u001b[0mWARNING  C:\\Users\\admin\\Desktop\\python ds\\cvprojects\\pothole detection\\potholesdata\\segment\\images\\img-383.jpg: 1 duplicate labels removed\n",
      "\u001b[34m\u001b[1mtrain: \u001b[0mWARNING  C:\\Users\\admin\\Desktop\\python ds\\cvprojects\\pothole detection\\potholesdata\\segment\\images\\img-428.jpg: 1 duplicate labels removed\n",
      "\u001b[34m\u001b[1mtrain: \u001b[0mWARNING  C:\\Users\\admin\\Desktop\\python ds\\cvprojects\\pothole detection\\potholesdata\\segment\\images\\img-471.jpg: 1 duplicate labels removed\n",
      "\u001b[34m\u001b[1mtrain: \u001b[0mWARNING  C:\\Users\\admin\\Desktop\\python ds\\cvprojects\\pothole detection\\potholesdata\\segment\\images\\img-509.jpg: 1 duplicate labels removed\n",
      "\u001b[34m\u001b[1mtrain: \u001b[0mWARNING  C:\\Users\\admin\\Desktop\\python ds\\cvprojects\\pothole detection\\potholesdata\\segment\\images\\img-524.jpg: 1 duplicate labels removed\n",
      "\u001b[34m\u001b[1mtrain: \u001b[0mWARNING  C:\\Users\\admin\\Desktop\\python ds\\cvprojects\\pothole detection\\potholesdata\\segment\\images\\img-526.jpg: 1 duplicate labels removed\n",
      "\u001b[34m\u001b[1mtrain: \u001b[0mWARNING  C:\\Users\\admin\\Desktop\\python ds\\cvprojects\\pothole detection\\potholesdata\\segment\\images\\img-561.jpg: 1 duplicate labels removed\n",
      "\u001b[34m\u001b[1mtrain: \u001b[0mWARNING  C:\\Users\\admin\\Desktop\\python ds\\cvprojects\\pothole detection\\potholesdata\\segment\\images\\img-571.jpg: 1 duplicate labels removed\n",
      "\u001b[34m\u001b[1mtrain: \u001b[0mWARNING  C:\\Users\\admin\\Desktop\\python ds\\cvprojects\\pothole detection\\potholesdata\\segment\\images\\img-599.jpg: 2 duplicate labels removed\n",
      "\u001b[34m\u001b[1mtrain: \u001b[0mWARNING  C:\\Users\\admin\\Desktop\\python ds\\cvprojects\\pothole detection\\potholesdata\\segment\\images\\img-631.jpg: 1 duplicate labels removed\n",
      "\u001b[34m\u001b[1mtrain: \u001b[0mWARNING  C:\\Users\\admin\\Desktop\\python ds\\cvprojects\\pothole detection\\potholesdata\\segment\\images\\img-663.jpg: 1 duplicate labels removed\n",
      "\u001b[34m\u001b[1mtrain: \u001b[0mWARNING  C:\\Users\\admin\\Desktop\\python ds\\cvprojects\\pothole detection\\potholesdata\\segment\\images\\img-668.jpg: 3 duplicate labels removed\n",
      "\u001b[34m\u001b[1mtrain: \u001b[0mWARNING  C:\\Users\\admin\\Desktop\\python ds\\cvprojects\\pothole detection\\potholesdata\\segment\\images\\img-669.jpg: 1 duplicate labels removed\n",
      "\u001b[34m\u001b[1mtrain: \u001b[0mWARNING  C:\\Users\\admin\\Desktop\\python ds\\cvprojects\\pothole detection\\potholesdata\\segment\\images\\img-671.jpg: 3 duplicate labels removed\n",
      "\u001b[34m\u001b[1mtrain: \u001b[0mWARNING  C:\\Users\\admin\\Desktop\\python ds\\cvprojects\\pothole detection\\potholesdata\\segment\\images\\img-685.jpg: 1 duplicate labels removed\n",
      "\u001b[34m\u001b[1mtrain: \u001b[0mWARNING  C:\\Users\\admin\\Desktop\\python ds\\cvprojects\\pothole detection\\potholesdata\\segment\\images\\img-688.jpg: 2 duplicate labels removed\n",
      "\u001b[34m\u001b[1mtrain: \u001b[0mWARNING  C:\\Users\\admin\\Desktop\\python ds\\cvprojects\\pothole detection\\potholesdata\\segment\\images\\img-689.jpg: 1 duplicate labels removed\n",
      "\u001b[34m\u001b[1mtrain: \u001b[0mWARNING  C:\\Users\\admin\\Desktop\\python ds\\cvprojects\\pothole detection\\potholesdata\\segment\\images\\img-692.jpg: 1 duplicate labels removed\n",
      "\u001b[34m\u001b[1mtrain: \u001b[0mWARNING  C:\\Users\\admin\\Desktop\\python ds\\cvprojects\\pothole detection\\potholesdata\\segment\\images\\img-693.jpg: 3 duplicate labels removed\n",
      "\u001b[34m\u001b[1mtrain: \u001b[0mWARNING  C:\\Users\\admin\\Desktop\\python ds\\cvprojects\\pothole detection\\potholesdata\\segment\\images\\img-713.jpg: 1 duplicate labels removed\n",
      "\u001b[34m\u001b[1mtrain: \u001b[0mWARNING  C:\\Users\\admin\\Desktop\\python ds\\cvprojects\\pothole detection\\potholesdata\\segment\\images\\img-720.jpg: 1 duplicate labels removed\n",
      "\u001b[34m\u001b[1mtrain: \u001b[0mWARNING  C:\\Users\\admin\\Desktop\\python ds\\cvprojects\\pothole detection\\potholesdata\\segment\\images\\img-725.jpg: 3 duplicate labels removed\n",
      "\u001b[34m\u001b[1mtrain: \u001b[0mWARNING  C:\\Users\\admin\\Desktop\\python ds\\cvprojects\\pothole detection\\potholesdata\\segment\\images\\img-728.jpg: 1 duplicate labels removed\n",
      "\u001b[34m\u001b[1mtrain: \u001b[0mWARNING  C:\\Users\\admin\\Desktop\\python ds\\cvprojects\\pothole detection\\potholesdata\\segment\\images\\img-732.jpg: 1 duplicate labels removed\n",
      "\u001b[34m\u001b[1mtrain: \u001b[0mWARNING  C:\\Users\\admin\\Desktop\\python ds\\cvprojects\\pothole detection\\potholesdata\\segment\\images\\img-734.jpg: 1 duplicate labels removed\n",
      "\u001b[34m\u001b[1mtrain: \u001b[0mWARNING  C:\\Users\\admin\\Desktop\\python ds\\cvprojects\\pothole detection\\potholesdata\\segment\\images\\img-739.jpg: 2 duplicate labels removed\n",
      "\u001b[34m\u001b[1mtrain: \u001b[0mWARNING  C:\\Users\\admin\\Desktop\\python ds\\cvprojects\\pothole detection\\potholesdata\\segment\\images\\img-750.jpg: 3 duplicate labels removed\n",
      "\u001b[34m\u001b[1mtrain: \u001b[0mWARNING  C:\\Users\\admin\\Desktop\\python ds\\cvprojects\\pothole detection\\potholesdata\\segment\\images\\img-751.jpg: 1 duplicate labels removed\n",
      "\u001b[34m\u001b[1mtrain: \u001b[0mWARNING  C:\\Users\\admin\\Desktop\\python ds\\cvprojects\\pothole detection\\potholesdata\\segment\\images\\img-753.jpg: 1 duplicate labels removed\n",
      "\u001b[34m\u001b[1mtrain: \u001b[0mWARNING  C:\\Users\\admin\\Desktop\\python ds\\cvprojects\\pothole detection\\potholesdata\\segment\\images\\img-758.jpg: 3 duplicate labels removed\n",
      "\u001b[34m\u001b[1mtrain: \u001b[0mWARNING  C:\\Users\\admin\\Desktop\\python ds\\cvprojects\\pothole detection\\potholesdata\\segment\\images\\img-761.jpg: 1 duplicate labels removed\n",
      "\u001b[34m\u001b[1mtrain: \u001b[0mWARNING  C:\\Users\\admin\\Desktop\\python ds\\cvprojects\\pothole detection\\potholesdata\\segment\\images\\img-762.jpg: 2 duplicate labels removed\n",
      "\u001b[34m\u001b[1mtrain: \u001b[0mWARNING  C:\\Users\\admin\\Desktop\\python ds\\cvprojects\\pothole detection\\potholesdata\\segment\\images\\img-775.jpg: 1 duplicate labels removed\n",
      "\u001b[34m\u001b[1mtrain: \u001b[0mWARNING  C:\\Users\\admin\\Desktop\\python ds\\cvprojects\\pothole detection\\potholesdata\\segment\\images\\img-795.jpg: 1 duplicate labels removed\n",
      "\u001b[34m\u001b[1mtrain: \u001b[0mWARNING  C:\\Users\\admin\\Desktop\\python ds\\cvprojects\\pothole detection\\potholesdata\\segment\\images\\img-826.jpg: 1 duplicate labels removed\n",
      "\u001b[34m\u001b[1mtrain: \u001b[0mWARNING  C:\\Users\\admin\\Desktop\\python ds\\cvprojects\\pothole detection\\potholesdata\\segment\\images\\img-829.jpg: 1 duplicate labels removed\n",
      "\u001b[34m\u001b[1mtrain: \u001b[0mWARNING  C:\\Users\\admin\\Desktop\\python ds\\cvprojects\\pothole detection\\potholesdata\\segment\\images\\img-834.jpg: 1 duplicate labels removed\n",
      "\u001b[34m\u001b[1mtrain: \u001b[0mWARNING  C:\\Users\\admin\\Desktop\\python ds\\cvprojects\\pothole detection\\potholesdata\\segment\\images\\img-841.jpg: 1 duplicate labels removed\n",
      "\u001b[34m\u001b[1mtrain: \u001b[0mWARNING  C:\\Users\\admin\\Desktop\\python ds\\cvprojects\\pothole detection\\potholesdata\\segment\\images\\img-850.jpg: 1 duplicate labels removed\n",
      "\u001b[34m\u001b[1mtrain: \u001b[0mWARNING  C:\\Users\\admin\\Desktop\\python ds\\cvprojects\\pothole detection\\potholesdata\\segment\\images\\img-851.jpg: 1 duplicate labels removed\n",
      "\u001b[34m\u001b[1mtrain: \u001b[0mWARNING  C:\\Users\\admin\\Desktop\\python ds\\cvprojects\\pothole detection\\potholesdata\\segment\\images\\img-853.jpg: 2 duplicate labels removed\n",
      "\u001b[34m\u001b[1mtrain: \u001b[0mWARNING  C:\\Users\\admin\\Desktop\\python ds\\cvprojects\\pothole detection\\potholesdata\\segment\\images\\img-858.jpg: 1 duplicate labels removed\n",
      "\u001b[34m\u001b[1mtrain: \u001b[0mWARNING  C:\\Users\\admin\\Desktop\\python ds\\cvprojects\\pothole detection\\potholesdata\\segment\\images\\img-868.jpg: 1 duplicate labels removed\n",
      "\u001b[34m\u001b[1mtrain: \u001b[0mWARNING  C:\\Users\\admin\\Desktop\\python ds\\cvprojects\\pothole detection\\potholesdata\\segment\\images\\img-900.jpg: 3 duplicate labels removed\n",
      "\u001b[34m\u001b[1mtrain: \u001b[0mWARNING  C:\\Users\\admin\\Desktop\\python ds\\cvprojects\\pothole detection\\potholesdata\\segment\\images\\img-905.jpg: 1 duplicate labels removed\n",
      "\u001b[34m\u001b[1mtrain: \u001b[0mWARNING  C:\\Users\\admin\\Desktop\\python ds\\cvprojects\\pothole detection\\potholesdata\\segment\\images\\img-928.jpg: 1 duplicate labels removed\n",
      "\u001b[34m\u001b[1mtrain: \u001b[0mWARNING  C:\\Users\\admin\\Desktop\\python ds\\cvprojects\\pothole detection\\potholesdata\\segment\\images\\img-950.jpg: 1 duplicate labels removed\n",
      "\u001b[34m\u001b[1mtrain: \u001b[0mWARNING  C:\\Users\\admin\\Desktop\\python ds\\cvprojects\\pothole detection\\potholesdata\\segment\\images\\img-951.jpg: 1 duplicate labels removed\n",
      "\u001b[34m\u001b[1mtrain: \u001b[0mWARNING  C:\\Users\\admin\\Desktop\\python ds\\cvprojects\\pothole detection\\potholesdata\\segment\\images\\img-952.jpg: 1 duplicate labels removed\n",
      "\u001b[34m\u001b[1mtrain: \u001b[0mWARNING  C:\\Users\\admin\\Desktop\\python ds\\cvprojects\\pothole detection\\potholesdata\\segment\\images\\img-953.jpg: 1 duplicate labels removed\n",
      "\u001b[34m\u001b[1mtrain: \u001b[0mWARNING  C:\\Users\\admin\\Desktop\\python ds\\cvprojects\\pothole detection\\potholesdata\\segment\\images\\img-954.jpg: 1 duplicate labels removed\n",
      "\u001b[34m\u001b[1mtrain: \u001b[0mWARNING  C:\\Users\\admin\\Desktop\\python ds\\cvprojects\\pothole detection\\potholesdata\\segment\\images\\img-955.jpg: 1 duplicate labels removed\n",
      "\u001b[34m\u001b[1mtrain: \u001b[0mWARNING  C:\\Users\\admin\\Desktop\\python ds\\cvprojects\\pothole detection\\potholesdata\\segment\\images\\img-980.jpg: 1 duplicate labels removed\n",
      "\u001b[34m\u001b[1mtrain: \u001b[0mWARNING  C:\\Users\\admin\\Desktop\\python ds\\cvprojects\\pothole detection\\potholesdata\\segment\\images\\img-983.jpg: 1 duplicate labels removed\n"
     ]
    },
    {
     "name": "stderr",
     "output_type": "stream",
     "text": [
      "\n"
     ]
    },
    {
     "name": "stdout",
     "output_type": "stream",
     "text": [
      "Plotting labels to runs\\segment\\train3\\labels.jpg... \n",
      "\u001b[34m\u001b[1moptimizer:\u001b[0m 'optimizer=auto' found, ignoring 'lr0=0.01' and 'momentum=0.937' and determining best 'optimizer', 'lr0' and 'momentum' automatically... \n",
      "\u001b[34m\u001b[1moptimizer:\u001b[0m AdamW(lr=0.002, momentum=0.9) with parameter groups 66 weight(decay=0.0), 77 weight(decay=0.0005), 76 bias(decay=0.0)\n",
      "\u001b[34m\u001b[1mTensorBoard: \u001b[0mmodel graph visualization added \n",
      "Image sizes 480 train, 480 val\n",
      "Using 0 dataloader workers\n",
      "Logging results to \u001b[1mruns\\segment\\train3\u001b[0m\n",
      "Starting training for 250 epochs...\n",
      "\n",
      "      Epoch    GPU_mem   box_loss   seg_loss   cls_loss   dfl_loss  Instances       Size\n"
     ]
    },
    {
     "name": "stderr",
     "output_type": "stream",
     "text": [
      "      1/250         0G      1.465      3.143      2.118      1.264         45        480: 100%|██████████| 78/78 [13:11<00:00, 10.14s/it]\n",
      "                 Class     Images  Instances      Box(P          R      mAP50  mAP50-95)     Mask(P          R      mAP50  mAP50-95): 100%|██████████| 39/39 [04:37<00:00,  7.11s/it]\n"
     ]
    },
    {
     "name": "stdout",
     "output_type": "stream",
     "text": [
      "                   all       1243       4038      0.742       0.27      0.435      0.228      0.694      0.253      0.378      0.193\n",
      "\n",
      "      Epoch    GPU_mem   box_loss   seg_loss   cls_loss   dfl_loss  Instances       Size\n"
     ]
    },
    {
     "name": "stderr",
     "output_type": "stream",
     "text": [
      "      2/250         0G      1.461      2.982       1.64      1.259         85        480: 100%|██████████| 78/78 [12:33<00:00,  9.67s/it]\n",
      "                 Class     Images  Instances      Box(P          R      mAP50  mAP50-95)     Mask(P          R      mAP50  mAP50-95): 100%|██████████| 39/39 [04:33<00:00,  7.02s/it]\n"
     ]
    },
    {
     "name": "stdout",
     "output_type": "stream",
     "text": [
      "                   all       1243       4038      0.328        0.4      0.263      0.136      0.319       0.38      0.232      0.118\n",
      "\n",
      "      Epoch    GPU_mem   box_loss   seg_loss   cls_loss   dfl_loss  Instances       Size\n"
     ]
    },
    {
     "name": "stderr",
     "output_type": "stream",
     "text": [
      "      3/250         0G      1.504      2.992      1.608      1.295         63        480: 100%|██████████| 78/78 [12:40<00:00,  9.75s/it]\n",
      "                 Class     Images  Instances      Box(P          R      mAP50  mAP50-95)     Mask(P          R      mAP50  mAP50-95): 100%|██████████| 39/39 [04:17<00:00,  6.60s/it]\n"
     ]
    },
    {
     "name": "stdout",
     "output_type": "stream",
     "text": [
      "                   all       1243       4038      0.579      0.508      0.525      0.274      0.537      0.461      0.456      0.227\n",
      "\n",
      "      Epoch    GPU_mem   box_loss   seg_loss   cls_loss   dfl_loss  Instances       Size\n"
     ]
    },
    {
     "name": "stderr",
     "output_type": "stream",
     "text": [
      "      4/250         0G      1.471      2.906      1.518      1.266         83        480: 100%|██████████| 78/78 [12:29<00:00,  9.60s/it]\n",
      "                 Class     Images  Instances      Box(P          R      mAP50  mAP50-95)     Mask(P          R      mAP50  mAP50-95): 100%|██████████| 39/39 [04:17<00:00,  6.60s/it]\n"
     ]
    },
    {
     "name": "stdout",
     "output_type": "stream",
     "text": [
      "                   all       1243       4038       0.63      0.457      0.519      0.295       0.62      0.429      0.469      0.251\n",
      "\n",
      "      Epoch    GPU_mem   box_loss   seg_loss   cls_loss   dfl_loss  Instances       Size\n"
     ]
    },
    {
     "name": "stderr",
     "output_type": "stream",
     "text": [
      "      5/250         0G      1.438      2.943       1.48      1.253         57        480: 100%|██████████| 78/78 [12:30<00:00,  9.62s/it]\n",
      "                 Class     Images  Instances      Box(P          R      mAP50  mAP50-95)     Mask(P          R      mAP50  mAP50-95): 100%|██████████| 39/39 [04:19<00:00,  6.64s/it]\n"
     ]
    },
    {
     "name": "stdout",
     "output_type": "stream",
     "text": [
      "                   all       1243       4038       0.59      0.544      0.569      0.329      0.579      0.487      0.496      0.249\n",
      "\n",
      "      Epoch    GPU_mem   box_loss   seg_loss   cls_loss   dfl_loss  Instances       Size\n"
     ]
    },
    {
     "name": "stderr",
     "output_type": "stream",
     "text": [
      "      6/250         0G      1.397      2.812      1.402       1.24         53        480: 100%|██████████| 78/78 [12:32<00:00,  9.65s/it]\n",
      "                 Class     Images  Instances      Box(P          R      mAP50  mAP50-95)     Mask(P          R      mAP50  mAP50-95): 100%|██████████| 39/39 [04:03<00:00,  6.25s/it]\n"
     ]
    },
    {
     "name": "stdout",
     "output_type": "stream",
     "text": [
      "                   all       1243       4038      0.619      0.526      0.568      0.304      0.599      0.462      0.494      0.231\n",
      "\n",
      "      Epoch    GPU_mem   box_loss   seg_loss   cls_loss   dfl_loss  Instances       Size\n"
     ]
    },
    {
     "name": "stderr",
     "output_type": "stream",
     "text": [
      "      7/250         0G      1.386       2.79      1.356      1.223         80        480: 100%|██████████| 78/78 [12:30<00:00,  9.62s/it]\n",
      "                 Class     Images  Instances      Box(P          R      mAP50  mAP50-95)     Mask(P          R      mAP50  mAP50-95): 100%|██████████| 39/39 [04:14<00:00,  6.53s/it]\n"
     ]
    },
    {
     "name": "stdout",
     "output_type": "stream",
     "text": [
      "                   all       1243       4038      0.683       0.61      0.664      0.382      0.685      0.556      0.598      0.322\n",
      "\n",
      "      Epoch    GPU_mem   box_loss   seg_loss   cls_loss   dfl_loss  Instances       Size\n"
     ]
    },
    {
     "name": "stderr",
     "output_type": "stream",
     "text": [
      "      8/250         0G       1.36       2.75      1.324      1.195         71        480: 100%|██████████| 78/78 [12:31<00:00,  9.64s/it]\n",
      "                 Class     Images  Instances      Box(P          R      mAP50  mAP50-95)     Mask(P          R      mAP50  mAP50-95): 100%|██████████| 39/39 [04:00<00:00,  6.16s/it]\n"
     ]
    },
    {
     "name": "stdout",
     "output_type": "stream",
     "text": [
      "                   all       1243       4038      0.629      0.545      0.607      0.376      0.623      0.504      0.556      0.327\n",
      "\n",
      "      Epoch    GPU_mem   box_loss   seg_loss   cls_loss   dfl_loss  Instances       Size\n"
     ]
    },
    {
     "name": "stderr",
     "output_type": "stream",
     "text": [
      "      9/250         0G      1.327      2.744      1.301      1.203         44        480: 100%|██████████| 78/78 [12:31<00:00,  9.63s/it]\n",
      "                 Class     Images  Instances      Box(P          R      mAP50  mAP50-95)     Mask(P          R      mAP50  mAP50-95): 100%|██████████| 39/39 [04:05<00:00,  6.30s/it]\n"
     ]
    },
    {
     "name": "stdout",
     "output_type": "stream",
     "text": [
      "                   all       1243       4038      0.646      0.521      0.592      0.358      0.624      0.488      0.537      0.307\n",
      "\n",
      "      Epoch    GPU_mem   box_loss   seg_loss   cls_loss   dfl_loss  Instances       Size\n"
     ]
    },
    {
     "name": "stderr",
     "output_type": "stream",
     "text": [
      "     10/250         0G      1.313      2.712      1.285      1.193         88        480: 100%|██████████| 78/78 [12:34<00:00,  9.67s/it]\n",
      "                 Class     Images  Instances      Box(P          R      mAP50  mAP50-95)     Mask(P          R      mAP50  mAP50-95): 100%|██████████| 39/39 [04:03<00:00,  6.24s/it]\n"
     ]
    },
    {
     "name": "stdout",
     "output_type": "stream",
     "text": [
      "                   all       1243       4038      0.672      0.619      0.676      0.407       0.66      0.562       0.61      0.333\n",
      "\n",
      "      Epoch    GPU_mem   box_loss   seg_loss   cls_loss   dfl_loss  Instances       Size\n"
     ]
    },
    {
     "name": "stderr",
     "output_type": "stream",
     "text": [
      "     11/250         0G      1.303      2.681      1.275      1.185         70        480: 100%|██████████| 78/78 [12:30<00:00,  9.63s/it]\n",
      "                 Class     Images  Instances      Box(P          R      mAP50  mAP50-95)     Mask(P          R      mAP50  mAP50-95): 100%|██████████| 39/39 [03:52<00:00,  5.97s/it]\n"
     ]
    },
    {
     "name": "stdout",
     "output_type": "stream",
     "text": [
      "                   all       1243       4038      0.726      0.621        0.7      0.432      0.716      0.584      0.642      0.375\n",
      "\n",
      "      Epoch    GPU_mem   box_loss   seg_loss   cls_loss   dfl_loss  Instances       Size\n"
     ]
    },
    {
     "name": "stderr",
     "output_type": "stream",
     "text": [
      "     12/250         0G      1.293      2.618      1.231      1.184         49        480: 100%|██████████| 78/78 [12:19<00:00,  9.48s/it]\n",
      "                 Class     Images  Instances      Box(P          R      mAP50  mAP50-95)     Mask(P          R      mAP50  mAP50-95): 100%|██████████| 39/39 [03:59<00:00,  6.15s/it]\n"
     ]
    },
    {
     "name": "stdout",
     "output_type": "stream",
     "text": [
      "                   all       1243       4038      0.693      0.624      0.686      0.422      0.681      0.598       0.64      0.374\n",
      "\n",
      "      Epoch    GPU_mem   box_loss   seg_loss   cls_loss   dfl_loss  Instances       Size\n"
     ]
    },
    {
     "name": "stderr",
     "output_type": "stream",
     "text": [
      "     13/250         0G       1.28      2.685      1.237       1.18         78        480: 100%|██████████| 78/78 [12:24<00:00,  9.54s/it]\n",
      "                 Class     Images  Instances      Box(P          R      mAP50  mAP50-95)     Mask(P          R      mAP50  mAP50-95): 100%|██████████| 39/39 [03:53<00:00,  5.98s/it]\n"
     ]
    },
    {
     "name": "stdout",
     "output_type": "stream",
     "text": [
      "                   all       1243       4038      0.712      0.614      0.688      0.432      0.705      0.576      0.639      0.373\n",
      "\n",
      "      Epoch    GPU_mem   box_loss   seg_loss   cls_loss   dfl_loss  Instances       Size\n"
     ]
    },
    {
     "name": "stderr",
     "output_type": "stream",
     "text": [
      "     14/250         0G      1.261       2.66      1.206      1.153         71        480: 100%|██████████| 78/78 [12:42<00:00,  9.77s/it]\n",
      "                 Class     Images  Instances      Box(P          R      mAP50  mAP50-95)     Mask(P          R      mAP50  mAP50-95): 100%|██████████| 39/39 [03:51<00:00,  5.92s/it]\n"
     ]
    },
    {
     "name": "stdout",
     "output_type": "stream",
     "text": [
      "                   all       1243       4038      0.709      0.601      0.679      0.418      0.703      0.553      0.613      0.333\n",
      "\n",
      "      Epoch    GPU_mem   box_loss   seg_loss   cls_loss   dfl_loss  Instances       Size\n"
     ]
    },
    {
     "name": "stderr",
     "output_type": "stream",
     "text": [
      "     15/250         0G      1.272      2.609      1.201      1.166         78        480: 100%|██████████| 78/78 [12:20<00:00,  9.50s/it]\n",
      "                 Class     Images  Instances      Box(P          R      mAP50  mAP50-95)     Mask(P          R      mAP50  mAP50-95): 100%|██████████| 39/39 [04:00<00:00,  6.18s/it]\n"
     ]
    },
    {
     "name": "stdout",
     "output_type": "stream",
     "text": [
      "                   all       1243       4038      0.744      0.652      0.733      0.467      0.719      0.627      0.682       0.38\n",
      "\n",
      "      Epoch    GPU_mem   box_loss   seg_loss   cls_loss   dfl_loss  Instances       Size\n"
     ]
    },
    {
     "name": "stderr",
     "output_type": "stream",
     "text": [
      "     16/250         0G      1.242      2.523      1.161      1.152         60        480: 100%|██████████| 78/78 [12:35<00:00,  9.69s/it]\n",
      "                 Class     Images  Instances      Box(P          R      mAP50  mAP50-95)     Mask(P          R      mAP50  mAP50-95): 100%|██████████| 39/39 [03:55<00:00,  6.04s/it]\n"
     ]
    },
    {
     "name": "stdout",
     "output_type": "stream",
     "text": [
      "                   all       1243       4038      0.745       0.65      0.731      0.479      0.732      0.607      0.671      0.397\n",
      "\n",
      "      Epoch    GPU_mem   box_loss   seg_loss   cls_loss   dfl_loss  Instances       Size\n"
     ]
    },
    {
     "name": "stderr",
     "output_type": "stream",
     "text": [
      "     17/250         0G      1.244      2.605      1.155       1.15         74        480: 100%|██████████| 78/78 [12:34<00:00,  9.67s/it]\n",
      "                 Class     Images  Instances      Box(P          R      mAP50  mAP50-95)     Mask(P          R      mAP50  mAP50-95): 100%|██████████| 39/39 [03:51<00:00,  5.95s/it]\n"
     ]
    },
    {
     "name": "stdout",
     "output_type": "stream",
     "text": [
      "                   all       1243       4038      0.761      0.656      0.747      0.487      0.757      0.618      0.695      0.406\n",
      "\n",
      "      Epoch    GPU_mem   box_loss   seg_loss   cls_loss   dfl_loss  Instances       Size\n"
     ]
    },
    {
     "name": "stderr",
     "output_type": "stream",
     "text": [
      "     18/250         0G      1.221      2.526      1.149      1.143         45        480: 100%|██████████| 78/78 [12:30<00:00,  9.62s/it]\n",
      "                 Class     Images  Instances      Box(P          R      mAP50  mAP50-95)     Mask(P          R      mAP50  mAP50-95): 100%|██████████| 39/39 [03:54<00:00,  6.01s/it]\n"
     ]
    },
    {
     "name": "stdout",
     "output_type": "stream",
     "text": [
      "                   all       1243       4038      0.729      0.624      0.707      0.442      0.718      0.587       0.65      0.364\n",
      "\n",
      "      Epoch    GPU_mem   box_loss   seg_loss   cls_loss   dfl_loss  Instances       Size\n"
     ]
    },
    {
     "name": "stderr",
     "output_type": "stream",
     "text": [
      "     19/250         0G      1.204      2.563      1.095      1.133         59        480: 100%|██████████| 78/78 [12:30<00:00,  9.62s/it]\n",
      "                 Class     Images  Instances      Box(P          R      mAP50  mAP50-95)     Mask(P          R      mAP50  mAP50-95): 100%|██████████| 39/39 [03:53<00:00,  5.99s/it]\n"
     ]
    },
    {
     "name": "stdout",
     "output_type": "stream",
     "text": [
      "                   all       1243       4038      0.756      0.671      0.762      0.498      0.748      0.636      0.703      0.417\n",
      "\n",
      "      Epoch    GPU_mem   box_loss   seg_loss   cls_loss   dfl_loss  Instances       Size\n"
     ]
    },
    {
     "name": "stderr",
     "output_type": "stream",
     "text": [
      "     20/250         0G      1.204      2.533      1.099      1.127         77        480: 100%|██████████| 78/78 [12:33<00:00,  9.66s/it]\n",
      "                 Class     Images  Instances      Box(P          R      mAP50  mAP50-95)     Mask(P          R      mAP50  mAP50-95): 100%|██████████| 39/39 [04:00<00:00,  6.16s/it]\n"
     ]
    },
    {
     "name": "stdout",
     "output_type": "stream",
     "text": [
      "                   all       1243       4038       0.75      0.645      0.731      0.469      0.754      0.612      0.686      0.395\n",
      "\n",
      "      Epoch    GPU_mem   box_loss   seg_loss   cls_loss   dfl_loss  Instances       Size\n"
     ]
    },
    {
     "name": "stderr",
     "output_type": "stream",
     "text": [
      "     21/250         0G      1.223      2.534      1.121      1.128         52        480: 100%|██████████| 78/78 [12:31<00:00,  9.64s/it]\n",
      "                 Class     Images  Instances      Box(P          R      mAP50  mAP50-95)     Mask(P          R      mAP50  mAP50-95): 100%|██████████| 39/39 [04:02<00:00,  6.22s/it]\n"
     ]
    },
    {
     "name": "stdout",
     "output_type": "stream",
     "text": [
      "                   all       1243       4038      0.716      0.641      0.715      0.464      0.711      0.604      0.661      0.383\n",
      "\n",
      "      Epoch    GPU_mem   box_loss   seg_loss   cls_loss   dfl_loss  Instances       Size\n"
     ]
    },
    {
     "name": "stderr",
     "output_type": "stream",
     "text": [
      "     22/250         0G      1.198      2.502      1.107      1.131         45        480: 100%|██████████| 78/78 [12:29<00:00,  9.61s/it]\n",
      "                 Class     Images  Instances      Box(P          R      mAP50  mAP50-95)     Mask(P          R      mAP50  mAP50-95): 100%|██████████| 39/39 [03:58<00:00,  6.12s/it]\n"
     ]
    },
    {
     "name": "stdout",
     "output_type": "stream",
     "text": [
      "                   all       1243       4038      0.726      0.681      0.746      0.497       0.71      0.634       0.69      0.412\n",
      "\n",
      "      Epoch    GPU_mem   box_loss   seg_loss   cls_loss   dfl_loss  Instances       Size\n"
     ]
    },
    {
     "name": "stderr",
     "output_type": "stream",
     "text": [
      "     23/250         0G      1.221      2.535      1.089      1.135         61        480: 100%|██████████| 78/78 [12:31<00:00,  9.64s/it]\n",
      "                 Class     Images  Instances      Box(P          R      mAP50  mAP50-95)     Mask(P          R      mAP50  mAP50-95): 100%|██████████| 39/39 [03:58<00:00,  6.11s/it]\n"
     ]
    },
    {
     "name": "stdout",
     "output_type": "stream",
     "text": [
      "                   all       1243       4038       0.73      0.647      0.721      0.465      0.705      0.621      0.668      0.367\n",
      "\n",
      "      Epoch    GPU_mem   box_loss   seg_loss   cls_loss   dfl_loss  Instances       Size\n"
     ]
    },
    {
     "name": "stderr",
     "output_type": "stream",
     "text": [
      "     24/250         0G      1.211      2.461      1.106      1.135         63        480: 100%|██████████| 78/78 [12:32<00:00,  9.64s/it]\n",
      "                 Class     Images  Instances      Box(P          R      mAP50  mAP50-95)     Mask(P          R      mAP50  mAP50-95): 100%|██████████| 39/39 [03:54<00:00,  6.02s/it]\n"
     ]
    },
    {
     "name": "stdout",
     "output_type": "stream",
     "text": [
      "                   all       1243       4038      0.743      0.689       0.76      0.512      0.722      0.657      0.702      0.419\n",
      "\n",
      "      Epoch    GPU_mem   box_loss   seg_loss   cls_loss   dfl_loss  Instances       Size\n"
     ]
    },
    {
     "name": "stderr",
     "output_type": "stream",
     "text": [
      "     25/250         0G      1.176      2.487      1.081      1.117         71        480: 100%|██████████| 78/78 [12:30<00:00,  9.63s/it]\n",
      "                 Class     Images  Instances      Box(P          R      mAP50  mAP50-95)     Mask(P          R      mAP50  mAP50-95): 100%|██████████| 39/39 [03:51<00:00,  5.94s/it]\n"
     ]
    },
    {
     "name": "stdout",
     "output_type": "stream",
     "text": [
      "                   all       1243       4038      0.754      0.669      0.752      0.496      0.741      0.618      0.688      0.403\n",
      "\n",
      "      Epoch    GPU_mem   box_loss   seg_loss   cls_loss   dfl_loss  Instances       Size\n"
     ]
    },
    {
     "name": "stderr",
     "output_type": "stream",
     "text": [
      "     26/250         0G      1.183      2.456      1.068      1.127         42        480: 100%|██████████| 78/78 [12:29<00:00,  9.61s/it]\n",
      "                 Class     Images  Instances      Box(P          R      mAP50  mAP50-95)     Mask(P          R      mAP50  mAP50-95): 100%|██████████| 39/39 [03:55<00:00,  6.03s/it]\n"
     ]
    },
    {
     "name": "stdout",
     "output_type": "stream",
     "text": [
      "                   all       1243       4038      0.769      0.674      0.764      0.504      0.764      0.635      0.707       0.42\n",
      "\n",
      "      Epoch    GPU_mem   box_loss   seg_loss   cls_loss   dfl_loss  Instances       Size\n"
     ]
    },
    {
     "name": "stderr",
     "output_type": "stream",
     "text": [
      "     27/250         0G      1.175      2.487       1.06      1.124         60        480: 100%|██████████| 78/78 [12:30<00:00,  9.63s/it]\n",
      "                 Class     Images  Instances      Box(P          R      mAP50  mAP50-95)     Mask(P          R      mAP50  mAP50-95): 100%|██████████| 39/39 [03:52<00:00,  5.95s/it]\n"
     ]
    },
    {
     "name": "stdout",
     "output_type": "stream",
     "text": [
      "                   all       1243       4038      0.772       0.67      0.763      0.501      0.751      0.628      0.696      0.408\n",
      "\n",
      "      Epoch    GPU_mem   box_loss   seg_loss   cls_loss   dfl_loss  Instances       Size\n"
     ]
    },
    {
     "name": "stderr",
     "output_type": "stream",
     "text": [
      "     28/250         0G      1.187      2.396      1.072      1.117         58        480: 100%|██████████| 78/78 [12:31<00:00,  9.63s/it]\n",
      "                 Class     Images  Instances      Box(P          R      mAP50  mAP50-95)     Mask(P          R      mAP50  mAP50-95): 100%|██████████| 39/39 [03:52<00:00,  5.95s/it]\n"
     ]
    },
    {
     "name": "stdout",
     "output_type": "stream",
     "text": [
      "                   all       1243       4038      0.778      0.682       0.77      0.521      0.787       0.63       0.71       0.43\n",
      "\n",
      "      Epoch    GPU_mem   box_loss   seg_loss   cls_loss   dfl_loss  Instances       Size\n"
     ]
    },
    {
     "name": "stderr",
     "output_type": "stream",
     "text": [
      "     29/250         0G      1.178      2.413      1.059      1.115         97        480: 100%|██████████| 78/78 [12:31<00:00,  9.63s/it]\n",
      "                 Class     Images  Instances      Box(P          R      mAP50  mAP50-95)     Mask(P          R      mAP50  mAP50-95): 100%|██████████| 39/39 [03:49<00:00,  5.88s/it]"
     ]
    },
    {
     "name": "stdout",
     "output_type": "stream",
     "text": [
      "                   all       1243       4038      0.763      0.655      0.744       0.49      0.749      0.617      0.692      0.408\n"
     ]
    },
    {
     "name": "stderr",
     "output_type": "stream",
     "text": [
      "\n"
     ]
    },
    {
     "name": "stdout",
     "output_type": "stream",
     "text": [
      "\n",
      "      Epoch    GPU_mem   box_loss   seg_loss   cls_loss   dfl_loss  Instances       Size\n"
     ]
    },
    {
     "name": "stderr",
     "output_type": "stream",
     "text": [
      "     30/250         0G      1.143       2.42      1.027      1.099         79        480: 100%|██████████| 78/78 [12:31<00:00,  9.63s/it]\n",
      "                 Class     Images  Instances      Box(P          R      mAP50  mAP50-95)     Mask(P          R      mAP50  mAP50-95): 100%|██████████| 39/39 [03:54<00:00,  6.02s/it]\n"
     ]
    },
    {
     "name": "stdout",
     "output_type": "stream",
     "text": [
      "                   all       1243       4038      0.811      0.678      0.788      0.539      0.799       0.65      0.735       0.44\n",
      "\n",
      "      Epoch    GPU_mem   box_loss   seg_loss   cls_loss   dfl_loss  Instances       Size\n"
     ]
    },
    {
     "name": "stderr",
     "output_type": "stream",
     "text": [
      "     31/250         0G      1.157      2.407      1.011      1.103         43        480: 100%|██████████| 78/78 [12:32<00:00,  9.65s/it]\n",
      "                 Class     Images  Instances      Box(P          R      mAP50  mAP50-95)     Mask(P          R      mAP50  mAP50-95): 100%|██████████| 39/39 [04:00<00:00,  6.17s/it]\n"
     ]
    },
    {
     "name": "stdout",
     "output_type": "stream",
     "text": [
      "                   all       1243       4038      0.779      0.719      0.795       0.54      0.771      0.671      0.738      0.444\n",
      "\n",
      "      Epoch    GPU_mem   box_loss   seg_loss   cls_loss   dfl_loss  Instances       Size\n"
     ]
    },
    {
     "name": "stderr",
     "output_type": "stream",
     "text": [
      "     32/250         0G       1.15      2.409      1.012      1.105         50        480: 100%|██████████| 78/78 [12:29<00:00,  9.61s/it]\n",
      "                 Class     Images  Instances      Box(P          R      mAP50  mAP50-95)     Mask(P          R      mAP50  mAP50-95): 100%|██████████| 39/39 [03:53<00:00,  6.00s/it]\n"
     ]
    },
    {
     "name": "stdout",
     "output_type": "stream",
     "text": [
      "                   all       1243       4038       0.79      0.683      0.779      0.527      0.781      0.642      0.723      0.438\n",
      "\n",
      "      Epoch    GPU_mem   box_loss   seg_loss   cls_loss   dfl_loss  Instances       Size\n"
     ]
    },
    {
     "name": "stderr",
     "output_type": "stream",
     "text": [
      "     33/250         0G      1.149      2.412       1.01      1.102         80        480: 100%|██████████| 78/78 [12:29<00:00,  9.61s/it]\n",
      "                 Class     Images  Instances      Box(P          R      mAP50  mAP50-95)     Mask(P          R      mAP50  mAP50-95): 100%|██████████| 39/39 [03:52<00:00,  5.96s/it]\n"
     ]
    },
    {
     "name": "stdout",
     "output_type": "stream",
     "text": [
      "                   all       1243       4038      0.795      0.704      0.797      0.546      0.787       0.66      0.736       0.44\n",
      "\n",
      "      Epoch    GPU_mem   box_loss   seg_loss   cls_loss   dfl_loss  Instances       Size\n"
     ]
    },
    {
     "name": "stderr",
     "output_type": "stream",
     "text": [
      "     34/250         0G      1.136      2.357       1.01      1.097         53        480: 100%|██████████| 78/78 [12:30<00:00,  9.63s/it]\n",
      "                 Class     Images  Instances      Box(P          R      mAP50  mAP50-95)     Mask(P          R      mAP50  mAP50-95): 100%|██████████| 39/39 [03:53<00:00,  5.98s/it]\n"
     ]
    },
    {
     "name": "stdout",
     "output_type": "stream",
     "text": [
      "                   all       1243       4038      0.798      0.701      0.796      0.536      0.802       0.67      0.753       0.46\n",
      "\n",
      "      Epoch    GPU_mem   box_loss   seg_loss   cls_loss   dfl_loss  Instances       Size\n"
     ]
    },
    {
     "name": "stderr",
     "output_type": "stream",
     "text": [
      "     35/250         0G      1.122      2.371      1.001      1.085         67        480: 100%|██████████| 78/78 [12:33<00:00,  9.66s/it]\n",
      "                 Class     Images  Instances      Box(P          R      mAP50  mAP50-95)     Mask(P          R      mAP50  mAP50-95): 100%|██████████| 39/39 [03:57<00:00,  6.09s/it]\n"
     ]
    },
    {
     "name": "stdout",
     "output_type": "stream",
     "text": [
      "                   all       1243       4038      0.793       0.66      0.763      0.512      0.783      0.634      0.709       0.42\n",
      "\n",
      "      Epoch    GPU_mem   box_loss   seg_loss   cls_loss   dfl_loss  Instances       Size\n"
     ]
    },
    {
     "name": "stderr",
     "output_type": "stream",
     "text": [
      "     36/250         0G      1.122      2.348     0.9944      1.093        106        480: 100%|██████████| 78/78 [12:32<00:00,  9.64s/it]\n",
      "                 Class     Images  Instances      Box(P          R      mAP50  mAP50-95)     Mask(P          R      mAP50  mAP50-95): 100%|██████████| 39/39 [03:50<00:00,  5.92s/it]\n"
     ]
    },
    {
     "name": "stdout",
     "output_type": "stream",
     "text": [
      "                   all       1243       4038      0.786      0.687      0.788      0.534      0.788      0.654      0.734      0.439\n",
      "\n",
      "      Epoch    GPU_mem   box_loss   seg_loss   cls_loss   dfl_loss  Instances       Size\n"
     ]
    },
    {
     "name": "stderr",
     "output_type": "stream",
     "text": [
      "     37/250         0G      1.136      2.348     0.9891      1.106         69        480: 100%|██████████| 78/78 [12:27<00:00,  9.59s/it]\n",
      "                 Class     Images  Instances      Box(P          R      mAP50  mAP50-95)     Mask(P          R      mAP50  mAP50-95): 100%|██████████| 39/39 [03:50<00:00,  5.90s/it]\n"
     ]
    },
    {
     "name": "stdout",
     "output_type": "stream",
     "text": [
      "                   all       1243       4038      0.822      0.703      0.808       0.57      0.816      0.681      0.764      0.476\n",
      "\n",
      "      Epoch    GPU_mem   box_loss   seg_loss   cls_loss   dfl_loss  Instances       Size\n"
     ]
    },
    {
     "name": "stderr",
     "output_type": "stream",
     "text": [
      "     38/250         0G      1.115      2.363     0.9876      1.092         96        480: 100%|██████████| 78/78 [12:29<00:00,  9.61s/it]\n",
      "                 Class     Images  Instances      Box(P          R      mAP50  mAP50-95)     Mask(P          R      mAP50  mAP50-95): 100%|██████████| 39/39 [03:50<00:00,  5.92s/it]\n"
     ]
    },
    {
     "name": "stdout",
     "output_type": "stream",
     "text": [
      "                   all       1243       4038      0.799      0.725      0.809       0.55      0.801      0.674      0.751      0.453\n",
      "\n",
      "      Epoch    GPU_mem   box_loss   seg_loss   cls_loss   dfl_loss  Instances       Size\n"
     ]
    },
    {
     "name": "stderr",
     "output_type": "stream",
     "text": [
      "     39/250         0G      1.133       2.33     0.9919      1.092         51        480: 100%|██████████| 78/78 [12:33<00:00,  9.66s/it]\n",
      "                 Class     Images  Instances      Box(P          R      mAP50  mAP50-95)     Mask(P          R      mAP50  mAP50-95): 100%|██████████| 39/39 [03:50<00:00,  5.90s/it]\n"
     ]
    },
    {
     "name": "stdout",
     "output_type": "stream",
     "text": [
      "                   all       1243       4038      0.796      0.704      0.797      0.547      0.786      0.667      0.739      0.446\n",
      "\n",
      "      Epoch    GPU_mem   box_loss   seg_loss   cls_loss   dfl_loss  Instances       Size\n"
     ]
    },
    {
     "name": "stderr",
     "output_type": "stream",
     "text": [
      "     40/250         0G       1.11      2.306     0.9788      1.089         44        480: 100%|██████████| 78/78 [12:30<00:00,  9.62s/it]\n",
      "                 Class     Images  Instances      Box(P          R      mAP50  mAP50-95)     Mask(P          R      mAP50  mAP50-95): 100%|██████████| 39/39 [03:52<00:00,  5.95s/it]\n"
     ]
    },
    {
     "name": "stdout",
     "output_type": "stream",
     "text": [
      "                   all       1243       4038      0.772      0.701      0.781      0.538       0.76      0.671      0.725      0.422\n",
      "\n",
      "      Epoch    GPU_mem   box_loss   seg_loss   cls_loss   dfl_loss  Instances       Size\n"
     ]
    },
    {
     "name": "stderr",
     "output_type": "stream",
     "text": [
      "     41/250         0G      1.089      2.248     0.9582      1.076         35        480: 100%|██████████| 78/78 [12:32<00:00,  9.65s/it]\n",
      "                 Class     Images  Instances      Box(P          R      mAP50  mAP50-95)     Mask(P          R      mAP50  mAP50-95): 100%|██████████| 39/39 [03:49<00:00,  5.89s/it]"
     ]
    },
    {
     "name": "stdout",
     "output_type": "stream",
     "text": [
      "                   all       1243       4038      0.811      0.724      0.819       0.57       0.79      0.698       0.77       0.47\n"
     ]
    },
    {
     "name": "stderr",
     "output_type": "stream",
     "text": [
      "\n"
     ]
    },
    {
     "name": "stdout",
     "output_type": "stream",
     "text": [
      "\n",
      "      Epoch    GPU_mem   box_loss   seg_loss   cls_loss   dfl_loss  Instances       Size\n"
     ]
    },
    {
     "name": "stderr",
     "output_type": "stream",
     "text": [
      "     42/250         0G      1.109      2.318     0.9745      1.083         98        480: 100%|██████████| 78/78 [12:29<00:00,  9.62s/it]\n",
      "                 Class     Images  Instances      Box(P          R      mAP50  mAP50-95)     Mask(P          R      mAP50  mAP50-95): 100%|██████████| 39/39 [03:57<00:00,  6.08s/it]\n"
     ]
    },
    {
     "name": "stdout",
     "output_type": "stream",
     "text": [
      "                   all       1243       4038      0.811      0.736       0.82      0.571      0.805      0.688      0.762       0.48\n",
      "\n",
      "      Epoch    GPU_mem   box_loss   seg_loss   cls_loss   dfl_loss  Instances       Size\n"
     ]
    },
    {
     "name": "stderr",
     "output_type": "stream",
     "text": [
      "     43/250         0G       1.09      2.276     0.9462      1.081         41        480: 100%|██████████| 78/78 [12:31<00:00,  9.63s/it]\n",
      "                 Class     Images  Instances      Box(P          R      mAP50  mAP50-95)     Mask(P          R      mAP50  mAP50-95): 100%|██████████| 39/39 [03:49<00:00,  5.87s/it]\n"
     ]
    },
    {
     "name": "stdout",
     "output_type": "stream",
     "text": [
      "                   all       1243       4038      0.816      0.731      0.824      0.581      0.812      0.689      0.768      0.475\n",
      "\n",
      "      Epoch    GPU_mem   box_loss   seg_loss   cls_loss   dfl_loss  Instances       Size\n"
     ]
    },
    {
     "name": "stderr",
     "output_type": "stream",
     "text": [
      "     44/250         0G      1.096       2.29     0.9615      1.077         77        480: 100%|██████████| 78/78 [12:30<00:00,  9.62s/it]\n",
      "                 Class     Images  Instances      Box(P          R      mAP50  mAP50-95)     Mask(P          R      mAP50  mAP50-95): 100%|██████████| 39/39 [03:53<00:00,  5.99s/it]\n"
     ]
    },
    {
     "name": "stdout",
     "output_type": "stream",
     "text": [
      "                   all       1243       4038      0.796      0.722      0.818      0.577      0.817      0.666      0.761      0.467\n",
      "\n",
      "      Epoch    GPU_mem   box_loss   seg_loss   cls_loss   dfl_loss  Instances       Size\n"
     ]
    },
    {
     "name": "stderr",
     "output_type": "stream",
     "text": [
      "     45/250         0G      1.098      2.256     0.9546      1.074         61        480: 100%|██████████| 78/78 [12:30<00:00,  9.62s/it]\n",
      "                 Class     Images  Instances      Box(P          R      mAP50  mAP50-95)     Mask(P          R      mAP50  mAP50-95): 100%|██████████| 39/39 [03:50<00:00,  5.91s/it]\n"
     ]
    },
    {
     "name": "stdout",
     "output_type": "stream",
     "text": [
      "                   all       1243       4038      0.777      0.711      0.794      0.549      0.771      0.656       0.73       0.43\n",
      "\n",
      "      Epoch    GPU_mem   box_loss   seg_loss   cls_loss   dfl_loss  Instances       Size\n"
     ]
    },
    {
     "name": "stderr",
     "output_type": "stream",
     "text": [
      "     46/250         0G      1.095       2.26     0.9343      1.066         67        480: 100%|██████████| 78/78 [12:32<00:00,  9.64s/it]\n",
      "                 Class     Images  Instances      Box(P          R      mAP50  mAP50-95)     Mask(P          R      mAP50  mAP50-95): 100%|██████████| 39/39 [03:49<00:00,  5.89s/it]"
     ]
    },
    {
     "name": "stdout",
     "output_type": "stream",
     "text": [
      "                   all       1243       4038      0.814      0.705      0.814      0.574      0.791      0.664      0.752      0.463\n"
     ]
    },
    {
     "name": "stderr",
     "output_type": "stream",
     "text": [
      "\n"
     ]
    },
    {
     "name": "stdout",
     "output_type": "stream",
     "text": [
      "\n",
      "      Epoch    GPU_mem   box_loss   seg_loss   cls_loss   dfl_loss  Instances       Size\n"
     ]
    },
    {
     "name": "stderr",
     "output_type": "stream",
     "text": [
      "     47/250         0G       1.08      2.224     0.9292      1.067         90        480: 100%|██████████| 78/78 [12:33<00:00,  9.66s/it]\n",
      "                 Class     Images  Instances      Box(P          R      mAP50  mAP50-95)     Mask(P          R      mAP50  mAP50-95): 100%|██████████| 39/39 [03:50<00:00,  5.92s/it]\n"
     ]
    },
    {
     "name": "stdout",
     "output_type": "stream",
     "text": [
      "                   all       1243       4038      0.801      0.714       0.81      0.567      0.801      0.681       0.76      0.478\n",
      "\n",
      "      Epoch    GPU_mem   box_loss   seg_loss   cls_loss   dfl_loss  Instances       Size\n"
     ]
    },
    {
     "name": "stderr",
     "output_type": "stream",
     "text": [
      "     48/250         0G      1.081      2.252      0.936      1.071         56        480: 100%|██████████| 78/78 [12:29<00:00,  9.61s/it]\n",
      "                 Class     Images  Instances      Box(P          R      mAP50  mAP50-95)     Mask(P          R      mAP50  mAP50-95): 100%|██████████| 39/39 [03:57<00:00,  6.08s/it]\n"
     ]
    },
    {
     "name": "stdout",
     "output_type": "stream",
     "text": [
      "                   all       1243       4038       0.81      0.727      0.816      0.568      0.798      0.696      0.766       0.46\n",
      "\n",
      "      Epoch    GPU_mem   box_loss   seg_loss   cls_loss   dfl_loss  Instances       Size\n"
     ]
    },
    {
     "name": "stderr",
     "output_type": "stream",
     "text": [
      "     49/250         0G      1.078      2.243     0.9286      1.071         54        480: 100%|██████████| 78/78 [12:27<00:00,  9.58s/it]\n",
      "                 Class     Images  Instances      Box(P          R      mAP50  mAP50-95)     Mask(P          R      mAP50  mAP50-95): 100%|██████████| 39/39 [03:49<00:00,  5.89s/it]\n"
     ]
    },
    {
     "name": "stdout",
     "output_type": "stream",
     "text": [
      "                   all       1243       4038      0.806       0.74      0.825      0.582      0.793      0.702      0.774      0.478\n",
      "\n",
      "      Epoch    GPU_mem   box_loss   seg_loss   cls_loss   dfl_loss  Instances       Size\n"
     ]
    },
    {
     "name": "stderr",
     "output_type": "stream",
     "text": [
      "     50/250         0G      1.072       2.28     0.9234       1.07         44        480: 100%|██████████| 78/78 [12:30<00:00,  9.62s/it]\n",
      "                 Class     Images  Instances      Box(P          R      mAP50  mAP50-95)     Mask(P          R      mAP50  mAP50-95): 100%|██████████| 39/39 [03:52<00:00,  5.96s/it]"
     ]
    },
    {
     "name": "stdout",
     "output_type": "stream",
     "text": [
      "                   all       1243       4038      0.827      0.723      0.824      0.579      0.806      0.678      0.757      0.459\n"
     ]
    },
    {
     "name": "stderr",
     "output_type": "stream",
     "text": [
      "\n"
     ]
    },
    {
     "name": "stdout",
     "output_type": "stream",
     "text": [
      "\n",
      "      Epoch    GPU_mem   box_loss   seg_loss   cls_loss   dfl_loss  Instances       Size\n"
     ]
    },
    {
     "name": "stderr",
     "output_type": "stream",
     "text": [
      "     51/250         0G      1.055      2.196     0.9096      1.056         90        480: 100%|██████████| 78/78 [12:29<00:00,  9.60s/it]\n",
      "                 Class     Images  Instances      Box(P          R      mAP50  mAP50-95)     Mask(P          R      mAP50  mAP50-95): 100%|██████████| 39/39 [03:50<00:00,  5.91s/it]\n"
     ]
    },
    {
     "name": "stdout",
     "output_type": "stream",
     "text": [
      "                   all       1243       4038      0.813      0.718      0.813      0.577      0.813       0.67      0.754      0.467\n",
      "\n",
      "      Epoch    GPU_mem   box_loss   seg_loss   cls_loss   dfl_loss  Instances       Size\n"
     ]
    },
    {
     "name": "stderr",
     "output_type": "stream",
     "text": [
      "     52/250         0G      1.071      2.237     0.9106      1.061         67        480: 100%|██████████| 78/78 [12:30<00:00,  9.63s/it]\n",
      "                 Class     Images  Instances      Box(P          R      mAP50  mAP50-95)     Mask(P          R      mAP50  mAP50-95): 100%|██████████| 39/39 [03:52<00:00,  5.97s/it]\n"
     ]
    },
    {
     "name": "stdout",
     "output_type": "stream",
     "text": [
      "                   all       1243       4038      0.805      0.755      0.834      0.588      0.806      0.698      0.771      0.457\n",
      "\n",
      "      Epoch    GPU_mem   box_loss   seg_loss   cls_loss   dfl_loss  Instances       Size\n"
     ]
    },
    {
     "name": "stderr",
     "output_type": "stream",
     "text": [
      "     53/250         0G      1.067      2.245     0.9093      1.066         72        480: 100%|██████████| 78/78 [12:25<00:00,  9.56s/it]\n",
      "                 Class     Images  Instances      Box(P          R      mAP50  mAP50-95)     Mask(P          R      mAP50  mAP50-95): 100%|██████████| 39/39 [03:52<00:00,  5.96s/it]\n"
     ]
    },
    {
     "name": "stdout",
     "output_type": "stream",
     "text": [
      "                   all       1243       4038       0.84      0.744      0.843      0.607      0.826      0.709      0.788      0.501\n",
      "\n",
      "      Epoch    GPU_mem   box_loss   seg_loss   cls_loss   dfl_loss  Instances       Size\n"
     ]
    },
    {
     "name": "stderr",
     "output_type": "stream",
     "text": [
      "     54/250         0G      1.043      2.175     0.8811      1.055        112        480: 100%|██████████| 78/78 [12:29<00:00,  9.61s/it]\n",
      "                 Class     Images  Instances      Box(P          R      mAP50  mAP50-95)     Mask(P          R      mAP50  mAP50-95): 100%|██████████| 39/39 [03:49<00:00,  5.90s/it]\n"
     ]
    },
    {
     "name": "stdout",
     "output_type": "stream",
     "text": [
      "                   all       1243       4038      0.857      0.733      0.843      0.607      0.842      0.695       0.78      0.483\n",
      "\n",
      "      Epoch    GPU_mem   box_loss   seg_loss   cls_loss   dfl_loss  Instances       Size\n"
     ]
    },
    {
     "name": "stderr",
     "output_type": "stream",
     "text": [
      "     55/250         0G      1.049      2.166      0.902      1.053         65        480: 100%|██████████| 78/78 [12:25<00:00,  9.56s/it]\n",
      "                 Class     Images  Instances      Box(P          R      mAP50  mAP50-95)     Mask(P          R      mAP50  mAP50-95): 100%|██████████| 39/39 [03:50<00:00,  5.90s/it]\n"
     ]
    },
    {
     "name": "stdout",
     "output_type": "stream",
     "text": [
      "                   all       1243       4038      0.826      0.758      0.837      0.596      0.814       0.71      0.784      0.492\n",
      "\n",
      "      Epoch    GPU_mem   box_loss   seg_loss   cls_loss   dfl_loss  Instances       Size\n"
     ]
    },
    {
     "name": "stderr",
     "output_type": "stream",
     "text": [
      "     56/250         0G      1.048      2.204     0.8832      1.052         82        480: 100%|██████████| 78/78 [12:26<00:00,  9.57s/it]\n",
      "                 Class     Images  Instances      Box(P          R      mAP50  mAP50-95)     Mask(P          R      mAP50  mAP50-95): 100%|██████████| 39/39 [03:50<00:00,  5.91s/it]"
     ]
    },
    {
     "name": "stdout",
     "output_type": "stream",
     "text": [
      "                   all       1243       4038      0.838      0.742      0.841      0.598      0.816      0.696      0.775      0.473\n"
     ]
    },
    {
     "name": "stderr",
     "output_type": "stream",
     "text": [
      "\n"
     ]
    },
    {
     "name": "stdout",
     "output_type": "stream",
     "text": [
      "\n",
      "      Epoch    GPU_mem   box_loss   seg_loss   cls_loss   dfl_loss  Instances       Size\n"
     ]
    },
    {
     "name": "stderr",
     "output_type": "stream",
     "text": [
      "     57/250         0G      1.051      2.161     0.8953      1.053         80        480: 100%|██████████| 78/78 [12:32<00:00,  9.65s/it]\n",
      "                 Class     Images  Instances      Box(P          R      mAP50  mAP50-95)     Mask(P          R      mAP50  mAP50-95): 100%|██████████| 39/39 [03:50<00:00,  5.90s/it]\n"
     ]
    },
    {
     "name": "stdout",
     "output_type": "stream",
     "text": [
      "                   all       1243       4038      0.819      0.743      0.831      0.581      0.804      0.688      0.763      0.456\n",
      "\n",
      "      Epoch    GPU_mem   box_loss   seg_loss   cls_loss   dfl_loss  Instances       Size\n"
     ]
    },
    {
     "name": "stderr",
     "output_type": "stream",
     "text": [
      "     58/250         0G      1.045      2.172     0.8619      1.048         55        480: 100%|██████████| 78/78 [12:28<00:00,  9.60s/it]\n",
      "                 Class     Images  Instances      Box(P          R      mAP50  mAP50-95)     Mask(P          R      mAP50  mAP50-95): 100%|██████████| 39/39 [03:51<00:00,  5.94s/it]"
     ]
    },
    {
     "name": "stdout",
     "output_type": "stream",
     "text": [
      "                   all       1243       4038      0.841      0.756      0.849      0.605      0.833      0.709      0.788        0.5\n"
     ]
    },
    {
     "name": "stderr",
     "output_type": "stream",
     "text": [
      "\n"
     ]
    },
    {
     "name": "stdout",
     "output_type": "stream",
     "text": [
      "\n",
      "      Epoch    GPU_mem   box_loss   seg_loss   cls_loss   dfl_loss  Instances       Size\n"
     ]
    },
    {
     "name": "stderr",
     "output_type": "stream",
     "text": [
      "     59/250         0G      1.054      2.166     0.8889      1.058         99        480: 100%|██████████| 78/78 [12:27<00:00,  9.59s/it]\n",
      "                 Class     Images  Instances      Box(P          R      mAP50  mAP50-95)     Mask(P          R      mAP50  mAP50-95): 100%|██████████| 39/39 [03:48<00:00,  5.87s/it]"
     ]
    },
    {
     "name": "stdout",
     "output_type": "stream",
     "text": [
      "                   all       1243       4038      0.848      0.764      0.858       0.62      0.831      0.709      0.791      0.502\n"
     ]
    },
    {
     "name": "stderr",
     "output_type": "stream",
     "text": [
      "\n"
     ]
    },
    {
     "name": "stdout",
     "output_type": "stream",
     "text": [
      "\n",
      "      Epoch    GPU_mem   box_loss   seg_loss   cls_loss   dfl_loss  Instances       Size\n"
     ]
    },
    {
     "name": "stderr",
     "output_type": "stream",
     "text": [
      "     60/250         0G      1.033      2.164     0.8619      1.049         63        480: 100%|██████████| 78/78 [12:32<00:00,  9.64s/it]\n",
      "                 Class     Images  Instances      Box(P          R      mAP50  mAP50-95)     Mask(P          R      mAP50  mAP50-95): 100%|██████████| 39/39 [03:50<00:00,  5.91s/it]\n"
     ]
    },
    {
     "name": "stdout",
     "output_type": "stream",
     "text": [
      "                   all       1243       4038      0.845      0.766      0.855      0.616       0.83      0.723        0.8        0.5\n",
      "\n",
      "      Epoch    GPU_mem   box_loss   seg_loss   cls_loss   dfl_loss  Instances       Size\n"
     ]
    },
    {
     "name": "stderr",
     "output_type": "stream",
     "text": [
      "     61/250         0G      1.037      2.148     0.8727      1.049         83        480: 100%|██████████| 78/78 [12:31<00:00,  9.64s/it]\n",
      "                 Class     Images  Instances      Box(P          R      mAP50  mAP50-95)     Mask(P          R      mAP50  mAP50-95): 100%|██████████| 39/39 [03:49<00:00,  5.89s/it]\n"
     ]
    },
    {
     "name": "stdout",
     "output_type": "stream",
     "text": [
      "                   all       1243       4038      0.823       0.76      0.839      0.595      0.815      0.734      0.799      0.502\n",
      "\n",
      "      Epoch    GPU_mem   box_loss   seg_loss   cls_loss   dfl_loss  Instances       Size\n"
     ]
    },
    {
     "name": "stderr",
     "output_type": "stream",
     "text": [
      "     62/250         0G      1.047       2.18     0.8869      1.048         47        480: 100%|██████████| 78/78 [12:28<00:00,  9.60s/it]\n",
      "                 Class     Images  Instances      Box(P          R      mAP50  mAP50-95)     Mask(P          R      mAP50  mAP50-95): 100%|██████████| 39/39 [03:50<00:00,  5.92s/it]\n"
     ]
    },
    {
     "name": "stdout",
     "output_type": "stream",
     "text": [
      "                   all       1243       4038      0.829      0.774      0.851      0.618      0.816      0.738      0.799      0.506\n",
      "\n",
      "      Epoch    GPU_mem   box_loss   seg_loss   cls_loss   dfl_loss  Instances       Size\n"
     ]
    },
    {
     "name": "stderr",
     "output_type": "stream",
     "text": [
      "     63/250         0G      1.043       2.15     0.8597      1.054         72        480: 100%|██████████| 78/78 [12:29<00:00,  9.61s/it]\n",
      "                 Class     Images  Instances      Box(P          R      mAP50  mAP50-95)     Mask(P          R      mAP50  mAP50-95): 100%|██████████| 39/39 [03:48<00:00,  5.86s/it]"
     ]
    },
    {
     "name": "stdout",
     "output_type": "stream",
     "text": [
      "                   all       1243       4038      0.831      0.765      0.856      0.626      0.828      0.708      0.795      0.516\n"
     ]
    },
    {
     "name": "stderr",
     "output_type": "stream",
     "text": [
      "\n"
     ]
    },
    {
     "name": "stdout",
     "output_type": "stream",
     "text": [
      "\n",
      "      Epoch    GPU_mem   box_loss   seg_loss   cls_loss   dfl_loss  Instances       Size\n"
     ]
    },
    {
     "name": "stderr",
     "output_type": "stream",
     "text": [
      "     64/250         0G      1.036       2.12     0.8576       1.05         95        480: 100%|██████████| 78/78 [12:32<00:00,  9.65s/it]\n",
      "                 Class     Images  Instances      Box(P          R      mAP50  mAP50-95)     Mask(P          R      mAP50  mAP50-95): 100%|██████████| 39/39 [03:53<00:00,  5.98s/it]\n"
     ]
    },
    {
     "name": "stdout",
     "output_type": "stream",
     "text": [
      "                   all       1243       4038      0.836      0.768      0.852      0.613      0.825       0.72      0.793      0.496\n",
      "\n",
      "      Epoch    GPU_mem   box_loss   seg_loss   cls_loss   dfl_loss  Instances       Size\n"
     ]
    },
    {
     "name": "stderr",
     "output_type": "stream",
     "text": [
      "     65/250         0G      1.007      2.112     0.8547      1.038         51        480: 100%|██████████| 78/78 [12:29<00:00,  9.61s/it]\n",
      "                 Class     Images  Instances      Box(P          R      mAP50  mAP50-95)     Mask(P          R      mAP50  mAP50-95): 100%|██████████| 39/39 [03:48<00:00,  5.87s/it]"
     ]
    },
    {
     "name": "stdout",
     "output_type": "stream",
     "text": [
      "                   all       1243       4038      0.837      0.763      0.851      0.628      0.819      0.719      0.791      0.499\n"
     ]
    },
    {
     "name": "stderr",
     "output_type": "stream",
     "text": [
      "\n"
     ]
    },
    {
     "name": "stdout",
     "output_type": "stream",
     "text": [
      "\n",
      "      Epoch    GPU_mem   box_loss   seg_loss   cls_loss   dfl_loss  Instances       Size\n"
     ]
    },
    {
     "name": "stderr",
     "output_type": "stream",
     "text": [
      "     66/250         0G      1.016      2.107     0.8427      1.039        119        480: 100%|██████████| 78/78 [12:29<00:00,  9.61s/it]\n",
      "                 Class     Images  Instances      Box(P          R      mAP50  mAP50-95)     Mask(P          R      mAP50  mAP50-95): 100%|██████████| 39/39 [03:49<00:00,  5.90s/it]"
     ]
    },
    {
     "name": "stdout",
     "output_type": "stream",
     "text": [
      "                   all       1243       4038      0.834      0.747      0.841      0.609      0.809      0.697      0.777      0.483\n"
     ]
    },
    {
     "name": "stderr",
     "output_type": "stream",
     "text": [
      "\n"
     ]
    },
    {
     "name": "stdout",
     "output_type": "stream",
     "text": [
      "\n",
      "      Epoch    GPU_mem   box_loss   seg_loss   cls_loss   dfl_loss  Instances       Size\n"
     ]
    },
    {
     "name": "stderr",
     "output_type": "stream",
     "text": [
      "     67/250         0G      1.018      2.167     0.8488      1.031         70        480: 100%|██████████| 78/78 [12:29<00:00,  9.61s/it]\n",
      "                 Class     Images  Instances      Box(P          R      mAP50  mAP50-95)     Mask(P          R      mAP50  mAP50-95): 100%|██████████| 39/39 [03:52<00:00,  5.95s/it]\n"
     ]
    },
    {
     "name": "stdout",
     "output_type": "stream",
     "text": [
      "                   all       1243       4038      0.841      0.771      0.858      0.633      0.835      0.718      0.793      0.509\n",
      "\n",
      "      Epoch    GPU_mem   box_loss   seg_loss   cls_loss   dfl_loss  Instances       Size\n"
     ]
    },
    {
     "name": "stderr",
     "output_type": "stream",
     "text": [
      "     68/250         0G      1.006      2.107      0.835      1.031         55        480: 100%|██████████| 78/78 [12:34<00:00,  9.67s/it]\n",
      "                 Class     Images  Instances      Box(P          R      mAP50  mAP50-95)     Mask(P          R      mAP50  mAP50-95): 100%|██████████| 39/39 [03:51<00:00,  5.92s/it]\n"
     ]
    },
    {
     "name": "stdout",
     "output_type": "stream",
     "text": [
      "                   all       1243       4038      0.864      0.771      0.857      0.625       0.84      0.735      0.801      0.508\n",
      "\n",
      "      Epoch    GPU_mem   box_loss   seg_loss   cls_loss   dfl_loss  Instances       Size\n"
     ]
    },
    {
     "name": "stderr",
     "output_type": "stream",
     "text": [
      "     69/250         0G      1.039      2.113     0.8558      1.041         86        480: 100%|██████████| 78/78 [12:32<00:00,  9.65s/it]\n",
      "                 Class     Images  Instances      Box(P          R      mAP50  mAP50-95)     Mask(P          R      mAP50  mAP50-95): 100%|██████████| 39/39 [03:51<00:00,  5.94s/it]\n"
     ]
    },
    {
     "name": "stdout",
     "output_type": "stream",
     "text": [
      "                   all       1243       4038      0.815      0.756      0.835      0.615      0.811      0.714      0.782      0.486\n",
      "\n",
      "      Epoch    GPU_mem   box_loss   seg_loss   cls_loss   dfl_loss  Instances       Size\n"
     ]
    },
    {
     "name": "stderr",
     "output_type": "stream",
     "text": [
      "     70/250         0G      1.004      2.095      0.831      1.034         48        480: 100%|██████████| 78/78 [12:28<00:00,  9.60s/it]\n",
      "                 Class     Images  Instances      Box(P          R      mAP50  mAP50-95)     Mask(P          R      mAP50  mAP50-95): 100%|██████████| 39/39 [04:04<00:00,  6.26s/it]\n"
     ]
    },
    {
     "name": "stdout",
     "output_type": "stream",
     "text": [
      "                   all       1243       4038      0.847      0.771       0.86      0.627      0.821      0.732      0.795      0.504\n",
      "\n",
      "      Epoch    GPU_mem   box_loss   seg_loss   cls_loss   dfl_loss  Instances       Size\n"
     ]
    },
    {
     "name": "stderr",
     "output_type": "stream",
     "text": [
      "     71/250         0G     0.9959      2.067     0.8294      1.029         78        480: 100%|██████████| 78/78 [12:34<00:00,  9.67s/it]\n",
      "                 Class     Images  Instances      Box(P          R      mAP50  mAP50-95)     Mask(P          R      mAP50  mAP50-95): 100%|██████████| 39/39 [03:50<00:00,  5.90s/it]\n"
     ]
    },
    {
     "name": "stdout",
     "output_type": "stream",
     "text": [
      "                   all       1243       4038       0.86      0.767      0.866      0.635      0.826      0.723      0.795      0.504\n",
      "\n",
      "      Epoch    GPU_mem   box_loss   seg_loss   cls_loss   dfl_loss  Instances       Size\n"
     ]
    },
    {
     "name": "stderr",
     "output_type": "stream",
     "text": [
      "     72/250         0G      1.009       2.08     0.8178      1.038         79        480: 100%|██████████| 78/78 [12:32<00:00,  9.65s/it]\n",
      "                 Class     Images  Instances      Box(P          R      mAP50  mAP50-95)     Mask(P          R      mAP50  mAP50-95): 100%|██████████| 39/39 [03:50<00:00,  5.91s/it]"
     ]
    },
    {
     "name": "stdout",
     "output_type": "stream",
     "text": [
      "                   all       1243       4038      0.849       0.79      0.869      0.647      0.825      0.747      0.807      0.522\n"
     ]
    },
    {
     "name": "stderr",
     "output_type": "stream",
     "text": [
      "\n"
     ]
    },
    {
     "name": "stdout",
     "output_type": "stream",
     "text": [
      "\n",
      "      Epoch    GPU_mem   box_loss   seg_loss   cls_loss   dfl_loss  Instances       Size\n"
     ]
    },
    {
     "name": "stderr",
     "output_type": "stream",
     "text": [
      "     73/250         0G     0.9876      2.054     0.8101      1.023         56        480: 100%|██████████| 78/78 [12:32<00:00,  9.65s/it]\n",
      "                 Class     Images  Instances      Box(P          R      mAP50  mAP50-95)     Mask(P          R      mAP50  mAP50-95): 100%|██████████| 39/39 [03:49<00:00,  5.88s/it]\n"
     ]
    },
    {
     "name": "stdout",
     "output_type": "stream",
     "text": [
      "                   all       1243       4038      0.854      0.769      0.866      0.642      0.836      0.727      0.805      0.516\n",
      "\n",
      "      Epoch    GPU_mem   box_loss   seg_loss   cls_loss   dfl_loss  Instances       Size\n"
     ]
    },
    {
     "name": "stderr",
     "output_type": "stream",
     "text": [
      "     74/250         0G      1.013      2.098     0.8189      1.028         79        480: 100%|██████████| 78/78 [12:30<00:00,  9.62s/it]\n",
      "                 Class     Images  Instances      Box(P          R      mAP50  mAP50-95)     Mask(P          R      mAP50  mAP50-95): 100%|██████████| 39/39 [03:51<00:00,  5.95s/it]\n"
     ]
    },
    {
     "name": "stdout",
     "output_type": "stream",
     "text": [
      "                   all       1243       4038      0.856      0.763       0.86      0.635      0.853      0.721        0.8      0.513\n",
      "\n",
      "      Epoch    GPU_mem   box_loss   seg_loss   cls_loss   dfl_loss  Instances       Size\n"
     ]
    },
    {
     "name": "stderr",
     "output_type": "stream",
     "text": [
      "     75/250         0G       1.01      2.074     0.8209      1.031         75        480: 100%|██████████| 78/78 [12:29<00:00,  9.61s/it]\n",
      "                 Class     Images  Instances      Box(P          R      mAP50  mAP50-95)     Mask(P          R      mAP50  mAP50-95): 100%|██████████| 39/39 [03:52<00:00,  5.97s/it]\n"
     ]
    },
    {
     "name": "stdout",
     "output_type": "stream",
     "text": [
      "                   all       1243       4038      0.851      0.773      0.857      0.634      0.839      0.735      0.802      0.526\n",
      "\n",
      "      Epoch    GPU_mem   box_loss   seg_loss   cls_loss   dfl_loss  Instances       Size\n"
     ]
    },
    {
     "name": "stderr",
     "output_type": "stream",
     "text": [
      "     76/250         0G      1.011      2.052     0.8334      1.026         88        480: 100%|██████████| 78/78 [12:31<00:00,  9.63s/it]\n",
      "                 Class     Images  Instances      Box(P          R      mAP50  mAP50-95)     Mask(P          R      mAP50  mAP50-95): 100%|██████████| 39/39 [03:49<00:00,  5.90s/it]"
     ]
    },
    {
     "name": "stdout",
     "output_type": "stream",
     "text": [
      "                   all       1243       4038      0.847      0.771      0.864      0.639      0.843      0.719      0.799      0.511\n"
     ]
    },
    {
     "name": "stderr",
     "output_type": "stream",
     "text": [
      "\n"
     ]
    },
    {
     "name": "stdout",
     "output_type": "stream",
     "text": [
      "\n",
      "      Epoch    GPU_mem   box_loss   seg_loss   cls_loss   dfl_loss  Instances       Size\n"
     ]
    },
    {
     "name": "stderr",
     "output_type": "stream",
     "text": [
      "     77/250         0G     0.9885      2.032     0.8045      1.025         63        480: 100%|██████████| 78/78 [12:40<00:00,  9.75s/it]\n",
      "                 Class     Images  Instances      Box(P          R      mAP50  mAP50-95)     Mask(P          R      mAP50  mAP50-95): 100%|██████████| 39/39 [03:50<00:00,  5.90s/it]\n"
     ]
    },
    {
     "name": "stdout",
     "output_type": "stream",
     "text": [
      "                   all       1243       4038      0.837      0.786      0.858      0.636      0.813      0.734      0.794      0.507\n",
      "\n",
      "      Epoch    GPU_mem   box_loss   seg_loss   cls_loss   dfl_loss  Instances       Size\n"
     ]
    },
    {
     "name": "stderr",
     "output_type": "stream",
     "text": [
      "     78/250         0G     0.9713      2.026     0.7964       1.02         45        480: 100%|██████████| 78/78 [12:28<00:00,  9.60s/it]\n",
      "                 Class     Images  Instances      Box(P          R      mAP50  mAP50-95)     Mask(P          R      mAP50  mAP50-95): 100%|██████████| 39/39 [03:52<00:00,  5.97s/it]"
     ]
    },
    {
     "name": "stdout",
     "output_type": "stream",
     "text": [
      "                   all       1243       4038      0.867      0.802      0.883       0.66      0.846      0.761       0.82      0.535\n"
     ]
    },
    {
     "name": "stderr",
     "output_type": "stream",
     "text": [
      "\n"
     ]
    },
    {
     "name": "stdout",
     "output_type": "stream",
     "text": [
      "\n",
      "      Epoch    GPU_mem   box_loss   seg_loss   cls_loss   dfl_loss  Instances       Size\n"
     ]
    },
    {
     "name": "stderr",
     "output_type": "stream",
     "text": [
      "     79/250         0G     0.9776      2.062      0.792      1.025         63        480: 100%|██████████| 78/78 [12:31<00:00,  9.64s/it]\n",
      "                 Class     Images  Instances      Box(P          R      mAP50  mAP50-95)     Mask(P          R      mAP50  mAP50-95): 100%|██████████| 39/39 [03:47<00:00,  5.85s/it]"
     ]
    },
    {
     "name": "stdout",
     "output_type": "stream",
     "text": [
      "                   all       1243       4038      0.856      0.775      0.865      0.639      0.842      0.727      0.801      0.523\n"
     ]
    },
    {
     "name": "stderr",
     "output_type": "stream",
     "text": [
      "\n"
     ]
    },
    {
     "name": "stdout",
     "output_type": "stream",
     "text": [
      "\n",
      "      Epoch    GPU_mem   box_loss   seg_loss   cls_loss   dfl_loss  Instances       Size\n"
     ]
    },
    {
     "name": "stderr",
     "output_type": "stream",
     "text": [
      "     80/250         0G      1.001      2.045      0.783      1.027        106        480: 100%|██████████| 78/78 [12:31<00:00,  9.63s/it]\n",
      "                 Class     Images  Instances      Box(P          R      mAP50  mAP50-95)     Mask(P          R      mAP50  mAP50-95): 100%|██████████| 39/39 [03:50<00:00,  5.91s/it]"
     ]
    },
    {
     "name": "stdout",
     "output_type": "stream",
     "text": [
      "                   all       1243       4038      0.865      0.788      0.877      0.652      0.841      0.738      0.809      0.523\n"
     ]
    },
    {
     "name": "stderr",
     "output_type": "stream",
     "text": [
      "\n"
     ]
    },
    {
     "name": "stdout",
     "output_type": "stream",
     "text": [
      "\n",
      "      Epoch    GPU_mem   box_loss   seg_loss   cls_loss   dfl_loss  Instances       Size\n"
     ]
    },
    {
     "name": "stderr",
     "output_type": "stream",
     "text": [
      "     81/250         0G     0.9708      2.002     0.7886      1.017         79        480: 100%|██████████| 78/78 [12:29<00:00,  9.62s/it]\n",
      "                 Class     Images  Instances      Box(P          R      mAP50  mAP50-95)     Mask(P          R      mAP50  mAP50-95): 100%|██████████| 39/39 [03:49<00:00,  5.88s/it]\n"
     ]
    },
    {
     "name": "stdout",
     "output_type": "stream",
     "text": [
      "                   all       1243       4038      0.848       0.75      0.848      0.622       0.83      0.719      0.797      0.507\n",
      "\n",
      "      Epoch    GPU_mem   box_loss   seg_loss   cls_loss   dfl_loss  Instances       Size\n"
     ]
    },
    {
     "name": "stderr",
     "output_type": "stream",
     "text": [
      "     82/250         0G     0.9864      2.029     0.7894      1.028        127        480: 100%|██████████| 78/78 [12:30<00:00,  9.63s/it]\n",
      "                 Class     Images  Instances      Box(P          R      mAP50  mAP50-95)     Mask(P          R      mAP50  mAP50-95): 100%|██████████| 39/39 [03:51<00:00,  5.93s/it]"
     ]
    },
    {
     "name": "stdout",
     "output_type": "stream",
     "text": [
      "                   all       1243       4038      0.874      0.797      0.885      0.664      0.856       0.75      0.817       0.53\n"
     ]
    },
    {
     "name": "stderr",
     "output_type": "stream",
     "text": [
      "\n"
     ]
    },
    {
     "name": "stdout",
     "output_type": "stream",
     "text": [
      "\n",
      "      Epoch    GPU_mem   box_loss   seg_loss   cls_loss   dfl_loss  Instances       Size\n"
     ]
    },
    {
     "name": "stderr",
     "output_type": "stream",
     "text": [
      "     83/250         0G     0.9656      2.007     0.7969      1.016         72        480: 100%|██████████| 78/78 [12:33<00:00,  9.66s/it]\n",
      "                 Class     Images  Instances      Box(P          R      mAP50  mAP50-95)     Mask(P          R      mAP50  mAP50-95): 100%|██████████| 39/39 [03:49<00:00,  5.88s/it]"
     ]
    },
    {
     "name": "stdout",
     "output_type": "stream",
     "text": [
      "                   all       1243       4038      0.868      0.784      0.873      0.649      0.843      0.737      0.806      0.528\n"
     ]
    },
    {
     "name": "stderr",
     "output_type": "stream",
     "text": [
      "\n"
     ]
    },
    {
     "name": "stdout",
     "output_type": "stream",
     "text": [
      "\n",
      "      Epoch    GPU_mem   box_loss   seg_loss   cls_loss   dfl_loss  Instances       Size\n"
     ]
    },
    {
     "name": "stderr",
     "output_type": "stream",
     "text": [
      "     84/250         0G     0.9653      2.039      0.782      1.018        104        480: 100%|██████████| 78/78 [12:28<00:00,  9.60s/it]\n",
      "                 Class     Images  Instances      Box(P          R      mAP50  mAP50-95)     Mask(P          R      mAP50  mAP50-95): 100%|██████████| 39/39 [03:49<00:00,  5.88s/it]"
     ]
    },
    {
     "name": "stdout",
     "output_type": "stream",
     "text": [
      "                   all       1243       4038      0.877      0.784      0.878      0.658      0.855      0.737      0.809      0.522\n"
     ]
    },
    {
     "name": "stderr",
     "output_type": "stream",
     "text": [
      "\n"
     ]
    },
    {
     "name": "stdout",
     "output_type": "stream",
     "text": [
      "\n",
      "      Epoch    GPU_mem   box_loss   seg_loss   cls_loss   dfl_loss  Instances       Size\n"
     ]
    },
    {
     "name": "stderr",
     "output_type": "stream",
     "text": [
      "     85/250         0G      0.966      1.987     0.7821      1.015         46        480: 100%|██████████| 78/78 [12:33<00:00,  9.66s/it]\n",
      "                 Class     Images  Instances      Box(P          R      mAP50  mAP50-95)     Mask(P          R      mAP50  mAP50-95): 100%|██████████| 39/39 [03:52<00:00,  5.97s/it]"
     ]
    },
    {
     "name": "stdout",
     "output_type": "stream",
     "text": [
      "                   all       1243       4038      0.871      0.796      0.885      0.666      0.851      0.746      0.813      0.534\n"
     ]
    },
    {
     "name": "stderr",
     "output_type": "stream",
     "text": [
      "\n"
     ]
    },
    {
     "name": "stdout",
     "output_type": "stream",
     "text": [
      "\n",
      "      Epoch    GPU_mem   box_loss   seg_loss   cls_loss   dfl_loss  Instances       Size\n"
     ]
    },
    {
     "name": "stderr",
     "output_type": "stream",
     "text": [
      "     86/250         0G     0.9607      2.003     0.7727      1.008         68        480: 100%|██████████| 78/78 [12:32<00:00,  9.65s/it]\n",
      "                 Class     Images  Instances      Box(P          R      mAP50  mAP50-95)     Mask(P          R      mAP50  mAP50-95): 100%|██████████| 39/39 [03:56<00:00,  6.06s/it]"
     ]
    },
    {
     "name": "stdout",
     "output_type": "stream",
     "text": [
      "                   all       1243       4038      0.878      0.792      0.879      0.661      0.851      0.742      0.811      0.534\n"
     ]
    },
    {
     "name": "stderr",
     "output_type": "stream",
     "text": [
      "\n"
     ]
    },
    {
     "name": "stdout",
     "output_type": "stream",
     "text": [
      "\n",
      "      Epoch    GPU_mem   box_loss   seg_loss   cls_loss   dfl_loss  Instances       Size\n"
     ]
    },
    {
     "name": "stderr",
     "output_type": "stream",
     "text": [
      "     87/250         0G     0.9688      1.992     0.7661      1.017         36        480: 100%|██████████| 78/78 [12:30<00:00,  9.63s/it]\n",
      "                 Class     Images  Instances      Box(P          R      mAP50  mAP50-95)     Mask(P          R      mAP50  mAP50-95): 100%|██████████| 39/39 [03:49<00:00,  5.89s/it]"
     ]
    },
    {
     "name": "stdout",
     "output_type": "stream",
     "text": [
      "                   all       1243       4038      0.881      0.801      0.889      0.665      0.851      0.755      0.815      0.524\n"
     ]
    },
    {
     "name": "stderr",
     "output_type": "stream",
     "text": [
      "\n"
     ]
    },
    {
     "name": "stdout",
     "output_type": "stream",
     "text": [
      "\n",
      "      Epoch    GPU_mem   box_loss   seg_loss   cls_loss   dfl_loss  Instances       Size\n"
     ]
    },
    {
     "name": "stderr",
     "output_type": "stream",
     "text": [
      "     88/250         0G     0.9608      1.968     0.7642      1.013         51        480: 100%|██████████| 78/78 [12:32<00:00,  9.64s/it]\n",
      "                 Class     Images  Instances      Box(P          R      mAP50  mAP50-95)     Mask(P          R      mAP50  mAP50-95): 100%|██████████| 39/39 [03:51<00:00,  5.94s/it]\n"
     ]
    },
    {
     "name": "stdout",
     "output_type": "stream",
     "text": [
      "                   all       1243       4038      0.853      0.768      0.863      0.637      0.839      0.715      0.796      0.502\n",
      "\n",
      "      Epoch    GPU_mem   box_loss   seg_loss   cls_loss   dfl_loss  Instances       Size\n"
     ]
    },
    {
     "name": "stderr",
     "output_type": "stream",
     "text": [
      "     89/250         0G     0.9707      1.984     0.7657       1.01         47        480: 100%|██████████| 78/78 [12:33<00:00,  9.66s/it]\n",
      "                 Class     Images  Instances      Box(P          R      mAP50  mAP50-95)     Mask(P          R      mAP50  mAP50-95): 100%|██████████| 39/39 [03:49<00:00,  5.88s/it]"
     ]
    },
    {
     "name": "stdout",
     "output_type": "stream",
     "text": [
      "                   all       1243       4038      0.863      0.795       0.88       0.67       0.84      0.737      0.808      0.535\n"
     ]
    },
    {
     "name": "stderr",
     "output_type": "stream",
     "text": [
      "\n"
     ]
    },
    {
     "name": "stdout",
     "output_type": "stream",
     "text": [
      "\n",
      "      Epoch    GPU_mem   box_loss   seg_loss   cls_loss   dfl_loss  Instances       Size\n"
     ]
    },
    {
     "name": "stderr",
     "output_type": "stream",
     "text": [
      "     90/250         0G     0.9523       1.91     0.7574      1.003         74        480: 100%|██████████| 78/78 [12:32<00:00,  9.64s/it]\n",
      "                 Class     Images  Instances      Box(P          R      mAP50  mAP50-95)     Mask(P          R      mAP50  mAP50-95): 100%|██████████| 39/39 [03:50<00:00,  5.91s/it]"
     ]
    },
    {
     "name": "stdout",
     "output_type": "stream",
     "text": [
      "                   all       1243       4038      0.873      0.798      0.883      0.663      0.849      0.756      0.813       0.53\n"
     ]
    },
    {
     "name": "stderr",
     "output_type": "stream",
     "text": [
      "\n"
     ]
    },
    {
     "name": "stdout",
     "output_type": "stream",
     "text": [
      "\n",
      "      Epoch    GPU_mem   box_loss   seg_loss   cls_loss   dfl_loss  Instances       Size\n"
     ]
    },
    {
     "name": "stderr",
     "output_type": "stream",
     "text": [
      "     91/250         0G      0.944      1.974     0.7685       1.01         63        480: 100%|██████████| 78/78 [12:28<00:00,  9.60s/it]\n",
      "                 Class     Images  Instances      Box(P          R      mAP50  mAP50-95)     Mask(P          R      mAP50  mAP50-95): 100%|██████████| 39/39 [03:49<00:00,  5.87s/it]"
     ]
    },
    {
     "name": "stdout",
     "output_type": "stream",
     "text": [
      "                   all       1243       4038      0.873      0.801      0.885      0.674      0.842      0.737      0.804      0.533\n"
     ]
    },
    {
     "name": "stderr",
     "output_type": "stream",
     "text": [
      "\n"
     ]
    },
    {
     "name": "stdout",
     "output_type": "stream",
     "text": [
      "\n",
      "      Epoch    GPU_mem   box_loss   seg_loss   cls_loss   dfl_loss  Instances       Size\n"
     ]
    },
    {
     "name": "stderr",
     "output_type": "stream",
     "text": [
      "     92/250         0G     0.9413      1.964     0.7441      1.003         51        480: 100%|██████████| 78/78 [12:28<00:00,  9.59s/it]\n",
      "                 Class     Images  Instances      Box(P          R      mAP50  mAP50-95)     Mask(P          R      mAP50  mAP50-95): 100%|██████████| 39/39 [03:49<00:00,  5.88s/it]"
     ]
    },
    {
     "name": "stdout",
     "output_type": "stream",
     "text": [
      "                   all       1243       4038      0.886      0.808      0.895      0.677      0.851      0.755      0.816       0.54\n"
     ]
    },
    {
     "name": "stderr",
     "output_type": "stream",
     "text": [
      "\n"
     ]
    },
    {
     "name": "stdout",
     "output_type": "stream",
     "text": [
      "\n",
      "      Epoch    GPU_mem   box_loss   seg_loss   cls_loss   dfl_loss  Instances       Size\n"
     ]
    },
    {
     "name": "stderr",
     "output_type": "stream",
     "text": [
      "     93/250         0G     0.9607      1.962     0.7595      1.015         63        480: 100%|██████████| 78/78 [12:27<00:00,  9.59s/it]\n",
      "                 Class     Images  Instances      Box(P          R      mAP50  mAP50-95)     Mask(P          R      mAP50  mAP50-95): 100%|██████████| 39/39 [03:49<00:00,  5.89s/it]"
     ]
    },
    {
     "name": "stdout",
     "output_type": "stream",
     "text": [
      "                   all       1243       4038      0.877      0.804      0.889      0.674      0.862      0.753      0.822      0.537\n"
     ]
    },
    {
     "name": "stderr",
     "output_type": "stream",
     "text": [
      "\n"
     ]
    },
    {
     "name": "stdout",
     "output_type": "stream",
     "text": [
      "\n",
      "      Epoch    GPU_mem   box_loss   seg_loss   cls_loss   dfl_loss  Instances       Size\n"
     ]
    },
    {
     "name": "stderr",
     "output_type": "stream",
     "text": [
      "     94/250         0G     0.9469      1.988     0.7589      1.008         50        480: 100%|██████████| 78/78 [12:31<00:00,  9.64s/it]\n",
      "                 Class     Images  Instances      Box(P          R      mAP50  mAP50-95)     Mask(P          R      mAP50  mAP50-95): 100%|██████████| 39/39 [03:52<00:00,  5.95s/it]\n"
     ]
    },
    {
     "name": "stdout",
     "output_type": "stream",
     "text": [
      "                   all       1243       4038      0.845        0.8      0.872      0.662      0.827      0.755      0.807      0.533\n",
      "\n",
      "      Epoch    GPU_mem   box_loss   seg_loss   cls_loss   dfl_loss  Instances       Size\n"
     ]
    },
    {
     "name": "stderr",
     "output_type": "stream",
     "text": [
      "     95/250         0G     0.9483      1.981     0.7526       1.01         52        480: 100%|██████████| 78/78 [12:30<00:00,  9.62s/it]\n",
      "                 Class     Images  Instances      Box(P          R      mAP50  mAP50-95)     Mask(P          R      mAP50  mAP50-95): 100%|██████████| 39/39 [03:48<00:00,  5.85s/it]"
     ]
    },
    {
     "name": "stdout",
     "output_type": "stream",
     "text": [
      "                   all       1243       4038      0.883      0.806       0.89      0.673      0.863      0.761      0.822      0.532\n"
     ]
    },
    {
     "name": "stderr",
     "output_type": "stream",
     "text": [
      "\n"
     ]
    },
    {
     "name": "stdout",
     "output_type": "stream",
     "text": [
      "\n",
      "      Epoch    GPU_mem   box_loss   seg_loss   cls_loss   dfl_loss  Instances       Size\n"
     ]
    },
    {
     "name": "stderr",
     "output_type": "stream",
     "text": [
      "     96/250         0G     0.9409      1.907     0.7485      1.001        100        480: 100%|██████████| 78/78 [12:31<00:00,  9.63s/it]\n",
      "                 Class     Images  Instances      Box(P          R      mAP50  mAP50-95)     Mask(P          R      mAP50  mAP50-95): 100%|██████████| 39/39 [03:49<00:00,  5.90s/it]"
     ]
    },
    {
     "name": "stdout",
     "output_type": "stream",
     "text": [
      "                   all       1243       4038      0.872      0.817      0.894      0.682      0.861      0.745      0.816       0.53\n"
     ]
    },
    {
     "name": "stderr",
     "output_type": "stream",
     "text": [
      "\n"
     ]
    },
    {
     "name": "stdout",
     "output_type": "stream",
     "text": [
      "\n",
      "      Epoch    GPU_mem   box_loss   seg_loss   cls_loss   dfl_loss  Instances       Size\n"
     ]
    },
    {
     "name": "stderr",
     "output_type": "stream",
     "text": [
      "     97/250         0G     0.9472      1.931     0.7387      1.004         73        480: 100%|██████████| 78/78 [12:31<00:00,  9.63s/it]\n",
      "                 Class     Images  Instances      Box(P          R      mAP50  mAP50-95)     Mask(P          R      mAP50  mAP50-95): 100%|██████████| 39/39 [03:51<00:00,  5.92s/it]"
     ]
    },
    {
     "name": "stdout",
     "output_type": "stream",
     "text": [
      "                   all       1243       4038      0.878      0.801      0.888      0.678      0.851      0.746      0.816      0.533\n"
     ]
    },
    {
     "name": "stderr",
     "output_type": "stream",
     "text": [
      "\n"
     ]
    },
    {
     "name": "stdout",
     "output_type": "stream",
     "text": [
      "\n",
      "      Epoch    GPU_mem   box_loss   seg_loss   cls_loss   dfl_loss  Instances       Size\n"
     ]
    },
    {
     "name": "stderr",
     "output_type": "stream",
     "text": [
      "     98/250         0G     0.9235      1.884     0.7321     0.9931         63        480: 100%|██████████| 78/78 [12:32<00:00,  9.65s/it]\n",
      "                 Class     Images  Instances      Box(P          R      mAP50  mAP50-95)     Mask(P          R      mAP50  mAP50-95): 100%|██████████| 39/39 [03:51<00:00,  5.93s/it]"
     ]
    },
    {
     "name": "stdout",
     "output_type": "stream",
     "text": [
      "                   all       1243       4038      0.885      0.819      0.895      0.683      0.865      0.768      0.828      0.553\n"
     ]
    },
    {
     "name": "stderr",
     "output_type": "stream",
     "text": [
      "\n"
     ]
    },
    {
     "name": "stdout",
     "output_type": "stream",
     "text": [
      "\n",
      "      Epoch    GPU_mem   box_loss   seg_loss   cls_loss   dfl_loss  Instances       Size\n"
     ]
    },
    {
     "name": "stderr",
     "output_type": "stream",
     "text": [
      "     99/250         0G     0.9157      1.912     0.7303     0.9894         49        480: 100%|██████████| 78/78 [12:33<00:00,  9.66s/it]\n",
      "                 Class     Images  Instances      Box(P          R      mAP50  mAP50-95)     Mask(P          R      mAP50  mAP50-95): 100%|██████████| 39/39 [03:48<00:00,  5.86s/it]"
     ]
    },
    {
     "name": "stdout",
     "output_type": "stream",
     "text": [
      "                   all       1243       4038      0.888      0.804      0.888       0.68      0.859      0.769      0.826      0.547\n"
     ]
    },
    {
     "name": "stderr",
     "output_type": "stream",
     "text": [
      "\n"
     ]
    },
    {
     "name": "stdout",
     "output_type": "stream",
     "text": [
      "\n",
      "      Epoch    GPU_mem   box_loss   seg_loss   cls_loss   dfl_loss  Instances       Size\n"
     ]
    },
    {
     "name": "stderr",
     "output_type": "stream",
     "text": [
      "    100/250         0G     0.9492      1.901     0.7336     0.9998         42        480: 100%|██████████| 78/78 [12:32<00:00,  9.64s/it]\n",
      "                 Class     Images  Instances      Box(P          R      mAP50  mAP50-95)     Mask(P          R      mAP50  mAP50-95): 100%|██████████| 39/39 [03:51<00:00,  5.95s/it]"
     ]
    },
    {
     "name": "stdout",
     "output_type": "stream",
     "text": [
      "                   all       1243       4038      0.873      0.795      0.883      0.666      0.856      0.744      0.814      0.531\n"
     ]
    },
    {
     "name": "stderr",
     "output_type": "stream",
     "text": [
      "\n"
     ]
    },
    {
     "name": "stdout",
     "output_type": "stream",
     "text": [
      "\n",
      "      Epoch    GPU_mem   box_loss   seg_loss   cls_loss   dfl_loss  Instances       Size\n"
     ]
    },
    {
     "name": "stderr",
     "output_type": "stream",
     "text": [
      "    101/250         0G     0.9235      1.894     0.7273     0.9859         81        480: 100%|██████████| 78/78 [12:37<00:00,  9.71s/it]\n",
      "                 Class     Images  Instances      Box(P          R      mAP50  mAP50-95)     Mask(P          R      mAP50  mAP50-95): 100%|██████████| 39/39 [03:50<00:00,  5.90s/it]"
     ]
    },
    {
     "name": "stdout",
     "output_type": "stream",
     "text": [
      "                   all       1243       4038      0.883      0.809      0.894      0.689      0.876      0.738      0.821      0.537\n"
     ]
    },
    {
     "name": "stderr",
     "output_type": "stream",
     "text": [
      "\n"
     ]
    },
    {
     "name": "stdout",
     "output_type": "stream",
     "text": [
      "\n",
      "      Epoch    GPU_mem   box_loss   seg_loss   cls_loss   dfl_loss  Instances       Size\n"
     ]
    },
    {
     "name": "stderr",
     "output_type": "stream",
     "text": [
      "    102/250         0G     0.9459      1.892     0.7368          1         61        480: 100%|██████████| 78/78 [12:34<00:00,  9.68s/it]\n",
      "                 Class     Images  Instances      Box(P          R      mAP50  mAP50-95)     Mask(P          R      mAP50  mAP50-95): 100%|██████████| 39/39 [03:51<00:00,  5.93s/it]"
     ]
    },
    {
     "name": "stdout",
     "output_type": "stream",
     "text": [
      "                   all       1243       4038      0.884      0.815      0.898      0.692      0.858      0.756      0.825      0.549\n"
     ]
    },
    {
     "name": "stderr",
     "output_type": "stream",
     "text": [
      "\n"
     ]
    },
    {
     "name": "stdout",
     "output_type": "stream",
     "text": [
      "\n",
      "      Epoch    GPU_mem   box_loss   seg_loss   cls_loss   dfl_loss  Instances       Size\n"
     ]
    },
    {
     "name": "stderr",
     "output_type": "stream",
     "text": [
      "    103/250         0G     0.9179      1.893     0.7208     0.9966         53        480: 100%|██████████| 78/78 [12:32<00:00,  9.64s/it]\n",
      "                 Class     Images  Instances      Box(P          R      mAP50  mAP50-95)     Mask(P          R      mAP50  mAP50-95): 100%|██████████| 39/39 [03:52<00:00,  5.95s/it]"
     ]
    },
    {
     "name": "stdout",
     "output_type": "stream",
     "text": [
      "                   all       1243       4038      0.888      0.805      0.891      0.684      0.856      0.744      0.808       0.53\n"
     ]
    },
    {
     "name": "stderr",
     "output_type": "stream",
     "text": [
      "\n"
     ]
    },
    {
     "name": "stdout",
     "output_type": "stream",
     "text": [
      "\n",
      "      Epoch    GPU_mem   box_loss   seg_loss   cls_loss   dfl_loss  Instances       Size\n"
     ]
    },
    {
     "name": "stderr",
     "output_type": "stream",
     "text": [
      "    104/250         0G     0.9247      1.962     0.7382      1.001         75        480: 100%|██████████| 78/78 [12:31<00:00,  9.64s/it]\n",
      "                 Class     Images  Instances      Box(P          R      mAP50  mAP50-95)     Mask(P          R      mAP50  mAP50-95): 100%|██████████| 39/39 [03:50<00:00,  5.92s/it]"
     ]
    },
    {
     "name": "stdout",
     "output_type": "stream",
     "text": [
      "                   all       1243       4038      0.889      0.816      0.897      0.685      0.858      0.765      0.821      0.539\n"
     ]
    },
    {
     "name": "stderr",
     "output_type": "stream",
     "text": [
      "\n"
     ]
    },
    {
     "name": "stdout",
     "output_type": "stream",
     "text": [
      "\n",
      "      Epoch    GPU_mem   box_loss   seg_loss   cls_loss   dfl_loss  Instances       Size\n"
     ]
    },
    {
     "name": "stderr",
     "output_type": "stream",
     "text": [
      "    105/250         0G     0.9345      1.883     0.7218          1         62        480: 100%|██████████| 78/78 [12:35<00:00,  9.68s/it]\n",
      "                 Class     Images  Instances      Box(P          R      mAP50  mAP50-95)     Mask(P          R      mAP50  mAP50-95): 100%|██████████| 39/39 [03:51<00:00,  5.93s/it]"
     ]
    },
    {
     "name": "stdout",
     "output_type": "stream",
     "text": [
      "                   all       1243       4038      0.896      0.809      0.898      0.687      0.873      0.764      0.835      0.556\n"
     ]
    },
    {
     "name": "stderr",
     "output_type": "stream",
     "text": [
      "\n"
     ]
    },
    {
     "name": "stdout",
     "output_type": "stream",
     "text": [
      "\n",
      "      Epoch    GPU_mem   box_loss   seg_loss   cls_loss   dfl_loss  Instances       Size\n"
     ]
    },
    {
     "name": "stderr",
     "output_type": "stream",
     "text": [
      "    106/250         0G     0.9384      1.966     0.7355      1.006         62        480: 100%|██████████| 78/78 [12:30<00:00,  9.62s/it]\n",
      "                 Class     Images  Instances      Box(P          R      mAP50  mAP50-95)     Mask(P          R      mAP50  mAP50-95): 100%|██████████| 39/39 [03:51<00:00,  5.94s/it]"
     ]
    },
    {
     "name": "stdout",
     "output_type": "stream",
     "text": [
      "                   all       1243       4038      0.894      0.816      0.897      0.689      0.878      0.777      0.836      0.547\n"
     ]
    },
    {
     "name": "stderr",
     "output_type": "stream",
     "text": [
      "\n"
     ]
    },
    {
     "name": "stdout",
     "output_type": "stream",
     "text": [
      "\n",
      "      Epoch    GPU_mem   box_loss   seg_loss   cls_loss   dfl_loss  Instances       Size\n"
     ]
    },
    {
     "name": "stderr",
     "output_type": "stream",
     "text": [
      "    107/250         0G      0.924      1.908     0.7295     0.9948         68        480: 100%|██████████| 78/78 [12:32<00:00,  9.65s/it]\n",
      "                 Class     Images  Instances      Box(P          R      mAP50  mAP50-95)     Mask(P          R      mAP50  mAP50-95): 100%|██████████| 39/39 [03:48<00:00,  5.86s/it]"
     ]
    },
    {
     "name": "stdout",
     "output_type": "stream",
     "text": [
      "                   all       1243       4038      0.889      0.821        0.9      0.696      0.841      0.764      0.812      0.545\n"
     ]
    },
    {
     "name": "stderr",
     "output_type": "stream",
     "text": [
      "\n"
     ]
    },
    {
     "name": "stdout",
     "output_type": "stream",
     "text": [
      "\n",
      "      Epoch    GPU_mem   box_loss   seg_loss   cls_loss   dfl_loss  Instances       Size\n"
     ]
    },
    {
     "name": "stderr",
     "output_type": "stream",
     "text": [
      "    108/250         0G     0.9304      1.874     0.7197     0.9931         52        480: 100%|██████████| 78/78 [12:34<00:00,  9.67s/it]\n",
      "                 Class     Images  Instances      Box(P          R      mAP50  mAP50-95)     Mask(P          R      mAP50  mAP50-95): 100%|██████████| 39/39 [03:53<00:00,  5.99s/it]"
     ]
    },
    {
     "name": "stdout",
     "output_type": "stream",
     "text": [
      "                   all       1243       4038       0.89      0.814      0.897      0.695      0.853      0.766      0.822      0.548\n"
     ]
    },
    {
     "name": "stderr",
     "output_type": "stream",
     "text": [
      "\n"
     ]
    },
    {
     "name": "stdout",
     "output_type": "stream",
     "text": [
      "\n",
      "      Epoch    GPU_mem   box_loss   seg_loss   cls_loss   dfl_loss  Instances       Size\n"
     ]
    },
    {
     "name": "stderr",
     "output_type": "stream",
     "text": [
      "    109/250         0G      0.926       1.84      0.717     0.9964         81        480: 100%|██████████| 78/78 [12:32<00:00,  9.65s/it]\n",
      "                 Class     Images  Instances      Box(P          R      mAP50  mAP50-95)     Mask(P          R      mAP50  mAP50-95): 100%|██████████| 39/39 [03:50<00:00,  5.92s/it]"
     ]
    },
    {
     "name": "stdout",
     "output_type": "stream",
     "text": [
      "                   all       1243       4038      0.894      0.806      0.894      0.691      0.865      0.752       0.82      0.548\n"
     ]
    },
    {
     "name": "stderr",
     "output_type": "stream",
     "text": [
      "\n"
     ]
    },
    {
     "name": "stdout",
     "output_type": "stream",
     "text": [
      "\n",
      "      Epoch    GPU_mem   box_loss   seg_loss   cls_loss   dfl_loss  Instances       Size\n"
     ]
    },
    {
     "name": "stderr",
     "output_type": "stream",
     "text": [
      "    110/250         0G     0.9207      1.902     0.7034     0.9984         69        480: 100%|██████████| 78/78 [12:33<00:00,  9.66s/it]\n",
      "                 Class     Images  Instances      Box(P          R      mAP50  mAP50-95)     Mask(P          R      mAP50  mAP50-95): 100%|██████████| 39/39 [03:50<00:00,  5.90s/it]"
     ]
    },
    {
     "name": "stdout",
     "output_type": "stream",
     "text": [
      "                   all       1243       4038      0.887      0.821      0.898      0.701      0.864      0.772      0.827      0.551\n"
     ]
    },
    {
     "name": "stderr",
     "output_type": "stream",
     "text": [
      "\n"
     ]
    },
    {
     "name": "stdout",
     "output_type": "stream",
     "text": [
      "\n",
      "      Epoch    GPU_mem   box_loss   seg_loss   cls_loss   dfl_loss  Instances       Size\n"
     ]
    },
    {
     "name": "stderr",
     "output_type": "stream",
     "text": [
      "    111/250         0G     0.9173      1.899     0.7174     0.9967         81        480: 100%|██████████| 78/78 [12:34<00:00,  9.67s/it]\n",
      "                 Class     Images  Instances      Box(P          R      mAP50  mAP50-95)     Mask(P          R      mAP50  mAP50-95): 100%|██████████| 39/39 [03:50<00:00,  5.91s/it]"
     ]
    },
    {
     "name": "stdout",
     "output_type": "stream",
     "text": [
      "                   all       1243       4038      0.888      0.821      0.902      0.702      0.873      0.758      0.829      0.556\n"
     ]
    },
    {
     "name": "stderr",
     "output_type": "stream",
     "text": [
      "\n"
     ]
    },
    {
     "name": "stdout",
     "output_type": "stream",
     "text": [
      "\n",
      "      Epoch    GPU_mem   box_loss   seg_loss   cls_loss   dfl_loss  Instances       Size\n"
     ]
    },
    {
     "name": "stderr",
     "output_type": "stream",
     "text": [
      "    112/250         0G     0.8978      1.839     0.7057     0.9822         72        480: 100%|██████████| 78/78 [12:38<00:00,  9.73s/it]\n",
      "                 Class     Images  Instances      Box(P          R      mAP50  mAP50-95)     Mask(P          R      mAP50  mAP50-95): 100%|██████████| 39/39 [03:51<00:00,  5.92s/it]"
     ]
    },
    {
     "name": "stdout",
     "output_type": "stream",
     "text": [
      "                   all       1243       4038      0.886      0.827      0.901      0.697      0.861      0.779      0.833       0.55\n"
     ]
    },
    {
     "name": "stderr",
     "output_type": "stream",
     "text": [
      "\n"
     ]
    },
    {
     "name": "stdout",
     "output_type": "stream",
     "text": [
      "\n",
      "      Epoch    GPU_mem   box_loss   seg_loss   cls_loss   dfl_loss  Instances       Size\n"
     ]
    },
    {
     "name": "stderr",
     "output_type": "stream",
     "text": [
      "    113/250         0G     0.9015      1.869     0.7061     0.9888         43        480: 100%|██████████| 78/78 [12:32<00:00,  9.65s/it]\n",
      "                 Class     Images  Instances      Box(P          R      mAP50  mAP50-95)     Mask(P          R      mAP50  mAP50-95): 100%|██████████| 39/39 [03:49<00:00,  5.88s/it]"
     ]
    },
    {
     "name": "stdout",
     "output_type": "stream",
     "text": [
      "                   all       1243       4038      0.891      0.819      0.899      0.695      0.856      0.779      0.831      0.562\n"
     ]
    },
    {
     "name": "stderr",
     "output_type": "stream",
     "text": [
      "\n"
     ]
    },
    {
     "name": "stdout",
     "output_type": "stream",
     "text": [
      "\n",
      "      Epoch    GPU_mem   box_loss   seg_loss   cls_loss   dfl_loss  Instances       Size\n"
     ]
    },
    {
     "name": "stderr",
     "output_type": "stream",
     "text": [
      "    114/250         0G     0.9024      1.908     0.7145     0.9847         89        480: 100%|██████████| 78/78 [12:32<00:00,  9.65s/it]\n",
      "                 Class     Images  Instances      Box(P          R      mAP50  mAP50-95)     Mask(P          R      mAP50  mAP50-95): 100%|██████████| 39/39 [03:51<00:00,  5.94s/it]"
     ]
    },
    {
     "name": "stdout",
     "output_type": "stream",
     "text": [
      "                   all       1243       4038      0.894      0.825      0.898      0.701      0.863       0.78      0.834      0.556\n"
     ]
    },
    {
     "name": "stderr",
     "output_type": "stream",
     "text": [
      "\n"
     ]
    },
    {
     "name": "stdout",
     "output_type": "stream",
     "text": [
      "\n",
      "      Epoch    GPU_mem   box_loss   seg_loss   cls_loss   dfl_loss  Instances       Size\n"
     ]
    },
    {
     "name": "stderr",
     "output_type": "stream",
     "text": [
      "    115/250         0G     0.8967      1.867     0.7028     0.9896         52        480: 100%|██████████| 78/78 [12:32<00:00,  9.65s/it]\n",
      "                 Class     Images  Instances      Box(P          R      mAP50  mAP50-95)     Mask(P          R      mAP50  mAP50-95): 100%|██████████| 39/39 [03:49<00:00,  5.90s/it]"
     ]
    },
    {
     "name": "stdout",
     "output_type": "stream",
     "text": [
      "                   all       1243       4038      0.897      0.829      0.906      0.713      0.851      0.774      0.819      0.553\n"
     ]
    },
    {
     "name": "stderr",
     "output_type": "stream",
     "text": [
      "\n"
     ]
    },
    {
     "name": "stdout",
     "output_type": "stream",
     "text": [
      "\n",
      "      Epoch    GPU_mem   box_loss   seg_loss   cls_loss   dfl_loss  Instances       Size\n"
     ]
    },
    {
     "name": "stderr",
     "output_type": "stream",
     "text": [
      "    116/250         0G     0.8972      1.828     0.7031     0.9855         66        480: 100%|██████████| 78/78 [12:36<00:00,  9.70s/it]\n",
      "                 Class     Images  Instances      Box(P          R      mAP50  mAP50-95)     Mask(P          R      mAP50  mAP50-95): 100%|██████████| 39/39 [03:52<00:00,  5.95s/it]"
     ]
    },
    {
     "name": "stdout",
     "output_type": "stream",
     "text": [
      "                   all       1243       4038      0.892      0.827        0.9      0.696       0.85      0.762      0.815      0.533\n"
     ]
    },
    {
     "name": "stderr",
     "output_type": "stream",
     "text": [
      "\n"
     ]
    },
    {
     "name": "stdout",
     "output_type": "stream",
     "text": [
      "\n",
      "      Epoch    GPU_mem   box_loss   seg_loss   cls_loss   dfl_loss  Instances       Size\n"
     ]
    },
    {
     "name": "stderr",
     "output_type": "stream",
     "text": [
      "    117/250         0G     0.9078      1.842     0.6919     0.9848         52        480: 100%|██████████| 78/78 [12:35<00:00,  9.69s/it]\n",
      "                 Class     Images  Instances      Box(P          R      mAP50  mAP50-95)     Mask(P          R      mAP50  mAP50-95): 100%|██████████| 39/39 [03:52<00:00,  5.95s/it]"
     ]
    },
    {
     "name": "stdout",
     "output_type": "stream",
     "text": [
      "                   all       1243       4038      0.893      0.823      0.903      0.702       0.87      0.768      0.829      0.555\n"
     ]
    },
    {
     "name": "stderr",
     "output_type": "stream",
     "text": [
      "\n"
     ]
    },
    {
     "name": "stdout",
     "output_type": "stream",
     "text": [
      "\n",
      "      Epoch    GPU_mem   box_loss   seg_loss   cls_loss   dfl_loss  Instances       Size\n"
     ]
    },
    {
     "name": "stderr",
     "output_type": "stream",
     "text": [
      "    118/250         0G     0.8899      1.832     0.6748      0.989         81        480: 100%|██████████| 78/78 [12:32<00:00,  9.65s/it]\n",
      "                 Class     Images  Instances      Box(P          R      mAP50  mAP50-95)     Mask(P          R      mAP50  mAP50-95): 100%|██████████| 39/39 [03:51<00:00,  5.94s/it]"
     ]
    },
    {
     "name": "stdout",
     "output_type": "stream",
     "text": [
      "                   all       1243       4038      0.893      0.831      0.908      0.704       0.86      0.768      0.825      0.555\n"
     ]
    },
    {
     "name": "stderr",
     "output_type": "stream",
     "text": [
      "\n"
     ]
    },
    {
     "name": "stdout",
     "output_type": "stream",
     "text": [
      "\n",
      "      Epoch    GPU_mem   box_loss   seg_loss   cls_loss   dfl_loss  Instances       Size\n"
     ]
    },
    {
     "name": "stderr",
     "output_type": "stream",
     "text": [
      "    119/250         0G     0.9076       1.86     0.6843     0.9837         89        480: 100%|██████████| 78/78 [12:38<00:00,  9.73s/it]\n",
      "                 Class     Images  Instances      Box(P          R      mAP50  mAP50-95)     Mask(P          R      mAP50  mAP50-95): 100%|██████████| 39/39 [03:50<00:00,  5.91s/it]"
     ]
    },
    {
     "name": "stdout",
     "output_type": "stream",
     "text": [
      "                   all       1243       4038      0.911      0.824       0.91       0.71      0.878      0.771       0.83      0.553\n"
     ]
    },
    {
     "name": "stderr",
     "output_type": "stream",
     "text": [
      "\n"
     ]
    },
    {
     "name": "stdout",
     "output_type": "stream",
     "text": [
      "\n",
      "      Epoch    GPU_mem   box_loss   seg_loss   cls_loss   dfl_loss  Instances       Size\n"
     ]
    },
    {
     "name": "stderr",
     "output_type": "stream",
     "text": [
      "    120/250         0G     0.8981      1.859     0.6934     0.9831        110        480: 100%|██████████| 78/78 [12:35<00:00,  9.69s/it]\n",
      "                 Class     Images  Instances      Box(P          R      mAP50  mAP50-95)     Mask(P          R      mAP50  mAP50-95): 100%|██████████| 39/39 [03:51<00:00,  5.93s/it]"
     ]
    },
    {
     "name": "stdout",
     "output_type": "stream",
     "text": [
      "                   all       1243       4038      0.903      0.813      0.893       0.69       0.87      0.765      0.824      0.552\n"
     ]
    },
    {
     "name": "stderr",
     "output_type": "stream",
     "text": [
      "\n"
     ]
    },
    {
     "name": "stdout",
     "output_type": "stream",
     "text": [
      "\n",
      "      Epoch    GPU_mem   box_loss   seg_loss   cls_loss   dfl_loss  Instances       Size\n"
     ]
    },
    {
     "name": "stderr",
     "output_type": "stream",
     "text": [
      "    121/250         0G     0.8945      1.871     0.6975     0.9903         57        480: 100%|██████████| 78/78 [12:31<00:00,  9.64s/it]\n",
      "                 Class     Images  Instances      Box(P          R      mAP50  mAP50-95)     Mask(P          R      mAP50  mAP50-95): 100%|██████████| 39/39 [03:51<00:00,  5.94s/it]"
     ]
    },
    {
     "name": "stdout",
     "output_type": "stream",
     "text": [
      "                   all       1243       4038      0.871      0.836      0.901      0.695      0.852      0.763      0.821      0.541\n"
     ]
    },
    {
     "name": "stderr",
     "output_type": "stream",
     "text": [
      "\n"
     ]
    },
    {
     "name": "stdout",
     "output_type": "stream",
     "text": [
      "\n",
      "      Epoch    GPU_mem   box_loss   seg_loss   cls_loss   dfl_loss  Instances       Size\n"
     ]
    },
    {
     "name": "stderr",
     "output_type": "stream",
     "text": [
      "    122/250         0G     0.8918      1.827     0.6998     0.9791         68        480: 100%|██████████| 78/78 [12:34<00:00,  9.67s/it]\n",
      "                 Class     Images  Instances      Box(P          R      mAP50  mAP50-95)     Mask(P          R      mAP50  mAP50-95): 100%|██████████| 39/39 [03:57<00:00,  6.09s/it]"
     ]
    },
    {
     "name": "stdout",
     "output_type": "stream",
     "text": [
      "                   all       1243       4038      0.879      0.829      0.899        0.7      0.862      0.785      0.829      0.551\n"
     ]
    },
    {
     "name": "stderr",
     "output_type": "stream",
     "text": [
      "\n"
     ]
    },
    {
     "ename": "PermissionError",
     "evalue": "[Errno 13] Permission denied: 'runs\\\\segment\\\\train3\\\\results.csv'",
     "output_type": "error",
     "traceback": [
      "\u001b[1;31m---------------------------------------------------------------------------\u001b[0m",
      "\u001b[1;31mPermissionError\u001b[0m                           Traceback (most recent call last)",
      "Cell \u001b[1;32mIn[4], line 1\u001b[0m\n\u001b[1;32m----> 1\u001b[0m results \u001b[38;5;241m=\u001b[39m \u001b[43mmodel\u001b[49m\u001b[38;5;241;43m.\u001b[39;49m\u001b[43mtrain\u001b[49m\u001b[43m(\u001b[49m\u001b[43mdata\u001b[49m\u001b[38;5;241;43m=\u001b[39;49m\u001b[38;5;124;43m\"\u001b[39;49m\u001b[38;5;124;43mdataset3.yaml\u001b[39;49m\u001b[38;5;124;43m\"\u001b[39;49m\u001b[43m,\u001b[49m\u001b[43m \u001b[49m\u001b[43mepochs\u001b[49m\u001b[38;5;241;43m=\u001b[39;49m\u001b[38;5;241;43m250\u001b[39;49m\u001b[43m,\u001b[49m\u001b[43m \u001b[49m\u001b[43mimgsz\u001b[49m\u001b[38;5;241;43m=\u001b[39;49m\u001b[38;5;241;43m480\u001b[39;49m\u001b[43m)\u001b[49m\n",
      "File \u001b[1;32mc:\\Users\\admin\\anaconda3\\envs\\compvision\\Lib\\site-packages\\ultralytics\\engine\\model.py:811\u001b[0m, in \u001b[0;36mModel.train\u001b[1;34m(self, trainer, **kwargs)\u001b[0m\n\u001b[0;32m    808\u001b[0m     \u001b[38;5;28mself\u001b[39m\u001b[38;5;241m.\u001b[39mmodel \u001b[38;5;241m=\u001b[39m \u001b[38;5;28mself\u001b[39m\u001b[38;5;241m.\u001b[39mtrainer\u001b[38;5;241m.\u001b[39mmodel\n\u001b[0;32m    810\u001b[0m \u001b[38;5;28mself\u001b[39m\u001b[38;5;241m.\u001b[39mtrainer\u001b[38;5;241m.\u001b[39mhub_session \u001b[38;5;241m=\u001b[39m \u001b[38;5;28mself\u001b[39m\u001b[38;5;241m.\u001b[39msession  \u001b[38;5;66;03m# attach optional HUB session\u001b[39;00m\n\u001b[1;32m--> 811\u001b[0m \u001b[38;5;28;43mself\u001b[39;49m\u001b[38;5;241;43m.\u001b[39;49m\u001b[43mtrainer\u001b[49m\u001b[38;5;241;43m.\u001b[39;49m\u001b[43mtrain\u001b[49m\u001b[43m(\u001b[49m\u001b[43m)\u001b[49m\n\u001b[0;32m    812\u001b[0m \u001b[38;5;66;03m# Update model and cfg after training\u001b[39;00m\n\u001b[0;32m    813\u001b[0m \u001b[38;5;28;01mif\u001b[39;00m RANK \u001b[38;5;129;01min\u001b[39;00m {\u001b[38;5;241m-\u001b[39m\u001b[38;5;241m1\u001b[39m, \u001b[38;5;241m0\u001b[39m}:\n",
      "File \u001b[1;32mc:\\Users\\admin\\anaconda3\\envs\\compvision\\Lib\\site-packages\\ultralytics\\engine\\trainer.py:206\u001b[0m, in \u001b[0;36mBaseTrainer.train\u001b[1;34m(self)\u001b[0m\n\u001b[0;32m    203\u001b[0m         ddp_cleanup(\u001b[38;5;28mself\u001b[39m, \u001b[38;5;28mstr\u001b[39m(file))\n\u001b[0;32m    205\u001b[0m \u001b[38;5;28;01melse\u001b[39;00m:\n\u001b[1;32m--> 206\u001b[0m     \u001b[38;5;28;43mself\u001b[39;49m\u001b[38;5;241;43m.\u001b[39;49m\u001b[43m_do_train\u001b[49m\u001b[43m(\u001b[49m\u001b[43mworld_size\u001b[49m\u001b[43m)\u001b[49m\n",
      "File \u001b[1;32mc:\\Users\\admin\\anaconda3\\envs\\compvision\\Lib\\site-packages\\ultralytics\\engine\\trainer.py:432\u001b[0m, in \u001b[0;36mBaseTrainer._do_train\u001b[1;34m(self, world_size)\u001b[0m\n\u001b[0;32m    430\u001b[0m \u001b[38;5;28;01mif\u001b[39;00m \u001b[38;5;28mself\u001b[39m\u001b[38;5;241m.\u001b[39margs\u001b[38;5;241m.\u001b[39mval \u001b[38;5;129;01mor\u001b[39;00m final_epoch \u001b[38;5;129;01mor\u001b[39;00m \u001b[38;5;28mself\u001b[39m\u001b[38;5;241m.\u001b[39mstopper\u001b[38;5;241m.\u001b[39mpossible_stop \u001b[38;5;129;01mor\u001b[39;00m \u001b[38;5;28mself\u001b[39m\u001b[38;5;241m.\u001b[39mstop:\n\u001b[0;32m    431\u001b[0m     \u001b[38;5;28mself\u001b[39m\u001b[38;5;241m.\u001b[39mmetrics, \u001b[38;5;28mself\u001b[39m\u001b[38;5;241m.\u001b[39mfitness \u001b[38;5;241m=\u001b[39m \u001b[38;5;28mself\u001b[39m\u001b[38;5;241m.\u001b[39mvalidate()\n\u001b[1;32m--> 432\u001b[0m \u001b[38;5;28;43mself\u001b[39;49m\u001b[38;5;241;43m.\u001b[39;49m\u001b[43msave_metrics\u001b[49m\u001b[43m(\u001b[49m\u001b[43mmetrics\u001b[49m\u001b[38;5;241;43m=\u001b[39;49m\u001b[43m{\u001b[49m\u001b[38;5;241;43m*\u001b[39;49m\u001b[38;5;241;43m*\u001b[39;49m\u001b[38;5;28;43mself\u001b[39;49m\u001b[38;5;241;43m.\u001b[39;49m\u001b[43mlabel_loss_items\u001b[49m\u001b[43m(\u001b[49m\u001b[38;5;28;43mself\u001b[39;49m\u001b[38;5;241;43m.\u001b[39;49m\u001b[43mtloss\u001b[49m\u001b[43m)\u001b[49m\u001b[43m,\u001b[49m\u001b[43m \u001b[49m\u001b[38;5;241;43m*\u001b[39;49m\u001b[38;5;241;43m*\u001b[39;49m\u001b[38;5;28;43mself\u001b[39;49m\u001b[38;5;241;43m.\u001b[39;49m\u001b[43mmetrics\u001b[49m\u001b[43m,\u001b[49m\u001b[43m \u001b[49m\u001b[38;5;241;43m*\u001b[39;49m\u001b[38;5;241;43m*\u001b[39;49m\u001b[38;5;28;43mself\u001b[39;49m\u001b[38;5;241;43m.\u001b[39;49m\u001b[43mlr\u001b[49m\u001b[43m}\u001b[49m\u001b[43m)\u001b[49m\n\u001b[0;32m    433\u001b[0m \u001b[38;5;28mself\u001b[39m\u001b[38;5;241m.\u001b[39mstop \u001b[38;5;241m|\u001b[39m\u001b[38;5;241m=\u001b[39m \u001b[38;5;28mself\u001b[39m\u001b[38;5;241m.\u001b[39mstopper(epoch \u001b[38;5;241m+\u001b[39m \u001b[38;5;241m1\u001b[39m, \u001b[38;5;28mself\u001b[39m\u001b[38;5;241m.\u001b[39mfitness) \u001b[38;5;129;01mor\u001b[39;00m final_epoch\n\u001b[0;32m    434\u001b[0m \u001b[38;5;28;01mif\u001b[39;00m \u001b[38;5;28mself\u001b[39m\u001b[38;5;241m.\u001b[39margs\u001b[38;5;241m.\u001b[39mtime:\n",
      "File \u001b[1;32mc:\\Users\\admin\\anaconda3\\envs\\compvision\\Lib\\site-packages\\ultralytics\\engine\\trainer.py:629\u001b[0m, in \u001b[0;36mBaseTrainer.save_metrics\u001b[1;34m(self, metrics)\u001b[0m\n\u001b[0;32m    627\u001b[0m n \u001b[38;5;241m=\u001b[39m \u001b[38;5;28mlen\u001b[39m(metrics) \u001b[38;5;241m+\u001b[39m \u001b[38;5;241m1\u001b[39m  \u001b[38;5;66;03m# number of cols\u001b[39;00m\n\u001b[0;32m    628\u001b[0m s \u001b[38;5;241m=\u001b[39m \u001b[38;5;124m\"\u001b[39m\u001b[38;5;124m\"\u001b[39m \u001b[38;5;28;01mif\u001b[39;00m \u001b[38;5;28mself\u001b[39m\u001b[38;5;241m.\u001b[39mcsv\u001b[38;5;241m.\u001b[39mexists() \u001b[38;5;28;01melse\u001b[39;00m ((\u001b[38;5;124m\"\u001b[39m\u001b[38;5;132;01m%23s\u001b[39;00m\u001b[38;5;124m,\u001b[39m\u001b[38;5;124m\"\u001b[39m \u001b[38;5;241m*\u001b[39m n \u001b[38;5;241m%\u001b[39m \u001b[38;5;28mtuple\u001b[39m([\u001b[38;5;124m\"\u001b[39m\u001b[38;5;124mepoch\u001b[39m\u001b[38;5;124m\"\u001b[39m] \u001b[38;5;241m+\u001b[39m keys))\u001b[38;5;241m.\u001b[39mrstrip(\u001b[38;5;124m\"\u001b[39m\u001b[38;5;124m,\u001b[39m\u001b[38;5;124m\"\u001b[39m) \u001b[38;5;241m+\u001b[39m \u001b[38;5;124m\"\u001b[39m\u001b[38;5;130;01m\\n\u001b[39;00m\u001b[38;5;124m\"\u001b[39m)  \u001b[38;5;66;03m# header\u001b[39;00m\n\u001b[1;32m--> 629\u001b[0m \u001b[38;5;28;01mwith\u001b[39;00m \u001b[38;5;28mopen\u001b[39m(\u001b[38;5;28mself\u001b[39m\u001b[38;5;241m.\u001b[39mcsv, \u001b[38;5;124m\"\u001b[39m\u001b[38;5;124ma\u001b[39m\u001b[38;5;124m\"\u001b[39m) \u001b[38;5;28;01mas\u001b[39;00m f:\n\u001b[0;32m    630\u001b[0m     f\u001b[38;5;241m.\u001b[39mwrite(s \u001b[38;5;241m+\u001b[39m (\u001b[38;5;124m\"\u001b[39m\u001b[38;5;132;01m%23.5g\u001b[39;00m\u001b[38;5;124m,\u001b[39m\u001b[38;5;124m\"\u001b[39m \u001b[38;5;241m*\u001b[39m n \u001b[38;5;241m%\u001b[39m \u001b[38;5;28mtuple\u001b[39m([\u001b[38;5;28mself\u001b[39m\u001b[38;5;241m.\u001b[39mepoch \u001b[38;5;241m+\u001b[39m \u001b[38;5;241m1\u001b[39m] \u001b[38;5;241m+\u001b[39m vals))\u001b[38;5;241m.\u001b[39mrstrip(\u001b[38;5;124m\"\u001b[39m\u001b[38;5;124m,\u001b[39m\u001b[38;5;124m\"\u001b[39m) \u001b[38;5;241m+\u001b[39m \u001b[38;5;124m\"\u001b[39m\u001b[38;5;130;01m\\n\u001b[39;00m\u001b[38;5;124m\"\u001b[39m)\n",
      "\u001b[1;31mPermissionError\u001b[0m: [Errno 13] Permission denied: 'runs\\\\segment\\\\train3\\\\results.csv'"
     ]
    }
   ],
   "source": [
    "# results = model.train(data=\"dataset3.yaml\", epochs=250, imgsz=480)"
   ]
  },
  {
   "cell_type": "code",
   "execution_count": 3,
   "metadata": {},
   "outputs": [],
   "source": [
    "model = YOLO(\"runs/segment/train3/weights/best.pt\")"
   ]
  },
  {
   "cell_type": "code",
   "execution_count": 17,
   "metadata": {},
   "outputs": [
    {
     "name": "stdout",
     "output_type": "stream",
     "text": [
      "\n",
      "image 1/1 c:\\Users\\admin\\Desktop\\python ds\\cvprojects\\pothole detection\\potholesdata\\images\\img-2.jpg: 480x480 4 potholes, 279.8ms\n",
      "Speed: 8.0ms preprocess, 279.8ms inference, 12.0ms postprocess per image at shape (1, 3, 480, 480)\n",
      "Results saved to \u001b[1mruns\\segment\\predict5\u001b[0m\n"
     ]
    }
   ],
   "source": [
    "import os\n",
    "from PIL import Image\n",
    "\n",
    "img_path = os.path.join(\"potholesdata\", \"images\", \"img-2.jpg\")\n",
    "results = model.predict(img_path, save=True)\n",
    "results[0].show()"
   ]
  },
  {
   "cell_type": "code",
   "execution_count": 28,
   "metadata": {},
   "outputs": [
    {
     "name": "stdout",
     "output_type": "stream",
     "text": [
      "\n",
      "image 1/1 c:\\Users\\admin\\Desktop\\python ds\\cvprojects\\pothole detection\\potholesdata\\images\\img-2.jpg: 480x480 4 potholes, 215.9ms\n",
      "Speed: 5.0ms preprocess, 215.9ms inference, 10.0ms postprocess per image at shape (1, 3, 480, 480)\n",
      "Results saved to \u001b[1mruns\\segment\\predict10\u001b[0m\n",
      "Pothole area: 0.1490 square meters\n",
      "Estimated repair cost: ₹163.20\n"
     ]
    }
   ],
   "source": [
    "\n",
    "def estimate_repair_cost(number_of_potholes, average_pothole_area, cost_per_unit_area=816):\n",
    "    total_area = number_of_potholes * average_pothole_area\n",
    "    return total_area * cost_per_unit_area\n",
    "\n",
    "# Average area of a pothole in square meters (example value)\n",
    "average_pothole_area = 0.9  # Adjust based on your data or assumptions\n",
    "\n",
    "# Number of potholes predicted by the model\n",
    "number_of_potholes = 10\n",
    "repair_cost = estimate_repair_cost(number_of_potholes, average_pothole_area)\n",
    "\n",
    "print(f\"Number of detected potholes: {number_of_potholes}\")\n",
    "print(f\"Estimated repair cost: ₹{repair_cost:.2f}\")"
   ]
  },
  {
   "cell_type": "code",
   "execution_count": null,
   "metadata": {},
   "outputs": [],
   "source": []
  }
 ],
 "metadata": {
  "kernelspec": {
   "display_name": "compvision",
   "language": "python",
   "name": "python3"
  },
  "language_info": {
   "codemirror_mode": {
    "name": "ipython",
    "version": 3
   },
   "file_extension": ".py",
   "mimetype": "text/x-python",
   "name": "python",
   "nbconvert_exporter": "python",
   "pygments_lexer": "ipython3",
   "version": "3.11.9"
  }
 },
 "nbformat": 4,
 "nbformat_minor": 2
}
