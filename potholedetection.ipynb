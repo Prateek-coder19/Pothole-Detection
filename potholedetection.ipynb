{
 "cells": [
  {
   "cell_type": "code",
   "execution_count": 1,
   "metadata": {},
   "outputs": [],
   "source": [
    "import torch\n",
    "from ultralytics import YOLO"
   ]
  },
  {
   "cell_type": "code",
   "execution_count": 4,
   "metadata": {},
   "outputs": [],
   "source": [
    "# model = YOLO(\"yolov8n.pt\")\n",
    "# # results = model.train(data=\"dataset3.yaml\", epochs=100, imgsz=320)"
   ]
  },
  {
   "cell_type": "code",
   "execution_count": 5,
   "metadata": {},
   "outputs": [],
   "source": [
    "# model = YOLO(\"runs/detect/train/weights/best.pt\")"
   ]
  },
  {
   "cell_type": "code",
   "execution_count": null,
   "metadata": {},
   "outputs": [],
   "source": [
    "# import os\n",
    "# from PIL import Image\n",
    "\n",
    "# img = os.path.join(\"\")\n",
    "# results = model.predict(\"potholes21.png\", save=True)\n",
    "# results[0].show()"
   ]
  },
  {
   "cell_type": "code",
   "execution_count": 8,
   "metadata": {},
   "outputs": [],
   "source": [
    "# import cv2\n",
    "# import numpy as np\n",
    "\n",
    "# cap = cv2.VideoCapture(0)\n",
    "# while cap.isOpened():\n",
    "#       ret, frame = cap.read()\n",
    "#       cv2.imshow(\"YOLO\", frame)\n",
    "\n",
    "#       if cv2.waitKey(10) & 0xff == ord('q'):\n",
    "#          break\n",
    "      \n",
    "# cap.release()\n",
    "# cv2.destroyAllWindows()"
   ]
  },
  {
   "cell_type": "code",
   "execution_count": null,
   "metadata": {},
   "outputs": [],
   "source": [
    "# from ultralytics import SAM\n",
    "# model = SAM(\"sam_b.pt\")"
   ]
  },
  {
   "cell_type": "code",
   "execution_count": null,
   "metadata": {},
   "outputs": [],
   "source": [
    "# from ultralytics.data.annotator import auto_annotate\n",
    "# auto_annotate(data=\"potholesdata/images\", det_model=\"runs/detect/train/weights/best.pt\", sam_model=\"sam_b.pt\")"
   ]
  },
  {
   "cell_type": "code",
   "execution_count": 2,
   "metadata": {},
   "outputs": [],
   "source": [
    "model = YOLO(\"yolov8n-seg.pt\")"
   ]
  },
  {
   "cell_type": "code",
   "execution_count": null,
   "metadata": {},
   "outputs": [],
   "source": [
    "# results = model.train(data=\"dataset3.yaml\", epochs=250, imgsz=480)"
   ]
  },
  {
   "cell_type": "code",
   "execution_count": 3,
   "metadata": {},
   "outputs": [],
   "source": [
    "model = YOLO(\"runs/segment/train3/weights/best.pt\")"
   ]
  },
  {
   "cell_type": "code",
   "execution_count": null,
   "metadata": {},
   "outputs": [],
   "source": [
    "import os\n",
    "from PIL import Image\n",
    "\n",
    "img_path = os.path.join(\"potholesdata\", \"images\", \"img-2.jpg\")\n",
    "results = model.predict(img_path, save=True)\n",
    "results[0].show()"
   ]
  },
  {
   "cell_type": "code",
   "execution_count": null,
   "metadata": {},
   "outputs": [],
   "source": [
    "\n",
    "def estimate_repair_cost(number_of_potholes, average_pothole_area, cost_per_unit_area=816):\n",
    "    total_area = number_of_potholes * average_pothole_area\n",
    "    return total_area * cost_per_unit_area\n",
    "\n",
    "# Average area of a pothole in meters \n",
    "average_pothole_area = 0.9  \n",
    "\n",
    "number_of_potholes = 10\n",
    "repair_cost = estimate_repair_cost(number_of_potholes, average_pothole_area)\n",
    "\n",
    "print(f\"Number of detected potholes: {number_of_potholes}\")\n",
    "print(f\"Estimated repair cost: ₹{repair_cost:.2f}\")"
   ]
  },
  {
   "cell_type": "code",
   "execution_count": null,
   "metadata": {},
   "outputs": [],
   "source": []
  }
 ],
 "metadata": {
  "kernelspec": {
   "display_name": "compvision",
   "language": "python",
   "name": "python3"
  },
  "language_info": {
   "codemirror_mode": {
    "name": "ipython",
    "version": 3
   },
   "file_extension": ".py",
   "mimetype": "text/x-python",
   "name": "python",
   "nbconvert_exporter": "python",
   "pygments_lexer": "ipython3",
   "version": "3.11.9"
  }
 },
 "nbformat": 4,
 "nbformat_minor": 2
}
